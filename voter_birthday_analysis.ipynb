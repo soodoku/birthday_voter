{
 "cells": [
  {
   "cell_type": "markdown",
   "metadata": {},
   "source": [
    "# 0.0 Imports"
   ]
  },
  {
   "cell_type": "code",
   "execution_count": 1,
   "metadata": {},
   "outputs": [],
   "source": [
    "import pandas as pd\n",
    "import numpy as np\n",
    "import seaborn as sns\n",
    "import glob\n",
    "import datetime as dt\n",
    "from matplotlib import pyplot as plt"
   ]
  },
  {
   "cell_type": "markdown",
   "metadata": {},
   "source": [
    "# 1.0 Load Data"
   ]
  },
  {
   "cell_type": "markdown",
   "metadata": {},
   "source": [
    "Datasets downloaded from https://dataverse.harvard.edu/dataset.xhtml?persistentId=doi:10.7910/DVN/UBIG3F"
   ]
  },
  {
   "cell_type": "markdown",
   "metadata": {},
   "source": [
    "## 1.1 voter detail"
   ]
  },
  {
   "cell_type": "code",
   "execution_count": 2,
   "metadata": {},
   "outputs": [
    {
     "name": "stderr",
     "output_type": "stream",
     "text": [
      "/opt/anaconda3/lib/python3.7/site-packages/IPython/core/interactiveshell.py:3051: DtypeWarning: Columns (27) have mixed types. Specify dtype option on import or set low_memory=False.\n",
      "  interactivity=interactivity, compiler=compiler, result=result)\n",
      "/opt/anaconda3/lib/python3.7/site-packages/IPython/core/interactiveshell.py:3051: DtypeWarning: Columns (26) have mixed types. Specify dtype option on import or set low_memory=False.\n",
      "  interactivity=interactivity, compiler=compiler, result=result)\n",
      "/opt/anaconda3/lib/python3.7/site-packages/IPython/core/interactiveshell.py:3051: DtypeWarning: Columns (11,14,17,18,27,34,35,36) have mixed types. Specify dtype option on import or set low_memory=False.\n",
      "  interactivity=interactivity, compiler=compiler, result=result)\n"
     ]
    }
   ],
   "source": [
    "# load each file and combine into a single dataframe\n",
    "path = r'file_path'\n",
    "all_files = glob.glob(path + \"/*.txt\")\n",
    "\n",
    "li = []\n",
    "\n",
    "for filename in all_files:\n",
    "    df = pd.read_csv(filename, \n",
    "                     sep='\\t', \n",
    "                     header=None,\n",
    "                     names=['county_code', 'voter_id', 'name_last', 'name_suffix', \n",
    "                            'name_first', 'name_middle', 'requested_public_records_exemption',\n",
    "                           'residence_address_line_1', 'residence_address_line_2', 'residence_city',\n",
    "                           'residence_state', 'residence_zipcode', 'mailing_address_line_1,',\n",
    "                           'mailing_address_line_2', 'mailing_address_line_3', 'mailing_city',\n",
    "                           'mailing_state', 'mailing_zipcode', 'mailing_country', 'gender', 'race',\n",
    "                           'birth_date', 'registration_date', 'party_affiliation', 'precinct',\n",
    "                           'precinct_group', 'precinct_split', 'precinct_suffix', 'voter_status',\n",
    "                           'congressional_district', 'house_district', 'senate_district',\n",
    "                           'county_commission_district', 'school_board_district', 'daytime_area_code',\n",
    "                           'daytime_phone_number', 'daytime_phone_extension', 'email_address'])\n",
    "    li.append(df)\n",
    "\n",
    "detail = pd.concat(li, axis=0, ignore_index=True)"
   ]
  },
  {
   "cell_type": "code",
   "execution_count": 3,
   "metadata": {},
   "outputs": [],
   "source": [
    "# convert date fields from object dtype to datetime\n",
    "date_cache = {k: pd.to_datetime(k, errors='coerce') for k in detail['birth_date'].unique()}\n",
    "detail['birth_date'] = detail['birth_date'].map(date_cache)\n",
    "\n",
    "date_cache = {k: pd.to_datetime(k, errors='coerce') for k in detail['registration_date'].unique()}\n",
    "detail['registration_date'] = detail['registration_date'].map(date_cache)"
   ]
  },
  {
   "cell_type": "code",
   "execution_count": 4,
   "metadata": {},
   "outputs": [
    {
     "data": {
      "text/html": [
       "<div>\n",
       "<style scoped>\n",
       "    .dataframe tbody tr th:only-of-type {\n",
       "        vertical-align: middle;\n",
       "    }\n",
       "\n",
       "    .dataframe tbody tr th {\n",
       "        vertical-align: top;\n",
       "    }\n",
       "\n",
       "    .dataframe thead th {\n",
       "        text-align: right;\n",
       "    }\n",
       "</style>\n",
       "<table border=\"1\" class=\"dataframe\">\n",
       "  <thead>\n",
       "    <tr style=\"text-align: right;\">\n",
       "      <th></th>\n",
       "      <th>county_code</th>\n",
       "      <th>voter_id</th>\n",
       "      <th>name_last</th>\n",
       "      <th>name_suffix</th>\n",
       "      <th>name_first</th>\n",
       "      <th>name_middle</th>\n",
       "      <th>requested_public_records_exemption</th>\n",
       "      <th>residence_address_line_1</th>\n",
       "      <th>residence_address_line_2</th>\n",
       "      <th>residence_city</th>\n",
       "      <th>...</th>\n",
       "      <th>voter_status</th>\n",
       "      <th>congressional_district</th>\n",
       "      <th>house_district</th>\n",
       "      <th>senate_district</th>\n",
       "      <th>county_commission_district</th>\n",
       "      <th>school_board_district</th>\n",
       "      <th>daytime_area_code</th>\n",
       "      <th>daytime_phone_number</th>\n",
       "      <th>daytime_phone_extension</th>\n",
       "      <th>email_address</th>\n",
       "    </tr>\n",
       "  </thead>\n",
       "  <tbody>\n",
       "    <tr>\n",
       "      <th>0</th>\n",
       "      <td>CHA</td>\n",
       "      <td>102654245</td>\n",
       "      <td>Nodes</td>\n",
       "      <td>NaN</td>\n",
       "      <td>Melvin</td>\n",
       "      <td>R</td>\n",
       "      <td>N</td>\n",
       "      <td>8320   Riverside DR</td>\n",
       "      <td>UNIT 4179</td>\n",
       "      <td>Punta Gorda</td>\n",
       "      <td>...</td>\n",
       "      <td>ACT</td>\n",
       "      <td>17.0</td>\n",
       "      <td>75.0</td>\n",
       "      <td>26.0</td>\n",
       "      <td>1.0</td>\n",
       "      <td>1.0</td>\n",
       "      <td>941</td>\n",
       "      <td>5056229</td>\n",
       "      <td>NaN</td>\n",
       "      <td></td>\n",
       "    </tr>\n",
       "    <tr>\n",
       "      <th>1</th>\n",
       "      <td>CHA</td>\n",
       "      <td>116777380</td>\n",
       "      <td>Oldbear</td>\n",
       "      <td>NaN</td>\n",
       "      <td>Kaili</td>\n",
       "      <td>Nicole</td>\n",
       "      <td>N</td>\n",
       "      <td>5016   Palangos DR</td>\n",
       "      <td></td>\n",
       "      <td>Punta Gorda</td>\n",
       "      <td>...</td>\n",
       "      <td>ACT</td>\n",
       "      <td>17.0</td>\n",
       "      <td>75.0</td>\n",
       "      <td>26.0</td>\n",
       "      <td>1.0</td>\n",
       "      <td>1.0</td>\n",
       "      <td>NaN</td>\n",
       "      <td>NaN</td>\n",
       "      <td>NaN</td>\n",
       "      <td>KAILINICOLE@ROCKETMAIL.COM</td>\n",
       "    </tr>\n",
       "    <tr>\n",
       "      <th>2</th>\n",
       "      <td>CHA</td>\n",
       "      <td>111684516</td>\n",
       "      <td>Dunn</td>\n",
       "      <td>NaN</td>\n",
       "      <td>Cora</td>\n",
       "      <td>M</td>\n",
       "      <td>N</td>\n",
       "      <td>23053   Westchester BLVD</td>\n",
       "      <td>APT L501</td>\n",
       "      <td>Port Charlotte</td>\n",
       "      <td>...</td>\n",
       "      <td>ACT</td>\n",
       "      <td>17.0</td>\n",
       "      <td>75.0</td>\n",
       "      <td>26.0</td>\n",
       "      <td>1.0</td>\n",
       "      <td>1.0</td>\n",
       "      <td>NaN</td>\n",
       "      <td>NaN</td>\n",
       "      <td>NaN</td>\n",
       "      <td></td>\n",
       "    </tr>\n",
       "    <tr>\n",
       "      <th>3</th>\n",
       "      <td>CHA</td>\n",
       "      <td>121565689</td>\n",
       "      <td>Espino</td>\n",
       "      <td>NaN</td>\n",
       "      <td>Melissa</td>\n",
       "      <td>Faye</td>\n",
       "      <td>N</td>\n",
       "      <td>2511   Luther RD</td>\n",
       "      <td>APT 225</td>\n",
       "      <td>Punta Gorda</td>\n",
       "      <td>...</td>\n",
       "      <td>ACT</td>\n",
       "      <td>17.0</td>\n",
       "      <td>75.0</td>\n",
       "      <td>26.0</td>\n",
       "      <td>1.0</td>\n",
       "      <td>1.0</td>\n",
       "      <td>NaN</td>\n",
       "      <td>NaN</td>\n",
       "      <td>NaN</td>\n",
       "      <td></td>\n",
       "    </tr>\n",
       "    <tr>\n",
       "      <th>4</th>\n",
       "      <td>CHA</td>\n",
       "      <td>113812700</td>\n",
       "      <td>Eno</td>\n",
       "      <td>NaN</td>\n",
       "      <td>Camille</td>\n",
       "      <td>Marie</td>\n",
       "      <td>N</td>\n",
       "      <td>24437   Harborview RD</td>\n",
       "      <td>LOT 19</td>\n",
       "      <td>Port Charlotte</td>\n",
       "      <td>...</td>\n",
       "      <td>ACT</td>\n",
       "      <td>17.0</td>\n",
       "      <td>75.0</td>\n",
       "      <td>26.0</td>\n",
       "      <td>1.0</td>\n",
       "      <td>1.0</td>\n",
       "      <td>863</td>\n",
       "      <td>7098529</td>\n",
       "      <td>NaN</td>\n",
       "      <td></td>\n",
       "    </tr>\n",
       "  </tbody>\n",
       "</table>\n",
       "<p>5 rows × 38 columns</p>\n",
       "</div>"
      ],
      "text/plain": [
       "  county_code   voter_id name_last name_suffix name_first name_middle  \\\n",
       "0         CHA  102654245     Nodes         NaN     Melvin           R   \n",
       "1         CHA  116777380   Oldbear         NaN      Kaili      Nicole   \n",
       "2         CHA  111684516      Dunn         NaN       Cora           M   \n",
       "3         CHA  121565689    Espino         NaN    Melissa        Faye   \n",
       "4         CHA  113812700       Eno         NaN    Camille       Marie   \n",
       "\n",
       "  requested_public_records_exemption   residence_address_line_1  \\\n",
       "0                                  N       8320   Riverside DR    \n",
       "1                                  N        5016   Palangos DR    \n",
       "2                                  N  23053   Westchester BLVD    \n",
       "3                                  N          2511   Luther RD    \n",
       "4                                  N     24437   Harborview RD    \n",
       "\n",
       "  residence_address_line_2  residence_city             ...               \\\n",
       "0                UNIT 4179     Punta Gorda             ...                \n",
       "1                              Punta Gorda             ...                \n",
       "2                 APT L501  Port Charlotte             ...                \n",
       "3                  APT 225     Punta Gorda             ...                \n",
       "4                   LOT 19  Port Charlotte             ...                \n",
       "\n",
       "  voter_status congressional_district house_district senate_district  \\\n",
       "0          ACT                   17.0           75.0            26.0   \n",
       "1          ACT                   17.0           75.0            26.0   \n",
       "2          ACT                   17.0           75.0            26.0   \n",
       "3          ACT                   17.0           75.0            26.0   \n",
       "4          ACT                   17.0           75.0            26.0   \n",
       "\n",
       "  county_commission_district school_board_district daytime_area_code  \\\n",
       "0                        1.0                   1.0               941   \n",
       "1                        1.0                   1.0               NaN   \n",
       "2                        1.0                   1.0               NaN   \n",
       "3                        1.0                   1.0               NaN   \n",
       "4                        1.0                   1.0               863   \n",
       "\n",
       "  daytime_phone_number daytime_phone_extension                email_address  \n",
       "0              5056229                     NaN                               \n",
       "1                  NaN                     NaN  KAILINICOLE@ROCKETMAIL.COM   \n",
       "2                  NaN                     NaN                               \n",
       "3                  NaN                     NaN                               \n",
       "4              7098529                     NaN                               \n",
       "\n",
       "[5 rows x 38 columns]"
      ]
     },
     "execution_count": 4,
     "metadata": {},
     "output_type": "execute_result"
    }
   ],
   "source": [
    "detail.head()"
   ]
  },
  {
   "cell_type": "code",
   "execution_count": 5,
   "metadata": {},
   "outputs": [
    {
     "name": "stdout",
     "output_type": "stream",
     "text": [
      "<class 'pandas.core.frame.DataFrame'>\n",
      "RangeIndex: 13710358 entries, 0 to 13710357\n",
      "Data columns (total 38 columns):\n",
      "county_code                           object\n",
      "voter_id                              int64\n",
      "name_last                             object\n",
      "name_suffix                           object\n",
      "name_first                            object\n",
      "name_middle                           object\n",
      "requested_public_records_exemption    object\n",
      "residence_address_line_1              object\n",
      "residence_address_line_2              object\n",
      "residence_city                        object\n",
      "residence_state                       object\n",
      "residence_zipcode                     object\n",
      "mailing_address_line_1,               object\n",
      "mailing_address_line_2                object\n",
      "mailing_address_line_3                object\n",
      "mailing_city                          object\n",
      "mailing_state                         object\n",
      "mailing_zipcode                       object\n",
      "mailing_country                       object\n",
      "gender                                object\n",
      "race                                  int64\n",
      "birth_date                            datetime64[ns]\n",
      "registration_date                     datetime64[ns]\n",
      "party_affiliation                     object\n",
      "precinct                              object\n",
      "precinct_group                        float64\n",
      "precinct_split                        object\n",
      "precinct_suffix                       object\n",
      "voter_status                          object\n",
      "congressional_district                float64\n",
      "house_district                        float64\n",
      "senate_district                       float64\n",
      "county_commission_district            float64\n",
      "school_board_district                 float64\n",
      "daytime_area_code                     object\n",
      "daytime_phone_number                  object\n",
      "daytime_phone_extension               object\n",
      "email_address                         object\n",
      "dtypes: datetime64[ns](2), float64(6), int64(2), object(28)\n",
      "memory usage: 3.9+ GB\n"
     ]
    }
   ],
   "source": [
    "detail.info()"
   ]
  },
  {
   "cell_type": "markdown",
   "metadata": {},
   "source": [
    "## 1.2 voter history"
   ]
  },
  {
   "cell_type": "code",
   "execution_count": 6,
   "metadata": {},
   "outputs": [],
   "source": [
    "# load files and combine into single dataframe\n",
    "path = r'file_path'\n",
    "all_files = glob.glob(path + \"/*.txt\")\n",
    "\n",
    "li = []\n",
    "\n",
    "for filename in all_files:\n",
    "    df = pd.read_csv(filename, \n",
    "                     sep='\\t', \n",
    "                     header=None,\n",
    "                     names=['county_code', 'voter_id', 'election_date', 'election_type', 'history_code'])\n",
    "    li.append(df)\n",
    "\n",
    "hist = pd.concat(li, axis=0, ignore_index=True)"
   ]
  },
  {
   "cell_type": "code",
   "execution_count": 7,
   "metadata": {},
   "outputs": [],
   "source": [
    "# convert date field from object dtype to datetime\n",
    "date_cache = {k: pd.to_datetime(k) for k in hist['election_date'].unique()}\n",
    "hist['election_date'] = hist['election_date'].map(date_cache)"
   ]
  },
  {
   "cell_type": "code",
   "execution_count": 8,
   "metadata": {},
   "outputs": [
    {
     "data": {
      "text/html": [
       "<div>\n",
       "<style scoped>\n",
       "    .dataframe tbody tr th:only-of-type {\n",
       "        vertical-align: middle;\n",
       "    }\n",
       "\n",
       "    .dataframe tbody tr th {\n",
       "        vertical-align: top;\n",
       "    }\n",
       "\n",
       "    .dataframe thead th {\n",
       "        text-align: right;\n",
       "    }\n",
       "</style>\n",
       "<table border=\"1\" class=\"dataframe\">\n",
       "  <thead>\n",
       "    <tr style=\"text-align: right;\">\n",
       "      <th></th>\n",
       "      <th>county_code</th>\n",
       "      <th>voter_id</th>\n",
       "      <th>election_date</th>\n",
       "      <th>election_type</th>\n",
       "      <th>history_code</th>\n",
       "    </tr>\n",
       "  </thead>\n",
       "  <tbody>\n",
       "    <tr>\n",
       "      <th>0</th>\n",
       "      <td>PIN</td>\n",
       "      <td>100021934</td>\n",
       "      <td>2016-11-08</td>\n",
       "      <td>GEN</td>\n",
       "      <td>Y</td>\n",
       "    </tr>\n",
       "    <tr>\n",
       "      <th>1</th>\n",
       "      <td>PIN</td>\n",
       "      <td>100021442</td>\n",
       "      <td>2007-03-13</td>\n",
       "      <td>OTH</td>\n",
       "      <td>Y</td>\n",
       "    </tr>\n",
       "    <tr>\n",
       "      <th>2</th>\n",
       "      <td>PIN</td>\n",
       "      <td>100047465</td>\n",
       "      <td>2014-03-11</td>\n",
       "      <td>GEN</td>\n",
       "      <td>Y</td>\n",
       "    </tr>\n",
       "    <tr>\n",
       "      <th>3</th>\n",
       "      <td>PIN</td>\n",
       "      <td>100046570</td>\n",
       "      <td>2008-11-04</td>\n",
       "      <td>GEN</td>\n",
       "      <td>A</td>\n",
       "    </tr>\n",
       "    <tr>\n",
       "      <th>4</th>\n",
       "      <td>PIN</td>\n",
       "      <td>100052464</td>\n",
       "      <td>2014-11-04</td>\n",
       "      <td>GEN</td>\n",
       "      <td>Y</td>\n",
       "    </tr>\n",
       "  </tbody>\n",
       "</table>\n",
       "</div>"
      ],
      "text/plain": [
       "  county_code   voter_id election_date election_type history_code\n",
       "0         PIN  100021934    2016-11-08           GEN            Y\n",
       "1         PIN  100021442    2007-03-13           OTH            Y\n",
       "2         PIN  100047465    2014-03-11           GEN            Y\n",
       "3         PIN  100046570    2008-11-04           GEN            A\n",
       "4         PIN  100052464    2014-11-04           GEN            Y"
      ]
     },
     "execution_count": 8,
     "metadata": {},
     "output_type": "execute_result"
    }
   ],
   "source": [
    "hist.head()"
   ]
  },
  {
   "cell_type": "code",
   "execution_count": 9,
   "metadata": {},
   "outputs": [
    {
     "name": "stdout",
     "output_type": "stream",
     "text": [
      "<class 'pandas.core.frame.DataFrame'>\n",
      "RangeIndex: 72770189 entries, 0 to 72770188\n",
      "Data columns (total 5 columns):\n",
      "county_code      object\n",
      "voter_id         int64\n",
      "election_date    datetime64[ns]\n",
      "election_type    object\n",
      "history_code     object\n",
      "dtypes: datetime64[ns](1), int64(1), object(3)\n",
      "memory usage: 2.7+ GB\n"
     ]
    }
   ],
   "source": [
    "hist.info()"
   ]
  },
  {
   "cell_type": "markdown",
   "metadata": {},
   "source": [
    "# 2.0 Check for fake birthdays"
   ]
  },
  {
   "cell_type": "markdown",
   "metadata": {},
   "source": [
    "Look for fake birthdays by identifying a month/day with a high # of occurrences (e.g. many voters reported their birthday on 1/1)"
   ]
  },
  {
   "cell_type": "code",
   "execution_count": 10,
   "metadata": {},
   "outputs": [
    {
     "name": "stderr",
     "output_type": "stream",
     "text": [
      "/opt/anaconda3/lib/python3.7/site-packages/pandas/core/indexing.py:362: SettingWithCopyWarning: \n",
      "A value is trying to be set on a copy of a slice from a DataFrame.\n",
      "Try using .loc[row_indexer,col_indexer] = value instead\n",
      "\n",
      "See the caveats in the documentation: http://pandas.pydata.org/pandas-docs/stable/indexing.html#indexing-view-versus-copy\n",
      "  self.obj[key] = _infer_fill_value(value)\n",
      "/opt/anaconda3/lib/python3.7/site-packages/pandas/core/indexing.py:543: SettingWithCopyWarning: \n",
      "A value is trying to be set on a copy of a slice from a DataFrame.\n",
      "Try using .loc[row_indexer,col_indexer] = value instead\n",
      "\n",
      "See the caveats in the documentation: http://pandas.pydata.org/pandas-docs/stable/indexing.html#indexing-view-versus-copy\n",
      "  self.obj[item] = s\n"
     ]
    }
   ],
   "source": [
    "# count the number of birthday occurences on each day of the year\n",
    "bd = detail[['voter_id','birth_date']]\n",
    "bd.loc[:,'day'] = detail.birth_date.dt.day\n",
    "bd.loc[:,'month'] = detail.birth_date.dt.month\n",
    "bd_count = pd.DataFrame(bd.groupby(['month','day']).voter_id.count().sort_values(ascending=False).rename('count')).reset_index()\n",
    "\n",
    "df_p = pd.pivot_table(bd_count,'count','month','day')"
   ]
  },
  {
   "cell_type": "code",
   "execution_count": 502,
   "metadata": {},
   "outputs": [
    {
     "data": {
      "text/html": [
       "<div>\n",
       "<style scoped>\n",
       "    .dataframe tbody tr th:only-of-type {\n",
       "        vertical-align: middle;\n",
       "    }\n",
       "\n",
       "    .dataframe tbody tr th {\n",
       "        vertical-align: top;\n",
       "    }\n",
       "\n",
       "    .dataframe thead th {\n",
       "        text-align: right;\n",
       "    }\n",
       "</style>\n",
       "<table border=\"1\" class=\"dataframe\">\n",
       "  <thead>\n",
       "    <tr style=\"text-align: right;\">\n",
       "      <th>day</th>\n",
       "      <th>1.0</th>\n",
       "      <th>2.0</th>\n",
       "      <th>3.0</th>\n",
       "      <th>4.0</th>\n",
       "      <th>5.0</th>\n",
       "      <th>6.0</th>\n",
       "      <th>7.0</th>\n",
       "      <th>8.0</th>\n",
       "      <th>9.0</th>\n",
       "      <th>10.0</th>\n",
       "      <th>...</th>\n",
       "      <th>22.0</th>\n",
       "      <th>23.0</th>\n",
       "      <th>24.0</th>\n",
       "      <th>25.0</th>\n",
       "      <th>26.0</th>\n",
       "      <th>27.0</th>\n",
       "      <th>28.0</th>\n",
       "      <th>29.0</th>\n",
       "      <th>30.0</th>\n",
       "      <th>31.0</th>\n",
       "    </tr>\n",
       "    <tr>\n",
       "      <th>month</th>\n",
       "      <th></th>\n",
       "      <th></th>\n",
       "      <th></th>\n",
       "      <th></th>\n",
       "      <th></th>\n",
       "      <th></th>\n",
       "      <th></th>\n",
       "      <th></th>\n",
       "      <th></th>\n",
       "      <th></th>\n",
       "      <th></th>\n",
       "      <th></th>\n",
       "      <th></th>\n",
       "      <th></th>\n",
       "      <th></th>\n",
       "      <th></th>\n",
       "      <th></th>\n",
       "      <th></th>\n",
       "      <th></th>\n",
       "      <th></th>\n",
       "      <th></th>\n",
       "    </tr>\n",
       "  </thead>\n",
       "  <tbody>\n",
       "    <tr>\n",
       "      <th>1.0</th>\n",
       "      <td>39229.0</td>\n",
       "      <td>35041.0</td>\n",
       "      <td>36307.0</td>\n",
       "      <td>36768.0</td>\n",
       "      <td>36710.0</td>\n",
       "      <td>37133.0</td>\n",
       "      <td>36564.0</td>\n",
       "      <td>36241.0</td>\n",
       "      <td>35919.0</td>\n",
       "      <td>37303.0</td>\n",
       "      <td>...</td>\n",
       "      <td>36554.0</td>\n",
       "      <td>36424.0</td>\n",
       "      <td>36529.0</td>\n",
       "      <td>36845.0</td>\n",
       "      <td>36678.0</td>\n",
       "      <td>36354.0</td>\n",
       "      <td>36805.0</td>\n",
       "      <td>36147.0</td>\n",
       "      <td>36244.0</td>\n",
       "      <td>35645.0</td>\n",
       "    </tr>\n",
       "    <tr>\n",
       "      <th>2.0</th>\n",
       "      <td>37163.0</td>\n",
       "      <td>38034.0</td>\n",
       "      <td>36823.0</td>\n",
       "      <td>36502.0</td>\n",
       "      <td>36955.0</td>\n",
       "      <td>36178.0</td>\n",
       "      <td>36935.0</td>\n",
       "      <td>36771.0</td>\n",
       "      <td>36644.0</td>\n",
       "      <td>37816.0</td>\n",
       "      <td>...</td>\n",
       "      <td>37529.0</td>\n",
       "      <td>36434.0</td>\n",
       "      <td>36807.0</td>\n",
       "      <td>36506.0</td>\n",
       "      <td>36476.0</td>\n",
       "      <td>36514.0</td>\n",
       "      <td>37554.0</td>\n",
       "      <td>8540.0</td>\n",
       "      <td>NaN</td>\n",
       "      <td>NaN</td>\n",
       "    </tr>\n",
       "    <tr>\n",
       "      <th>3.0</th>\n",
       "      <td>37407.0</td>\n",
       "      <td>37158.0</td>\n",
       "      <td>38005.0</td>\n",
       "      <td>36913.0</td>\n",
       "      <td>37110.0</td>\n",
       "      <td>36800.0</td>\n",
       "      <td>36620.0</td>\n",
       "      <td>36908.0</td>\n",
       "      <td>36185.0</td>\n",
       "      <td>36953.0</td>\n",
       "      <td>...</td>\n",
       "      <td>35856.0</td>\n",
       "      <td>35917.0</td>\n",
       "      <td>36074.0</td>\n",
       "      <td>36466.0</td>\n",
       "      <td>35705.0</td>\n",
       "      <td>35944.0</td>\n",
       "      <td>35826.0</td>\n",
       "      <td>35149.0</td>\n",
       "      <td>35410.0</td>\n",
       "      <td>35109.0</td>\n",
       "    </tr>\n",
       "    <tr>\n",
       "      <th>4.0</th>\n",
       "      <td>36061.0</td>\n",
       "      <td>35883.0</td>\n",
       "      <td>35365.0</td>\n",
       "      <td>36521.0</td>\n",
       "      <td>35716.0</td>\n",
       "      <td>35560.0</td>\n",
       "      <td>35825.0</td>\n",
       "      <td>35523.0</td>\n",
       "      <td>35213.0</td>\n",
       "      <td>36099.0</td>\n",
       "      <td>...</td>\n",
       "      <td>35136.0</td>\n",
       "      <td>35116.0</td>\n",
       "      <td>34917.0</td>\n",
       "      <td>35474.0</td>\n",
       "      <td>34632.0</td>\n",
       "      <td>34743.0</td>\n",
       "      <td>35784.0</td>\n",
       "      <td>35031.0</td>\n",
       "      <td>34722.0</td>\n",
       "      <td>NaN</td>\n",
       "    </tr>\n",
       "    <tr>\n",
       "      <th>5.0</th>\n",
       "      <td>36482.0</td>\n",
       "      <td>35337.0</td>\n",
       "      <td>35033.0</td>\n",
       "      <td>34931.0</td>\n",
       "      <td>36820.0</td>\n",
       "      <td>35349.0</td>\n",
       "      <td>35389.0</td>\n",
       "      <td>35463.0</td>\n",
       "      <td>34890.0</td>\n",
       "      <td>36120.0</td>\n",
       "      <td>...</td>\n",
       "      <td>35558.0</td>\n",
       "      <td>35347.0</td>\n",
       "      <td>35159.0</td>\n",
       "      <td>35865.0</td>\n",
       "      <td>35171.0</td>\n",
       "      <td>35170.0</td>\n",
       "      <td>35555.0</td>\n",
       "      <td>35306.0</td>\n",
       "      <td>34291.0</td>\n",
       "      <td>34107.0</td>\n",
       "    </tr>\n",
       "  </tbody>\n",
       "</table>\n",
       "<p>5 rows × 31 columns</p>\n",
       "</div>"
      ],
      "text/plain": [
       "day       1.0      2.0      3.0      4.0      5.0      6.0      7.0      8.0   \\\n",
       "month                                                                           \n",
       "1.0    39229.0  35041.0  36307.0  36768.0  36710.0  37133.0  36564.0  36241.0   \n",
       "2.0    37163.0  38034.0  36823.0  36502.0  36955.0  36178.0  36935.0  36771.0   \n",
       "3.0    37407.0  37158.0  38005.0  36913.0  37110.0  36800.0  36620.0  36908.0   \n",
       "4.0    36061.0  35883.0  35365.0  36521.0  35716.0  35560.0  35825.0  35523.0   \n",
       "5.0    36482.0  35337.0  35033.0  34931.0  36820.0  35349.0  35389.0  35463.0   \n",
       "\n",
       "day       9.0      10.0   ...        22.0     23.0     24.0     25.0     26.0  \\\n",
       "month                     ...                                                   \n",
       "1.0    35919.0  37303.0   ...     36554.0  36424.0  36529.0  36845.0  36678.0   \n",
       "2.0    36644.0  37816.0   ...     37529.0  36434.0  36807.0  36506.0  36476.0   \n",
       "3.0    36185.0  36953.0   ...     35856.0  35917.0  36074.0  36466.0  35705.0   \n",
       "4.0    35213.0  36099.0   ...     35136.0  35116.0  34917.0  35474.0  34632.0   \n",
       "5.0    34890.0  36120.0   ...     35558.0  35347.0  35159.0  35865.0  35171.0   \n",
       "\n",
       "day       27.0     28.0     29.0     30.0     31.0  \n",
       "month                                               \n",
       "1.0    36354.0  36805.0  36147.0  36244.0  35645.0  \n",
       "2.0    36514.0  37554.0   8540.0      NaN      NaN  \n",
       "3.0    35944.0  35826.0  35149.0  35410.0  35109.0  \n",
       "4.0    34743.0  35784.0  35031.0  34722.0      NaN  \n",
       "5.0    35170.0  35555.0  35306.0  34291.0  34107.0  \n",
       "\n",
       "[5 rows x 31 columns]"
      ]
     },
     "execution_count": 502,
     "metadata": {},
     "output_type": "execute_result"
    }
   ],
   "source": [
    "df_p.head()"
   ]
  },
  {
   "cell_type": "code",
   "execution_count": 11,
   "metadata": {},
   "outputs": [
    {
     "data": {
      "text/plain": [
       "<matplotlib.axes._subplots.AxesSubplot at 0x1a1ee1a590>"
      ]
     },
     "execution_count": 11,
     "metadata": {},
     "output_type": "execute_result"
    },
    {
     "data": {
      "image/png": "[encoded data removed]",
      "text/plain": [
       "<Figure size 1152x504 with 2 Axes>"
      ]
     },
     "metadata": {
      "needs_background": "light"
     },
     "output_type": "display_data"
    }
   ],
   "source": [
    "plt.figure(figsize=(16, 7))\n",
    "sns.heatmap(df_p, cmap=\"RdBu_r\", center=bd_count['count'].mean())"
   ]
  },
  {
   "cell_type": "markdown",
   "metadata": {},
   "source": [
    "The only date that stands out as an outlier is February 29th, which is expected b/c it only occurrs on a leap year"
   ]
  },
  {
   "cell_type": "markdown",
   "metadata": {},
   "source": [
    "# 3.0 Prepare Dataset for Analysis"
   ]
  },
  {
   "cell_type": "markdown",
   "metadata": {},
   "source": [
    "Formula for proportion of people who voted = # of people who voted / # of eligible voters\n",
    "\n",
    "Re: # of eligible voters - the \"Did Not Vote\" code is not used by all counties and they are not required to use it, which can be seen\n",
    "in the chart below; voter turnout has historically been around 50%, so the 'N' code (purple bar) is vastly underreported.\n",
    "\n",
    "\n",
    "This means there are many eligible voters that did not vote in an election, but are not included in the voter history table.\n",
    "In order to get the denominator in the equation, join the voter history table with the voter registration detail table, and include in the \n",
    "dataset only those elections in which all voters who were registered on or before election day were eligible to vote  i.e. state-wide general elections.\n",
    "This excludes local elections (city, district, county, etc.) where the eligible voters for those elections are unknown. It also excludes\n",
    "primary elections where the voter's party affiliation at the time of the election is unknown, as the voter registration detail file only includes current\n",
    "party affiliation which could have changed over time."
   ]
  },
  {
   "cell_type": "markdown",
   "metadata": {},
   "source": [
    "History Code\n",
    "\n",
    "A\tVoted Absentee                                                                                      \n",
    "B\tAbsentee Ballot NOT Counted                                                                         \n",
    "E\tVoted Early                                                                                         \n",
    "N\tDid Not Vote     (not all counties use this code nor are required to report this data)                                                                                   \n",
    "P\tProvisional Ballot Not Counted                                                                      "
   ]
  },
  {
   "cell_type": "code",
   "execution_count": 12,
   "metadata": {},
   "outputs": [
    {
     "data": {
      "text/plain": [
       "<matplotlib.axes._subplots.AxesSubplot at 0x1a4bc53d50>"
      ]
     },
     "execution_count": 12,
     "metadata": {},
     "output_type": "execute_result"
    },
    {
     "data": {
      "image/png": "[encoded data removed]",
      "text/plain": [
       "<Figure size 432x288 with 1 Axes>"
      ]
     },
     "metadata": {
      "needs_background": "light"
     },
     "output_type": "display_data"
    }
   ],
   "source": [
    "sns.countplot(hist.history_code)"
   ]
  },
  {
   "cell_type": "code",
   "execution_count": 13,
   "metadata": {},
   "outputs": [
    {
     "data": {
      "text/plain": [
       "67"
      ]
     },
     "execution_count": 13,
     "metadata": {},
     "output_type": "execute_result"
    }
   ],
   "source": [
    "# find the number of counties in the state\n",
    "hist.county_code.nunique()"
   ]
  },
  {
   "cell_type": "code",
   "execution_count": 14,
   "metadata": {},
   "outputs": [],
   "source": [
    "# limit dataset to general elections where all 67 counties participated, and voters that voted (history_code !='N')\n",
    "unique_counties_grouped_by_election_date = pd.DataFrame(hist.groupby('election_date').county_code.nunique().rename('unique_counties'))\n",
    "statewide_elections = unique_counties_grouped_by_election_date[unique_counties_grouped_by_election_date.unique_counties==67][[]].reset_index()\n",
    "statewide_gen_elections = hist[(hist.election_type=='GEN') & (hist.history_code!='N')].merge(statewide_elections, how='inner', left_on='election_date', right_on='election_date')\n",
    "\n",
    "# remove dupes\n",
    "statewide_gen_elections.drop_duplicates(subset=['voter_id', 'election_date'], inplace=True)"
   ]
  },
  {
   "cell_type": "code",
   "execution_count": 15,
   "metadata": {},
   "outputs": [
    {
     "name": "stderr",
     "output_type": "stream",
     "text": [
      "/opt/anaconda3/lib/python3.7/site-packages/ipykernel_launcher.py:7: SettingWithCopyWarning: \n",
      "A value is trying to be set on a copy of a slice from a DataFrame.\n",
      "Try using .loc[row_indexer,col_indexer] = value instead\n",
      "\n",
      "See the caveats in the documentation: http://pandas.pydata.org/pandas-docs/stable/indexing.html#indexing-view-versus-copy\n",
      "  import sys\n"
     ]
    }
   ],
   "source": [
    "# cartesion product of voter registration detail and statewide general election dates\n",
    "election_dates = pd.Series(statewide_gen_elections.election_date.unique()).rename('election_date')\n",
    "election_dates = pd.DataFrame(election_dates)\n",
    "election_dates['key'] = 1\n",
    "\n",
    "voters = detail[['voter_id', 'birth_date', 'registration_date']]\n",
    "voters['key'] = 1\n",
    "\n",
    "df = voters.merge(election_dates, left_on='key', right_on='key')\n",
    "df.drop('key', inplace=True, axis=1)"
   ]
  },
  {
   "cell_type": "code",
   "execution_count": 16,
   "metadata": {},
   "outputs": [],
   "source": [
    "# create column for eligible_voter 1 = eligible, 0 = not eligible\n",
    "df['eligible_voter'] = np.where(df['registration_date'] <= df['election_date'], 1, 0)\n",
    "\n",
    "# create column for voted 1 = yes\n",
    "statewide_gen_elections['voted'] = 1"
   ]
  },
  {
   "cell_type": "code",
   "execution_count": 17,
   "metadata": {},
   "outputs": [],
   "source": [
    "# left join on statewide_gen_elections to determine if voter voted in that election\n",
    "df = df.merge(statewide_gen_elections[['voter_id','election_date','voted']], how='left', left_on=['voter_id','election_date'], right_on=['voter_id','election_date'])"
   ]
  },
  {
   "cell_type": "code",
   "execution_count": 18,
   "metadata": {},
   "outputs": [],
   "source": [
    "# create column for voted 0 = no\n",
    "df['voted'] = df.voted.fillna(value=0)"
   ]
  },
  {
   "cell_type": "code",
   "execution_count": 21,
   "metadata": {},
   "outputs": [],
   "source": [
    "# only include eligible voters\n",
    "df = df[df.eligible_voter == 1]"
   ]
  },
  {
   "cell_type": "code",
   "execution_count": 22,
   "metadata": {},
   "outputs": [],
   "source": [
    "# drop null birthdays\n",
    "df.dropna(subset=['birth_date'], inplace=True)"
   ]
  },
  {
   "cell_type": "code",
   "execution_count": 23,
   "metadata": {},
   "outputs": [
    {
     "data": {
      "text/html": [
       "<div>\n",
       "<style scoped>\n",
       "    .dataframe tbody tr th:only-of-type {\n",
       "        vertical-align: middle;\n",
       "    }\n",
       "\n",
       "    .dataframe tbody tr th {\n",
       "        vertical-align: top;\n",
       "    }\n",
       "\n",
       "    .dataframe thead th {\n",
       "        text-align: right;\n",
       "    }\n",
       "</style>\n",
       "<table border=\"1\" class=\"dataframe\">\n",
       "  <thead>\n",
       "    <tr style=\"text-align: right;\">\n",
       "      <th></th>\n",
       "      <th>voter_id</th>\n",
       "      <th>birth_date</th>\n",
       "      <th>registration_date</th>\n",
       "      <th>election_date</th>\n",
       "      <th>eligible_voter</th>\n",
       "      <th>voted</th>\n",
       "    </tr>\n",
       "  </thead>\n",
       "  <tbody>\n",
       "    <tr>\n",
       "      <th>0</th>\n",
       "      <td>102654245</td>\n",
       "      <td>1932-08-28</td>\n",
       "      <td>2003-10-21</td>\n",
       "      <td>2016-11-08</td>\n",
       "      <td>1</td>\n",
       "      <td>1.0</td>\n",
       "    </tr>\n",
       "    <tr>\n",
       "      <th>1</th>\n",
       "      <td>102654245</td>\n",
       "      <td>1932-08-28</td>\n",
       "      <td>2003-10-21</td>\n",
       "      <td>2008-11-04</td>\n",
       "      <td>1</td>\n",
       "      <td>1.0</td>\n",
       "    </tr>\n",
       "    <tr>\n",
       "      <th>2</th>\n",
       "      <td>102654245</td>\n",
       "      <td>1932-08-28</td>\n",
       "      <td>2003-10-21</td>\n",
       "      <td>2014-11-04</td>\n",
       "      <td>1</td>\n",
       "      <td>1.0</td>\n",
       "    </tr>\n",
       "    <tr>\n",
       "      <th>3</th>\n",
       "      <td>102654245</td>\n",
       "      <td>1932-08-28</td>\n",
       "      <td>2003-10-21</td>\n",
       "      <td>2010-11-02</td>\n",
       "      <td>1</td>\n",
       "      <td>1.0</td>\n",
       "    </tr>\n",
       "    <tr>\n",
       "      <th>4</th>\n",
       "      <td>102654245</td>\n",
       "      <td>1932-08-28</td>\n",
       "      <td>2003-10-21</td>\n",
       "      <td>2012-11-06</td>\n",
       "      <td>1</td>\n",
       "      <td>1.0</td>\n",
       "    </tr>\n",
       "    <tr>\n",
       "      <th>5</th>\n",
       "      <td>102654245</td>\n",
       "      <td>1932-08-28</td>\n",
       "      <td>2003-10-21</td>\n",
       "      <td>2006-11-07</td>\n",
       "      <td>1</td>\n",
       "      <td>1.0</td>\n",
       "    </tr>\n",
       "    <tr>\n",
       "      <th>6</th>\n",
       "      <td>116777380</td>\n",
       "      <td>1989-08-31</td>\n",
       "      <td>2008-09-17</td>\n",
       "      <td>2016-11-08</td>\n",
       "      <td>1</td>\n",
       "      <td>0.0</td>\n",
       "    </tr>\n",
       "    <tr>\n",
       "      <th>7</th>\n",
       "      <td>116777380</td>\n",
       "      <td>1989-08-31</td>\n",
       "      <td>2008-09-17</td>\n",
       "      <td>2008-11-04</td>\n",
       "      <td>1</td>\n",
       "      <td>1.0</td>\n",
       "    </tr>\n",
       "    <tr>\n",
       "      <th>8</th>\n",
       "      <td>116777380</td>\n",
       "      <td>1989-08-31</td>\n",
       "      <td>2008-09-17</td>\n",
       "      <td>2014-11-04</td>\n",
       "      <td>1</td>\n",
       "      <td>0.0</td>\n",
       "    </tr>\n",
       "    <tr>\n",
       "      <th>9</th>\n",
       "      <td>116777380</td>\n",
       "      <td>1989-08-31</td>\n",
       "      <td>2008-09-17</td>\n",
       "      <td>2010-11-02</td>\n",
       "      <td>1</td>\n",
       "      <td>0.0</td>\n",
       "    </tr>\n",
       "  </tbody>\n",
       "</table>\n",
       "</div>"
      ],
      "text/plain": [
       "    voter_id birth_date registration_date election_date  eligible_voter  voted\n",
       "0  102654245 1932-08-28        2003-10-21    2016-11-08               1    1.0\n",
       "1  102654245 1932-08-28        2003-10-21    2008-11-04               1    1.0\n",
       "2  102654245 1932-08-28        2003-10-21    2014-11-04               1    1.0\n",
       "3  102654245 1932-08-28        2003-10-21    2010-11-02               1    1.0\n",
       "4  102654245 1932-08-28        2003-10-21    2012-11-06               1    1.0\n",
       "5  102654245 1932-08-28        2003-10-21    2006-11-07               1    1.0\n",
       "6  116777380 1989-08-31        2008-09-17    2016-11-08               1    0.0\n",
       "7  116777380 1989-08-31        2008-09-17    2008-11-04               1    1.0\n",
       "8  116777380 1989-08-31        2008-09-17    2014-11-04               1    0.0\n",
       "9  116777380 1989-08-31        2008-09-17    2010-11-02               1    0.0"
      ]
     },
     "execution_count": 23,
     "metadata": {},
     "output_type": "execute_result"
    }
   ],
   "source": [
    "df.head(10)"
   ]
  },
  {
   "cell_type": "code",
   "execution_count": 24,
   "metadata": {},
   "outputs": [],
   "source": [
    "# calculate the difference in number of days between birth_date and election_date\n",
    "df['bd_day_of_month'] = df.birth_date.dt.day.astype(str)\n",
    "df['bd_month_of_year'] = df.birth_date.dt.month.astype(str)\n",
    "df['election_year'] = df.election_date.dt.year.astype(str)\n",
    "df['birthday_election_year'] = pd.to_datetime(df['election_year'] + '-' + df['bd_month_of_year'] + '-' + df['bd_day_of_month'], errors='coerce')\n",
    "\n",
    "df['days'] = df.birthday_election_year.dt.dayofyear - df.election_date.dt.dayofyear"
   ]
  },
  {
   "cell_type": "code",
   "execution_count": 25,
   "metadata": {},
   "outputs": [
    {
     "data": {
      "text/html": [
       "<div>\n",
       "<style scoped>\n",
       "    .dataframe tbody tr th:only-of-type {\n",
       "        vertical-align: middle;\n",
       "    }\n",
       "\n",
       "    .dataframe tbody tr th {\n",
       "        vertical-align: top;\n",
       "    }\n",
       "\n",
       "    .dataframe thead th {\n",
       "        text-align: right;\n",
       "    }\n",
       "</style>\n",
       "<table border=\"1\" class=\"dataframe\">\n",
       "  <thead>\n",
       "    <tr style=\"text-align: right;\">\n",
       "      <th></th>\n",
       "      <th>voter_id</th>\n",
       "      <th>birth_date</th>\n",
       "      <th>registration_date</th>\n",
       "      <th>election_date</th>\n",
       "      <th>eligible_voter</th>\n",
       "      <th>voted</th>\n",
       "      <th>bd_day_of_month</th>\n",
       "      <th>bd_month_of_year</th>\n",
       "      <th>election_year</th>\n",
       "      <th>birthday_election_year</th>\n",
       "      <th>days</th>\n",
       "    </tr>\n",
       "  </thead>\n",
       "  <tbody>\n",
       "    <tr>\n",
       "      <th>0</th>\n",
       "      <td>102654245</td>\n",
       "      <td>1932-08-28</td>\n",
       "      <td>2003-10-21</td>\n",
       "      <td>2016-11-08</td>\n",
       "      <td>1</td>\n",
       "      <td>1.0</td>\n",
       "      <td>28</td>\n",
       "      <td>8</td>\n",
       "      <td>2016</td>\n",
       "      <td>2016-08-28</td>\n",
       "      <td>-72.0</td>\n",
       "    </tr>\n",
       "    <tr>\n",
       "      <th>1</th>\n",
       "      <td>102654245</td>\n",
       "      <td>1932-08-28</td>\n",
       "      <td>2003-10-21</td>\n",
       "      <td>2008-11-04</td>\n",
       "      <td>1</td>\n",
       "      <td>1.0</td>\n",
       "      <td>28</td>\n",
       "      <td>8</td>\n",
       "      <td>2008</td>\n",
       "      <td>2008-08-28</td>\n",
       "      <td>-68.0</td>\n",
       "    </tr>\n",
       "    <tr>\n",
       "      <th>2</th>\n",
       "      <td>102654245</td>\n",
       "      <td>1932-08-28</td>\n",
       "      <td>2003-10-21</td>\n",
       "      <td>2014-11-04</td>\n",
       "      <td>1</td>\n",
       "      <td>1.0</td>\n",
       "      <td>28</td>\n",
       "      <td>8</td>\n",
       "      <td>2014</td>\n",
       "      <td>2014-08-28</td>\n",
       "      <td>-68.0</td>\n",
       "    </tr>\n",
       "    <tr>\n",
       "      <th>3</th>\n",
       "      <td>102654245</td>\n",
       "      <td>1932-08-28</td>\n",
       "      <td>2003-10-21</td>\n",
       "      <td>2010-11-02</td>\n",
       "      <td>1</td>\n",
       "      <td>1.0</td>\n",
       "      <td>28</td>\n",
       "      <td>8</td>\n",
       "      <td>2010</td>\n",
       "      <td>2010-08-28</td>\n",
       "      <td>-66.0</td>\n",
       "    </tr>\n",
       "    <tr>\n",
       "      <th>4</th>\n",
       "      <td>102654245</td>\n",
       "      <td>1932-08-28</td>\n",
       "      <td>2003-10-21</td>\n",
       "      <td>2012-11-06</td>\n",
       "      <td>1</td>\n",
       "      <td>1.0</td>\n",
       "      <td>28</td>\n",
       "      <td>8</td>\n",
       "      <td>2012</td>\n",
       "      <td>2012-08-28</td>\n",
       "      <td>-70.0</td>\n",
       "    </tr>\n",
       "  </tbody>\n",
       "</table>\n",
       "</div>"
      ],
      "text/plain": [
       "    voter_id birth_date registration_date election_date  eligible_voter  \\\n",
       "0  102654245 1932-08-28        2003-10-21    2016-11-08               1   \n",
       "1  102654245 1932-08-28        2003-10-21    2008-11-04               1   \n",
       "2  102654245 1932-08-28        2003-10-21    2014-11-04               1   \n",
       "3  102654245 1932-08-28        2003-10-21    2010-11-02               1   \n",
       "4  102654245 1932-08-28        2003-10-21    2012-11-06               1   \n",
       "\n",
       "   voted bd_day_of_month bd_month_of_year election_year  \\\n",
       "0    1.0              28                8          2016   \n",
       "1    1.0              28                8          2008   \n",
       "2    1.0              28                8          2014   \n",
       "3    1.0              28                8          2010   \n",
       "4    1.0              28                8          2012   \n",
       "\n",
       "  birthday_election_year  days  \n",
       "0             2016-08-28 -72.0  \n",
       "1             2008-08-28 -68.0  \n",
       "2             2014-08-28 -68.0  \n",
       "3             2010-08-28 -66.0  \n",
       "4             2012-08-28 -70.0  "
      ]
     },
     "execution_count": 25,
     "metadata": {},
     "output_type": "execute_result"
    }
   ],
   "source": [
    "df.head()"
   ]
  },
  {
   "cell_type": "code",
   "execution_count": 504,
   "metadata": {},
   "outputs": [
    {
     "data": {
      "text/html": [
       "<div>\n",
       "<style scoped>\n",
       "    .dataframe tbody tr th:only-of-type {\n",
       "        vertical-align: middle;\n",
       "    }\n",
       "\n",
       "    .dataframe tbody tr th {\n",
       "        vertical-align: top;\n",
       "    }\n",
       "\n",
       "    .dataframe thead th {\n",
       "        text-align: right;\n",
       "    }\n",
       "</style>\n",
       "<table border=\"1\" class=\"dataframe\">\n",
       "  <thead>\n",
       "    <tr style=\"text-align: right;\">\n",
       "      <th></th>\n",
       "      <th>voter_id</th>\n",
       "      <th>birth_date</th>\n",
       "      <th>registration_date</th>\n",
       "      <th>election_date</th>\n",
       "      <th>eligible_voter</th>\n",
       "      <th>voted</th>\n",
       "      <th>bd_day_of_month</th>\n",
       "      <th>bd_month_of_year</th>\n",
       "      <th>election_year</th>\n",
       "      <th>birthday_election_year</th>\n",
       "      <th>days</th>\n",
       "    </tr>\n",
       "  </thead>\n",
       "  <tbody>\n",
       "    <tr>\n",
       "      <th>107</th>\n",
       "      <td>102543125</td>\n",
       "      <td>1925-11-07</td>\n",
       "      <td>1977-11-14</td>\n",
       "      <td>2006-11-07</td>\n",
       "      <td>1</td>\n",
       "      <td>1.0</td>\n",
       "      <td>7</td>\n",
       "      <td>11</td>\n",
       "      <td>2006</td>\n",
       "      <td>2006-11-07</td>\n",
       "      <td>0.0</td>\n",
       "    </tr>\n",
       "    <tr>\n",
       "      <th>822</th>\n",
       "      <td>102655195</td>\n",
       "      <td>1936-11-08</td>\n",
       "      <td>2003-11-20</td>\n",
       "      <td>2016-11-08</td>\n",
       "      <td>1</td>\n",
       "      <td>1.0</td>\n",
       "      <td>8</td>\n",
       "      <td>11</td>\n",
       "      <td>2016</td>\n",
       "      <td>2016-11-08</td>\n",
       "      <td>0.0</td>\n",
       "    </tr>\n",
       "    <tr>\n",
       "      <th>919</th>\n",
       "      <td>102578136</td>\n",
       "      <td>1937-11-04</td>\n",
       "      <td>1992-12-02</td>\n",
       "      <td>2008-11-04</td>\n",
       "      <td>1</td>\n",
       "      <td>1.0</td>\n",
       "      <td>4</td>\n",
       "      <td>11</td>\n",
       "      <td>2008</td>\n",
       "      <td>2008-11-04</td>\n",
       "      <td>0.0</td>\n",
       "    </tr>\n",
       "    <tr>\n",
       "      <th>920</th>\n",
       "      <td>102578136</td>\n",
       "      <td>1937-11-04</td>\n",
       "      <td>1992-12-02</td>\n",
       "      <td>2014-11-04</td>\n",
       "      <td>1</td>\n",
       "      <td>1.0</td>\n",
       "      <td>4</td>\n",
       "      <td>11</td>\n",
       "      <td>2014</td>\n",
       "      <td>2014-11-04</td>\n",
       "      <td>0.0</td>\n",
       "    </tr>\n",
       "    <tr>\n",
       "      <th>1118</th>\n",
       "      <td>118439279</td>\n",
       "      <td>1991-11-04</td>\n",
       "      <td>2010-09-27</td>\n",
       "      <td>2014-11-04</td>\n",
       "      <td>1</td>\n",
       "      <td>1.0</td>\n",
       "      <td>4</td>\n",
       "      <td>11</td>\n",
       "      <td>2014</td>\n",
       "      <td>2014-11-04</td>\n",
       "      <td>0.0</td>\n",
       "    </tr>\n",
       "  </tbody>\n",
       "</table>\n",
       "</div>"
      ],
      "text/plain": [
       "       voter_id birth_date registration_date election_date  eligible_voter  \\\n",
       "107   102543125 1925-11-07        1977-11-14    2006-11-07               1   \n",
       "822   102655195 1936-11-08        2003-11-20    2016-11-08               1   \n",
       "919   102578136 1937-11-04        1992-12-02    2008-11-04               1   \n",
       "920   102578136 1937-11-04        1992-12-02    2014-11-04               1   \n",
       "1118  118439279 1991-11-04        2010-09-27    2014-11-04               1   \n",
       "\n",
       "      voted bd_day_of_month bd_month_of_year election_year  \\\n",
       "107     1.0               7               11          2006   \n",
       "822     1.0               8               11          2016   \n",
       "919     1.0               4               11          2008   \n",
       "920     1.0               4               11          2014   \n",
       "1118    1.0               4               11          2014   \n",
       "\n",
       "     birthday_election_year  days  \n",
       "107              2006-11-07   0.0  \n",
       "822              2016-11-08   0.0  \n",
       "919              2008-11-04   0.0  \n",
       "920              2014-11-04   0.0  \n",
       "1118             2014-11-04   0.0  "
      ]
     },
     "execution_count": 504,
     "metadata": {},
     "output_type": "execute_result"
    }
   ],
   "source": [
    "# check that where days==0, month/day of birth_date matches month/day of election_date\n",
    "df[df.days==0].head()"
   ]
  },
  {
   "cell_type": "markdown",
   "metadata": {},
   "source": [
    "# 4.0 Analysis"
   ]
  },
  {
   "cell_type": "code",
   "execution_count": 339,
   "metadata": {},
   "outputs": [
    {
     "data": {
      "text/plain": [
       "election_date\n",
       "2006-11-07    0.502186\n",
       "2008-11-04    0.795450\n",
       "2010-11-02    0.504147\n",
       "2012-11-06    0.730437\n",
       "2014-11-04    0.490624\n",
       "2016-11-08    0.703307\n",
       "Name: voted, dtype: float64"
      ]
     },
     "execution_count": 339,
     "metadata": {},
     "output_type": "execute_result"
    }
   ],
   "source": [
    "# avg voter turnout grouped by election_date. Looking at these, analysis should be split between midterms and presidential elections\n",
    "df.groupby('election_date').voted.mean()"
   ]
  },
  {
   "cell_type": "markdown",
   "metadata": {},
   "source": [
    "## 4.1 Midterms"
   ]
  },
  {
   "cell_type": "markdown",
   "metadata": {},
   "source": [
    "### 4.1.1 Voter turnout"
   ]
  },
  {
   "cell_type": "code",
   "execution_count": 467,
   "metadata": {},
   "outputs": [
    {
     "data": {
      "text/plain": [
       "49.80733069978231"
      ]
     },
     "execution_count": 467,
     "metadata": {},
     "output_type": "execute_result"
    }
   ],
   "source": [
    "# average voter turnout for midterm elections\n",
    "midterms = df[df.election_date.isin(['2006-11-07', '2010-11-02', '2014-11-04'])]\n",
    "\n",
    "midterms.voted.mean()*100"
   ]
  },
  {
   "cell_type": "markdown",
   "metadata": {},
   "source": [
    "### 4.1.2 Voter turnout grouped by # of days from birthday (0 = birthday)"
   ]
  },
  {
   "cell_type": "code",
   "execution_count": 468,
   "metadata": {},
   "outputs": [],
   "source": [
    "# group by number of days from birthday and calculate the proportion of eligible voters that voted (i.e. voter turnout)\n",
    "midterms_turnout_groupby_days_from_birthday = pd.DataFrame(midterms.groupby('days').voted.mean()*100).reset_index()"
   ]
  },
  {
   "cell_type": "markdown",
   "metadata": {},
   "source": [
    "#### Day Before vs. Day After"
   ]
  },
  {
   "cell_type": "code",
   "execution_count": 469,
   "metadata": {},
   "outputs": [
    {
     "data": {
      "text/html": [
       "<div>\n",
       "<style scoped>\n",
       "    .dataframe tbody tr th:only-of-type {\n",
       "        vertical-align: middle;\n",
       "    }\n",
       "\n",
       "    .dataframe tbody tr th {\n",
       "        vertical-align: top;\n",
       "    }\n",
       "\n",
       "    .dataframe thead th {\n",
       "        text-align: right;\n",
       "    }\n",
       "</style>\n",
       "<table border=\"1\" class=\"dataframe\">\n",
       "  <thead>\n",
       "    <tr style=\"text-align: right;\">\n",
       "      <th></th>\n",
       "      <th>days</th>\n",
       "      <th>voted</th>\n",
       "    </tr>\n",
       "  </thead>\n",
       "  <tbody>\n",
       "    <tr>\n",
       "      <th>309</th>\n",
       "      <td>-1.0</td>\n",
       "      <td>49.142572</td>\n",
       "    </tr>\n",
       "    <tr>\n",
       "      <th>310</th>\n",
       "      <td>0.0</td>\n",
       "      <td>50.326030</td>\n",
       "    </tr>\n",
       "    <tr>\n",
       "      <th>311</th>\n",
       "      <td>1.0</td>\n",
       "      <td>49.789866</td>\n",
       "    </tr>\n",
       "  </tbody>\n",
       "</table>\n",
       "</div>"
      ],
      "text/plain": [
       "     days      voted\n",
       "309  -1.0  49.142572\n",
       "310   0.0  50.326030\n",
       "311   1.0  49.789866"
      ]
     },
     "execution_count": 469,
     "metadata": {},
     "output_type": "execute_result"
    }
   ],
   "source": [
    "midterms_turnout_groupby_days_from_birthday[midterms_turnout_groupby_days_from_birthday.days.isin([item for item in range(-1, 2)])]"
   ]
  },
  {
   "cell_type": "markdown",
   "metadata": {},
   "source": [
    "#### +/- 30 days"
   ]
  },
  {
   "cell_type": "code",
   "execution_count": 490,
   "metadata": {},
   "outputs": [
    {
     "data": {
      "text/plain": [
       "(49, 50.5)"
      ]
     },
     "execution_count": 490,
     "metadata": {},
     "output_type": "execute_result"
    },
    {
     "data": {
      "image/png": "[encoded data removed]",
      "text/plain": [
       "<Figure size 432x288 with 1 Axes>"
      ]
     },
     "metadata": {
      "needs_background": "light"
     },
     "output_type": "display_data"
    }
   ],
   "source": [
    "sns.lineplot(x='days',\n",
    "             y='voted', \n",
    "             data=midterms_turnout_groupby_days_from_birthday[midterms_turnout_groupby_days_from_birthday.days.isin([item for item in range(-30, 31)])]\n",
    "            )\n",
    "plt.ylim(49,50.5)"
   ]
  },
  {
   "cell_type": "markdown",
   "metadata": {},
   "source": [
    "### 4.1.3 Change from previous day"
   ]
  },
  {
   "cell_type": "code",
   "execution_count": 472,
   "metadata": {},
   "outputs": [],
   "source": [
    "# calculate the % change in voter turnout from the previous day\n",
    "midterms_change_from_prev_day = (midterms_turnout_groupby_days_from_birthday.set_index('days').diff()).reset_index()"
   ]
  },
  {
   "cell_type": "markdown",
   "metadata": {},
   "source": [
    "#### Day Before vs. Day After"
   ]
  },
  {
   "cell_type": "code",
   "execution_count": 473,
   "metadata": {},
   "outputs": [
    {
     "data": {
      "text/html": [
       "<div>\n",
       "<style scoped>\n",
       "    .dataframe tbody tr th:only-of-type {\n",
       "        vertical-align: middle;\n",
       "    }\n",
       "\n",
       "    .dataframe tbody tr th {\n",
       "        vertical-align: top;\n",
       "    }\n",
       "\n",
       "    .dataframe thead th {\n",
       "        text-align: right;\n",
       "    }\n",
       "</style>\n",
       "<table border=\"1\" class=\"dataframe\">\n",
       "  <thead>\n",
       "    <tr style=\"text-align: right;\">\n",
       "      <th></th>\n",
       "      <th>days</th>\n",
       "      <th>voted</th>\n",
       "    </tr>\n",
       "  </thead>\n",
       "  <tbody>\n",
       "    <tr>\n",
       "      <th>309</th>\n",
       "      <td>-1.0</td>\n",
       "      <td>-0.133540</td>\n",
       "    </tr>\n",
       "    <tr>\n",
       "      <th>310</th>\n",
       "      <td>0.0</td>\n",
       "      <td>1.183458</td>\n",
       "    </tr>\n",
       "    <tr>\n",
       "      <th>311</th>\n",
       "      <td>1.0</td>\n",
       "      <td>-0.536164</td>\n",
       "    </tr>\n",
       "  </tbody>\n",
       "</table>\n",
       "</div>"
      ],
      "text/plain": [
       "     days     voted\n",
       "309  -1.0 -0.133540\n",
       "310   0.0  1.183458\n",
       "311   1.0 -0.536164"
      ]
     },
     "execution_count": 473,
     "metadata": {},
     "output_type": "execute_result"
    }
   ],
   "source": [
    "midterms_change_from_prev_day[midterms_change_from_prev_day.days.isin([item for item in range(-1, 2)])]"
   ]
  },
  {
   "cell_type": "markdown",
   "metadata": {},
   "source": [
    "#### +/- 30 days"
   ]
  },
  {
   "cell_type": "code",
   "execution_count": 495,
   "metadata": {},
   "outputs": [
    {
     "data": {
      "text/plain": [
       "(-0.6, 1.25)"
      ]
     },
     "execution_count": 495,
     "metadata": {},
     "output_type": "execute_result"
    },
    {
     "data": {
      "image/png": "[encoded data removed]",
      "text/plain": [
       "<Figure size 432x288 with 1 Axes>"
      ]
     },
     "metadata": {
      "needs_background": "light"
     },
     "output_type": "display_data"
    }
   ],
   "source": [
    "sns.lineplot(x='days',\n",
    "             y='voted', \n",
    "             data=midterms_change_from_prev_day[midterms_change_from_prev_day.days.isin([item for item in range(-30, 31)])]\n",
    "            )\n",
    "plt.ylim(-.6,1.25)"
   ]
  },
  {
   "cell_type": "markdown",
   "metadata": {},
   "source": [
    "## 4.2 Presidential"
   ]
  },
  {
   "cell_type": "markdown",
   "metadata": {},
   "source": [
    "### 4.2.1 Voter turnout"
   ]
  },
  {
   "cell_type": "code",
   "execution_count": 481,
   "metadata": {},
   "outputs": [
    {
     "data": {
      "text/plain": [
       "73.65227608807345"
      ]
     },
     "execution_count": 481,
     "metadata": {},
     "output_type": "execute_result"
    }
   ],
   "source": [
    "# average voter turnout for presidential elections\n",
    "presidential = df[df.election_date.isin(['2008-11-04', '2012-11-06', '2016-11-08'])]\n",
    "\n",
    "presidential.voted.mean()*100"
   ]
  },
  {
   "cell_type": "markdown",
   "metadata": {},
   "source": [
    "### 4.1.2 Voter turnout grouped by # of days from birthday (0 = birthday)"
   ]
  },
  {
   "cell_type": "code",
   "execution_count": 484,
   "metadata": {},
   "outputs": [],
   "source": [
    "# group by number of days from birthday and calculate the proportion of eligible voters that voted (i.e. voter turnout)\n",
    "presidential_turnout_groupby_days_from_birthday = pd.DataFrame(presidential.groupby('days').voted.mean()*100).reset_index()"
   ]
  },
  {
   "cell_type": "markdown",
   "metadata": {},
   "source": [
    "#### Day Before vs. Day After"
   ]
  },
  {
   "cell_type": "code",
   "execution_count": 485,
   "metadata": {},
   "outputs": [
    {
     "data": {
      "text/html": [
       "<div>\n",
       "<style scoped>\n",
       "    .dataframe tbody tr th:only-of-type {\n",
       "        vertical-align: middle;\n",
       "    }\n",
       "\n",
       "    .dataframe tbody tr th {\n",
       "        vertical-align: top;\n",
       "    }\n",
       "\n",
       "    .dataframe thead th {\n",
       "        text-align: right;\n",
       "    }\n",
       "</style>\n",
       "<table border=\"1\" class=\"dataframe\">\n",
       "  <thead>\n",
       "    <tr style=\"text-align: right;\">\n",
       "      <th></th>\n",
       "      <th>days</th>\n",
       "      <th>voted</th>\n",
       "    </tr>\n",
       "  </thead>\n",
       "  <tbody>\n",
       "    <tr>\n",
       "      <th>311</th>\n",
       "      <td>-1.0</td>\n",
       "      <td>73.797279</td>\n",
       "    </tr>\n",
       "    <tr>\n",
       "      <th>312</th>\n",
       "      <td>0.0</td>\n",
       "      <td>74.064020</td>\n",
       "    </tr>\n",
       "    <tr>\n",
       "      <th>313</th>\n",
       "      <td>1.0</td>\n",
       "      <td>73.717312</td>\n",
       "    </tr>\n",
       "  </tbody>\n",
       "</table>\n",
       "</div>"
      ],
      "text/plain": [
       "     days      voted\n",
       "311  -1.0  73.797279\n",
       "312   0.0  74.064020\n",
       "313   1.0  73.717312"
      ]
     },
     "execution_count": 485,
     "metadata": {},
     "output_type": "execute_result"
    }
   ],
   "source": [
    "presidential_turnout_groupby_days_from_birthday[presidential_turnout_groupby_days_from_birthday.days.isin([item for item in range(-1, 2)])]"
   ]
  },
  {
   "cell_type": "markdown",
   "metadata": {},
   "source": [
    "#### +/- 30 days"
   ]
  },
  {
   "cell_type": "code",
   "execution_count": 491,
   "metadata": {},
   "outputs": [
    {
     "data": {
      "text/plain": [
       "(73, 74.5)"
      ]
     },
     "execution_count": 491,
     "metadata": {},
     "output_type": "execute_result"
    },
    {
     "data": {
      "image/png": "[encoded data removed]",
      "text/plain": [
       "<Figure size 432x288 with 1 Axes>"
      ]
     },
     "metadata": {
      "needs_background": "light"
     },
     "output_type": "display_data"
    }
   ],
   "source": [
    "sns.lineplot(x='days',\n",
    "             y='voted', \n",
    "             data=presidential_turnout_groupby_days_from_birthday[presidential_turnout_groupby_days_from_birthday.days.isin([item for item in range(-30, 31)])]\n",
    "            )\n",
    "# make y-axis same scale as midterms (max - min = 1.5)\n",
    "plt.ylim(73,74.5)"
   ]
  },
  {
   "cell_type": "markdown",
   "metadata": {},
   "source": [
    "### 4.1.3 Change from previous day"
   ]
  },
  {
   "cell_type": "code",
   "execution_count": 487,
   "metadata": {},
   "outputs": [],
   "source": [
    "# calculate the % change in voter turnout from the previous day\n",
    "presidential_change_from_prev_day = (presidential_turnout_groupby_days_from_birthday.set_index('days').diff()).reset_index()"
   ]
  },
  {
   "cell_type": "markdown",
   "metadata": {},
   "source": [
    "#### Day Before vs. Day After"
   ]
  },
  {
   "cell_type": "code",
   "execution_count": 488,
   "metadata": {},
   "outputs": [
    {
     "data": {
      "text/html": [
       "<div>\n",
       "<style scoped>\n",
       "    .dataframe tbody tr th:only-of-type {\n",
       "        vertical-align: middle;\n",
       "    }\n",
       "\n",
       "    .dataframe tbody tr th {\n",
       "        vertical-align: top;\n",
       "    }\n",
       "\n",
       "    .dataframe thead th {\n",
       "        text-align: right;\n",
       "    }\n",
       "</style>\n",
       "<table border=\"1\" class=\"dataframe\">\n",
       "  <thead>\n",
       "    <tr style=\"text-align: right;\">\n",
       "      <th></th>\n",
       "      <th>days</th>\n",
       "      <th>voted</th>\n",
       "    </tr>\n",
       "  </thead>\n",
       "  <tbody>\n",
       "    <tr>\n",
       "      <th>311</th>\n",
       "      <td>-1.0</td>\n",
       "      <td>0.009658</td>\n",
       "    </tr>\n",
       "    <tr>\n",
       "      <th>312</th>\n",
       "      <td>0.0</td>\n",
       "      <td>0.266741</td>\n",
       "    </tr>\n",
       "    <tr>\n",
       "      <th>313</th>\n",
       "      <td>1.0</td>\n",
       "      <td>-0.346708</td>\n",
       "    </tr>\n",
       "  </tbody>\n",
       "</table>\n",
       "</div>"
      ],
      "text/plain": [
       "     days     voted\n",
       "311  -1.0  0.009658\n",
       "312   0.0  0.266741\n",
       "313   1.0 -0.346708"
      ]
     },
     "execution_count": 488,
     "metadata": {},
     "output_type": "execute_result"
    }
   ],
   "source": [
    "presidential_change_from_prev_day[presidential_change_from_prev_day.days.isin([item for item in range(-1, 2)])]"
   ]
  },
  {
   "cell_type": "markdown",
   "metadata": {},
   "source": [
    "#### +/- 30 days"
   ]
  },
  {
   "cell_type": "code",
   "execution_count": 501,
   "metadata": {},
   "outputs": [
    {
     "data": {
      "text/plain": [
       "(-1, 0.85)"
      ]
     },
     "execution_count": 501,
     "metadata": {},
     "output_type": "execute_result"
    },
    {
     "data": {
      "image/png": "[encoded data removed]",
      "text/plain": [
       "<Figure size 432x288 with 1 Axes>"
      ]
     },
     "metadata": {
      "needs_background": "light"
     },
     "output_type": "display_data"
    }
   ],
   "source": [
    "sns.lineplot(x='days',\n",
    "             y='voted', \n",
    "             data=presidential_change_from_prev_day[presidential_change_from_prev_day.days.isin([item for item in range(-30, 31)])]\n",
    "            )\n",
    "# make y-axis same scale as midterms (max - min = 1.85)\n",
    "plt.ylim(-1,.85)"
   ]
  }
 ],
 "metadata": {
  "kernelspec": {
   "display_name": "Python 3",
   "language": "python",
   "name": "python3"
  },
  "language_info": {
   "codemirror_mode": {
    "name": "ipython",
    "version": 3
   },
   "file_extension": ".py",
   "mimetype": "text/x-python",
   "name": "python",
   "nbconvert_exporter": "python",
   "pygments_lexer": "ipython3",
   "version": "3.7.6"
  }
 },
 "nbformat": 4,
 "nbformat_minor": 4
}
