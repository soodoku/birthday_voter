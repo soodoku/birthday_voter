{
 "cells": [
  {
   "cell_type": "markdown",
   "metadata": {},
   "source": [
    "# 0.0 Imports"
   ]
  },
  {
   "cell_type": "code",
   "execution_count": 1,
   "metadata": {},
   "outputs": [],
   "source": [
    "import pandas as pd\n",
    "import numpy as np\n",
    "import seaborn as sns\n",
    "import glob\n",
    "import datetime as dt\n",
    "from matplotlib import pyplot as plt"
   ]
  },
  {
   "cell_type": "markdown",
   "metadata": {},
   "source": [
    "# 1.0 Load Data"
   ]
  },
  {
   "cell_type": "markdown",
   "metadata": {},
   "source": [
    "Datasets downloaded from https://dataverse.harvard.edu/dataset.xhtml?persistentId=doi:10.7910/DVN/UBIG3F"
   ]
  },
  {
   "cell_type": "markdown",
   "metadata": {},
   "source": [
    "## 1.1 voter detail"
   ]
  },
  {
   "cell_type": "code",
   "execution_count": 2,
   "metadata": {},
   "outputs": [
    {
     "name": "stderr",
     "output_type": "stream",
     "text": [
      "/opt/anaconda3/lib/python3.7/site-packages/IPython/core/interactiveshell.py:3051: DtypeWarning: Columns (27) have mixed types. Specify dtype option on import or set low_memory=False.\n",
      "  interactivity=interactivity, compiler=compiler, result=result)\n",
      "/opt/anaconda3/lib/python3.7/site-packages/IPython/core/interactiveshell.py:3051: DtypeWarning: Columns (26) have mixed types. Specify dtype option on import or set low_memory=False.\n",
      "  interactivity=interactivity, compiler=compiler, result=result)\n",
      "/opt/anaconda3/lib/python3.7/site-packages/IPython/core/interactiveshell.py:3051: DtypeWarning: Columns (11,14,17,18,27,34,35,36) have mixed types. Specify dtype option on import or set low_memory=False.\n",
      "  interactivity=interactivity, compiler=compiler, result=result)\n"
     ]
    }
   ],
   "source": [
    "# load each file and combine into a single dataframe\n",
    "path = r'/Users/jleland/Desktop/voter/FL_voter/20170207_VoterDetail'\n",
    "all_files = glob.glob(path + \"/*.txt\")\n",
    "\n",
    "li = []\n",
    "\n",
    "for filename in all_files:\n",
    "    df = pd.read_csv(filename, \n",
    "                     sep='\\t', \n",
    "                     header=None,\n",
    "                     names=['county_code', 'voter_id', 'name_last', 'name_suffix', \n",
    "                            'name_first', 'name_middle', 'requested_public_records_exemption',\n",
    "                           'residence_address_line_1', 'residence_address_line_2', 'residence_city',\n",
    "                           'residence_state', 'residence_zipcode', 'mailing_address_line_1,',\n",
    "                           'mailing_address_line_2', 'mailing_address_line_3', 'mailing_city',\n",
    "                           'mailing_state', 'mailing_zipcode', 'mailing_country', 'gender', 'race',\n",
    "                           'birth_date', 'registration_date', 'party_affiliation', 'precinct',\n",
    "                           'precinct_group', 'precinct_split', 'precinct_suffix', 'voter_status',\n",
    "                           'congressional_district', 'house_district', 'senate_district',\n",
    "                           'county_commission_district', 'school_board_district', 'daytime_area_code',\n",
    "                           'daytime_phone_number', 'daytime_phone_extension', 'email_address'])\n",
    "    li.append(df)\n",
    "\n",
    "detail = pd.concat(li, axis=0, ignore_index=True)"
   ]
  },
  {
   "cell_type": "code",
   "execution_count": 3,
   "metadata": {},
   "outputs": [],
   "source": [
    "# convert date fields from object dtype to datetime\n",
    "date_cache = {k: pd.to_datetime(k, errors='coerce') for k in detail['birth_date'].unique()}\n",
    "detail['birth_date'] = detail['birth_date'].map(date_cache)\n",
    "\n",
    "date_cache = {k: pd.to_datetime(k, errors='coerce') for k in detail['registration_date'].unique()}\n",
    "detail['registration_date'] = detail['registration_date'].map(date_cache)"
   ]
  },
  {
   "cell_type": "code",
   "execution_count": 4,
   "metadata": {},
   "outputs": [
    {
     "data": {
      "text/html": [
       "<div>\n",
       "<style scoped>\n",
       "    .dataframe tbody tr th:only-of-type {\n",
       "        vertical-align: middle;\n",
       "    }\n",
       "\n",
       "    .dataframe tbody tr th {\n",
       "        vertical-align: top;\n",
       "    }\n",
       "\n",
       "    .dataframe thead th {\n",
       "        text-align: right;\n",
       "    }\n",
       "</style>\n",
       "<table border=\"1\" class=\"dataframe\">\n",
       "  <thead>\n",
       "    <tr style=\"text-align: right;\">\n",
       "      <th></th>\n",
       "      <th>county_code</th>\n",
       "      <th>voter_id</th>\n",
       "      <th>name_last</th>\n",
       "      <th>name_suffix</th>\n",
       "      <th>name_first</th>\n",
       "      <th>name_middle</th>\n",
       "      <th>requested_public_records_exemption</th>\n",
       "      <th>residence_address_line_1</th>\n",
       "      <th>residence_address_line_2</th>\n",
       "      <th>residence_city</th>\n",
       "      <th>...</th>\n",
       "      <th>voter_status</th>\n",
       "      <th>congressional_district</th>\n",
       "      <th>house_district</th>\n",
       "      <th>senate_district</th>\n",
       "      <th>county_commission_district</th>\n",
       "      <th>school_board_district</th>\n",
       "      <th>daytime_area_code</th>\n",
       "      <th>daytime_phone_number</th>\n",
       "      <th>daytime_phone_extension</th>\n",
       "      <th>email_address</th>\n",
       "    </tr>\n",
       "  </thead>\n",
       "  <tbody>\n",
       "    <tr>\n",
       "      <th>0</th>\n",
       "      <td>CHA</td>\n",
       "      <td>102654245</td>\n",
       "      <td>Nodes</td>\n",
       "      <td>NaN</td>\n",
       "      <td>Melvin</td>\n",
       "      <td>R</td>\n",
       "      <td>N</td>\n",
       "      <td>8320   Riverside DR</td>\n",
       "      <td>UNIT 4179</td>\n",
       "      <td>Punta Gorda</td>\n",
       "      <td>...</td>\n",
       "      <td>ACT</td>\n",
       "      <td>17.0</td>\n",
       "      <td>75.0</td>\n",
       "      <td>26.0</td>\n",
       "      <td>1.0</td>\n",
       "      <td>1.0</td>\n",
       "      <td>941</td>\n",
       "      <td>5056229</td>\n",
       "      <td>NaN</td>\n",
       "      <td></td>\n",
       "    </tr>\n",
       "    <tr>\n",
       "      <th>1</th>\n",
       "      <td>CHA</td>\n",
       "      <td>116777380</td>\n",
       "      <td>Oldbear</td>\n",
       "      <td>NaN</td>\n",
       "      <td>Kaili</td>\n",
       "      <td>Nicole</td>\n",
       "      <td>N</td>\n",
       "      <td>5016   Palangos DR</td>\n",
       "      <td></td>\n",
       "      <td>Punta Gorda</td>\n",
       "      <td>...</td>\n",
       "      <td>ACT</td>\n",
       "      <td>17.0</td>\n",
       "      <td>75.0</td>\n",
       "      <td>26.0</td>\n",
       "      <td>1.0</td>\n",
       "      <td>1.0</td>\n",
       "      <td>NaN</td>\n",
       "      <td>NaN</td>\n",
       "      <td>NaN</td>\n",
       "      <td>KAILINICOLE@ROCKETMAIL.COM</td>\n",
       "    </tr>\n",
       "    <tr>\n",
       "      <th>2</th>\n",
       "      <td>CHA</td>\n",
       "      <td>111684516</td>\n",
       "      <td>Dunn</td>\n",
       "      <td>NaN</td>\n",
       "      <td>Cora</td>\n",
       "      <td>M</td>\n",
       "      <td>N</td>\n",
       "      <td>23053   Westchester BLVD</td>\n",
       "      <td>APT L501</td>\n",
       "      <td>Port Charlotte</td>\n",
       "      <td>...</td>\n",
       "      <td>ACT</td>\n",
       "      <td>17.0</td>\n",
       "      <td>75.0</td>\n",
       "      <td>26.0</td>\n",
       "      <td>1.0</td>\n",
       "      <td>1.0</td>\n",
       "      <td>NaN</td>\n",
       "      <td>NaN</td>\n",
       "      <td>NaN</td>\n",
       "      <td></td>\n",
       "    </tr>\n",
       "    <tr>\n",
       "      <th>3</th>\n",
       "      <td>CHA</td>\n",
       "      <td>121565689</td>\n",
       "      <td>Espino</td>\n",
       "      <td>NaN</td>\n",
       "      <td>Melissa</td>\n",
       "      <td>Faye</td>\n",
       "      <td>N</td>\n",
       "      <td>2511   Luther RD</td>\n",
       "      <td>APT 225</td>\n",
       "      <td>Punta Gorda</td>\n",
       "      <td>...</td>\n",
       "      <td>ACT</td>\n",
       "      <td>17.0</td>\n",
       "      <td>75.0</td>\n",
       "      <td>26.0</td>\n",
       "      <td>1.0</td>\n",
       "      <td>1.0</td>\n",
       "      <td>NaN</td>\n",
       "      <td>NaN</td>\n",
       "      <td>NaN</td>\n",
       "      <td></td>\n",
       "    </tr>\n",
       "    <tr>\n",
       "      <th>4</th>\n",
       "      <td>CHA</td>\n",
       "      <td>113812700</td>\n",
       "      <td>Eno</td>\n",
       "      <td>NaN</td>\n",
       "      <td>Camille</td>\n",
       "      <td>Marie</td>\n",
       "      <td>N</td>\n",
       "      <td>24437   Harborview RD</td>\n",
       "      <td>LOT 19</td>\n",
       "      <td>Port Charlotte</td>\n",
       "      <td>...</td>\n",
       "      <td>ACT</td>\n",
       "      <td>17.0</td>\n",
       "      <td>75.0</td>\n",
       "      <td>26.0</td>\n",
       "      <td>1.0</td>\n",
       "      <td>1.0</td>\n",
       "      <td>863</td>\n",
       "      <td>7098529</td>\n",
       "      <td>NaN</td>\n",
       "      <td></td>\n",
       "    </tr>\n",
       "  </tbody>\n",
       "</table>\n",
       "<p>5 rows × 38 columns</p>\n",
       "</div>"
      ],
      "text/plain": [
       "  county_code   voter_id name_last name_suffix name_first name_middle  \\\n",
       "0         CHA  102654245     Nodes         NaN     Melvin           R   \n",
       "1         CHA  116777380   Oldbear         NaN      Kaili      Nicole   \n",
       "2         CHA  111684516      Dunn         NaN       Cora           M   \n",
       "3         CHA  121565689    Espino         NaN    Melissa        Faye   \n",
       "4         CHA  113812700       Eno         NaN    Camille       Marie   \n",
       "\n",
       "  requested_public_records_exemption   residence_address_line_1  \\\n",
       "0                                  N       8320   Riverside DR    \n",
       "1                                  N        5016   Palangos DR    \n",
       "2                                  N  23053   Westchester BLVD    \n",
       "3                                  N          2511   Luther RD    \n",
       "4                                  N     24437   Harborview RD    \n",
       "\n",
       "  residence_address_line_2  residence_city             ...               \\\n",
       "0                UNIT 4179     Punta Gorda             ...                \n",
       "1                              Punta Gorda             ...                \n",
       "2                 APT L501  Port Charlotte             ...                \n",
       "3                  APT 225     Punta Gorda             ...                \n",
       "4                   LOT 19  Port Charlotte             ...                \n",
       "\n",
       "  voter_status congressional_district house_district senate_district  \\\n",
       "0          ACT                   17.0           75.0            26.0   \n",
       "1          ACT                   17.0           75.0            26.0   \n",
       "2          ACT                   17.0           75.0            26.0   \n",
       "3          ACT                   17.0           75.0            26.0   \n",
       "4          ACT                   17.0           75.0            26.0   \n",
       "\n",
       "  county_commission_district school_board_district daytime_area_code  \\\n",
       "0                        1.0                   1.0               941   \n",
       "1                        1.0                   1.0               NaN   \n",
       "2                        1.0                   1.0               NaN   \n",
       "3                        1.0                   1.0               NaN   \n",
       "4                        1.0                   1.0               863   \n",
       "\n",
       "  daytime_phone_number daytime_phone_extension                email_address  \n",
       "0              5056229                     NaN                               \n",
       "1                  NaN                     NaN  KAILINICOLE@ROCKETMAIL.COM   \n",
       "2                  NaN                     NaN                               \n",
       "3                  NaN                     NaN                               \n",
       "4              7098529                     NaN                               \n",
       "\n",
       "[5 rows x 38 columns]"
      ]
     },
     "execution_count": 4,
     "metadata": {},
     "output_type": "execute_result"
    }
   ],
   "source": [
    "detail.head()"
   ]
  },
  {
   "cell_type": "code",
   "execution_count": 5,
   "metadata": {},
   "outputs": [
    {
     "name": "stdout",
     "output_type": "stream",
     "text": [
      "<class 'pandas.core.frame.DataFrame'>\n",
      "RangeIndex: 13710358 entries, 0 to 13710357\n",
      "Data columns (total 38 columns):\n",
      "county_code                           object\n",
      "voter_id                              int64\n",
      "name_last                             object\n",
      "name_suffix                           object\n",
      "name_first                            object\n",
      "name_middle                           object\n",
      "requested_public_records_exemption    object\n",
      "residence_address_line_1              object\n",
      "residence_address_line_2              object\n",
      "residence_city                        object\n",
      "residence_state                       object\n",
      "residence_zipcode                     object\n",
      "mailing_address_line_1,               object\n",
      "mailing_address_line_2                object\n",
      "mailing_address_line_3                object\n",
      "mailing_city                          object\n",
      "mailing_state                         object\n",
      "mailing_zipcode                       object\n",
      "mailing_country                       object\n",
      "gender                                object\n",
      "race                                  int64\n",
      "birth_date                            datetime64[ns]\n",
      "registration_date                     datetime64[ns]\n",
      "party_affiliation                     object\n",
      "precinct                              object\n",
      "precinct_group                        float64\n",
      "precinct_split                        object\n",
      "precinct_suffix                       object\n",
      "voter_status                          object\n",
      "congressional_district                float64\n",
      "house_district                        float64\n",
      "senate_district                       float64\n",
      "county_commission_district            float64\n",
      "school_board_district                 float64\n",
      "daytime_area_code                     object\n",
      "daytime_phone_number                  object\n",
      "daytime_phone_extension               object\n",
      "email_address                         object\n",
      "dtypes: datetime64[ns](2), float64(6), int64(2), object(28)\n",
      "memory usage: 3.9+ GB\n"
     ]
    }
   ],
   "source": [
    "detail.info()"
   ]
  },
  {
   "cell_type": "markdown",
   "metadata": {},
   "source": [
    "## 1.2 voter history"
   ]
  },
  {
   "cell_type": "code",
   "execution_count": 6,
   "metadata": {},
   "outputs": [],
   "source": [
    "# load files and combine into single dataframe\n",
    "path = r'/Users/jleland/Desktop/voter/FL_voter/20170207_VoterHistory'\n",
    "all_files = glob.glob(path + \"/*.txt\")\n",
    "\n",
    "li = []\n",
    "\n",
    "for filename in all_files:\n",
    "    df = pd.read_csv(filename, \n",
    "                     sep='\\t', \n",
    "                     header=None,\n",
    "                     names=['county_code', 'voter_id', 'election_date', 'election_type', 'history_code'])\n",
    "    li.append(df)\n",
    "\n",
    "hist = pd.concat(li, axis=0, ignore_index=True)"
   ]
  },
  {
   "cell_type": "code",
   "execution_count": 7,
   "metadata": {},
   "outputs": [],
   "source": [
    "# convert date field from object dtype to datetime\n",
    "date_cache = {k: pd.to_datetime(k) for k in hist['election_date'].unique()}\n",
    "hist['election_date'] = hist['election_date'].map(date_cache)"
   ]
  },
  {
   "cell_type": "code",
   "execution_count": 8,
   "metadata": {},
   "outputs": [
    {
     "data": {
      "text/html": [
       "<div>\n",
       "<style scoped>\n",
       "    .dataframe tbody tr th:only-of-type {\n",
       "        vertical-align: middle;\n",
       "    }\n",
       "\n",
       "    .dataframe tbody tr th {\n",
       "        vertical-align: top;\n",
       "    }\n",
       "\n",
       "    .dataframe thead th {\n",
       "        text-align: right;\n",
       "    }\n",
       "</style>\n",
       "<table border=\"1\" class=\"dataframe\">\n",
       "  <thead>\n",
       "    <tr style=\"text-align: right;\">\n",
       "      <th></th>\n",
       "      <th>county_code</th>\n",
       "      <th>voter_id</th>\n",
       "      <th>election_date</th>\n",
       "      <th>election_type</th>\n",
       "      <th>history_code</th>\n",
       "    </tr>\n",
       "  </thead>\n",
       "  <tbody>\n",
       "    <tr>\n",
       "      <th>0</th>\n",
       "      <td>PIN</td>\n",
       "      <td>100021934</td>\n",
       "      <td>2016-11-08</td>\n",
       "      <td>GEN</td>\n",
       "      <td>Y</td>\n",
       "    </tr>\n",
       "    <tr>\n",
       "      <th>1</th>\n",
       "      <td>PIN</td>\n",
       "      <td>100021442</td>\n",
       "      <td>2007-03-13</td>\n",
       "      <td>OTH</td>\n",
       "      <td>Y</td>\n",
       "    </tr>\n",
       "    <tr>\n",
       "      <th>2</th>\n",
       "      <td>PIN</td>\n",
       "      <td>100047465</td>\n",
       "      <td>2014-03-11</td>\n",
       "      <td>GEN</td>\n",
       "      <td>Y</td>\n",
       "    </tr>\n",
       "    <tr>\n",
       "      <th>3</th>\n",
       "      <td>PIN</td>\n",
       "      <td>100046570</td>\n",
       "      <td>2008-11-04</td>\n",
       "      <td>GEN</td>\n",
       "      <td>A</td>\n",
       "    </tr>\n",
       "    <tr>\n",
       "      <th>4</th>\n",
       "      <td>PIN</td>\n",
       "      <td>100052464</td>\n",
       "      <td>2014-11-04</td>\n",
       "      <td>GEN</td>\n",
       "      <td>Y</td>\n",
       "    </tr>\n",
       "  </tbody>\n",
       "</table>\n",
       "</div>"
      ],
      "text/plain": [
       "  county_code   voter_id election_date election_type history_code\n",
       "0         PIN  100021934    2016-11-08           GEN            Y\n",
       "1         PIN  100021442    2007-03-13           OTH            Y\n",
       "2         PIN  100047465    2014-03-11           GEN            Y\n",
       "3         PIN  100046570    2008-11-04           GEN            A\n",
       "4         PIN  100052464    2014-11-04           GEN            Y"
      ]
     },
     "execution_count": 8,
     "metadata": {},
     "output_type": "execute_result"
    }
   ],
   "source": [
    "hist.head()"
   ]
  },
  {
   "cell_type": "code",
   "execution_count": 9,
   "metadata": {},
   "outputs": [
    {
     "name": "stdout",
     "output_type": "stream",
     "text": [
      "<class 'pandas.core.frame.DataFrame'>\n",
      "RangeIndex: 72770189 entries, 0 to 72770188\n",
      "Data columns (total 5 columns):\n",
      "county_code      object\n",
      "voter_id         int64\n",
      "election_date    datetime64[ns]\n",
      "election_type    object\n",
      "history_code     object\n",
      "dtypes: datetime64[ns](1), int64(1), object(3)\n",
      "memory usage: 2.7+ GB\n"
     ]
    }
   ],
   "source": [
    "hist.info()"
   ]
  },
  {
   "cell_type": "markdown",
   "metadata": {},
   "source": [
    "# 2.0 Check for fake birthdays"
   ]
  },
  {
   "cell_type": "markdown",
   "metadata": {},
   "source": [
    "Look for fake birthdays by identifying a month/day with a high # of occurrences (e.g. many voters reported their birthday on 1/1)"
   ]
  },
  {
   "cell_type": "code",
   "execution_count": 10,
   "metadata": {},
   "outputs": [
    {
     "name": "stderr",
     "output_type": "stream",
     "text": [
      "/opt/anaconda3/lib/python3.7/site-packages/pandas/core/indexing.py:362: SettingWithCopyWarning: \n",
      "A value is trying to be set on a copy of a slice from a DataFrame.\n",
      "Try using .loc[row_indexer,col_indexer] = value instead\n",
      "\n",
      "See the caveats in the documentation: http://pandas.pydata.org/pandas-docs/stable/indexing.html#indexing-view-versus-copy\n",
      "  self.obj[key] = _infer_fill_value(value)\n",
      "/opt/anaconda3/lib/python3.7/site-packages/pandas/core/indexing.py:543: SettingWithCopyWarning: \n",
      "A value is trying to be set on a copy of a slice from a DataFrame.\n",
      "Try using .loc[row_indexer,col_indexer] = value instead\n",
      "\n",
      "See the caveats in the documentation: http://pandas.pydata.org/pandas-docs/stable/indexing.html#indexing-view-versus-copy\n",
      "  self.obj[item] = s\n"
     ]
    }
   ],
   "source": [
    "# count the number of birthday occurences on each day of the year\n",
    "bd = detail[['voter_id','birth_date']]\n",
    "bd.loc[:,'day'] = detail.birth_date.dt.day\n",
    "bd.loc[:,'month'] = detail.birth_date.dt.month\n",
    "bd_count = pd.DataFrame(bd.groupby(['month','day']).voter_id.count().sort_values(ascending=False).rename('count')).reset_index()\n",
    "\n",
    "df_p = pd.pivot_table(bd_count,'count','month','day')"
   ]
  },
  {
   "cell_type": "code",
   "execution_count": 11,
   "metadata": {},
   "outputs": [
    {
     "data": {
      "text/html": [
       "<div>\n",
       "<style scoped>\n",
       "    .dataframe tbody tr th:only-of-type {\n",
       "        vertical-align: middle;\n",
       "    }\n",
       "\n",
       "    .dataframe tbody tr th {\n",
       "        vertical-align: top;\n",
       "    }\n",
       "\n",
       "    .dataframe thead th {\n",
       "        text-align: right;\n",
       "    }\n",
       "</style>\n",
       "<table border=\"1\" class=\"dataframe\">\n",
       "  <thead>\n",
       "    <tr style=\"text-align: right;\">\n",
       "      <th>day</th>\n",
       "      <th>1.0</th>\n",
       "      <th>2.0</th>\n",
       "      <th>3.0</th>\n",
       "      <th>4.0</th>\n",
       "      <th>5.0</th>\n",
       "      <th>6.0</th>\n",
       "      <th>7.0</th>\n",
       "      <th>8.0</th>\n",
       "      <th>9.0</th>\n",
       "      <th>10.0</th>\n",
       "      <th>...</th>\n",
       "      <th>22.0</th>\n",
       "      <th>23.0</th>\n",
       "      <th>24.0</th>\n",
       "      <th>25.0</th>\n",
       "      <th>26.0</th>\n",
       "      <th>27.0</th>\n",
       "      <th>28.0</th>\n",
       "      <th>29.0</th>\n",
       "      <th>30.0</th>\n",
       "      <th>31.0</th>\n",
       "    </tr>\n",
       "    <tr>\n",
       "      <th>month</th>\n",
       "      <th></th>\n",
       "      <th></th>\n",
       "      <th></th>\n",
       "      <th></th>\n",
       "      <th></th>\n",
       "      <th></th>\n",
       "      <th></th>\n",
       "      <th></th>\n",
       "      <th></th>\n",
       "      <th></th>\n",
       "      <th></th>\n",
       "      <th></th>\n",
       "      <th></th>\n",
       "      <th></th>\n",
       "      <th></th>\n",
       "      <th></th>\n",
       "      <th></th>\n",
       "      <th></th>\n",
       "      <th></th>\n",
       "      <th></th>\n",
       "      <th></th>\n",
       "    </tr>\n",
       "  </thead>\n",
       "  <tbody>\n",
       "    <tr>\n",
       "      <th>1.0</th>\n",
       "      <td>39229.0</td>\n",
       "      <td>35041.0</td>\n",
       "      <td>36307.0</td>\n",
       "      <td>36768.0</td>\n",
       "      <td>36710.0</td>\n",
       "      <td>37133.0</td>\n",
       "      <td>36564.0</td>\n",
       "      <td>36241.0</td>\n",
       "      <td>35919.0</td>\n",
       "      <td>37303.0</td>\n",
       "      <td>...</td>\n",
       "      <td>36554.0</td>\n",
       "      <td>36424.0</td>\n",
       "      <td>36529.0</td>\n",
       "      <td>36845.0</td>\n",
       "      <td>36678.0</td>\n",
       "      <td>36354.0</td>\n",
       "      <td>36805.0</td>\n",
       "      <td>36147.0</td>\n",
       "      <td>36244.0</td>\n",
       "      <td>35645.0</td>\n",
       "    </tr>\n",
       "    <tr>\n",
       "      <th>2.0</th>\n",
       "      <td>37163.0</td>\n",
       "      <td>38034.0</td>\n",
       "      <td>36823.0</td>\n",
       "      <td>36502.0</td>\n",
       "      <td>36955.0</td>\n",
       "      <td>36178.0</td>\n",
       "      <td>36935.0</td>\n",
       "      <td>36771.0</td>\n",
       "      <td>36644.0</td>\n",
       "      <td>37816.0</td>\n",
       "      <td>...</td>\n",
       "      <td>37529.0</td>\n",
       "      <td>36434.0</td>\n",
       "      <td>36807.0</td>\n",
       "      <td>36506.0</td>\n",
       "      <td>36476.0</td>\n",
       "      <td>36514.0</td>\n",
       "      <td>37554.0</td>\n",
       "      <td>8540.0</td>\n",
       "      <td>NaN</td>\n",
       "      <td>NaN</td>\n",
       "    </tr>\n",
       "    <tr>\n",
       "      <th>3.0</th>\n",
       "      <td>37407.0</td>\n",
       "      <td>37158.0</td>\n",
       "      <td>38005.0</td>\n",
       "      <td>36913.0</td>\n",
       "      <td>37110.0</td>\n",
       "      <td>36800.0</td>\n",
       "      <td>36620.0</td>\n",
       "      <td>36908.0</td>\n",
       "      <td>36185.0</td>\n",
       "      <td>36953.0</td>\n",
       "      <td>...</td>\n",
       "      <td>35856.0</td>\n",
       "      <td>35917.0</td>\n",
       "      <td>36074.0</td>\n",
       "      <td>36466.0</td>\n",
       "      <td>35705.0</td>\n",
       "      <td>35944.0</td>\n",
       "      <td>35826.0</td>\n",
       "      <td>35149.0</td>\n",
       "      <td>35410.0</td>\n",
       "      <td>35109.0</td>\n",
       "    </tr>\n",
       "    <tr>\n",
       "      <th>4.0</th>\n",
       "      <td>36061.0</td>\n",
       "      <td>35883.0</td>\n",
       "      <td>35365.0</td>\n",
       "      <td>36521.0</td>\n",
       "      <td>35716.0</td>\n",
       "      <td>35560.0</td>\n",
       "      <td>35825.0</td>\n",
       "      <td>35523.0</td>\n",
       "      <td>35213.0</td>\n",
       "      <td>36099.0</td>\n",
       "      <td>...</td>\n",
       "      <td>35136.0</td>\n",
       "      <td>35116.0</td>\n",
       "      <td>34917.0</td>\n",
       "      <td>35474.0</td>\n",
       "      <td>34632.0</td>\n",
       "      <td>34743.0</td>\n",
       "      <td>35784.0</td>\n",
       "      <td>35031.0</td>\n",
       "      <td>34722.0</td>\n",
       "      <td>NaN</td>\n",
       "    </tr>\n",
       "    <tr>\n",
       "      <th>5.0</th>\n",
       "      <td>36482.0</td>\n",
       "      <td>35337.0</td>\n",
       "      <td>35033.0</td>\n",
       "      <td>34931.0</td>\n",
       "      <td>36820.0</td>\n",
       "      <td>35349.0</td>\n",
       "      <td>35389.0</td>\n",
       "      <td>35463.0</td>\n",
       "      <td>34890.0</td>\n",
       "      <td>36120.0</td>\n",
       "      <td>...</td>\n",
       "      <td>35558.0</td>\n",
       "      <td>35347.0</td>\n",
       "      <td>35159.0</td>\n",
       "      <td>35865.0</td>\n",
       "      <td>35171.0</td>\n",
       "      <td>35170.0</td>\n",
       "      <td>35555.0</td>\n",
       "      <td>35306.0</td>\n",
       "      <td>34291.0</td>\n",
       "      <td>34107.0</td>\n",
       "    </tr>\n",
       "  </tbody>\n",
       "</table>\n",
       "<p>5 rows × 31 columns</p>\n",
       "</div>"
      ],
      "text/plain": [
       "day       1.0      2.0      3.0      4.0      5.0      6.0      7.0      8.0   \\\n",
       "month                                                                           \n",
       "1.0    39229.0  35041.0  36307.0  36768.0  36710.0  37133.0  36564.0  36241.0   \n",
       "2.0    37163.0  38034.0  36823.0  36502.0  36955.0  36178.0  36935.0  36771.0   \n",
       "3.0    37407.0  37158.0  38005.0  36913.0  37110.0  36800.0  36620.0  36908.0   \n",
       "4.0    36061.0  35883.0  35365.0  36521.0  35716.0  35560.0  35825.0  35523.0   \n",
       "5.0    36482.0  35337.0  35033.0  34931.0  36820.0  35349.0  35389.0  35463.0   \n",
       "\n",
       "day       9.0      10.0   ...        22.0     23.0     24.0     25.0     26.0  \\\n",
       "month                     ...                                                   \n",
       "1.0    35919.0  37303.0   ...     36554.0  36424.0  36529.0  36845.0  36678.0   \n",
       "2.0    36644.0  37816.0   ...     37529.0  36434.0  36807.0  36506.0  36476.0   \n",
       "3.0    36185.0  36953.0   ...     35856.0  35917.0  36074.0  36466.0  35705.0   \n",
       "4.0    35213.0  36099.0   ...     35136.0  35116.0  34917.0  35474.0  34632.0   \n",
       "5.0    34890.0  36120.0   ...     35558.0  35347.0  35159.0  35865.0  35171.0   \n",
       "\n",
       "day       27.0     28.0     29.0     30.0     31.0  \n",
       "month                                               \n",
       "1.0    36354.0  36805.0  36147.0  36244.0  35645.0  \n",
       "2.0    36514.0  37554.0   8540.0      NaN      NaN  \n",
       "3.0    35944.0  35826.0  35149.0  35410.0  35109.0  \n",
       "4.0    34743.0  35784.0  35031.0  34722.0      NaN  \n",
       "5.0    35170.0  35555.0  35306.0  34291.0  34107.0  \n",
       "\n",
       "[5 rows x 31 columns]"
      ]
     },
     "execution_count": 11,
     "metadata": {},
     "output_type": "execute_result"
    }
   ],
   "source": [
    "df_p.head()"
   ]
  },
  {
   "cell_type": "code",
   "execution_count": 12,
   "metadata": {},
   "outputs": [
    {
     "data": {
      "text/plain": [
       "<matplotlib.axes._subplots.AxesSubplot at 0x1a28bd2310>"
      ]
     },
     "execution_count": 12,
     "metadata": {},
     "output_type": "execute_result"
    },
    {
     "data": {
      "image/png": "[encoded data removed]",
      "text/plain": [
       "<Figure size 1152x504 with 2 Axes>"
      ]
     },
     "metadata": {
      "needs_background": "light"
     },
     "output_type": "display_data"
    }
   ],
   "source": [
    "plt.figure(figsize=(16, 7))\n",
    "sns.heatmap(df_p, cmap=\"RdBu_r\", center=bd_count['count'].mean())"
   ]
  },
  {
   "cell_type": "markdown",
   "metadata": {},
   "source": [
    "The only date that stands out as an outlier is February 29th, which is expected b/c it only occurrs on a leap year"
   ]
  },
  {
   "cell_type": "markdown",
   "metadata": {},
   "source": [
    "# 3.0 Prepare Dataset for Analysis"
   ]
  },
  {
   "cell_type": "markdown",
   "metadata": {},
   "source": [
    "## 3.1 Limit dataset to Primary and General Elections with 100k votes"
   ]
  },
  {
   "cell_type": "code",
   "execution_count": 13,
   "metadata": {},
   "outputs": [],
   "source": [
    "# remove rows from voter history where history_code='N' b/c these are people who did not vote\n",
    "hist = hist[hist.history_code !='N']\n",
    "\n",
    "# limit voter history dataset to Primary and General elections with at least 100k votes, so that after the cartesian join below the size of the dataframe is manageable\n",
    "elections = pd.DataFrame(hist.groupby(['election_date','election_type']).county_code.count()).reset_index()\n",
    "elections = elections[(elections.county_code > 1000000) & (elections.election_type.isin(['GEN','PRI']))][['election_date', 'election_type']]\n",
    "hist = hist.merge(elections, how='inner', left_on=['election_date','election_type'], right_on=['election_date','election_type'])\n",
    "\n",
    "# remove dupes from voter history\n",
    "hist.drop_duplicates(subset=['voter_id', 'election_date','election_type'], inplace=True)"
   ]
  },
  {
   "cell_type": "markdown",
   "metadata": {},
   "source": [
    "## 3.2 Cartesian product registration detail and election_date-election_type"
   ]
  },
  {
   "cell_type": "code",
   "execution_count": 16,
   "metadata": {},
   "outputs": [],
   "source": [
    "# get cartesian product of elections with voter registration detail, so primary key = voter_id-election_date-election_type\n",
    "elections['key'] = 1\n",
    "detail['key'] = 1\n",
    "\n",
    "df = detail[['voter_id', 'birth_date', 'registration_date', 'key']].merge(elections, left_on='key', right_on='key')\n",
    "df.drop('key', inplace=True, axis=1)"
   ]
  },
  {
   "cell_type": "code",
   "execution_count": 17,
   "metadata": {},
   "outputs": [],
   "source": [
    "# remove rows where registration_date > election_date b/c these voters were not eligible to vote (<18 years old or not registered)\n",
    "df = df[df.registration_date <= df.election_date]"
   ]
  },
  {
   "cell_type": "markdown",
   "metadata": {},
   "source": [
    "## 3.3 Left join on voter history"
   ]
  },
  {
   "cell_type": "code",
   "execution_count": 18,
   "metadata": {},
   "outputs": [],
   "source": [
    "# left join on hist to determine if the voter_id voted in that election_date-election_type\n",
    "hist['voted'] = 1\n",
    "df = df.merge(hist[['voter_id','election_date','election_type','voted']], how='left', left_on=['voter_id','election_date','election_type'], right_on=['voter_id','election_date','election_type'])"
   ]
  },
  {
   "cell_type": "code",
   "execution_count": 19,
   "metadata": {},
   "outputs": [],
   "source": [
    "# create column for voted 0 = no\n",
    "df['voted'] = df.voted.fillna(value=0)"
   ]
  },
  {
   "cell_type": "code",
   "execution_count": 20,
   "metadata": {},
   "outputs": [],
   "source": [
    "# drop null birthdays\n",
    "df.dropna(subset=['birth_date'], inplace=True)"
   ]
  },
  {
   "cell_type": "code",
   "execution_count": 21,
   "metadata": {},
   "outputs": [
    {
     "data": {
      "text/plain": [
       "(122259442, 6)"
      ]
     },
     "execution_count": 21,
     "metadata": {},
     "output_type": "execute_result"
    }
   ],
   "source": [
    "df.shape"
   ]
  },
  {
   "cell_type": "markdown",
   "metadata": {},
   "source": [
    "## 3.4 Calc days between birth_date and election_date"
   ]
  },
  {
   "cell_type": "code",
   "execution_count": 22,
   "metadata": {},
   "outputs": [],
   "source": [
    "# calculate the difference in number of days between birth_date and election_date\n",
    "df['bd_day_of_month'] = df.birth_date.dt.day.astype(str)\n",
    "df['bd_month_of_year'] = df.birth_date.dt.month.astype(str)\n",
    "df['election_year'] = df.election_date.dt.year.astype(str)\n",
    "df['birthday_election_year'] = pd.to_datetime(df['election_year'] + '-' + df['bd_month_of_year'] + '-' + df['bd_day_of_month'], errors='coerce')\n",
    "\n",
    "df['days'] = (df['birthday_election_year'] - df['election_date']).dt.days"
   ]
  },
  {
   "cell_type": "code",
   "execution_count": 23,
   "metadata": {},
   "outputs": [
    {
     "data": {
      "text/html": [
       "<div>\n",
       "<style scoped>\n",
       "    .dataframe tbody tr th:only-of-type {\n",
       "        vertical-align: middle;\n",
       "    }\n",
       "\n",
       "    .dataframe tbody tr th {\n",
       "        vertical-align: top;\n",
       "    }\n",
       "\n",
       "    .dataframe thead th {\n",
       "        text-align: right;\n",
       "    }\n",
       "</style>\n",
       "<table border=\"1\" class=\"dataframe\">\n",
       "  <thead>\n",
       "    <tr style=\"text-align: right;\">\n",
       "      <th></th>\n",
       "      <th>voter_id</th>\n",
       "      <th>birth_date</th>\n",
       "      <th>registration_date</th>\n",
       "      <th>election_date</th>\n",
       "      <th>election_type</th>\n",
       "      <th>voted</th>\n",
       "      <th>bd_day_of_month</th>\n",
       "      <th>bd_month_of_year</th>\n",
       "      <th>election_year</th>\n",
       "      <th>birthday_election_year</th>\n",
       "      <th>days</th>\n",
       "    </tr>\n",
       "  </thead>\n",
       "  <tbody>\n",
       "    <tr>\n",
       "      <th>178</th>\n",
       "      <td>102543125</td>\n",
       "      <td>1925-11-07</td>\n",
       "      <td>1977-11-14</td>\n",
       "      <td>2006-11-07</td>\n",
       "      <td>GEN</td>\n",
       "      <td>1.0</td>\n",
       "      <td>7</td>\n",
       "      <td>11</td>\n",
       "      <td>2006</td>\n",
       "      <td>2006-11-07</td>\n",
       "      <td>0.0</td>\n",
       "    </tr>\n",
       "    <tr>\n",
       "      <th>675</th>\n",
       "      <td>102586405</td>\n",
       "      <td>1930-08-14</td>\n",
       "      <td>1995-02-21</td>\n",
       "      <td>2012-08-14</td>\n",
       "      <td>PRI</td>\n",
       "      <td>0.0</td>\n",
       "      <td>14</td>\n",
       "      <td>8</td>\n",
       "      <td>2012</td>\n",
       "      <td>2012-08-14</td>\n",
       "      <td>0.0</td>\n",
       "    </tr>\n",
       "    <tr>\n",
       "      <th>1462</th>\n",
       "      <td>102655195</td>\n",
       "      <td>1936-11-08</td>\n",
       "      <td>2003-11-20</td>\n",
       "      <td>2016-11-08</td>\n",
       "      <td>GEN</td>\n",
       "      <td>1.0</td>\n",
       "      <td>8</td>\n",
       "      <td>11</td>\n",
       "      <td>2016</td>\n",
       "      <td>2016-11-08</td>\n",
       "      <td>0.0</td>\n",
       "    </tr>\n",
       "    <tr>\n",
       "      <th>1614</th>\n",
       "      <td>102578136</td>\n",
       "      <td>1937-11-04</td>\n",
       "      <td>1992-12-02</td>\n",
       "      <td>2008-11-04</td>\n",
       "      <td>GEN</td>\n",
       "      <td>1.0</td>\n",
       "      <td>4</td>\n",
       "      <td>11</td>\n",
       "      <td>2008</td>\n",
       "      <td>2008-11-04</td>\n",
       "      <td>0.0</td>\n",
       "    </tr>\n",
       "    <tr>\n",
       "      <th>1620</th>\n",
       "      <td>102578136</td>\n",
       "      <td>1937-11-04</td>\n",
       "      <td>1992-12-02</td>\n",
       "      <td>2014-11-04</td>\n",
       "      <td>GEN</td>\n",
       "      <td>1.0</td>\n",
       "      <td>4</td>\n",
       "      <td>11</td>\n",
       "      <td>2014</td>\n",
       "      <td>2014-11-04</td>\n",
       "      <td>0.0</td>\n",
       "    </tr>\n",
       "  </tbody>\n",
       "</table>\n",
       "</div>"
      ],
      "text/plain": [
       "       voter_id birth_date registration_date election_date election_type  \\\n",
       "178   102543125 1925-11-07        1977-11-14    2006-11-07           GEN   \n",
       "675   102586405 1930-08-14        1995-02-21    2012-08-14           PRI   \n",
       "1462  102655195 1936-11-08        2003-11-20    2016-11-08           GEN   \n",
       "1614  102578136 1937-11-04        1992-12-02    2008-11-04           GEN   \n",
       "1620  102578136 1937-11-04        1992-12-02    2014-11-04           GEN   \n",
       "\n",
       "      voted bd_day_of_month bd_month_of_year election_year  \\\n",
       "178     1.0               7               11          2006   \n",
       "675     0.0              14                8          2012   \n",
       "1462    1.0               8               11          2016   \n",
       "1614    1.0               4               11          2008   \n",
       "1620    1.0               4               11          2014   \n",
       "\n",
       "     birthday_election_year  days  \n",
       "178              2006-11-07   0.0  \n",
       "675              2012-08-14   0.0  \n",
       "1462             2016-11-08   0.0  \n",
       "1614             2008-11-04   0.0  \n",
       "1620             2014-11-04   0.0  "
      ]
     },
     "execution_count": 23,
     "metadata": {},
     "output_type": "execute_result"
    }
   ],
   "source": [
    "# check that where days==0, month/day of birth_date matches month/day of election_date\n",
    "df[df.days==0].head()"
   ]
  },
  {
   "cell_type": "markdown",
   "metadata": {},
   "source": [
    "# 4.0 Analysis"
   ]
  },
  {
   "cell_type": "code",
   "execution_count": 130,
   "metadata": {},
   "outputs": [
    {
     "data": {
      "text/html": [
       "<div>\n",
       "<style scoped>\n",
       "    .dataframe tbody tr th:only-of-type {\n",
       "        vertical-align: middle;\n",
       "    }\n",
       "\n",
       "    .dataframe tbody tr th {\n",
       "        vertical-align: top;\n",
       "    }\n",
       "\n",
       "    .dataframe thead th {\n",
       "        text-align: right;\n",
       "    }\n",
       "</style>\n",
       "<table border=\"1\" class=\"dataframe\">\n",
       "  <thead>\n",
       "    <tr style=\"text-align: right;\">\n",
       "      <th></th>\n",
       "      <th>election_date</th>\n",
       "      <th>election_type</th>\n",
       "      <th>days</th>\n",
       "      <th>n_total</th>\n",
       "      <th>n_voters</th>\n",
       "      <th>n_nonvoters</th>\n",
       "      <th>voted</th>\n",
       "    </tr>\n",
       "  </thead>\n",
       "  <tbody>\n",
       "    <tr>\n",
       "      <th>1</th>\n",
       "      <td>2006-09-05</td>\n",
       "      <td>PRI</td>\n",
       "      <td>-50.0</td>\n",
       "      <td>20363</td>\n",
       "      <td>4306.0</td>\n",
       "      <td>16057.0</td>\n",
       "      <td>0.223353</td>\n",
       "    </tr>\n",
       "    <tr>\n",
       "      <th>2</th>\n",
       "      <td>2006-09-05</td>\n",
       "      <td>PRI</td>\n",
       "      <td>-49.0</td>\n",
       "      <td>20546</td>\n",
       "      <td>4301.0</td>\n",
       "      <td>16245.0</td>\n",
       "      <td>-0.212681</td>\n",
       "    </tr>\n",
       "    <tr>\n",
       "      <th>3</th>\n",
       "      <td>2006-09-05</td>\n",
       "      <td>PRI</td>\n",
       "      <td>-48.0</td>\n",
       "      <td>20264</td>\n",
       "      <td>4221.0</td>\n",
       "      <td>16043.0</td>\n",
       "      <td>-0.103472</td>\n",
       "    </tr>\n",
       "    <tr>\n",
       "      <th>4</th>\n",
       "      <td>2006-09-05</td>\n",
       "      <td>PRI</td>\n",
       "      <td>-47.0</td>\n",
       "      <td>20669</td>\n",
       "      <td>4304.0</td>\n",
       "      <td>16365.0</td>\n",
       "      <td>-0.006588</td>\n",
       "    </tr>\n",
       "    <tr>\n",
       "      <th>5</th>\n",
       "      <td>2006-09-05</td>\n",
       "      <td>PRI</td>\n",
       "      <td>-46.0</td>\n",
       "      <td>20588</td>\n",
       "      <td>4327.0</td>\n",
       "      <td>16261.0</td>\n",
       "      <td>0.193642</td>\n",
       "    </tr>\n",
       "  </tbody>\n",
       "</table>\n",
       "</div>"
      ],
      "text/plain": [
       "  election_date election_type  days  n_total  n_voters  n_nonvoters     voted\n",
       "1    2006-09-05           PRI -50.0    20363    4306.0      16057.0  0.223353\n",
       "2    2006-09-05           PRI -49.0    20546    4301.0      16245.0 -0.212681\n",
       "3    2006-09-05           PRI -48.0    20264    4221.0      16043.0 -0.103472\n",
       "4    2006-09-05           PRI -47.0    20669    4304.0      16365.0 -0.006588\n",
       "5    2006-09-05           PRI -46.0    20588    4327.0      16261.0  0.193642"
      ]
     },
     "execution_count": 130,
     "metadata": {},
     "output_type": "execute_result"
    }
   ],
   "source": [
    "# group by election_date-election_type-days_from_bday and calc voter turnout\n",
    "turnout_groupby_days_from_bday = df.groupby(['election_date','election_type','days']).voted.agg(['mean','count','sum']).reset_index().rename(columns={'mean': 'voted', 'count': 'n_total', 'sum': 'n_voters'})\n",
    "turnout_groupby_days_from_bday['n_nonvoters'] = turnout_groupby_days_from_bday.n_total - turnout_groupby_days_from_bday.n_voters\n",
    "turnout_groupby_days_from_bday['voted'] = turnout_groupby_days_from_bday['voted']*100\n",
    "\n",
    "# look at 50 days before and after birthday\n",
    "turnout_groupby_days_from_bday = turnout_groupby_days_from_bday[turnout_groupby_days_from_bday.days.abs()<52]\n",
    "\n",
    "# calculate the change in voter turnout from the previous day\n",
    "turnout_change_from_prev_day = (turnout_groupby_days_from_bday.set_index(['election_date', 'election_type','days','n_total','n_voters','n_nonvoters']).diff()).reset_index()\n",
    "turnout_change_from_prev_day = turnout_change_from_prev_day[turnout_change_from_prev_day.days.abs()<51]\n",
    "turnout_change_from_prev_day.head()"
   ]
  },
  {
   "cell_type": "markdown",
   "metadata": {},
   "source": [
    "## 4.1 Change in voter turnout from Prev Day - GEN & PRI"
   ]
  },
  {
   "cell_type": "code",
   "execution_count": 131,
   "metadata": {},
   "outputs": [
    {
     "data": {
      "text/plain": [
       "<matplotlib.axes._subplots.AxesSubplot at 0x1be105ac50>"
      ]
     },
     "execution_count": 131,
     "metadata": {},
     "output_type": "execute_result"
    },
    {
     "data": {
      "image/png": "[encoded data removed]",
      "text/plain": [
       "<Figure size 432x288 with 1 Axes>"
      ]
     },
     "metadata": {
      "needs_background": "light"
     },
     "output_type": "display_data"
    }
   ],
   "source": [
    "sns.lineplot(x='days', y='voted', hue='election_type',data=turnout_change_from_prev_day)"
   ]
  },
  {
   "cell_type": "code",
   "execution_count": 132,
   "metadata": {},
   "outputs": [
    {
     "data": {
      "text/plain": [
       "<matplotlib.axes._subplots.AxesSubplot at 0x1bdee572d0>"
      ]
     },
     "execution_count": 132,
     "metadata": {},
     "output_type": "execute_result"
    },
    {
     "data": {
      "image/png": "[encoded data removed]",
      "text/plain": [
       "<Figure size 432x288 with 1 Axes>"
      ]
     },
     "metadata": {
      "needs_background": "light"
     },
     "output_type": "display_data"
    }
   ],
   "source": [
    "avg_change_from_prev_day = pd.DataFrame(turnout_change_from_prev_day.groupby('days').voted.mean())\n",
    "sns.lineplot(x=avg_change_from_prev_day.index, y=avg_change_from_prev_day.voted)"
   ]
  },
  {
   "cell_type": "markdown",
   "metadata": {},
   "source": [
    "### +/- 50 days avg absolute change from previous day"
   ]
  },
  {
   "cell_type": "code",
   "execution_count": 133,
   "metadata": {},
   "outputs": [
    {
     "data": {
      "text/html": [
       "<div>\n",
       "<style scoped>\n",
       "    .dataframe tbody tr th:only-of-type {\n",
       "        vertical-align: middle;\n",
       "    }\n",
       "\n",
       "    .dataframe tbody tr th {\n",
       "        vertical-align: top;\n",
       "    }\n",
       "\n",
       "    .dataframe thead th {\n",
       "        text-align: right;\n",
       "    }\n",
       "</style>\n",
       "<table border=\"1\" class=\"dataframe\">\n",
       "  <thead>\n",
       "    <tr style=\"text-align: right;\">\n",
       "      <th></th>\n",
       "      <th>voted_abs</th>\n",
       "      <th>n_total</th>\n",
       "      <th>n_voters</th>\n",
       "      <th>n_nonvoters</th>\n",
       "    </tr>\n",
       "    <tr>\n",
       "      <th>days_grouped_50</th>\n",
       "      <th></th>\n",
       "      <th></th>\n",
       "      <th></th>\n",
       "      <th></th>\n",
       "    </tr>\n",
       "  </thead>\n",
       "  <tbody>\n",
       "    <tr>\n",
       "      <th>+50</th>\n",
       "      <td>0.303376</td>\n",
       "      <td>17355640</td>\n",
       "      <td>7098884.0</td>\n",
       "      <td>10256756.0</td>\n",
       "    </tr>\n",
       "    <tr>\n",
       "      <th>-50</th>\n",
       "      <td>0.292118</td>\n",
       "      <td>17509450</td>\n",
       "      <td>7351927.0</td>\n",
       "      <td>10157523.0</td>\n",
       "    </tr>\n",
       "    <tr>\n",
       "      <th>0</th>\n",
       "      <td>0.758129</td>\n",
       "      <td>344740</td>\n",
       "      <td>144093.0</td>\n",
       "      <td>200647.0</td>\n",
       "    </tr>\n",
       "  </tbody>\n",
       "</table>\n",
       "</div>"
      ],
      "text/plain": [
       "                 voted_abs   n_total   n_voters  n_nonvoters\n",
       "days_grouped_50                                             \n",
       "+50               0.303376  17355640  7098884.0   10256756.0\n",
       "-50               0.292118  17509450  7351927.0   10157523.0\n",
       "0                 0.758129    344740   144093.0     200647.0"
      ]
     },
     "execution_count": 133,
     "metadata": {},
     "output_type": "execute_result"
    }
   ],
   "source": [
    "turnout_change_from_prev_day['days_grouped_50'] = np.where(turnout_change_from_prev_day.days<0, '-50', np.where(turnout_change_from_prev_day.days>0, '+50', '0'))\n",
    "turnout_change_from_prev_day['voted_abs'] = turnout_change_from_prev_day.voted.abs()\n",
    "turnout_change_from_prev_day.groupby('days_grouped_50').agg({'voted_abs': 'mean', 'n_total': 'sum', 'n_voters': 'sum', 'n_nonvoters': 'sum'})"
   ]
  },
  {
   "cell_type": "markdown",
   "metadata": {},
   "source": [
    "### +/- 30 days avg absolute change from previous day"
   ]
  },
  {
   "cell_type": "code",
   "execution_count": 134,
   "metadata": {},
   "outputs": [
    {
     "name": "stderr",
     "output_type": "stream",
     "text": [
      "/opt/anaconda3/lib/python3.7/site-packages/ipykernel_launcher.py:2: SettingWithCopyWarning: \n",
      "A value is trying to be set on a copy of a slice from a DataFrame.\n",
      "Try using .loc[row_indexer,col_indexer] = value instead\n",
      "\n",
      "See the caveats in the documentation: http://pandas.pydata.org/pandas-docs/stable/indexing.html#indexing-view-versus-copy\n",
      "  \n"
     ]
    },
    {
     "data": {
      "text/html": [
       "<div>\n",
       "<style scoped>\n",
       "    .dataframe tbody tr th:only-of-type {\n",
       "        vertical-align: middle;\n",
       "    }\n",
       "\n",
       "    .dataframe tbody tr th {\n",
       "        vertical-align: top;\n",
       "    }\n",
       "\n",
       "    .dataframe thead th {\n",
       "        text-align: right;\n",
       "    }\n",
       "</style>\n",
       "<table border=\"1\" class=\"dataframe\">\n",
       "  <thead>\n",
       "    <tr style=\"text-align: right;\">\n",
       "      <th></th>\n",
       "      <th>voted_abs</th>\n",
       "      <th>n_total</th>\n",
       "      <th>n_voters</th>\n",
       "      <th>n_nonvoters</th>\n",
       "    </tr>\n",
       "    <tr>\n",
       "      <th>days_grouped_30</th>\n",
       "      <th></th>\n",
       "      <th></th>\n",
       "      <th></th>\n",
       "      <th></th>\n",
       "    </tr>\n",
       "  </thead>\n",
       "  <tbody>\n",
       "    <tr>\n",
       "      <th>+30</th>\n",
       "      <td>0.310689</td>\n",
       "      <td>10432638</td>\n",
       "      <td>4268047.0</td>\n",
       "      <td>6164591.0</td>\n",
       "    </tr>\n",
       "    <tr>\n",
       "      <th>-30</th>\n",
       "      <td>0.289921</td>\n",
       "      <td>10413112</td>\n",
       "      <td>4327077.0</td>\n",
       "      <td>6086035.0</td>\n",
       "    </tr>\n",
       "    <tr>\n",
       "      <th>0</th>\n",
       "      <td>0.758129</td>\n",
       "      <td>344740</td>\n",
       "      <td>144093.0</td>\n",
       "      <td>200647.0</td>\n",
       "    </tr>\n",
       "  </tbody>\n",
       "</table>\n",
       "</div>"
      ],
      "text/plain": [
       "                 voted_abs   n_total   n_voters  n_nonvoters\n",
       "days_grouped_30                                             \n",
       "+30               0.310689  10432638  4268047.0    6164591.0\n",
       "-30               0.289921  10413112  4327077.0    6086035.0\n",
       "0                 0.758129    344740   144093.0     200647.0"
      ]
     },
     "execution_count": 134,
     "metadata": {},
     "output_type": "execute_result"
    }
   ],
   "source": [
    "turnout_change_from_prev_day_30 = turnout_change_from_prev_day[turnout_change_from_prev_day.days.abs() < 31]\n",
    "turnout_change_from_prev_day_30['days_grouped_30'] = np.where(turnout_change_from_prev_day_30.days<0, '-30', np.where(turnout_change_from_prev_day_30.days>0, '+30', '0'))\n",
    "turnout_change_from_prev_day_30.groupby('days_grouped_30').agg({'voted_abs': 'mean', 'n_total': 'sum', 'n_voters': 'sum', 'n_nonvoters': 'sum'})"
   ]
  },
  {
   "cell_type": "markdown",
   "metadata": {},
   "source": [
    "### +/- 7 days avg absolute change from previous day"
   ]
  },
  {
   "cell_type": "code",
   "execution_count": 135,
   "metadata": {},
   "outputs": [
    {
     "name": "stderr",
     "output_type": "stream",
     "text": [
      "/opt/anaconda3/lib/python3.7/site-packages/ipykernel_launcher.py:2: SettingWithCopyWarning: \n",
      "A value is trying to be set on a copy of a slice from a DataFrame.\n",
      "Try using .loc[row_indexer,col_indexer] = value instead\n",
      "\n",
      "See the caveats in the documentation: http://pandas.pydata.org/pandas-docs/stable/indexing.html#indexing-view-versus-copy\n",
      "  \n"
     ]
    },
    {
     "data": {
      "text/html": [
       "<div>\n",
       "<style scoped>\n",
       "    .dataframe tbody tr th:only-of-type {\n",
       "        vertical-align: middle;\n",
       "    }\n",
       "\n",
       "    .dataframe tbody tr th {\n",
       "        vertical-align: top;\n",
       "    }\n",
       "\n",
       "    .dataframe thead th {\n",
       "        text-align: right;\n",
       "    }\n",
       "</style>\n",
       "<table border=\"1\" class=\"dataframe\">\n",
       "  <thead>\n",
       "    <tr style=\"text-align: right;\">\n",
       "      <th></th>\n",
       "      <th>voted_abs</th>\n",
       "      <th>n_total</th>\n",
       "      <th>n_voters</th>\n",
       "      <th>n_nonvoters</th>\n",
       "    </tr>\n",
       "    <tr>\n",
       "      <th>days_grouped_7</th>\n",
       "      <th></th>\n",
       "      <th></th>\n",
       "      <th></th>\n",
       "      <th></th>\n",
       "    </tr>\n",
       "  </thead>\n",
       "  <tbody>\n",
       "    <tr>\n",
       "      <th>+7</th>\n",
       "      <td>0.330075</td>\n",
       "      <td>2421673</td>\n",
       "      <td>1001916.0</td>\n",
       "      <td>1419757.0</td>\n",
       "    </tr>\n",
       "    <tr>\n",
       "      <th>-7</th>\n",
       "      <td>0.315421</td>\n",
       "      <td>2416269</td>\n",
       "      <td>996087.0</td>\n",
       "      <td>1420182.0</td>\n",
       "    </tr>\n",
       "    <tr>\n",
       "      <th>0</th>\n",
       "      <td>0.758129</td>\n",
       "      <td>344740</td>\n",
       "      <td>144093.0</td>\n",
       "      <td>200647.0</td>\n",
       "    </tr>\n",
       "  </tbody>\n",
       "</table>\n",
       "</div>"
      ],
      "text/plain": [
       "                voted_abs  n_total   n_voters  n_nonvoters\n",
       "days_grouped_7                                            \n",
       "+7               0.330075  2421673  1001916.0    1419757.0\n",
       "-7               0.315421  2416269   996087.0    1420182.0\n",
       "0                0.758129   344740   144093.0     200647.0"
      ]
     },
     "execution_count": 135,
     "metadata": {},
     "output_type": "execute_result"
    }
   ],
   "source": [
    "turnout_change_from_prev_day_7 = turnout_change_from_prev_day[turnout_change_from_prev_day.days.abs() < 8]\n",
    "turnout_change_from_prev_day_7['days_grouped_7'] = np.where(turnout_change_from_prev_day_7.days<0, '-7', np.where(turnout_change_from_prev_day_7.days>0, '+7', '0'))\n",
    "turnout_change_from_prev_day_7.groupby('days_grouped_7').agg({'voted_abs': 'mean', 'n_total': 'sum', 'n_voters': 'sum', 'n_nonvoters': 'sum'})"
   ]
  },
  {
   "cell_type": "markdown",
   "metadata": {},
   "source": [
    "### +/- 2 days change from previous day"
   ]
  },
  {
   "cell_type": "code",
   "execution_count": 137,
   "metadata": {},
   "outputs": [
    {
     "data": {
      "text/html": [
       "<div>\n",
       "<style scoped>\n",
       "    .dataframe tbody tr th:only-of-type {\n",
       "        vertical-align: middle;\n",
       "    }\n",
       "\n",
       "    .dataframe tbody tr th {\n",
       "        vertical-align: top;\n",
       "    }\n",
       "\n",
       "    .dataframe thead th {\n",
       "        text-align: right;\n",
       "    }\n",
       "</style>\n",
       "<table border=\"1\" class=\"dataframe\">\n",
       "  <thead>\n",
       "    <tr style=\"text-align: right;\">\n",
       "      <th></th>\n",
       "      <th>voted</th>\n",
       "      <th>n_total</th>\n",
       "      <th>n_voters</th>\n",
       "      <th>n_nonvoters</th>\n",
       "    </tr>\n",
       "    <tr>\n",
       "      <th>days</th>\n",
       "      <th></th>\n",
       "      <th></th>\n",
       "      <th></th>\n",
       "      <th></th>\n",
       "    </tr>\n",
       "  </thead>\n",
       "  <tbody>\n",
       "    <tr>\n",
       "      <th>-2.0</th>\n",
       "      <td>0.134241</td>\n",
       "      <td>345089</td>\n",
       "      <td>142497.0</td>\n",
       "      <td>202592.0</td>\n",
       "    </tr>\n",
       "    <tr>\n",
       "      <th>-1.0</th>\n",
       "      <td>-0.180355</td>\n",
       "      <td>345161</td>\n",
       "      <td>142228.0</td>\n",
       "      <td>202933.0</td>\n",
       "    </tr>\n",
       "    <tr>\n",
       "      <th>0.0</th>\n",
       "      <td>0.699600</td>\n",
       "      <td>344740</td>\n",
       "      <td>144093.0</td>\n",
       "      <td>200647.0</td>\n",
       "    </tr>\n",
       "    <tr>\n",
       "      <th>1.0</th>\n",
       "      <td>-0.471758</td>\n",
       "      <td>345006</td>\n",
       "      <td>142550.0</td>\n",
       "      <td>202456.0</td>\n",
       "    </tr>\n",
       "    <tr>\n",
       "      <th>2.0</th>\n",
       "      <td>0.052467</td>\n",
       "      <td>346576</td>\n",
       "      <td>142877.0</td>\n",
       "      <td>203699.0</td>\n",
       "    </tr>\n",
       "  </tbody>\n",
       "</table>\n",
       "</div>"
      ],
      "text/plain": [
       "         voted  n_total  n_voters  n_nonvoters\n",
       "days                                          \n",
       "-2.0  0.134241   345089  142497.0     202592.0\n",
       "-1.0 -0.180355   345161  142228.0     202933.0\n",
       " 0.0  0.699600   344740  144093.0     200647.0\n",
       " 1.0 -0.471758   345006  142550.0     202456.0\n",
       " 2.0  0.052467   346576  142877.0     203699.0"
      ]
     },
     "execution_count": 137,
     "metadata": {},
     "output_type": "execute_result"
    }
   ],
   "source": [
    "turnout_change_from_prev_day[turnout_change_from_prev_day.days.isin([-2,-1,0,1,2])].groupby('days').agg({'voted': 'mean', 'n_total': 'sum', 'n_voters': 'sum', 'n_nonvoters': 'sum'})"
   ]
  },
  {
   "cell_type": "markdown",
   "metadata": {},
   "source": [
    "## 4.2 Change in voter turnout from Prev Day - GEN Only"
   ]
  },
  {
   "cell_type": "code",
   "execution_count": 140,
   "metadata": {},
   "outputs": [
    {
     "data": {
      "text/plain": [
       "<matplotlib.axes._subplots.AxesSubplot at 0x1bdee84690>"
      ]
     },
     "execution_count": 140,
     "metadata": {},
     "output_type": "execute_result"
    },
    {
     "data": {
      "image/png": "[encoded data removed]",
      "text/plain": [
       "<Figure size 432x288 with 1 Axes>"
      ]
     },
     "metadata": {
      "needs_background": "light"
     },
     "output_type": "display_data"
    }
   ],
   "source": [
    "turnout_change_from_prev_day_GEN = turnout_change_from_prev_day[turnout_change_from_prev_day.election_type=='GEN']\n",
    "sns.lineplot(x='days', y='voted', hue='election_type',data=turnout_change_from_prev_day_GEN)"
   ]
  },
  {
   "cell_type": "code",
   "execution_count": 141,
   "metadata": {},
   "outputs": [
    {
     "data": {
      "text/plain": [
       "<matplotlib.axes._subplots.AxesSubplot at 0x1bdf0b9410>"
      ]
     },
     "execution_count": 141,
     "metadata": {},
     "output_type": "execute_result"
    },
    {
     "data": {
      "image/png": "[encoded data removed]",
      "text/plain": [
       "<Figure size 432x288 with 1 Axes>"
      ]
     },
     "metadata": {
      "needs_background": "light"
     },
     "output_type": "display_data"
    }
   ],
   "source": [
    "avg_change_from_prev_day_GEN = pd.DataFrame(turnout_change_from_prev_day_GEN.groupby('days').voted.mean())\n",
    "sns.lineplot(x=avg_change_from_prev_day_GEN.index, y=avg_change_from_prev_day_GEN.voted)"
   ]
  },
  {
   "cell_type": "markdown",
   "metadata": {},
   "source": [
    "### +/- 50 days avg absolute change from previous day"
   ]
  },
  {
   "cell_type": "code",
   "execution_count": 142,
   "metadata": {},
   "outputs": [
    {
     "name": "stderr",
     "output_type": "stream",
     "text": [
      "/opt/anaconda3/lib/python3.7/site-packages/ipykernel_launcher.py:1: SettingWithCopyWarning: \n",
      "A value is trying to be set on a copy of a slice from a DataFrame.\n",
      "Try using .loc[row_indexer,col_indexer] = value instead\n",
      "\n",
      "See the caveats in the documentation: http://pandas.pydata.org/pandas-docs/stable/indexing.html#indexing-view-versus-copy\n",
      "  \"\"\"Entry point for launching an IPython kernel.\n",
      "/opt/anaconda3/lib/python3.7/site-packages/ipykernel_launcher.py:2: SettingWithCopyWarning: \n",
      "A value is trying to be set on a copy of a slice from a DataFrame.\n",
      "Try using .loc[row_indexer,col_indexer] = value instead\n",
      "\n",
      "See the caveats in the documentation: http://pandas.pydata.org/pandas-docs/stable/indexing.html#indexing-view-versus-copy\n",
      "  \n"
     ]
    },
    {
     "data": {
      "text/html": [
       "<div>\n",
       "<style scoped>\n",
       "    .dataframe tbody tr th:only-of-type {\n",
       "        vertical-align: middle;\n",
       "    }\n",
       "\n",
       "    .dataframe tbody tr th {\n",
       "        vertical-align: top;\n",
       "    }\n",
       "\n",
       "    .dataframe thead th {\n",
       "        text-align: right;\n",
       "    }\n",
       "</style>\n",
       "<table border=\"1\" class=\"dataframe\">\n",
       "  <thead>\n",
       "    <tr style=\"text-align: right;\">\n",
       "      <th></th>\n",
       "      <th>voted_abs</th>\n",
       "      <th>n_total</th>\n",
       "      <th>n_voters</th>\n",
       "      <th>n_nonvoters</th>\n",
       "    </tr>\n",
       "    <tr>\n",
       "      <th>days_grouped_50</th>\n",
       "      <th></th>\n",
       "      <th></th>\n",
       "      <th></th>\n",
       "      <th></th>\n",
       "    </tr>\n",
       "  </thead>\n",
       "  <tbody>\n",
       "    <tr>\n",
       "      <th>+50</th>\n",
       "      <td>0.330159</td>\n",
       "      <td>8481594</td>\n",
       "      <td>5300847.0</td>\n",
       "      <td>3180747.0</td>\n",
       "    </tr>\n",
       "    <tr>\n",
       "      <th>-50</th>\n",
       "      <td>0.306987</td>\n",
       "      <td>8964708</td>\n",
       "      <td>5617951.0</td>\n",
       "      <td>3346757.0</td>\n",
       "    </tr>\n",
       "    <tr>\n",
       "      <th>0</th>\n",
       "      <td>0.855269</td>\n",
       "      <td>171776</td>\n",
       "      <td>108221.0</td>\n",
       "      <td>63555.0</td>\n",
       "    </tr>\n",
       "  </tbody>\n",
       "</table>\n",
       "</div>"
      ],
      "text/plain": [
       "                 voted_abs  n_total   n_voters  n_nonvoters\n",
       "days_grouped_50                                            \n",
       "+50               0.330159  8481594  5300847.0    3180747.0\n",
       "-50               0.306987  8964708  5617951.0    3346757.0\n",
       "0                 0.855269   171776   108221.0      63555.0"
      ]
     },
     "execution_count": 142,
     "metadata": {},
     "output_type": "execute_result"
    }
   ],
   "source": [
    "turnout_change_from_prev_day_GEN['days_grouped_50'] = np.where(turnout_change_from_prev_day_GEN.days<0, '-50', np.where(turnout_change_from_prev_day_GEN.days>0, '+50', '0'))\n",
    "turnout_change_from_prev_day_GEN['voted_abs'] = turnout_change_from_prev_day_GEN.voted.abs()\n",
    "turnout_change_from_prev_day_GEN.groupby('days_grouped_50').agg({'voted_abs': 'mean', 'n_total': 'sum', 'n_voters': 'sum', 'n_nonvoters': 'sum'})"
   ]
  },
  {
   "cell_type": "markdown",
   "metadata": {},
   "source": [
    "### +/- 30 days avg absolute change from previous day"
   ]
  },
  {
   "cell_type": "code",
   "execution_count": 143,
   "metadata": {},
   "outputs": [
    {
     "name": "stderr",
     "output_type": "stream",
     "text": [
      "/opt/anaconda3/lib/python3.7/site-packages/ipykernel_launcher.py:2: SettingWithCopyWarning: \n",
      "A value is trying to be set on a copy of a slice from a DataFrame.\n",
      "Try using .loc[row_indexer,col_indexer] = value instead\n",
      "\n",
      "See the caveats in the documentation: http://pandas.pydata.org/pandas-docs/stable/indexing.html#indexing-view-versus-copy\n",
      "  \n"
     ]
    },
    {
     "data": {
      "text/html": [
       "<div>\n",
       "<style scoped>\n",
       "    .dataframe tbody tr th:only-of-type {\n",
       "        vertical-align: middle;\n",
       "    }\n",
       "\n",
       "    .dataframe tbody tr th {\n",
       "        vertical-align: top;\n",
       "    }\n",
       "\n",
       "    .dataframe thead th {\n",
       "        text-align: right;\n",
       "    }\n",
       "</style>\n",
       "<table border=\"1\" class=\"dataframe\">\n",
       "  <thead>\n",
       "    <tr style=\"text-align: right;\">\n",
       "      <th></th>\n",
       "      <th>voted_abs</th>\n",
       "      <th>n_total</th>\n",
       "      <th>n_voters</th>\n",
       "      <th>n_nonvoters</th>\n",
       "    </tr>\n",
       "    <tr>\n",
       "      <th>days_grouped_30</th>\n",
       "      <th></th>\n",
       "      <th></th>\n",
       "      <th></th>\n",
       "      <th></th>\n",
       "    </tr>\n",
       "  </thead>\n",
       "  <tbody>\n",
       "    <tr>\n",
       "      <th>+30</th>\n",
       "      <td>0.329353</td>\n",
       "      <td>5093176</td>\n",
       "      <td>3185611.0</td>\n",
       "      <td>1907565.0</td>\n",
       "    </tr>\n",
       "    <tr>\n",
       "      <th>-30</th>\n",
       "      <td>0.296561</td>\n",
       "      <td>5226471</td>\n",
       "      <td>3272552.0</td>\n",
       "      <td>1953919.0</td>\n",
       "    </tr>\n",
       "    <tr>\n",
       "      <th>0</th>\n",
       "      <td>0.855269</td>\n",
       "      <td>171776</td>\n",
       "      <td>108221.0</td>\n",
       "      <td>63555.0</td>\n",
       "    </tr>\n",
       "  </tbody>\n",
       "</table>\n",
       "</div>"
      ],
      "text/plain": [
       "                 voted_abs  n_total   n_voters  n_nonvoters\n",
       "days_grouped_30                                            \n",
       "+30               0.329353  5093176  3185611.0    1907565.0\n",
       "-30               0.296561  5226471  3272552.0    1953919.0\n",
       "0                 0.855269   171776   108221.0      63555.0"
      ]
     },
     "execution_count": 143,
     "metadata": {},
     "output_type": "execute_result"
    }
   ],
   "source": [
    "turnout_change_from_prev_day_30_GEN = turnout_change_from_prev_day_GEN[turnout_change_from_prev_day_GEN.days.abs() < 31]\n",
    "turnout_change_from_prev_day_30_GEN['days_grouped_30'] = np.where(turnout_change_from_prev_day_30_GEN.days<0, '-30', np.where(turnout_change_from_prev_day_30_GEN.days>0, '+30', '0'))\n",
    "turnout_change_from_prev_day_30_GEN.groupby('days_grouped_30').agg({'voted_abs': 'mean', 'n_total': 'sum', 'n_voters': 'sum', 'n_nonvoters': 'sum'})"
   ]
  },
  {
   "cell_type": "markdown",
   "metadata": {},
   "source": [
    "### +/- 7 days avg absolute change from previous day"
   ]
  },
  {
   "cell_type": "code",
   "execution_count": 144,
   "metadata": {},
   "outputs": [
    {
     "name": "stderr",
     "output_type": "stream",
     "text": [
      "/opt/anaconda3/lib/python3.7/site-packages/ipykernel_launcher.py:2: SettingWithCopyWarning: \n",
      "A value is trying to be set on a copy of a slice from a DataFrame.\n",
      "Try using .loc[row_indexer,col_indexer] = value instead\n",
      "\n",
      "See the caveats in the documentation: http://pandas.pydata.org/pandas-docs/stable/indexing.html#indexing-view-versus-copy\n",
      "  \n"
     ]
    },
    {
     "data": {
      "text/html": [
       "<div>\n",
       "<style scoped>\n",
       "    .dataframe tbody tr th:only-of-type {\n",
       "        vertical-align: middle;\n",
       "    }\n",
       "\n",
       "    .dataframe tbody tr th {\n",
       "        vertical-align: top;\n",
       "    }\n",
       "\n",
       "    .dataframe thead th {\n",
       "        text-align: right;\n",
       "    }\n",
       "</style>\n",
       "<table border=\"1\" class=\"dataframe\">\n",
       "  <thead>\n",
       "    <tr style=\"text-align: right;\">\n",
       "      <th></th>\n",
       "      <th>voted_abs</th>\n",
       "      <th>n_total</th>\n",
       "      <th>n_voters</th>\n",
       "      <th>n_nonvoters</th>\n",
       "    </tr>\n",
       "    <tr>\n",
       "      <th>days_grouped_7</th>\n",
       "      <th></th>\n",
       "      <th></th>\n",
       "      <th></th>\n",
       "      <th></th>\n",
       "    </tr>\n",
       "  </thead>\n",
       "  <tbody>\n",
       "    <tr>\n",
       "      <th>+7</th>\n",
       "      <td>0.345727</td>\n",
       "      <td>1203589</td>\n",
       "      <td>753430.0</td>\n",
       "      <td>450159.0</td>\n",
       "    </tr>\n",
       "    <tr>\n",
       "      <th>-7</th>\n",
       "      <td>0.256472</td>\n",
       "      <td>1202142</td>\n",
       "      <td>750519.0</td>\n",
       "      <td>451623.0</td>\n",
       "    </tr>\n",
       "    <tr>\n",
       "      <th>0</th>\n",
       "      <td>0.855269</td>\n",
       "      <td>171776</td>\n",
       "      <td>108221.0</td>\n",
       "      <td>63555.0</td>\n",
       "    </tr>\n",
       "  </tbody>\n",
       "</table>\n",
       "</div>"
      ],
      "text/plain": [
       "                voted_abs  n_total  n_voters  n_nonvoters\n",
       "days_grouped_7                                           \n",
       "+7               0.345727  1203589  753430.0     450159.0\n",
       "-7               0.256472  1202142  750519.0     451623.0\n",
       "0                0.855269   171776  108221.0      63555.0"
      ]
     },
     "execution_count": 144,
     "metadata": {},
     "output_type": "execute_result"
    }
   ],
   "source": [
    "turnout_change_from_prev_day_7_GEN = turnout_change_from_prev_day_GEN[turnout_change_from_prev_day_GEN.days.abs() < 8]\n",
    "turnout_change_from_prev_day_7_GEN['days_grouped_7'] = np.where(turnout_change_from_prev_day_7_GEN.days<0, '-7', np.where(turnout_change_from_prev_day_7_GEN.days>0, '+7', '0'))\n",
    "turnout_change_from_prev_day_7_GEN.groupby('days_grouped_7').agg({'voted_abs': 'mean', 'n_total': 'sum', 'n_voters': 'sum', 'n_nonvoters': 'sum'})"
   ]
  },
  {
   "cell_type": "markdown",
   "metadata": {},
   "source": [
    "### +/- 2 days change from previous day"
   ]
  },
  {
   "cell_type": "code",
   "execution_count": 145,
   "metadata": {},
   "outputs": [
    {
     "data": {
      "text/html": [
       "<div>\n",
       "<style scoped>\n",
       "    .dataframe tbody tr th:only-of-type {\n",
       "        vertical-align: middle;\n",
       "    }\n",
       "\n",
       "    .dataframe tbody tr th {\n",
       "        vertical-align: top;\n",
       "    }\n",
       "\n",
       "    .dataframe thead th {\n",
       "        text-align: right;\n",
       "    }\n",
       "</style>\n",
       "<table border=\"1\" class=\"dataframe\">\n",
       "  <thead>\n",
       "    <tr style=\"text-align: right;\">\n",
       "      <th></th>\n",
       "      <th>voted</th>\n",
       "      <th>n_total</th>\n",
       "      <th>n_voters</th>\n",
       "      <th>n_nonvoters</th>\n",
       "    </tr>\n",
       "    <tr>\n",
       "      <th>days</th>\n",
       "      <th></th>\n",
       "      <th></th>\n",
       "      <th></th>\n",
       "      <th></th>\n",
       "    </tr>\n",
       "  </thead>\n",
       "  <tbody>\n",
       "    <tr>\n",
       "      <th>-2.0</th>\n",
       "      <td>-0.057660</td>\n",
       "      <td>171296</td>\n",
       "      <td>106976.0</td>\n",
       "      <td>64320.0</td>\n",
       "    </tr>\n",
       "    <tr>\n",
       "      <th>-1.0</th>\n",
       "      <td>-0.049589</td>\n",
       "      <td>172406</td>\n",
       "      <td>107448.0</td>\n",
       "      <td>64958.0</td>\n",
       "    </tr>\n",
       "    <tr>\n",
       "      <th>0.0</th>\n",
       "      <td>0.744907</td>\n",
       "      <td>171776</td>\n",
       "      <td>108221.0</td>\n",
       "      <td>63555.0</td>\n",
       "    </tr>\n",
       "    <tr>\n",
       "      <th>1.0</th>\n",
       "      <td>-0.497714</td>\n",
       "      <td>171296</td>\n",
       "      <td>107202.0</td>\n",
       "      <td>64094.0</td>\n",
       "    </tr>\n",
       "    <tr>\n",
       "      <th>2.0</th>\n",
       "      <td>-0.016063</td>\n",
       "      <td>171266</td>\n",
       "      <td>107084.0</td>\n",
       "      <td>64182.0</td>\n",
       "    </tr>\n",
       "  </tbody>\n",
       "</table>\n",
       "</div>"
      ],
      "text/plain": [
       "         voted  n_total  n_voters  n_nonvoters\n",
       "days                                          \n",
       "-2.0 -0.057660   171296  106976.0      64320.0\n",
       "-1.0 -0.049589   172406  107448.0      64958.0\n",
       " 0.0  0.744907   171776  108221.0      63555.0\n",
       " 1.0 -0.497714   171296  107202.0      64094.0\n",
       " 2.0 -0.016063   171266  107084.0      64182.0"
      ]
     },
     "execution_count": 145,
     "metadata": {},
     "output_type": "execute_result"
    }
   ],
   "source": [
    "turnout_change_from_prev_day_GEN[turnout_change_from_prev_day_GEN.days.isin([-2,-1,0,1,2])].groupby('days').agg({'voted': 'mean', 'n_total': 'sum', 'n_voters': 'sum', 'n_nonvoters': 'sum'})"
   ]
  },
  {
   "cell_type": "markdown",
   "metadata": {},
   "source": [
    "## 4.3 Change in voter turnout from Prev Day - PRI Only"
   ]
  },
  {
   "cell_type": "code",
   "execution_count": 146,
   "metadata": {},
   "outputs": [
    {
     "data": {
      "text/plain": [
       "<matplotlib.axes._subplots.AxesSubplot at 0x1bdee02ed0>"
      ]
     },
     "execution_count": 146,
     "metadata": {},
     "output_type": "execute_result"
    },
    {
     "data": {
      "image/png": "[encoded data removed]",
      "text/plain": [
       "<Figure size 432x288 with 1 Axes>"
      ]
     },
     "metadata": {
      "needs_background": "light"
     },
     "output_type": "display_data"
    }
   ],
   "source": [
    "turnout_change_from_prev_day_PRI = turnout_change_from_prev_day[turnout_change_from_prev_day.election_type=='PRI']\n",
    "sns.lineplot(x='days', y='voted', hue='election_type',data=turnout_change_from_prev_day_PRI)"
   ]
  },
  {
   "cell_type": "code",
   "execution_count": 147,
   "metadata": {},
   "outputs": [
    {
     "data": {
      "text/plain": [
       "<matplotlib.axes._subplots.AxesSubplot at 0x1bdf1f3dd0>"
      ]
     },
     "execution_count": 147,
     "metadata": {},
     "output_type": "execute_result"
    },
    {
     "data": {
      "image/png": "[encoded data removed]",
      "text/plain": [
       "<Figure size 432x288 with 1 Axes>"
      ]
     },
     "metadata": {
      "needs_background": "light"
     },
     "output_type": "display_data"
    }
   ],
   "source": [
    "avg_change_from_prev_day_PRI = pd.DataFrame(turnout_change_from_prev_day_PRI.groupby('days').voted.mean())\n",
    "sns.lineplot(x=avg_change_from_prev_day_PRI.index, y=avg_change_from_prev_day_PRI.voted)"
   ]
  },
  {
   "cell_type": "markdown",
   "metadata": {},
   "source": [
    "### +/- 50 days avg absolute change from previous day"
   ]
  },
  {
   "cell_type": "code",
   "execution_count": 148,
   "metadata": {},
   "outputs": [
    {
     "name": "stderr",
     "output_type": "stream",
     "text": [
      "/opt/anaconda3/lib/python3.7/site-packages/ipykernel_launcher.py:1: SettingWithCopyWarning: \n",
      "A value is trying to be set on a copy of a slice from a DataFrame.\n",
      "Try using .loc[row_indexer,col_indexer] = value instead\n",
      "\n",
      "See the caveats in the documentation: http://pandas.pydata.org/pandas-docs/stable/indexing.html#indexing-view-versus-copy\n",
      "  \"\"\"Entry point for launching an IPython kernel.\n",
      "/opt/anaconda3/lib/python3.7/site-packages/ipykernel_launcher.py:2: SettingWithCopyWarning: \n",
      "A value is trying to be set on a copy of a slice from a DataFrame.\n",
      "Try using .loc[row_indexer,col_indexer] = value instead\n",
      "\n",
      "See the caveats in the documentation: http://pandas.pydata.org/pandas-docs/stable/indexing.html#indexing-view-versus-copy\n",
      "  \n"
     ]
    },
    {
     "data": {
      "text/html": [
       "<div>\n",
       "<style scoped>\n",
       "    .dataframe tbody tr th:only-of-type {\n",
       "        vertical-align: middle;\n",
       "    }\n",
       "\n",
       "    .dataframe tbody tr th {\n",
       "        vertical-align: top;\n",
       "    }\n",
       "\n",
       "    .dataframe thead th {\n",
       "        text-align: right;\n",
       "    }\n",
       "</style>\n",
       "<table border=\"1\" class=\"dataframe\">\n",
       "  <thead>\n",
       "    <tr style=\"text-align: right;\">\n",
       "      <th></th>\n",
       "      <th>voted_abs</th>\n",
       "      <th>n_total</th>\n",
       "      <th>n_voters</th>\n",
       "      <th>n_nonvoters</th>\n",
       "    </tr>\n",
       "    <tr>\n",
       "      <th>days_grouped_50</th>\n",
       "      <th></th>\n",
       "      <th></th>\n",
       "      <th></th>\n",
       "      <th></th>\n",
       "    </tr>\n",
       "  </thead>\n",
       "  <tbody>\n",
       "    <tr>\n",
       "      <th>+50</th>\n",
       "      <td>0.276594</td>\n",
       "      <td>8874046</td>\n",
       "      <td>1798037.0</td>\n",
       "      <td>7076009.0</td>\n",
       "    </tr>\n",
       "    <tr>\n",
       "      <th>-50</th>\n",
       "      <td>0.277248</td>\n",
       "      <td>8544742</td>\n",
       "      <td>1733976.0</td>\n",
       "      <td>6810766.0</td>\n",
       "    </tr>\n",
       "    <tr>\n",
       "      <th>0</th>\n",
       "      <td>0.660989</td>\n",
       "      <td>172964</td>\n",
       "      <td>35872.0</td>\n",
       "      <td>137092.0</td>\n",
       "    </tr>\n",
       "  </tbody>\n",
       "</table>\n",
       "</div>"
      ],
      "text/plain": [
       "                 voted_abs  n_total   n_voters  n_nonvoters\n",
       "days_grouped_50                                            \n",
       "+50               0.276594  8874046  1798037.0    7076009.0\n",
       "-50               0.277248  8544742  1733976.0    6810766.0\n",
       "0                 0.660989   172964    35872.0     137092.0"
      ]
     },
     "execution_count": 148,
     "metadata": {},
     "output_type": "execute_result"
    }
   ],
   "source": [
    "turnout_change_from_prev_day_PRI['days_grouped_50'] = np.where(turnout_change_from_prev_day_PRI.days<0, '-50', np.where(turnout_change_from_prev_day_PRI.days>0, '+50', '0'))\n",
    "turnout_change_from_prev_day_PRI['voted_abs'] = turnout_change_from_prev_day_PRI.voted.abs()\n",
    "turnout_change_from_prev_day_PRI.groupby('days_grouped_50').agg({'voted_abs': 'mean', 'n_total': 'sum', 'n_voters': 'sum', 'n_nonvoters': 'sum'})"
   ]
  },
  {
   "cell_type": "markdown",
   "metadata": {},
   "source": [
    "### +/- 30 days avg absolute change from previous day"
   ]
  },
  {
   "cell_type": "code",
   "execution_count": 149,
   "metadata": {},
   "outputs": [
    {
     "name": "stderr",
     "output_type": "stream",
     "text": [
      "/opt/anaconda3/lib/python3.7/site-packages/ipykernel_launcher.py:2: SettingWithCopyWarning: \n",
      "A value is trying to be set on a copy of a slice from a DataFrame.\n",
      "Try using .loc[row_indexer,col_indexer] = value instead\n",
      "\n",
      "See the caveats in the documentation: http://pandas.pydata.org/pandas-docs/stable/indexing.html#indexing-view-versus-copy\n",
      "  \n"
     ]
    },
    {
     "data": {
      "text/html": [
       "<div>\n",
       "<style scoped>\n",
       "    .dataframe tbody tr th:only-of-type {\n",
       "        vertical-align: middle;\n",
       "    }\n",
       "\n",
       "    .dataframe tbody tr th {\n",
       "        vertical-align: top;\n",
       "    }\n",
       "\n",
       "    .dataframe thead th {\n",
       "        text-align: right;\n",
       "    }\n",
       "</style>\n",
       "<table border=\"1\" class=\"dataframe\">\n",
       "  <thead>\n",
       "    <tr style=\"text-align: right;\">\n",
       "      <th></th>\n",
       "      <th>voted_abs</th>\n",
       "      <th>n_total</th>\n",
       "      <th>n_voters</th>\n",
       "      <th>n_nonvoters</th>\n",
       "    </tr>\n",
       "    <tr>\n",
       "      <th>days_grouped_30</th>\n",
       "      <th></th>\n",
       "      <th></th>\n",
       "      <th></th>\n",
       "      <th></th>\n",
       "    </tr>\n",
       "  </thead>\n",
       "  <tbody>\n",
       "    <tr>\n",
       "      <th>+30</th>\n",
       "      <td>0.292025</td>\n",
       "      <td>5339462</td>\n",
       "      <td>1082436.0</td>\n",
       "      <td>4257026.0</td>\n",
       "    </tr>\n",
       "    <tr>\n",
       "      <th>-30</th>\n",
       "      <td>0.283280</td>\n",
       "      <td>5186641</td>\n",
       "      <td>1054525.0</td>\n",
       "      <td>4132116.0</td>\n",
       "    </tr>\n",
       "    <tr>\n",
       "      <th>0</th>\n",
       "      <td>0.660989</td>\n",
       "      <td>172964</td>\n",
       "      <td>35872.0</td>\n",
       "      <td>137092.0</td>\n",
       "    </tr>\n",
       "  </tbody>\n",
       "</table>\n",
       "</div>"
      ],
      "text/plain": [
       "                 voted_abs  n_total   n_voters  n_nonvoters\n",
       "days_grouped_30                                            \n",
       "+30               0.292025  5339462  1082436.0    4257026.0\n",
       "-30               0.283280  5186641  1054525.0    4132116.0\n",
       "0                 0.660989   172964    35872.0     137092.0"
      ]
     },
     "execution_count": 149,
     "metadata": {},
     "output_type": "execute_result"
    }
   ],
   "source": [
    "turnout_change_from_prev_day_30_PRI = turnout_change_from_prev_day_PRI[turnout_change_from_prev_day_PRI.days.abs() < 31]\n",
    "turnout_change_from_prev_day_30_PRI['days_grouped_30'] = np.where(turnout_change_from_prev_day_30_PRI.days<0, '-30', np.where(turnout_change_from_prev_day_30_PRI.days>0, '+30', '0'))\n",
    "turnout_change_from_prev_day_30_PRI.groupby('days_grouped_30').agg({'voted_abs': 'mean', 'n_total': 'sum', 'n_voters': 'sum', 'n_nonvoters': 'sum'})"
   ]
  },
  {
   "cell_type": "markdown",
   "metadata": {},
   "source": [
    "### +/- 7 days avg absolute change from previous day"
   ]
  },
  {
   "cell_type": "code",
   "execution_count": 150,
   "metadata": {},
   "outputs": [
    {
     "name": "stderr",
     "output_type": "stream",
     "text": [
      "/opt/anaconda3/lib/python3.7/site-packages/ipykernel_launcher.py:2: SettingWithCopyWarning: \n",
      "A value is trying to be set on a copy of a slice from a DataFrame.\n",
      "Try using .loc[row_indexer,col_indexer] = value instead\n",
      "\n",
      "See the caveats in the documentation: http://pandas.pydata.org/pandas-docs/stable/indexing.html#indexing-view-versus-copy\n",
      "  \n"
     ]
    },
    {
     "data": {
      "text/html": [
       "<div>\n",
       "<style scoped>\n",
       "    .dataframe tbody tr th:only-of-type {\n",
       "        vertical-align: middle;\n",
       "    }\n",
       "\n",
       "    .dataframe tbody tr th {\n",
       "        vertical-align: top;\n",
       "    }\n",
       "\n",
       "    .dataframe thead th {\n",
       "        text-align: right;\n",
       "    }\n",
       "</style>\n",
       "<table border=\"1\" class=\"dataframe\">\n",
       "  <thead>\n",
       "    <tr style=\"text-align: right;\">\n",
       "      <th></th>\n",
       "      <th>voted_abs</th>\n",
       "      <th>n_total</th>\n",
       "      <th>n_voters</th>\n",
       "      <th>n_nonvoters</th>\n",
       "    </tr>\n",
       "    <tr>\n",
       "      <th>days_grouped_7</th>\n",
       "      <th></th>\n",
       "      <th></th>\n",
       "      <th></th>\n",
       "      <th></th>\n",
       "    </tr>\n",
       "  </thead>\n",
       "  <tbody>\n",
       "    <tr>\n",
       "      <th>+7</th>\n",
       "      <td>0.314422</td>\n",
       "      <td>1218084</td>\n",
       "      <td>248486.0</td>\n",
       "      <td>969598.0</td>\n",
       "    </tr>\n",
       "    <tr>\n",
       "      <th>-7</th>\n",
       "      <td>0.374371</td>\n",
       "      <td>1214127</td>\n",
       "      <td>245568.0</td>\n",
       "      <td>968559.0</td>\n",
       "    </tr>\n",
       "    <tr>\n",
       "      <th>0</th>\n",
       "      <td>0.660989</td>\n",
       "      <td>172964</td>\n",
       "      <td>35872.0</td>\n",
       "      <td>137092.0</td>\n",
       "    </tr>\n",
       "  </tbody>\n",
       "</table>\n",
       "</div>"
      ],
      "text/plain": [
       "                voted_abs  n_total  n_voters  n_nonvoters\n",
       "days_grouped_7                                           \n",
       "+7               0.314422  1218084  248486.0     969598.0\n",
       "-7               0.374371  1214127  245568.0     968559.0\n",
       "0                0.660989   172964   35872.0     137092.0"
      ]
     },
     "execution_count": 150,
     "metadata": {},
     "output_type": "execute_result"
    }
   ],
   "source": [
    "turnout_change_from_prev_day_7_PRI = turnout_change_from_prev_day_PRI[turnout_change_from_prev_day_PRI.days.abs() < 8]\n",
    "turnout_change_from_prev_day_7_PRI['days_grouped_7'] = np.where(turnout_change_from_prev_day_7_PRI.days<0, '-7', np.where(turnout_change_from_prev_day_7_PRI.days>0, '+7', '0'))\n",
    "turnout_change_from_prev_day_7_PRI.groupby('days_grouped_7').agg({'voted_abs': 'mean', 'n_total': 'sum', 'n_voters': 'sum', 'n_nonvoters': 'sum'})"
   ]
  },
  {
   "cell_type": "markdown",
   "metadata": {},
   "source": [
    "### +/- 2 days change from previous day"
   ]
  },
  {
   "cell_type": "code",
   "execution_count": 151,
   "metadata": {},
   "outputs": [
    {
     "data": {
      "text/html": [
       "<div>\n",
       "<style scoped>\n",
       "    .dataframe tbody tr th:only-of-type {\n",
       "        vertical-align: middle;\n",
       "    }\n",
       "\n",
       "    .dataframe tbody tr th {\n",
       "        vertical-align: top;\n",
       "    }\n",
       "\n",
       "    .dataframe thead th {\n",
       "        text-align: right;\n",
       "    }\n",
       "</style>\n",
       "<table border=\"1\" class=\"dataframe\">\n",
       "  <thead>\n",
       "    <tr style=\"text-align: right;\">\n",
       "      <th></th>\n",
       "      <th>voted</th>\n",
       "      <th>n_total</th>\n",
       "      <th>n_voters</th>\n",
       "      <th>n_nonvoters</th>\n",
       "    </tr>\n",
       "    <tr>\n",
       "      <th>days</th>\n",
       "      <th></th>\n",
       "      <th></th>\n",
       "      <th></th>\n",
       "      <th></th>\n",
       "    </tr>\n",
       "  </thead>\n",
       "  <tbody>\n",
       "    <tr>\n",
       "      <th>-2.0</th>\n",
       "      <td>0.326142</td>\n",
       "      <td>173793</td>\n",
       "      <td>35521.0</td>\n",
       "      <td>138272.0</td>\n",
       "    </tr>\n",
       "    <tr>\n",
       "      <th>-1.0</th>\n",
       "      <td>-0.311122</td>\n",
       "      <td>172755</td>\n",
       "      <td>34780.0</td>\n",
       "      <td>137975.0</td>\n",
       "    </tr>\n",
       "    <tr>\n",
       "      <th>0.0</th>\n",
       "      <td>0.654294</td>\n",
       "      <td>172964</td>\n",
       "      <td>35872.0</td>\n",
       "      <td>137092.0</td>\n",
       "    </tr>\n",
       "    <tr>\n",
       "      <th>1.0</th>\n",
       "      <td>-0.445803</td>\n",
       "      <td>173710</td>\n",
       "      <td>35348.0</td>\n",
       "      <td>138362.0</td>\n",
       "    </tr>\n",
       "    <tr>\n",
       "      <th>2.0</th>\n",
       "      <td>0.120998</td>\n",
       "      <td>175310</td>\n",
       "      <td>35793.0</td>\n",
       "      <td>139517.0</td>\n",
       "    </tr>\n",
       "  </tbody>\n",
       "</table>\n",
       "</div>"
      ],
      "text/plain": [
       "         voted  n_total  n_voters  n_nonvoters\n",
       "days                                          \n",
       "-2.0  0.326142   173793   35521.0     138272.0\n",
       "-1.0 -0.311122   172755   34780.0     137975.0\n",
       " 0.0  0.654294   172964   35872.0     137092.0\n",
       " 1.0 -0.445803   173710   35348.0     138362.0\n",
       " 2.0  0.120998   175310   35793.0     139517.0"
      ]
     },
     "execution_count": 151,
     "metadata": {},
     "output_type": "execute_result"
    }
   ],
   "source": [
    "turnout_change_from_prev_day_PRI[turnout_change_from_prev_day_PRI.days.isin([-2,-1,0,1,2])].groupby('days').agg({'voted': 'mean', 'n_total': 'sum', 'n_voters': 'sum', 'n_nonvoters': 'sum'})"
   ]
  }
 ],
 "metadata": {
  "kernelspec": {
   "display_name": "Python 3",
   "language": "python",
   "name": "python3"
  },
  "language_info": {
   "codemirror_mode": {
    "name": "ipython",
    "version": 3
   },
   "file_extension": ".py",
   "mimetype": "text/x-python",
   "name": "python",
   "nbconvert_exporter": "python",
   "pygments_lexer": "ipython3",
   "version": "3.7.6"
  }
 },
 "nbformat": 4,
 "nbformat_minor": 4
}
