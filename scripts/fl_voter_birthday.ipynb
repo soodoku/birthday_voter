{
 "cells": [
  {
   "cell_type": "markdown",
   "metadata": {},
   "source": [
    "# 0.0 Imports"
   ]
  },
  {
   "cell_type": "code",
   "execution_count": 1,
   "metadata": {},
   "outputs": [],
   "source": [
    "import pandas as pd\n",
    "import numpy as np\n",
    "import seaborn as sns\n",
    "import glob\n",
    "import datetime as dt\n",
    "from matplotlib import pyplot as plt"
   ]
  },
  {
   "cell_type": "markdown",
   "metadata": {},
   "source": [
    "# 1.0 Load Data"
   ]
  },
  {
   "cell_type": "markdown",
   "metadata": {},
   "source": [
    "Datasets downloaded from https://dataverse.harvard.edu/dataset.xhtml?persistentId=doi:10.7910/DVN/UBIG3F"
   ]
  },
  {
   "cell_type": "markdown",
   "metadata": {},
   "source": [
    "## 1.1 voter detail"
   ]
  },
  {
   "cell_type": "code",
   "execution_count": 2,
   "metadata": {
    "collapsed": true,
    "jupyter": {
     "outputs_hidden": true
    }
   },
   "outputs": [
    {
     "name": "stderr",
     "output_type": "stream",
     "text": [
      "/opt/anaconda3/lib/python3.7/site-packages/IPython/core/interactiveshell.py:3051: DtypeWarning: Columns (27) have mixed types. Specify dtype option on import or set low_memory=False.\n",
      "  interactivity=interactivity, compiler=compiler, result=result)\n",
      "/opt/anaconda3/lib/python3.7/site-packages/IPython/core/interactiveshell.py:3051: DtypeWarning: Columns (26) have mixed types. Specify dtype option on import or set low_memory=False.\n",
      "  interactivity=interactivity, compiler=compiler, result=result)\n",
      "/opt/anaconda3/lib/python3.7/site-packages/IPython/core/interactiveshell.py:3051: DtypeWarning: Columns (11,14,17,18,27,34,35,36) have mixed types. Specify dtype option on import or set low_memory=False.\n",
      "  interactivity=interactivity, compiler=compiler, result=result)\n"
     ]
    }
   ],
   "source": [
    "# load each file and combine into a single dataframe\n",
    "path = r'file_path'\n",
    "all_files = glob.glob(path + \"/*.txt\")\n",
    "\n",
    "li = []\n",
    "\n",
    "for filename in all_files:\n",
    "    df = pd.read_csv(filename, \n",
    "                     sep='\\t', \n",
    "                     header=None,\n",
    "                     names=['county_code', 'voter_id', 'name_last', 'name_suffix', \n",
    "                            'name_first', 'name_middle', 'requested_public_records_exemption',\n",
    "                           'residence_address_line_1', 'residence_address_line_2', 'residence_city',\n",
    "                           'residence_state', 'residence_zipcode', 'mailing_address_line_1,',\n",
    "                           'mailing_address_line_2', 'mailing_address_line_3', 'mailing_city',\n",
    "                           'mailing_state', 'mailing_zipcode', 'mailing_country', 'gender', 'race',\n",
    "                           'birth_date', 'registration_date', 'party_affiliation', 'precinct',\n",
    "                           'precinct_group', 'precinct_split', 'precinct_suffix', 'voter_status',\n",
    "                           'congressional_district', 'house_district', 'senate_district',\n",
    "                           'county_commission_district', 'school_board_district', 'daytime_area_code',\n",
    "                           'daytime_phone_number', 'daytime_phone_extension', 'email_address'])\n",
    "    li.append(df)\n",
    "\n",
    "detail = pd.concat(li, axis=0, ignore_index=True)"
   ]
  },
  {
   "cell_type": "code",
   "execution_count": 3,
   "metadata": {},
   "outputs": [],
   "source": [
    "# convert date fields from object dtype to datetime\n",
    "date_cache = {k: pd.to_datetime(k, errors='coerce') for k in detail['birth_date'].unique()}\n",
    "detail['birth_date'] = detail['birth_date'].map(date_cache)\n",
    "\n",
    "date_cache = {k: pd.to_datetime(k, errors='coerce') for k in detail['registration_date'].unique()}\n",
    "detail['registration_date'] = detail['registration_date'].map(date_cache)"
   ]
  },
  {
   "cell_type": "code",
   "execution_count": 4,
   "metadata": {},
   "outputs": [
    {
     "data": {
      "text/html": [
       "<div>\n",
       "<style scoped>\n",
       "    .dataframe tbody tr th:only-of-type {\n",
       "        vertical-align: middle;\n",
       "    }\n",
       "\n",
       "    .dataframe tbody tr th {\n",
       "        vertical-align: top;\n",
       "    }\n",
       "\n",
       "    .dataframe thead th {\n",
       "        text-align: right;\n",
       "    }\n",
       "</style>\n",
       "<table border=\"1\" class=\"dataframe\">\n",
       "  <thead>\n",
       "    <tr style=\"text-align: right;\">\n",
       "      <th></th>\n",
       "      <th>county_code</th>\n",
       "      <th>voter_id</th>\n",
       "      <th>name_last</th>\n",
       "      <th>name_suffix</th>\n",
       "      <th>name_first</th>\n",
       "      <th>name_middle</th>\n",
       "      <th>requested_public_records_exemption</th>\n",
       "      <th>residence_address_line_1</th>\n",
       "      <th>residence_address_line_2</th>\n",
       "      <th>residence_city</th>\n",
       "      <th>...</th>\n",
       "      <th>voter_status</th>\n",
       "      <th>congressional_district</th>\n",
       "      <th>house_district</th>\n",
       "      <th>senate_district</th>\n",
       "      <th>county_commission_district</th>\n",
       "      <th>school_board_district</th>\n",
       "      <th>daytime_area_code</th>\n",
       "      <th>daytime_phone_number</th>\n",
       "      <th>daytime_phone_extension</th>\n",
       "      <th>email_address</th>\n",
       "    </tr>\n",
       "  </thead>\n",
       "  <tbody>\n",
       "    <tr>\n",
       "      <th>0</th>\n",
       "      <td>CHA</td>\n",
       "      <td>102654245</td>\n",
       "      <td>Nodes</td>\n",
       "      <td>NaN</td>\n",
       "      <td>Melvin</td>\n",
       "      <td>R</td>\n",
       "      <td>N</td>\n",
       "      <td>8320   Riverside DR</td>\n",
       "      <td>UNIT 4179</td>\n",
       "      <td>Punta Gorda</td>\n",
       "      <td>...</td>\n",
       "      <td>ACT</td>\n",
       "      <td>17.0</td>\n",
       "      <td>75.0</td>\n",
       "      <td>26.0</td>\n",
       "      <td>1.0</td>\n",
       "      <td>1.0</td>\n",
       "      <td>941</td>\n",
       "      <td>5056229</td>\n",
       "      <td>NaN</td>\n",
       "      <td></td>\n",
       "    </tr>\n",
       "    <tr>\n",
       "      <th>1</th>\n",
       "      <td>CHA</td>\n",
       "      <td>116777380</td>\n",
       "      <td>Oldbear</td>\n",
       "      <td>NaN</td>\n",
       "      <td>Kaili</td>\n",
       "      <td>Nicole</td>\n",
       "      <td>N</td>\n",
       "      <td>5016   Palangos DR</td>\n",
       "      <td></td>\n",
       "      <td>Punta Gorda</td>\n",
       "      <td>...</td>\n",
       "      <td>ACT</td>\n",
       "      <td>17.0</td>\n",
       "      <td>75.0</td>\n",
       "      <td>26.0</td>\n",
       "      <td>1.0</td>\n",
       "      <td>1.0</td>\n",
       "      <td>NaN</td>\n",
       "      <td>NaN</td>\n",
       "      <td>NaN</td>\n",
       "      <td>KAILINICOLE@ROCKETMAIL.COM</td>\n",
       "    </tr>\n",
       "    <tr>\n",
       "      <th>2</th>\n",
       "      <td>CHA</td>\n",
       "      <td>111684516</td>\n",
       "      <td>Dunn</td>\n",
       "      <td>NaN</td>\n",
       "      <td>Cora</td>\n",
       "      <td>M</td>\n",
       "      <td>N</td>\n",
       "      <td>23053   Westchester BLVD</td>\n",
       "      <td>APT L501</td>\n",
       "      <td>Port Charlotte</td>\n",
       "      <td>...</td>\n",
       "      <td>ACT</td>\n",
       "      <td>17.0</td>\n",
       "      <td>75.0</td>\n",
       "      <td>26.0</td>\n",
       "      <td>1.0</td>\n",
       "      <td>1.0</td>\n",
       "      <td>NaN</td>\n",
       "      <td>NaN</td>\n",
       "      <td>NaN</td>\n",
       "      <td></td>\n",
       "    </tr>\n",
       "    <tr>\n",
       "      <th>3</th>\n",
       "      <td>CHA</td>\n",
       "      <td>121565689</td>\n",
       "      <td>Espino</td>\n",
       "      <td>NaN</td>\n",
       "      <td>Melissa</td>\n",
       "      <td>Faye</td>\n",
       "      <td>N</td>\n",
       "      <td>2511   Luther RD</td>\n",
       "      <td>APT 225</td>\n",
       "      <td>Punta Gorda</td>\n",
       "      <td>...</td>\n",
       "      <td>ACT</td>\n",
       "      <td>17.0</td>\n",
       "      <td>75.0</td>\n",
       "      <td>26.0</td>\n",
       "      <td>1.0</td>\n",
       "      <td>1.0</td>\n",
       "      <td>NaN</td>\n",
       "      <td>NaN</td>\n",
       "      <td>NaN</td>\n",
       "      <td></td>\n",
       "    </tr>\n",
       "    <tr>\n",
       "      <th>4</th>\n",
       "      <td>CHA</td>\n",
       "      <td>113812700</td>\n",
       "      <td>Eno</td>\n",
       "      <td>NaN</td>\n",
       "      <td>Camille</td>\n",
       "      <td>Marie</td>\n",
       "      <td>N</td>\n",
       "      <td>24437   Harborview RD</td>\n",
       "      <td>LOT 19</td>\n",
       "      <td>Port Charlotte</td>\n",
       "      <td>...</td>\n",
       "      <td>ACT</td>\n",
       "      <td>17.0</td>\n",
       "      <td>75.0</td>\n",
       "      <td>26.0</td>\n",
       "      <td>1.0</td>\n",
       "      <td>1.0</td>\n",
       "      <td>863</td>\n",
       "      <td>7098529</td>\n",
       "      <td>NaN</td>\n",
       "      <td></td>\n",
       "    </tr>\n",
       "  </tbody>\n",
       "</table>\n",
       "<p>5 rows × 38 columns</p>\n",
       "</div>"
      ],
      "text/plain": [
       "  county_code   voter_id name_last name_suffix name_first name_middle  \\\n",
       "0         CHA  102654245     Nodes         NaN     Melvin           R   \n",
       "1         CHA  116777380   Oldbear         NaN      Kaili      Nicole   \n",
       "2         CHA  111684516      Dunn         NaN       Cora           M   \n",
       "3         CHA  121565689    Espino         NaN    Melissa        Faye   \n",
       "4         CHA  113812700       Eno         NaN    Camille       Marie   \n",
       "\n",
       "  requested_public_records_exemption   residence_address_line_1  \\\n",
       "0                                  N       8320   Riverside DR    \n",
       "1                                  N        5016   Palangos DR    \n",
       "2                                  N  23053   Westchester BLVD    \n",
       "3                                  N          2511   Luther RD    \n",
       "4                                  N     24437   Harborview RD    \n",
       "\n",
       "  residence_address_line_2  residence_city             ...               \\\n",
       "0                UNIT 4179     Punta Gorda             ...                \n",
       "1                              Punta Gorda             ...                \n",
       "2                 APT L501  Port Charlotte             ...                \n",
       "3                  APT 225     Punta Gorda             ...                \n",
       "4                   LOT 19  Port Charlotte             ...                \n",
       "\n",
       "  voter_status congressional_district house_district senate_district  \\\n",
       "0          ACT                   17.0           75.0            26.0   \n",
       "1          ACT                   17.0           75.0            26.0   \n",
       "2          ACT                   17.0           75.0            26.0   \n",
       "3          ACT                   17.0           75.0            26.0   \n",
       "4          ACT                   17.0           75.0            26.0   \n",
       "\n",
       "  county_commission_district school_board_district daytime_area_code  \\\n",
       "0                        1.0                   1.0               941   \n",
       "1                        1.0                   1.0               NaN   \n",
       "2                        1.0                   1.0               NaN   \n",
       "3                        1.0                   1.0               NaN   \n",
       "4                        1.0                   1.0               863   \n",
       "\n",
       "  daytime_phone_number daytime_phone_extension                email_address  \n",
       "0              5056229                     NaN                               \n",
       "1                  NaN                     NaN  KAILINICOLE@ROCKETMAIL.COM   \n",
       "2                  NaN                     NaN                               \n",
       "3                  NaN                     NaN                               \n",
       "4              7098529                     NaN                               \n",
       "\n",
       "[5 rows x 38 columns]"
      ]
     },
     "execution_count": 4,
     "metadata": {},
     "output_type": "execute_result"
    }
   ],
   "source": [
    "detail.head()"
   ]
  },
  {
   "cell_type": "code",
   "execution_count": 5,
   "metadata": {},
   "outputs": [
    {
     "name": "stdout",
     "output_type": "stream",
     "text": [
      "<class 'pandas.core.frame.DataFrame'>\n",
      "RangeIndex: 13710358 entries, 0 to 13710357\n",
      "Data columns (total 38 columns):\n",
      "county_code                           object\n",
      "voter_id                              int64\n",
      "name_last                             object\n",
      "name_suffix                           object\n",
      "name_first                            object\n",
      "name_middle                           object\n",
      "requested_public_records_exemption    object\n",
      "residence_address_line_1              object\n",
      "residence_address_line_2              object\n",
      "residence_city                        object\n",
      "residence_state                       object\n",
      "residence_zipcode                     object\n",
      "mailing_address_line_1,               object\n",
      "mailing_address_line_2                object\n",
      "mailing_address_line_3                object\n",
      "mailing_city                          object\n",
      "mailing_state                         object\n",
      "mailing_zipcode                       object\n",
      "mailing_country                       object\n",
      "gender                                object\n",
      "race                                  int64\n",
      "birth_date                            datetime64[ns]\n",
      "registration_date                     datetime64[ns]\n",
      "party_affiliation                     object\n",
      "precinct                              object\n",
      "precinct_group                        float64\n",
      "precinct_split                        object\n",
      "precinct_suffix                       object\n",
      "voter_status                          object\n",
      "congressional_district                float64\n",
      "house_district                        float64\n",
      "senate_district                       float64\n",
      "county_commission_district            float64\n",
      "school_board_district                 float64\n",
      "daytime_area_code                     object\n",
      "daytime_phone_number                  object\n",
      "daytime_phone_extension               object\n",
      "email_address                         object\n",
      "dtypes: datetime64[ns](2), float64(6), int64(2), object(28)\n",
      "memory usage: 3.9+ GB\n"
     ]
    }
   ],
   "source": [
    "detail.info()"
   ]
  },
  {
   "cell_type": "markdown",
   "metadata": {},
   "source": [
    "## 1.2 voter history"
   ]
  },
  {
   "cell_type": "code",
   "execution_count": 6,
   "metadata": {},
   "outputs": [],
   "source": [
    "# load files and combine into single dataframe\n",
    "path = r'file_path'\n",
    "all_files = glob.glob(path + \"/*.txt\")\n",
    "\n",
    "li = []\n",
    "\n",
    "for filename in all_files:\n",
    "    df = pd.read_csv(filename, \n",
    "                     sep='\\t', \n",
    "                     header=None,\n",
    "                     names=['county_code', 'voter_id', 'election_date', 'election_type', 'history_code'])\n",
    "    li.append(df)\n",
    "\n",
    "hist = pd.concat(li, axis=0, ignore_index=True)"
   ]
  },
  {
   "cell_type": "code",
   "execution_count": 7,
   "metadata": {},
   "outputs": [],
   "source": [
    "# convert date field from object dtype to datetime\n",
    "date_cache = {k: pd.to_datetime(k) for k in hist['election_date'].unique()}\n",
    "hist['election_date'] = hist['election_date'].map(date_cache)"
   ]
  },
  {
   "cell_type": "code",
   "execution_count": 8,
   "metadata": {},
   "outputs": [
    {
     "data": {
      "text/html": [
       "<div>\n",
       "<style scoped>\n",
       "    .dataframe tbody tr th:only-of-type {\n",
       "        vertical-align: middle;\n",
       "    }\n",
       "\n",
       "    .dataframe tbody tr th {\n",
       "        vertical-align: top;\n",
       "    }\n",
       "\n",
       "    .dataframe thead th {\n",
       "        text-align: right;\n",
       "    }\n",
       "</style>\n",
       "<table border=\"1\" class=\"dataframe\">\n",
       "  <thead>\n",
       "    <tr style=\"text-align: right;\">\n",
       "      <th></th>\n",
       "      <th>county_code</th>\n",
       "      <th>voter_id</th>\n",
       "      <th>election_date</th>\n",
       "      <th>election_type</th>\n",
       "      <th>history_code</th>\n",
       "    </tr>\n",
       "  </thead>\n",
       "  <tbody>\n",
       "    <tr>\n",
       "      <th>0</th>\n",
       "      <td>PIN</td>\n",
       "      <td>100021934</td>\n",
       "      <td>2016-11-08</td>\n",
       "      <td>GEN</td>\n",
       "      <td>Y</td>\n",
       "    </tr>\n",
       "    <tr>\n",
       "      <th>1</th>\n",
       "      <td>PIN</td>\n",
       "      <td>100021442</td>\n",
       "      <td>2007-03-13</td>\n",
       "      <td>OTH</td>\n",
       "      <td>Y</td>\n",
       "    </tr>\n",
       "    <tr>\n",
       "      <th>2</th>\n",
       "      <td>PIN</td>\n",
       "      <td>100047465</td>\n",
       "      <td>2014-03-11</td>\n",
       "      <td>GEN</td>\n",
       "      <td>Y</td>\n",
       "    </tr>\n",
       "    <tr>\n",
       "      <th>3</th>\n",
       "      <td>PIN</td>\n",
       "      <td>100046570</td>\n",
       "      <td>2008-11-04</td>\n",
       "      <td>GEN</td>\n",
       "      <td>A</td>\n",
       "    </tr>\n",
       "    <tr>\n",
       "      <th>4</th>\n",
       "      <td>PIN</td>\n",
       "      <td>100052464</td>\n",
       "      <td>2014-11-04</td>\n",
       "      <td>GEN</td>\n",
       "      <td>Y</td>\n",
       "    </tr>\n",
       "  </tbody>\n",
       "</table>\n",
       "</div>"
      ],
      "text/plain": [
       "  county_code   voter_id election_date election_type history_code\n",
       "0         PIN  100021934    2016-11-08           GEN            Y\n",
       "1         PIN  100021442    2007-03-13           OTH            Y\n",
       "2         PIN  100047465    2014-03-11           GEN            Y\n",
       "3         PIN  100046570    2008-11-04           GEN            A\n",
       "4         PIN  100052464    2014-11-04           GEN            Y"
      ]
     },
     "execution_count": 8,
     "metadata": {},
     "output_type": "execute_result"
    }
   ],
   "source": [
    "hist.head()"
   ]
  },
  {
   "cell_type": "code",
   "execution_count": 9,
   "metadata": {},
   "outputs": [
    {
     "name": "stdout",
     "output_type": "stream",
     "text": [
      "<class 'pandas.core.frame.DataFrame'>\n",
      "RangeIndex: 72770189 entries, 0 to 72770188\n",
      "Data columns (total 5 columns):\n",
      "county_code      object\n",
      "voter_id         int64\n",
      "election_date    datetime64[ns]\n",
      "election_type    object\n",
      "history_code     object\n",
      "dtypes: datetime64[ns](1), int64(1), object(3)\n",
      "memory usage: 2.7+ GB\n"
     ]
    }
   ],
   "source": [
    "hist.info()"
   ]
  },
  {
   "cell_type": "code",
   "execution_count": 36,
   "metadata": {},
   "outputs": [
    {
     "data": {
      "text/plain": [
       "Timestamp('2006-09-05 00:00:00')"
      ]
     },
     "execution_count": 36,
     "metadata": {},
     "output_type": "execute_result"
    }
   ],
   "source": [
    "hist.election_date.min()"
   ]
  },
  {
   "cell_type": "code",
   "execution_count": 37,
   "metadata": {},
   "outputs": [
    {
     "data": {
      "text/plain": [
       "Timestamp('2016-11-08 00:00:00')"
      ]
     },
     "execution_count": 37,
     "metadata": {},
     "output_type": "execute_result"
    }
   ],
   "source": [
    "hist.election_date.max()"
   ]
  },
  {
   "cell_type": "markdown",
   "metadata": {},
   "source": [
    "# 2.0 Prepare Dataset for Analysis"
   ]
  },
  {
   "cell_type": "markdown",
   "metadata": {},
   "source": [
    "## 2.1 Limit dataset to Primary and General Elections with 100k votes"
   ]
  },
  {
   "cell_type": "code",
   "execution_count": 10,
   "metadata": {},
   "outputs": [],
   "source": [
    "# remove rows from voter history where history_code='N' b/c these are people who did not vote\n",
    "hist = hist[hist.history_code !='N']\n",
    "\n",
    "# limit voter history dataset to Primary and General elections with at least 100k votes, so that after the cartesian join below the size of the dataframe is manageable\n",
    "elections = pd.DataFrame(hist.groupby(['election_date','election_type']).county_code.count()).reset_index()\n",
    "elections = elections[(elections.county_code > 1000000) & (elections.election_type.isin(['GEN','PRI']))][['election_date', 'election_type']]\n",
    "hist = hist.merge(elections, how='inner', left_on=['election_date','election_type'], right_on=['election_date','election_type'])\n",
    "\n",
    "# remove dupes from voter history\n",
    "hist.drop_duplicates(subset=['voter_id', 'election_date','election_type'], inplace=True)"
   ]
  },
  {
   "cell_type": "markdown",
   "metadata": {},
   "source": [
    "## 2.2 Cartesian product registration detail and election_date-election_type"
   ]
  },
  {
   "cell_type": "code",
   "execution_count": 11,
   "metadata": {},
   "outputs": [],
   "source": [
    "# get cartesian product of elections with voter registration detail, so primary key = voter_id-election_date-election_type\n",
    "elections['key'] = 1\n",
    "detail['key'] = 1\n",
    "\n",
    "df = detail[['voter_id','birth_date','registration_date','race','gender','key']].merge(elections, left_on='key', right_on='key')\n",
    "df.drop('key', inplace=True, axis=1)"
   ]
  },
  {
   "cell_type": "code",
   "execution_count": 12,
   "metadata": {},
   "outputs": [],
   "source": [
    "# remove rows where registration_date > election_date b/c these voters were not eligible to vote (<18 years old or not registered)\n",
    "df = df[df.registration_date <= df.election_date]"
   ]
  },
  {
   "cell_type": "markdown",
   "metadata": {},
   "source": [
    "## 2.3 Left join on voter history"
   ]
  },
  {
   "cell_type": "code",
   "execution_count": 13,
   "metadata": {},
   "outputs": [],
   "source": [
    "# left join on hist to determine if the voter_id voted in that election_date-election_type\n",
    "hist['voted'] = 1\n",
    "df = df.merge(hist[['voter_id','election_date','election_type','voted']], how='left', left_on=['voter_id','election_date','election_type'], right_on=['voter_id','election_date','election_type'])"
   ]
  },
  {
   "cell_type": "code",
   "execution_count": 14,
   "metadata": {},
   "outputs": [],
   "source": [
    "# create column for voted 0 = no\n",
    "df['voted'] = df.voted.fillna(value=0)"
   ]
  },
  {
   "cell_type": "code",
   "execution_count": 15,
   "metadata": {},
   "outputs": [],
   "source": [
    "# drop null birthdays\n",
    "df.dropna(subset=['birth_date'], inplace=True)"
   ]
  },
  {
   "cell_type": "code",
   "execution_count": 16,
   "metadata": {},
   "outputs": [
    {
     "data": {
      "text/plain": [
       "(122259442, 8)"
      ]
     },
     "execution_count": 16,
     "metadata": {},
     "output_type": "execute_result"
    }
   ],
   "source": [
    "df.shape"
   ]
  },
  {
   "cell_type": "markdown",
   "metadata": {},
   "source": [
    "## 2.4 Calc days between birth_date and election_date"
   ]
  },
  {
   "cell_type": "code",
   "execution_count": 17,
   "metadata": {},
   "outputs": [],
   "source": [
    "# calculate the difference in number of days between birth_date and election_date\n",
    "df['bd_day_of_month'] = df.birth_date.dt.day.astype(str)\n",
    "df['bd_month_of_year'] = df.birth_date.dt.month.astype(str)\n",
    "df['election_year'] = df.election_date.dt.year.astype(str)\n",
    "df['birthday_election_year'] = pd.to_datetime(df['election_year'] + '-' + df['bd_month_of_year'] + '-' + df['bd_day_of_month'], errors='coerce')\n",
    "\n",
    "df['days'] = (df['birthday_election_year'] - df['election_date']).dt.days"
   ]
  },
  {
   "cell_type": "code",
   "execution_count": 18,
   "metadata": {},
   "outputs": [
    {
     "data": {
      "text/html": [
       "<div>\n",
       "<style scoped>\n",
       "    .dataframe tbody tr th:only-of-type {\n",
       "        vertical-align: middle;\n",
       "    }\n",
       "\n",
       "    .dataframe tbody tr th {\n",
       "        vertical-align: top;\n",
       "    }\n",
       "\n",
       "    .dataframe thead th {\n",
       "        text-align: right;\n",
       "    }\n",
       "</style>\n",
       "<table border=\"1\" class=\"dataframe\">\n",
       "  <thead>\n",
       "    <tr style=\"text-align: right;\">\n",
       "      <th></th>\n",
       "      <th>voter_id</th>\n",
       "      <th>birth_date</th>\n",
       "      <th>registration_date</th>\n",
       "      <th>race</th>\n",
       "      <th>gender</th>\n",
       "      <th>election_date</th>\n",
       "      <th>election_type</th>\n",
       "      <th>voted</th>\n",
       "      <th>bd_day_of_month</th>\n",
       "      <th>bd_month_of_year</th>\n",
       "      <th>election_year</th>\n",
       "      <th>birthday_election_year</th>\n",
       "      <th>days</th>\n",
       "    </tr>\n",
       "  </thead>\n",
       "  <tbody>\n",
       "    <tr>\n",
       "      <th>178</th>\n",
       "      <td>102543125</td>\n",
       "      <td>1925-11-07</td>\n",
       "      <td>1977-11-14</td>\n",
       "      <td>5</td>\n",
       "      <td>M</td>\n",
       "      <td>2006-11-07</td>\n",
       "      <td>GEN</td>\n",
       "      <td>1.0</td>\n",
       "      <td>7</td>\n",
       "      <td>11</td>\n",
       "      <td>2006</td>\n",
       "      <td>2006-11-07</td>\n",
       "      <td>0.0</td>\n",
       "    </tr>\n",
       "    <tr>\n",
       "      <th>675</th>\n",
       "      <td>102586405</td>\n",
       "      <td>1930-08-14</td>\n",
       "      <td>1995-02-21</td>\n",
       "      <td>5</td>\n",
       "      <td>M</td>\n",
       "      <td>2012-08-14</td>\n",
       "      <td>PRI</td>\n",
       "      <td>0.0</td>\n",
       "      <td>14</td>\n",
       "      <td>8</td>\n",
       "      <td>2012</td>\n",
       "      <td>2012-08-14</td>\n",
       "      <td>0.0</td>\n",
       "    </tr>\n",
       "    <tr>\n",
       "      <th>1462</th>\n",
       "      <td>102655195</td>\n",
       "      <td>1936-11-08</td>\n",
       "      <td>2003-11-20</td>\n",
       "      <td>5</td>\n",
       "      <td>M</td>\n",
       "      <td>2016-11-08</td>\n",
       "      <td>GEN</td>\n",
       "      <td>1.0</td>\n",
       "      <td>8</td>\n",
       "      <td>11</td>\n",
       "      <td>2016</td>\n",
       "      <td>2016-11-08</td>\n",
       "      <td>0.0</td>\n",
       "    </tr>\n",
       "    <tr>\n",
       "      <th>1614</th>\n",
       "      <td>102578136</td>\n",
       "      <td>1937-11-04</td>\n",
       "      <td>1992-12-02</td>\n",
       "      <td>5</td>\n",
       "      <td>F</td>\n",
       "      <td>2008-11-04</td>\n",
       "      <td>GEN</td>\n",
       "      <td>1.0</td>\n",
       "      <td>4</td>\n",
       "      <td>11</td>\n",
       "      <td>2008</td>\n",
       "      <td>2008-11-04</td>\n",
       "      <td>0.0</td>\n",
       "    </tr>\n",
       "    <tr>\n",
       "      <th>1620</th>\n",
       "      <td>102578136</td>\n",
       "      <td>1937-11-04</td>\n",
       "      <td>1992-12-02</td>\n",
       "      <td>5</td>\n",
       "      <td>F</td>\n",
       "      <td>2014-11-04</td>\n",
       "      <td>GEN</td>\n",
       "      <td>1.0</td>\n",
       "      <td>4</td>\n",
       "      <td>11</td>\n",
       "      <td>2014</td>\n",
       "      <td>2014-11-04</td>\n",
       "      <td>0.0</td>\n",
       "    </tr>\n",
       "  </tbody>\n",
       "</table>\n",
       "</div>"
      ],
      "text/plain": [
       "       voter_id birth_date registration_date  race gender election_date  \\\n",
       "178   102543125 1925-11-07        1977-11-14     5      M    2006-11-07   \n",
       "675   102586405 1930-08-14        1995-02-21     5      M    2012-08-14   \n",
       "1462  102655195 1936-11-08        2003-11-20     5      M    2016-11-08   \n",
       "1614  102578136 1937-11-04        1992-12-02     5      F    2008-11-04   \n",
       "1620  102578136 1937-11-04        1992-12-02     5      F    2014-11-04   \n",
       "\n",
       "     election_type  voted bd_day_of_month bd_month_of_year election_year  \\\n",
       "178            GEN    1.0               7               11          2006   \n",
       "675            PRI    0.0              14                8          2012   \n",
       "1462           GEN    1.0               8               11          2016   \n",
       "1614           GEN    1.0               4               11          2008   \n",
       "1620           GEN    1.0               4               11          2014   \n",
       "\n",
       "     birthday_election_year  days  \n",
       "178              2006-11-07   0.0  \n",
       "675              2012-08-14   0.0  \n",
       "1462             2016-11-08   0.0  \n",
       "1614             2008-11-04   0.0  \n",
       "1620             2014-11-04   0.0  "
      ]
     },
     "execution_count": 18,
     "metadata": {},
     "output_type": "execute_result"
    }
   ],
   "source": [
    "# check that where days==0, month/day of birth_date matches month/day of election_date\n",
    "df[df.days==0].head()"
   ]
  },
  {
   "cell_type": "markdown",
   "metadata": {},
   "source": [
    "# 3.0 Analysis"
   ]
  },
  {
   "cell_type": "markdown",
   "metadata": {},
   "source": [
    "## 3.1 Check for fake birthdays"
   ]
  },
  {
   "cell_type": "markdown",
   "metadata": {},
   "source": [
    "Look for fake birthdays by identifying a month/day with a high # of occurrences (e.g. many voters reported their birthday on 1/1)"
   ]
  },
  {
   "cell_type": "code",
   "execution_count": 19,
   "metadata": {
    "collapsed": true,
    "jupyter": {
     "outputs_hidden": true
    }
   },
   "outputs": [
    {
     "name": "stderr",
     "output_type": "stream",
     "text": [
      "/opt/anaconda3/lib/python3.7/site-packages/pandas/core/indexing.py:362: SettingWithCopyWarning: \n",
      "A value is trying to be set on a copy of a slice from a DataFrame.\n",
      "Try using .loc[row_indexer,col_indexer] = value instead\n",
      "\n",
      "See the caveats in the documentation: http://pandas.pydata.org/pandas-docs/stable/indexing.html#indexing-view-versus-copy\n",
      "  self.obj[key] = _infer_fill_value(value)\n",
      "/opt/anaconda3/lib/python3.7/site-packages/pandas/core/indexing.py:543: SettingWithCopyWarning: \n",
      "A value is trying to be set on a copy of a slice from a DataFrame.\n",
      "Try using .loc[row_indexer,col_indexer] = value instead\n",
      "\n",
      "See the caveats in the documentation: http://pandas.pydata.org/pandas-docs/stable/indexing.html#indexing-view-versus-copy\n",
      "  self.obj[item] = s\n"
     ]
    }
   ],
   "source": [
    "# count the number of birthday occurences on each day of the year\n",
    "bd = detail[['voter_id','birth_date']]\n",
    "bd.loc[:,'day'] = detail.birth_date.dt.day\n",
    "bd.loc[:,'month'] = detail.birth_date.dt.month\n",
    "bd_count = pd.DataFrame(bd.groupby(['month','day']).voter_id.count().sort_values(ascending=False).rename('count')).reset_index()\n",
    "\n",
    "df_p = pd.pivot_table(bd_count,'count','month','day')"
   ]
  },
  {
   "cell_type": "code",
   "execution_count": 20,
   "metadata": {},
   "outputs": [
    {
     "data": {
      "text/html": [
       "<div>\n",
       "<style scoped>\n",
       "    .dataframe tbody tr th:only-of-type {\n",
       "        vertical-align: middle;\n",
       "    }\n",
       "\n",
       "    .dataframe tbody tr th {\n",
       "        vertical-align: top;\n",
       "    }\n",
       "\n",
       "    .dataframe thead th {\n",
       "        text-align: right;\n",
       "    }\n",
       "</style>\n",
       "<table border=\"1\" class=\"dataframe\">\n",
       "  <thead>\n",
       "    <tr style=\"text-align: right;\">\n",
       "      <th>day</th>\n",
       "      <th>1.0</th>\n",
       "      <th>2.0</th>\n",
       "      <th>3.0</th>\n",
       "      <th>4.0</th>\n",
       "      <th>5.0</th>\n",
       "      <th>6.0</th>\n",
       "      <th>7.0</th>\n",
       "      <th>8.0</th>\n",
       "      <th>9.0</th>\n",
       "      <th>10.0</th>\n",
       "      <th>...</th>\n",
       "      <th>22.0</th>\n",
       "      <th>23.0</th>\n",
       "      <th>24.0</th>\n",
       "      <th>25.0</th>\n",
       "      <th>26.0</th>\n",
       "      <th>27.0</th>\n",
       "      <th>28.0</th>\n",
       "      <th>29.0</th>\n",
       "      <th>30.0</th>\n",
       "      <th>31.0</th>\n",
       "    </tr>\n",
       "    <tr>\n",
       "      <th>month</th>\n",
       "      <th></th>\n",
       "      <th></th>\n",
       "      <th></th>\n",
       "      <th></th>\n",
       "      <th></th>\n",
       "      <th></th>\n",
       "      <th></th>\n",
       "      <th></th>\n",
       "      <th></th>\n",
       "      <th></th>\n",
       "      <th></th>\n",
       "      <th></th>\n",
       "      <th></th>\n",
       "      <th></th>\n",
       "      <th></th>\n",
       "      <th></th>\n",
       "      <th></th>\n",
       "      <th></th>\n",
       "      <th></th>\n",
       "      <th></th>\n",
       "      <th></th>\n",
       "    </tr>\n",
       "  </thead>\n",
       "  <tbody>\n",
       "    <tr>\n",
       "      <th>1.0</th>\n",
       "      <td>39229.0</td>\n",
       "      <td>35041.0</td>\n",
       "      <td>36307.0</td>\n",
       "      <td>36768.0</td>\n",
       "      <td>36710.0</td>\n",
       "      <td>37133.0</td>\n",
       "      <td>36564.0</td>\n",
       "      <td>36241.0</td>\n",
       "      <td>35919.0</td>\n",
       "      <td>37303.0</td>\n",
       "      <td>...</td>\n",
       "      <td>36554.0</td>\n",
       "      <td>36424.0</td>\n",
       "      <td>36529.0</td>\n",
       "      <td>36845.0</td>\n",
       "      <td>36678.0</td>\n",
       "      <td>36354.0</td>\n",
       "      <td>36805.0</td>\n",
       "      <td>36147.0</td>\n",
       "      <td>36244.0</td>\n",
       "      <td>35645.0</td>\n",
       "    </tr>\n",
       "    <tr>\n",
       "      <th>2.0</th>\n",
       "      <td>37163.0</td>\n",
       "      <td>38034.0</td>\n",
       "      <td>36823.0</td>\n",
       "      <td>36502.0</td>\n",
       "      <td>36955.0</td>\n",
       "      <td>36178.0</td>\n",
       "      <td>36935.0</td>\n",
       "      <td>36771.0</td>\n",
       "      <td>36644.0</td>\n",
       "      <td>37816.0</td>\n",
       "      <td>...</td>\n",
       "      <td>37529.0</td>\n",
       "      <td>36434.0</td>\n",
       "      <td>36807.0</td>\n",
       "      <td>36506.0</td>\n",
       "      <td>36476.0</td>\n",
       "      <td>36514.0</td>\n",
       "      <td>37554.0</td>\n",
       "      <td>8540.0</td>\n",
       "      <td>NaN</td>\n",
       "      <td>NaN</td>\n",
       "    </tr>\n",
       "    <tr>\n",
       "      <th>3.0</th>\n",
       "      <td>37407.0</td>\n",
       "      <td>37158.0</td>\n",
       "      <td>38005.0</td>\n",
       "      <td>36913.0</td>\n",
       "      <td>37110.0</td>\n",
       "      <td>36800.0</td>\n",
       "      <td>36620.0</td>\n",
       "      <td>36908.0</td>\n",
       "      <td>36185.0</td>\n",
       "      <td>36953.0</td>\n",
       "      <td>...</td>\n",
       "      <td>35856.0</td>\n",
       "      <td>35917.0</td>\n",
       "      <td>36074.0</td>\n",
       "      <td>36466.0</td>\n",
       "      <td>35705.0</td>\n",
       "      <td>35944.0</td>\n",
       "      <td>35826.0</td>\n",
       "      <td>35149.0</td>\n",
       "      <td>35410.0</td>\n",
       "      <td>35109.0</td>\n",
       "    </tr>\n",
       "    <tr>\n",
       "      <th>4.0</th>\n",
       "      <td>36061.0</td>\n",
       "      <td>35883.0</td>\n",
       "      <td>35365.0</td>\n",
       "      <td>36521.0</td>\n",
       "      <td>35716.0</td>\n",
       "      <td>35560.0</td>\n",
       "      <td>35825.0</td>\n",
       "      <td>35523.0</td>\n",
       "      <td>35213.0</td>\n",
       "      <td>36099.0</td>\n",
       "      <td>...</td>\n",
       "      <td>35136.0</td>\n",
       "      <td>35116.0</td>\n",
       "      <td>34917.0</td>\n",
       "      <td>35474.0</td>\n",
       "      <td>34632.0</td>\n",
       "      <td>34743.0</td>\n",
       "      <td>35784.0</td>\n",
       "      <td>35031.0</td>\n",
       "      <td>34722.0</td>\n",
       "      <td>NaN</td>\n",
       "    </tr>\n",
       "    <tr>\n",
       "      <th>5.0</th>\n",
       "      <td>36482.0</td>\n",
       "      <td>35337.0</td>\n",
       "      <td>35033.0</td>\n",
       "      <td>34931.0</td>\n",
       "      <td>36820.0</td>\n",
       "      <td>35349.0</td>\n",
       "      <td>35389.0</td>\n",
       "      <td>35463.0</td>\n",
       "      <td>34890.0</td>\n",
       "      <td>36120.0</td>\n",
       "      <td>...</td>\n",
       "      <td>35558.0</td>\n",
       "      <td>35347.0</td>\n",
       "      <td>35159.0</td>\n",
       "      <td>35865.0</td>\n",
       "      <td>35171.0</td>\n",
       "      <td>35170.0</td>\n",
       "      <td>35555.0</td>\n",
       "      <td>35306.0</td>\n",
       "      <td>34291.0</td>\n",
       "      <td>34107.0</td>\n",
       "    </tr>\n",
       "  </tbody>\n",
       "</table>\n",
       "<p>5 rows × 31 columns</p>\n",
       "</div>"
      ],
      "text/plain": [
       "day       1.0      2.0      3.0      4.0      5.0      6.0      7.0      8.0   \\\n",
       "month                                                                           \n",
       "1.0    39229.0  35041.0  36307.0  36768.0  36710.0  37133.0  36564.0  36241.0   \n",
       "2.0    37163.0  38034.0  36823.0  36502.0  36955.0  36178.0  36935.0  36771.0   \n",
       "3.0    37407.0  37158.0  38005.0  36913.0  37110.0  36800.0  36620.0  36908.0   \n",
       "4.0    36061.0  35883.0  35365.0  36521.0  35716.0  35560.0  35825.0  35523.0   \n",
       "5.0    36482.0  35337.0  35033.0  34931.0  36820.0  35349.0  35389.0  35463.0   \n",
       "\n",
       "day       9.0      10.0   ...        22.0     23.0     24.0     25.0     26.0  \\\n",
       "month                     ...                                                   \n",
       "1.0    35919.0  37303.0   ...     36554.0  36424.0  36529.0  36845.0  36678.0   \n",
       "2.0    36644.0  37816.0   ...     37529.0  36434.0  36807.0  36506.0  36476.0   \n",
       "3.0    36185.0  36953.0   ...     35856.0  35917.0  36074.0  36466.0  35705.0   \n",
       "4.0    35213.0  36099.0   ...     35136.0  35116.0  34917.0  35474.0  34632.0   \n",
       "5.0    34890.0  36120.0   ...     35558.0  35347.0  35159.0  35865.0  35171.0   \n",
       "\n",
       "day       27.0     28.0     29.0     30.0     31.0  \n",
       "month                                               \n",
       "1.0    36354.0  36805.0  36147.0  36244.0  35645.0  \n",
       "2.0    36514.0  37554.0   8540.0      NaN      NaN  \n",
       "3.0    35944.0  35826.0  35149.0  35410.0  35109.0  \n",
       "4.0    34743.0  35784.0  35031.0  34722.0      NaN  \n",
       "5.0    35170.0  35555.0  35306.0  34291.0  34107.0  \n",
       "\n",
       "[5 rows x 31 columns]"
      ]
     },
     "execution_count": 20,
     "metadata": {},
     "output_type": "execute_result"
    }
   ],
   "source": [
    "df_p.head()"
   ]
  },
  {
   "cell_type": "code",
   "execution_count": 21,
   "metadata": {},
   "outputs": [
    {
     "data": {
      "text/plain": [
       "<matplotlib.axes._subplots.AxesSubplot at 0x2196fd2590>"
      ]
     },
     "execution_count": 21,
     "metadata": {},
     "output_type": "execute_result"
    },
    {
     "data": {
      "image/png": "[encoded data removed]",
      "text/plain": [
       "<Figure size 1152x504 with 2 Axes>"
      ]
     },
     "metadata": {
      "needs_background": "light"
     },
     "output_type": "display_data"
    }
   ],
   "source": [
    "plt.figure(figsize=(16, 7))\n",
    "sns.heatmap(df_p, cmap=\"RdBu_r\", center=bd_count['count'].mean())"
   ]
  },
  {
   "cell_type": "markdown",
   "metadata": {},
   "source": [
    "The only date that stands out as an outlier is February 29th, which is expected b/c it only occurrs on a leap year"
   ]
  },
  {
   "cell_type": "markdown",
   "metadata": {},
   "source": [
    "## 3.2 Primary vs. General & Midterms vs. Presidential"
   ]
  },
  {
   "cell_type": "markdown",
   "metadata": {},
   "source": [
    "We expect to see higher turnout for general elections than primary elections.\n",
    "We expect to see higher turnout for presidential elections than midterms."
   ]
  },
  {
   "cell_type": "code",
   "execution_count": 22,
   "metadata": {},
   "outputs": [
    {
     "data": {
      "text/plain": [
       "array(['2006-09-05T00:00:00.000000000', '2006-11-07T00:00:00.000000000',\n",
       "       '2008-08-26T00:00:00.000000000', '2008-11-04T00:00:00.000000000',\n",
       "       '2010-08-24T00:00:00.000000000', '2010-11-02T00:00:00.000000000',\n",
       "       '2012-08-14T00:00:00.000000000', '2012-11-06T00:00:00.000000000',\n",
       "       '2014-08-26T00:00:00.000000000', '2014-11-04T00:00:00.000000000',\n",
       "       '2016-08-30T00:00:00.000000000', '2016-11-08T00:00:00.000000000'],\n",
       "      dtype='datetime64[ns]')"
      ]
     },
     "execution_count": 22,
     "metadata": {},
     "output_type": "execute_result"
    }
   ],
   "source": [
    "df.election_date.unique()"
   ]
  },
  {
   "cell_type": "code",
   "execution_count": 23,
   "metadata": {},
   "outputs": [
    {
     "data": {
      "text/plain": [
       "array(['2006-09-05T00:00:00.000000000', '2008-08-26T00:00:00.000000000',\n",
       "       '2010-08-24T00:00:00.000000000', '2012-08-14T00:00:00.000000000',\n",
       "       '2014-08-26T00:00:00.000000000', '2016-08-30T00:00:00.000000000'],\n",
       "      dtype='datetime64[ns]')"
      ]
     },
     "execution_count": 23,
     "metadata": {},
     "output_type": "execute_result"
    }
   ],
   "source": [
    "df[df.election_type=='PRI'].election_date.unique()"
   ]
  },
  {
   "cell_type": "code",
   "execution_count": 24,
   "metadata": {},
   "outputs": [],
   "source": [
    "primary = df[df.election_date.dt.month < 10]\n",
    "general = df[df.election_date.dt.month > 10]"
   ]
  },
  {
   "cell_type": "code",
   "execution_count": 25,
   "metadata": {},
   "outputs": [
    {
     "name": "stdout",
     "output_type": "stream",
     "text": [
      "Primary turnout: 20.2% vs. General turnout: 62.57%\n"
     ]
    }
   ],
   "source": [
    "print(f'Primary turnout: {round(primary.voted.mean()*100,2)}% vs. General turnout: {round(general.voted.mean()*100,2)}%')"
   ]
  },
  {
   "cell_type": "code",
   "execution_count": 26,
   "metadata": {},
   "outputs": [
    {
     "name": "stdout",
     "output_type": "stream",
     "text": [
      "Primary Midterms turnout: 21.74% vs Primary Presidential turnout: 20.59%\n"
     ]
    }
   ],
   "source": [
    "print(f'Primary Midterms turnout: {round(primary[primary.election_date.dt.year.isin([2006, 2010, 20014])].voted.mean()*100,2)}% vs \\\n",
    "Primary Presidential turnout: {round(primary[primary.election_date.dt.year.isin([2008, 2012, 2016])].voted.mean()*100,2)}%')"
   ]
  },
  {
   "cell_type": "code",
   "execution_count": 27,
   "metadata": {},
   "outputs": [
    {
     "name": "stdout",
     "output_type": "stream",
     "text": [
      "General Midterms turnout: 50.33% vs General Presidential turnout: 73.65%\n"
     ]
    }
   ],
   "source": [
    "print(f'General Midterms turnout: {round(general[general.election_date.dt.year.isin([2006, 2010, 20014])].voted.mean()*100,2)}% vs \\\n",
    "General Presidential turnout: {round(general[general.election_date.dt.year.isin([2008, 2012, 2016])].voted.mean()*100,2)}%')"
   ]
  },
  {
   "cell_type": "markdown",
   "metadata": {},
   "source": [
    "## 3.3 Turnout groupby age"
   ]
  },
  {
   "cell_type": "code",
   "execution_count": 28,
   "metadata": {},
   "outputs": [],
   "source": [
    "df['age'] = ((df['election_date'] - df['birth_date']).dt.days / 365).astype(int)"
   ]
  },
  {
   "cell_type": "code",
   "execution_count": 29,
   "metadata": {},
   "outputs": [],
   "source": [
    "# limit data set to persons at least 18 years old on election day\n",
    "df = df[df.age>=18]"
   ]
  },
  {
   "cell_type": "code",
   "execution_count": 30,
   "metadata": {},
   "outputs": [],
   "source": [
    "# exclude persons over 110 (likely a data quality issue)\n",
    "df = df[df.age <110]"
   ]
  },
  {
   "cell_type": "code",
   "execution_count": 31,
   "metadata": {},
   "outputs": [],
   "source": [
    "turnout_groupby_age = df.groupby(['age']).voted.agg(['mean','count','sum']).reset_index().rename(columns={'mean': 'voted', 'count': 'n_total', 'sum': 'n_voters'})\n",
    "turnout_groupby_age['n_nonvoters'] = turnout_groupby_age.n_total - turnout_groupby_age.n_voters\n",
    "turnout_groupby_age['voted'] = turnout_groupby_age['voted']*100"
   ]
  },
  {
   "cell_type": "code",
   "execution_count": 32,
   "metadata": {},
   "outputs": [
    {
     "data": {
      "text/plain": [
       "<matplotlib.axes._subplots.AxesSubplot at 0x1a22b0d910>"
      ]
     },
     "execution_count": 32,
     "metadata": {},
     "output_type": "execute_result"
    },
    {
     "data": {
      "image/png": "[encoded data removed]",
      "text/plain": [
       "<Figure size 432x288 with 1 Axes>"
      ]
     },
     "metadata": {
      "needs_background": "light"
     },
     "output_type": "display_data"
    }
   ],
   "source": [
    "sns.lineplot(x='age', y='voted', data=turnout_groupby_age)"
   ]
  },
  {
   "cell_type": "markdown",
   "metadata": {},
   "source": [
    "## 3.4 Turnout groupby race"
   ]
  },
  {
   "cell_type": "code",
   "execution_count": 33,
   "metadata": {},
   "outputs": [],
   "source": [
    "turnout_groupby_race = df.groupby(['race']).voted.agg(['mean','count','sum']).reset_index().rename(columns={'mean': 'voted', 'count': 'n_total', 'sum': 'n_voters'})\n",
    "turnout_groupby_race['n_nonvoters'] = turnout_groupby_race.n_total - turnout_groupby_race.n_voters\n",
    "turnout_groupby_race['voted'] = turnout_groupby_race['voted']*100"
   ]
  },
  {
   "cell_type": "code",
   "execution_count": 34,
   "metadata": {},
   "outputs": [],
   "source": [
    "turnout_groupby_race.race.replace({1: 'American Indian or Alaska Native',\n",
    "                                   2: 'Asian or Pacific Islander',\n",
    "                                   3: 'Black, Not Hispanic',\n",
    "                                   4: 'Hispanic',\n",
    "                                   5: 'White, Not Hispanic',\n",
    "                                   6: 'Other',\n",
    "                                   7: 'Multi-racial',\n",
    "                                   9: 'Unknown'}, inplace=True)"
   ]
  },
  {
   "cell_type": "code",
   "execution_count": 35,
   "metadata": {},
   "outputs": [
    {
     "data": {
      "text/plain": [
       "[Text(0, 0, 'American Indian or Alaska Native'),\n",
       " Text(0, 0, 'Asian or Pacific Islander'),\n",
       " Text(0, 0, 'Black, Not Hispanic'),\n",
       " Text(0, 0, 'Hispanic'),\n",
       " Text(0, 0, 'White, Not Hispanic'),\n",
       " Text(0, 0, 'Other'),\n",
       " Text(0, 0, 'Multi-racial'),\n",
       " Text(0, 0, 'Unknown')]"
      ]
     },
     "execution_count": 35,
     "metadata": {},
     "output_type": "execute_result"
    },
    {
     "data": {
      "image/png": "[encoded data removed]",
      "text/plain": [
       "<Figure size 432x288 with 1 Axes>"
      ]
     },
     "metadata": {
      "needs_background": "light"
     },
     "output_type": "display_data"
    }
   ],
   "source": [
    "plt = sns.barplot(x='race', y='voted', data=turnout_groupby_race)\n",
    "plt.set_xticklabels(plt.get_xticklabels(), rotation=45, horizontalalignment='right')"
   ]
  },
  {
   "cell_type": "markdown",
   "metadata": {},
   "source": [
    "# 4.0 Birthday Voter"
   ]
  },
  {
   "cell_type": "code",
   "execution_count": 38,
   "metadata": {},
   "outputs": [
    {
     "data": {
      "text/html": [
       "<div>\n",
       "<style scoped>\n",
       "    .dataframe tbody tr th:only-of-type {\n",
       "        vertical-align: middle;\n",
       "    }\n",
       "\n",
       "    .dataframe tbody tr th {\n",
       "        vertical-align: top;\n",
       "    }\n",
       "\n",
       "    .dataframe thead th {\n",
       "        text-align: right;\n",
       "    }\n",
       "</style>\n",
       "<table border=\"1\" class=\"dataframe\">\n",
       "  <thead>\n",
       "    <tr style=\"text-align: right;\">\n",
       "      <th></th>\n",
       "      <th>election_date</th>\n",
       "      <th>election_type</th>\n",
       "      <th>days</th>\n",
       "      <th>n_total</th>\n",
       "      <th>n_voters</th>\n",
       "      <th>n_nonvoters</th>\n",
       "      <th>voted</th>\n",
       "    </tr>\n",
       "  </thead>\n",
       "  <tbody>\n",
       "    <tr>\n",
       "      <th>1</th>\n",
       "      <td>2006-09-05</td>\n",
       "      <td>PRI</td>\n",
       "      <td>-50.0</td>\n",
       "      <td>20348</td>\n",
       "      <td>4306.0</td>\n",
       "      <td>16042.0</td>\n",
       "      <td>0.228021</td>\n",
       "    </tr>\n",
       "    <tr>\n",
       "      <th>2</th>\n",
       "      <td>2006-09-05</td>\n",
       "      <td>PRI</td>\n",
       "      <td>-49.0</td>\n",
       "      <td>20533</td>\n",
       "      <td>4301.0</td>\n",
       "      <td>16232.0</td>\n",
       "      <td>-0.215016</td>\n",
       "    </tr>\n",
       "    <tr>\n",
       "      <th>3</th>\n",
       "      <td>2006-09-05</td>\n",
       "      <td>PRI</td>\n",
       "      <td>-48.0</td>\n",
       "      <td>20248</td>\n",
       "      <td>4221.0</td>\n",
       "      <td>16027.0</td>\n",
       "      <td>-0.100265</td>\n",
       "    </tr>\n",
       "    <tr>\n",
       "      <th>4</th>\n",
       "      <td>2006-09-05</td>\n",
       "      <td>PRI</td>\n",
       "      <td>-47.0</td>\n",
       "      <td>20657</td>\n",
       "      <td>4304.0</td>\n",
       "      <td>16353.0</td>\n",
       "      <td>-0.010951</td>\n",
       "    </tr>\n",
       "    <tr>\n",
       "      <th>5</th>\n",
       "      <td>2006-09-05</td>\n",
       "      <td>PRI</td>\n",
       "      <td>-46.0</td>\n",
       "      <td>20574</td>\n",
       "      <td>4327.0</td>\n",
       "      <td>16247.0</td>\n",
       "      <td>0.195847</td>\n",
       "    </tr>\n",
       "  </tbody>\n",
       "</table>\n",
       "</div>"
      ],
      "text/plain": [
       "  election_date election_type  days  n_total  n_voters  n_nonvoters     voted\n",
       "1    2006-09-05           PRI -50.0    20348    4306.0      16042.0  0.228021\n",
       "2    2006-09-05           PRI -49.0    20533    4301.0      16232.0 -0.215016\n",
       "3    2006-09-05           PRI -48.0    20248    4221.0      16027.0 -0.100265\n",
       "4    2006-09-05           PRI -47.0    20657    4304.0      16353.0 -0.010951\n",
       "5    2006-09-05           PRI -46.0    20574    4327.0      16247.0  0.195847"
      ]
     },
     "execution_count": 38,
     "metadata": {},
     "output_type": "execute_result"
    }
   ],
   "source": [
    "# group by election_date-election_type-days_from_bday and calc voter turnout\n",
    "turnout_groupby_days_from_bday = df.groupby(['election_date','election_type','days']).voted.agg(['mean','count','sum']).reset_index().rename(columns={'mean': 'voted', 'count': 'n_total', 'sum': 'n_voters'})\n",
    "turnout_groupby_days_from_bday['n_nonvoters'] = turnout_groupby_days_from_bday.n_total - turnout_groupby_days_from_bday.n_voters\n",
    "turnout_groupby_days_from_bday['voted'] = turnout_groupby_days_from_bday['voted']*100\n",
    "\n",
    "# look at 50 days before and after birthday\n",
    "turnout_groupby_days_from_bday = turnout_groupby_days_from_bday[turnout_groupby_days_from_bday.days.abs()<52]\n",
    "\n",
    "# calculate the change in voter turnout from the previous day\n",
    "turnout_change_from_prev_day = (turnout_groupby_days_from_bday.set_index(['election_date', 'election_type','days','n_total','n_voters','n_nonvoters']).diff()).reset_index()\n",
    "turnout_change_from_prev_day = turnout_change_from_prev_day[turnout_change_from_prev_day.days.abs()<51]\n",
    "turnout_change_from_prev_day.head()"
   ]
  },
  {
   "cell_type": "markdown",
   "metadata": {},
   "source": [
    "## 4.1 Change in voter turnout from Prev Day - GEN & PRI"
   ]
  },
  {
   "cell_type": "code",
   "execution_count": 39,
   "metadata": {},
   "outputs": [
    {
     "data": {
      "text/plain": [
       "<matplotlib.axes._subplots.AxesSubplot at 0x1a8ef74e10>"
      ]
     },
     "execution_count": 39,
     "metadata": {},
     "output_type": "execute_result"
    },
    {
     "data": {
      "image/png": "[encoded data removed]",
      "text/plain": [
       "<Figure size 432x288 with 1 Axes>"
      ]
     },
     "metadata": {
      "needs_background": "light"
     },
     "output_type": "display_data"
    }
   ],
   "source": [
    "sns.lineplot(x='days', y='voted', hue='election_type',data=turnout_change_from_prev_day)"
   ]
  },
  {
   "cell_type": "code",
   "execution_count": 58,
   "metadata": {},
   "outputs": [],
   "source": [
    "import matplotlib.pyplot as plt"
   ]
  },
  {
   "cell_type": "code",
   "execution_count": 66,
   "metadata": {},
   "outputs": [
    {
     "data": {
      "text/plain": [
       "Text(0.5, 0, 'Number of Days from Birthday')"
      ]
     },
     "execution_count": 66,
     "metadata": {},
     "output_type": "execute_result"
    },
    {
     "data": {
      "image/png": "[encoded data removed]",
      "text/plain": [
       "<Figure size 432x288 with 1 Axes>"
      ]
     },
     "metadata": {
      "needs_background": "light"
     },
     "output_type": "display_data"
    }
   ],
   "source": [
    "avg_change_from_prev_day = pd.DataFrame(turnout_change_from_prev_day.groupby('days').voted.mean())\n",
    "sns.lineplot(x=avg_change_from_prev_day.index, y=avg_change_from_prev_day.voted)\n",
    "plt.ylabel('% Change in Turnout from Prev Day', fontsize=12)\n",
    "plt.xlabel('Number of Days from Birthday', fontsize=12)"
   ]
  },
  {
   "cell_type": "markdown",
   "metadata": {},
   "source": [
    "### +/- 50 days avg absolute change from previous day"
   ]
  },
  {
   "cell_type": "code",
   "execution_count": 68,
   "metadata": {},
   "outputs": [
    {
     "data": {
      "text/html": [
       "<div>\n",
       "<style scoped>\n",
       "    .dataframe tbody tr th:only-of-type {\n",
       "        vertical-align: middle;\n",
       "    }\n",
       "\n",
       "    .dataframe tbody tr th {\n",
       "        vertical-align: top;\n",
       "    }\n",
       "\n",
       "    .dataframe thead th {\n",
       "        text-align: right;\n",
       "    }\n",
       "</style>\n",
       "<table border=\"1\" class=\"dataframe\">\n",
       "  <thead>\n",
       "    <tr style=\"text-align: right;\">\n",
       "      <th></th>\n",
       "      <th>voted_abs</th>\n",
       "      <th>n_total</th>\n",
       "      <th>n_voters</th>\n",
       "      <th>n_nonvoters</th>\n",
       "    </tr>\n",
       "    <tr>\n",
       "      <th>days_grouped_50</th>\n",
       "      <th></th>\n",
       "      <th></th>\n",
       "      <th></th>\n",
       "      <th></th>\n",
       "    </tr>\n",
       "  </thead>\n",
       "  <tbody>\n",
       "    <tr>\n",
       "      <th>+50</th>\n",
       "      <td>0.30</td>\n",
       "      <td>17216272</td>\n",
       "      <td>7098816</td>\n",
       "      <td>10117456</td>\n",
       "    </tr>\n",
       "    <tr>\n",
       "      <th>-50</th>\n",
       "      <td>0.29</td>\n",
       "      <td>17454376</td>\n",
       "      <td>7351900</td>\n",
       "      <td>10102476</td>\n",
       "    </tr>\n",
       "    <tr>\n",
       "      <th>0</th>\n",
       "      <td>0.77</td>\n",
       "      <td>343829</td>\n",
       "      <td>144092</td>\n",
       "      <td>199737</td>\n",
       "    </tr>\n",
       "  </tbody>\n",
       "</table>\n",
       "</div>"
      ],
      "text/plain": [
       "                 voted_abs   n_total  n_voters  n_nonvoters\n",
       "days_grouped_50                                            \n",
       "+50                   0.30  17216272   7098816     10117456\n",
       "-50                   0.29  17454376   7351900     10102476\n",
       "0                     0.77    343829    144092       199737"
      ]
     },
     "execution_count": 68,
     "metadata": {},
     "output_type": "execute_result"
    }
   ],
   "source": [
    "turnout_change_from_prev_day['days_grouped_50'] = np.where(turnout_change_from_prev_day.days<0, '-50', np.where(turnout_change_from_prev_day.days>0, '+50', '0'))\n",
    "turnout_change_from_prev_day['voted_abs'] = turnout_change_from_prev_day.voted.abs()\n",
    "turnout_change_from_prev_day.groupby('days_grouped_50').agg({'voted_abs': 'mean', 'n_total': 'sum', 'n_voters': 'sum', 'n_nonvoters': 'sum'}).astype({'n_voters': int, 'n_nonvoters': int}).round(2)"
   ]
  },
  {
   "cell_type": "markdown",
   "metadata": {},
   "source": [
    "### +/- 30 days avg absolute change from previous day"
   ]
  },
  {
   "cell_type": "code",
   "execution_count": 69,
   "metadata": {},
   "outputs": [
    {
     "name": "stderr",
     "output_type": "stream",
     "text": [
      "/opt/anaconda3/lib/python3.7/site-packages/ipykernel_launcher.py:2: SettingWithCopyWarning: \n",
      "A value is trying to be set on a copy of a slice from a DataFrame.\n",
      "Try using .loc[row_indexer,col_indexer] = value instead\n",
      "\n",
      "See the caveats in the documentation: http://pandas.pydata.org/pandas-docs/stable/indexing.html#indexing-view-versus-copy\n",
      "  \n"
     ]
    },
    {
     "data": {
      "text/html": [
       "<div>\n",
       "<style scoped>\n",
       "    .dataframe tbody tr th:only-of-type {\n",
       "        vertical-align: middle;\n",
       "    }\n",
       "\n",
       "    .dataframe tbody tr th {\n",
       "        vertical-align: top;\n",
       "    }\n",
       "\n",
       "    .dataframe thead th {\n",
       "        text-align: right;\n",
       "    }\n",
       "</style>\n",
       "<table border=\"1\" class=\"dataframe\">\n",
       "  <thead>\n",
       "    <tr style=\"text-align: right;\">\n",
       "      <th></th>\n",
       "      <th>voted_abs</th>\n",
       "      <th>n_total</th>\n",
       "      <th>n_voters</th>\n",
       "      <th>n_nonvoters</th>\n",
       "    </tr>\n",
       "    <tr>\n",
       "      <th>days_grouped_30</th>\n",
       "      <th></th>\n",
       "      <th></th>\n",
       "      <th></th>\n",
       "      <th></th>\n",
       "    </tr>\n",
       "  </thead>\n",
       "  <tbody>\n",
       "    <tr>\n",
       "      <th>+30</th>\n",
       "      <td>0.31</td>\n",
       "      <td>10351620</td>\n",
       "      <td>4268004.0</td>\n",
       "      <td>6083616.0</td>\n",
       "    </tr>\n",
       "    <tr>\n",
       "      <th>-30</th>\n",
       "      <td>0.29</td>\n",
       "      <td>10382628</td>\n",
       "      <td>4327063.0</td>\n",
       "      <td>6055565.0</td>\n",
       "    </tr>\n",
       "    <tr>\n",
       "      <th>0</th>\n",
       "      <td>0.77</td>\n",
       "      <td>343829</td>\n",
       "      <td>144092.0</td>\n",
       "      <td>199737.0</td>\n",
       "    </tr>\n",
       "  </tbody>\n",
       "</table>\n",
       "</div>"
      ],
      "text/plain": [
       "                 voted_abs   n_total   n_voters  n_nonvoters\n",
       "days_grouped_30                                             \n",
       "+30                   0.31  10351620  4268004.0    6083616.0\n",
       "-30                   0.29  10382628  4327063.0    6055565.0\n",
       "0                     0.77    343829   144092.0     199737.0"
      ]
     },
     "execution_count": 69,
     "metadata": {},
     "output_type": "execute_result"
    }
   ],
   "source": [
    "turnout_change_from_prev_day_30 = turnout_change_from_prev_day[turnout_change_from_prev_day.days.abs() < 31]\n",
    "turnout_change_from_prev_day_30['days_grouped_30'] = np.where(turnout_change_from_prev_day_30.days<0, '-30', np.where(turnout_change_from_prev_day_30.days>0, '+30', '0'))\n",
    "turnout_change_from_prev_day_30.groupby('days_grouped_30').agg({'voted_abs': 'mean', 'n_total': 'sum', 'n_voters': 'sum', 'n_nonvoters': 'sum'}).round(2)"
   ]
  },
  {
   "cell_type": "markdown",
   "metadata": {},
   "source": [
    "### +/- 7 days avg absolute change from previous day"
   ]
  },
  {
   "cell_type": "code",
   "execution_count": 70,
   "metadata": {},
   "outputs": [
    {
     "name": "stderr",
     "output_type": "stream",
     "text": [
      "/opt/anaconda3/lib/python3.7/site-packages/ipykernel_launcher.py:2: SettingWithCopyWarning: \n",
      "A value is trying to be set on a copy of a slice from a DataFrame.\n",
      "Try using .loc[row_indexer,col_indexer] = value instead\n",
      "\n",
      "See the caveats in the documentation: http://pandas.pydata.org/pandas-docs/stable/indexing.html#indexing-view-versus-copy\n",
      "  \n"
     ]
    },
    {
     "data": {
      "text/html": [
       "<div>\n",
       "<style scoped>\n",
       "    .dataframe tbody tr th:only-of-type {\n",
       "        vertical-align: middle;\n",
       "    }\n",
       "\n",
       "    .dataframe tbody tr th {\n",
       "        vertical-align: top;\n",
       "    }\n",
       "\n",
       "    .dataframe thead th {\n",
       "        text-align: right;\n",
       "    }\n",
       "</style>\n",
       "<table border=\"1\" class=\"dataframe\">\n",
       "  <thead>\n",
       "    <tr style=\"text-align: right;\">\n",
       "      <th></th>\n",
       "      <th>voted_abs</th>\n",
       "      <th>n_total</th>\n",
       "      <th>n_voters</th>\n",
       "      <th>n_nonvoters</th>\n",
       "    </tr>\n",
       "    <tr>\n",
       "      <th>days_grouped_7</th>\n",
       "      <th></th>\n",
       "      <th></th>\n",
       "      <th></th>\n",
       "      <th></th>\n",
       "    </tr>\n",
       "  </thead>\n",
       "  <tbody>\n",
       "    <tr>\n",
       "      <th>+7</th>\n",
       "      <td>0.35</td>\n",
       "      <td>2411271</td>\n",
       "      <td>1001905.0</td>\n",
       "      <td>1409366.0</td>\n",
       "    </tr>\n",
       "    <tr>\n",
       "      <th>-7</th>\n",
       "      <td>0.32</td>\n",
       "      <td>2409825</td>\n",
       "      <td>996079.0</td>\n",
       "      <td>1413746.0</td>\n",
       "    </tr>\n",
       "    <tr>\n",
       "      <th>0</th>\n",
       "      <td>0.77</td>\n",
       "      <td>343829</td>\n",
       "      <td>144092.0</td>\n",
       "      <td>199737.0</td>\n",
       "    </tr>\n",
       "  </tbody>\n",
       "</table>\n",
       "</div>"
      ],
      "text/plain": [
       "                voted_abs  n_total   n_voters  n_nonvoters\n",
       "days_grouped_7                                            \n",
       "+7                   0.35  2411271  1001905.0    1409366.0\n",
       "-7                   0.32  2409825   996079.0    1413746.0\n",
       "0                    0.77   343829   144092.0     199737.0"
      ]
     },
     "execution_count": 70,
     "metadata": {},
     "output_type": "execute_result"
    }
   ],
   "source": [
    "turnout_change_from_prev_day_7 = turnout_change_from_prev_day[turnout_change_from_prev_day.days.abs() < 8]\n",
    "turnout_change_from_prev_day_7['days_grouped_7'] = np.where(turnout_change_from_prev_day_7.days<0, '-7', np.where(turnout_change_from_prev_day_7.days>0, '+7', '0'))\n",
    "turnout_change_from_prev_day_7.groupby('days_grouped_7').agg({'voted_abs': 'mean', 'n_total': 'sum', 'n_voters': 'sum', 'n_nonvoters': 'sum'}).round(2)"
   ]
  },
  {
   "cell_type": "markdown",
   "metadata": {},
   "source": [
    "### +/- 2 days change from previous day"
   ]
  },
  {
   "cell_type": "code",
   "execution_count": 71,
   "metadata": {},
   "outputs": [
    {
     "data": {
      "text/html": [
       "<div>\n",
       "<style scoped>\n",
       "    .dataframe tbody tr th:only-of-type {\n",
       "        vertical-align: middle;\n",
       "    }\n",
       "\n",
       "    .dataframe tbody tr th {\n",
       "        vertical-align: top;\n",
       "    }\n",
       "\n",
       "    .dataframe thead th {\n",
       "        text-align: right;\n",
       "    }\n",
       "</style>\n",
       "<table border=\"1\" class=\"dataframe\">\n",
       "  <thead>\n",
       "    <tr style=\"text-align: right;\">\n",
       "      <th></th>\n",
       "      <th>voted</th>\n",
       "      <th>n_total</th>\n",
       "      <th>n_voters</th>\n",
       "      <th>n_nonvoters</th>\n",
       "    </tr>\n",
       "    <tr>\n",
       "      <th>days</th>\n",
       "      <th></th>\n",
       "      <th></th>\n",
       "      <th></th>\n",
       "      <th></th>\n",
       "    </tr>\n",
       "  </thead>\n",
       "  <tbody>\n",
       "    <tr>\n",
       "      <th>-2.0</th>\n",
       "      <td>0.12</td>\n",
       "      <td>344402</td>\n",
       "      <td>142496.0</td>\n",
       "      <td>201906.0</td>\n",
       "    </tr>\n",
       "    <tr>\n",
       "      <th>-1.0</th>\n",
       "      <td>-0.18</td>\n",
       "      <td>344441</td>\n",
       "      <td>142226.0</td>\n",
       "      <td>202215.0</td>\n",
       "    </tr>\n",
       "    <tr>\n",
       "      <th>0.0</th>\n",
       "      <td>0.72</td>\n",
       "      <td>343829</td>\n",
       "      <td>144092.0</td>\n",
       "      <td>199737.0</td>\n",
       "    </tr>\n",
       "    <tr>\n",
       "      <th>1.0</th>\n",
       "      <td>-0.46</td>\n",
       "      <td>344008</td>\n",
       "      <td>142549.0</td>\n",
       "      <td>201459.0</td>\n",
       "    </tr>\n",
       "    <tr>\n",
       "      <th>2.0</th>\n",
       "      <td>0.04</td>\n",
       "      <td>345654</td>\n",
       "      <td>142876.0</td>\n",
       "      <td>202778.0</td>\n",
       "    </tr>\n",
       "  </tbody>\n",
       "</table>\n",
       "</div>"
      ],
      "text/plain": [
       "      voted  n_total  n_voters  n_nonvoters\n",
       "days                                       \n",
       "-2.0   0.12   344402  142496.0     201906.0\n",
       "-1.0  -0.18   344441  142226.0     202215.0\n",
       " 0.0   0.72   343829  144092.0     199737.0\n",
       " 1.0  -0.46   344008  142549.0     201459.0\n",
       " 2.0   0.04   345654  142876.0     202778.0"
      ]
     },
     "execution_count": 71,
     "metadata": {},
     "output_type": "execute_result"
    }
   ],
   "source": [
    "turnout_change_from_prev_day[turnout_change_from_prev_day.days.isin([-2,-1,0,1,2])].groupby('days').agg({'voted': 'mean', 'n_total': 'sum', 'n_voters': 'sum', 'n_nonvoters': 'sum'}).round(2)"
   ]
  },
  {
   "cell_type": "markdown",
   "metadata": {},
   "source": [
    "## 4.2 Change in voter turnout from Prev Day - GEN Only"
   ]
  },
  {
   "cell_type": "code",
   "execution_count": 72,
   "metadata": {},
   "outputs": [
    {
     "data": {
      "text/plain": [
       "Text(0.5, 0, 'Number of Days from Birthday')"
      ]
     },
     "execution_count": 72,
     "metadata": {},
     "output_type": "execute_result"
    },
    {
     "data": {
      "image/png": "[encoded data removed]",
      "text/plain": [
       "<Figure size 432x288 with 1 Axes>"
      ]
     },
     "metadata": {
      "needs_background": "light"
     },
     "output_type": "display_data"
    }
   ],
   "source": [
    "turnout_change_from_prev_day_GEN = turnout_change_from_prev_day[turnout_change_from_prev_day.election_type=='GEN']\n",
    "sns.lineplot(x='days', y='voted', hue='election_type',data=turnout_change_from_prev_day_GEN)\n",
    "plt.ylabel('% Change in Turnout from Prev Day', fontsize=12)\n",
    "plt.xlabel('Number of Days from Birthday', fontsize=12)"
   ]
  },
  {
   "cell_type": "code",
   "execution_count": 73,
   "metadata": {},
   "outputs": [
    {
     "data": {
      "text/plain": [
       "Text(0.5, 0, 'Number of Days from Birthday')"
      ]
     },
     "execution_count": 73,
     "metadata": {},
     "output_type": "execute_result"
    },
    {
     "data": {
      "image/png": "[encoded data removed]",
      "text/plain": [
       "<Figure size 432x288 with 1 Axes>"
      ]
     },
     "metadata": {
      "needs_background": "light"
     },
     "output_type": "display_data"
    }
   ],
   "source": [
    "avg_change_from_prev_day_GEN = pd.DataFrame(turnout_change_from_prev_day_GEN.groupby('days').voted.mean())\n",
    "sns.lineplot(x=avg_change_from_prev_day_GEN.index, y=avg_change_from_prev_day_GEN.voted)\n",
    "plt.ylabel('% Change in Turnout from Prev Day', fontsize=12)\n",
    "plt.xlabel('Number of Days from Birthday', fontsize=12)"
   ]
  },
  {
   "cell_type": "markdown",
   "metadata": {},
   "source": [
    "### +/- 50 days avg absolute change from previous day"
   ]
  },
  {
   "cell_type": "code",
   "execution_count": 74,
   "metadata": {},
   "outputs": [
    {
     "name": "stderr",
     "output_type": "stream",
     "text": [
      "/opt/anaconda3/lib/python3.7/site-packages/ipykernel_launcher.py:1: SettingWithCopyWarning: \n",
      "A value is trying to be set on a copy of a slice from a DataFrame.\n",
      "Try using .loc[row_indexer,col_indexer] = value instead\n",
      "\n",
      "See the caveats in the documentation: http://pandas.pydata.org/pandas-docs/stable/indexing.html#indexing-view-versus-copy\n",
      "  \"\"\"Entry point for launching an IPython kernel.\n",
      "/opt/anaconda3/lib/python3.7/site-packages/ipykernel_launcher.py:2: SettingWithCopyWarning: \n",
      "A value is trying to be set on a copy of a slice from a DataFrame.\n",
      "Try using .loc[row_indexer,col_indexer] = value instead\n",
      "\n",
      "See the caveats in the documentation: http://pandas.pydata.org/pandas-docs/stable/indexing.html#indexing-view-versus-copy\n",
      "  \n"
     ]
    },
    {
     "data": {
      "text/html": [
       "<div>\n",
       "<style scoped>\n",
       "    .dataframe tbody tr th:only-of-type {\n",
       "        vertical-align: middle;\n",
       "    }\n",
       "\n",
       "    .dataframe tbody tr th {\n",
       "        vertical-align: top;\n",
       "    }\n",
       "\n",
       "    .dataframe thead th {\n",
       "        text-align: right;\n",
       "    }\n",
       "</style>\n",
       "<table border=\"1\" class=\"dataframe\">\n",
       "  <thead>\n",
       "    <tr style=\"text-align: right;\">\n",
       "      <th></th>\n",
       "      <th>voted_abs</th>\n",
       "      <th>n_total</th>\n",
       "      <th>n_voters</th>\n",
       "      <th>n_nonvoters</th>\n",
       "    </tr>\n",
       "    <tr>\n",
       "      <th>days_grouped_50</th>\n",
       "      <th></th>\n",
       "      <th></th>\n",
       "      <th></th>\n",
       "      <th></th>\n",
       "    </tr>\n",
       "  </thead>\n",
       "  <tbody>\n",
       "    <tr>\n",
       "      <th>+50</th>\n",
       "      <td>0.33</td>\n",
       "      <td>8414781</td>\n",
       "      <td>5300786.0</td>\n",
       "      <td>3113995.0</td>\n",
       "    </tr>\n",
       "    <tr>\n",
       "      <th>-50</th>\n",
       "      <td>0.31</td>\n",
       "      <td>8937331</td>\n",
       "      <td>5617930.0</td>\n",
       "      <td>3319401.0</td>\n",
       "    </tr>\n",
       "    <tr>\n",
       "      <th>0</th>\n",
       "      <td>0.87</td>\n",
       "      <td>171331</td>\n",
       "      <td>108220.0</td>\n",
       "      <td>63111.0</td>\n",
       "    </tr>\n",
       "  </tbody>\n",
       "</table>\n",
       "</div>"
      ],
      "text/plain": [
       "                 voted_abs  n_total   n_voters  n_nonvoters\n",
       "days_grouped_50                                            \n",
       "+50                   0.33  8414781  5300786.0    3113995.0\n",
       "-50                   0.31  8937331  5617930.0    3319401.0\n",
       "0                     0.87   171331   108220.0      63111.0"
      ]
     },
     "execution_count": 74,
     "metadata": {},
     "output_type": "execute_result"
    }
   ],
   "source": [
    "turnout_change_from_prev_day_GEN['days_grouped_50'] = np.where(turnout_change_from_prev_day_GEN.days<0, '-50', np.where(turnout_change_from_prev_day_GEN.days>0, '+50', '0'))\n",
    "turnout_change_from_prev_day_GEN['voted_abs'] = turnout_change_from_prev_day_GEN.voted.abs()\n",
    "turnout_change_from_prev_day_GEN.groupby('days_grouped_50').agg({'voted_abs': 'mean', 'n_total': 'sum', 'n_voters': 'sum', 'n_nonvoters': 'sum'}).round(2)"
   ]
  },
  {
   "cell_type": "markdown",
   "metadata": {},
   "source": [
    "### +/- 30 days avg absolute change from previous day"
   ]
  },
  {
   "cell_type": "code",
   "execution_count": 76,
   "metadata": {},
   "outputs": [
    {
     "name": "stderr",
     "output_type": "stream",
     "text": [
      "/opt/anaconda3/lib/python3.7/site-packages/ipykernel_launcher.py:2: SettingWithCopyWarning: \n",
      "A value is trying to be set on a copy of a slice from a DataFrame.\n",
      "Try using .loc[row_indexer,col_indexer] = value instead\n",
      "\n",
      "See the caveats in the documentation: http://pandas.pydata.org/pandas-docs/stable/indexing.html#indexing-view-versus-copy\n",
      "  \n"
     ]
    },
    {
     "data": {
      "text/html": [
       "<div>\n",
       "<style scoped>\n",
       "    .dataframe tbody tr th:only-of-type {\n",
       "        vertical-align: middle;\n",
       "    }\n",
       "\n",
       "    .dataframe tbody tr th {\n",
       "        vertical-align: top;\n",
       "    }\n",
       "\n",
       "    .dataframe thead th {\n",
       "        text-align: right;\n",
       "    }\n",
       "</style>\n",
       "<table border=\"1\" class=\"dataframe\">\n",
       "  <thead>\n",
       "    <tr style=\"text-align: right;\">\n",
       "      <th></th>\n",
       "      <th>voted_abs</th>\n",
       "      <th>n_total</th>\n",
       "      <th>n_voters</th>\n",
       "      <th>n_nonvoters</th>\n",
       "    </tr>\n",
       "    <tr>\n",
       "      <th>days_grouped_30</th>\n",
       "      <th></th>\n",
       "      <th></th>\n",
       "      <th></th>\n",
       "      <th></th>\n",
       "    </tr>\n",
       "  </thead>\n",
       "  <tbody>\n",
       "    <tr>\n",
       "      <th>+30</th>\n",
       "      <td>0.33</td>\n",
       "      <td>5054639</td>\n",
       "      <td>3185573.0</td>\n",
       "      <td>1869066.0</td>\n",
       "    </tr>\n",
       "    <tr>\n",
       "      <th>-30</th>\n",
       "      <td>0.30</td>\n",
       "      <td>5211555</td>\n",
       "      <td>3272540.0</td>\n",
       "      <td>1939015.0</td>\n",
       "    </tr>\n",
       "    <tr>\n",
       "      <th>0</th>\n",
       "      <td>0.87</td>\n",
       "      <td>171331</td>\n",
       "      <td>108220.0</td>\n",
       "      <td>63111.0</td>\n",
       "    </tr>\n",
       "  </tbody>\n",
       "</table>\n",
       "</div>"
      ],
      "text/plain": [
       "                 voted_abs  n_total   n_voters  n_nonvoters\n",
       "days_grouped_30                                            \n",
       "+30                   0.33  5054639  3185573.0    1869066.0\n",
       "-30                   0.30  5211555  3272540.0    1939015.0\n",
       "0                     0.87   171331   108220.0      63111.0"
      ]
     },
     "execution_count": 76,
     "metadata": {},
     "output_type": "execute_result"
    }
   ],
   "source": [
    "turnout_change_from_prev_day_30_GEN = turnout_change_from_prev_day_GEN[turnout_change_from_prev_day_GEN.days.abs() < 31]\n",
    "turnout_change_from_prev_day_30_GEN['days_grouped_30'] = np.where(turnout_change_from_prev_day_30_GEN.days<0, '-30', np.where(turnout_change_from_prev_day_30_GEN.days>0, '+30', '0'))\n",
    "turnout_change_from_prev_day_30_GEN.groupby('days_grouped_30').agg({'voted_abs': 'mean', 'n_total': 'sum', 'n_voters': 'sum', 'n_nonvoters': 'sum'}).round(2)"
   ]
  },
  {
   "cell_type": "markdown",
   "metadata": {},
   "source": [
    "### +/- 7 days avg absolute change from previous day"
   ]
  },
  {
   "cell_type": "code",
   "execution_count": 77,
   "metadata": {},
   "outputs": [
    {
     "name": "stderr",
     "output_type": "stream",
     "text": [
      "/opt/anaconda3/lib/python3.7/site-packages/ipykernel_launcher.py:2: SettingWithCopyWarning: \n",
      "A value is trying to be set on a copy of a slice from a DataFrame.\n",
      "Try using .loc[row_indexer,col_indexer] = value instead\n",
      "\n",
      "See the caveats in the documentation: http://pandas.pydata.org/pandas-docs/stable/indexing.html#indexing-view-versus-copy\n",
      "  \n"
     ]
    },
    {
     "data": {
      "text/html": [
       "<div>\n",
       "<style scoped>\n",
       "    .dataframe tbody tr th:only-of-type {\n",
       "        vertical-align: middle;\n",
       "    }\n",
       "\n",
       "    .dataframe tbody tr th {\n",
       "        vertical-align: top;\n",
       "    }\n",
       "\n",
       "    .dataframe thead th {\n",
       "        text-align: right;\n",
       "    }\n",
       "</style>\n",
       "<table border=\"1\" class=\"dataframe\">\n",
       "  <thead>\n",
       "    <tr style=\"text-align: right;\">\n",
       "      <th></th>\n",
       "      <th>voted_abs</th>\n",
       "      <th>n_total</th>\n",
       "      <th>n_voters</th>\n",
       "      <th>n_nonvoters</th>\n",
       "    </tr>\n",
       "    <tr>\n",
       "      <th>days_grouped_7</th>\n",
       "      <th></th>\n",
       "      <th></th>\n",
       "      <th></th>\n",
       "      <th></th>\n",
       "    </tr>\n",
       "  </thead>\n",
       "  <tbody>\n",
       "    <tr>\n",
       "      <th>+7</th>\n",
       "      <td>0.39</td>\n",
       "      <td>1198471</td>\n",
       "      <td>753419.0</td>\n",
       "      <td>445052.0</td>\n",
       "    </tr>\n",
       "    <tr>\n",
       "      <th>-7</th>\n",
       "      <td>0.26</td>\n",
       "      <td>1198957</td>\n",
       "      <td>750512.0</td>\n",
       "      <td>448445.0</td>\n",
       "    </tr>\n",
       "    <tr>\n",
       "      <th>0</th>\n",
       "      <td>0.87</td>\n",
       "      <td>171331</td>\n",
       "      <td>108220.0</td>\n",
       "      <td>63111.0</td>\n",
       "    </tr>\n",
       "  </tbody>\n",
       "</table>\n",
       "</div>"
      ],
      "text/plain": [
       "                voted_abs  n_total  n_voters  n_nonvoters\n",
       "days_grouped_7                                           \n",
       "+7                   0.39  1198471  753419.0     445052.0\n",
       "-7                   0.26  1198957  750512.0     448445.0\n",
       "0                    0.87   171331  108220.0      63111.0"
      ]
     },
     "execution_count": 77,
     "metadata": {},
     "output_type": "execute_result"
    }
   ],
   "source": [
    "turnout_change_from_prev_day_7_GEN = turnout_change_from_prev_day_GEN[turnout_change_from_prev_day_GEN.days.abs() < 8]\n",
    "turnout_change_from_prev_day_7_GEN['days_grouped_7'] = np.where(turnout_change_from_prev_day_7_GEN.days<0, '-7', np.where(turnout_change_from_prev_day_7_GEN.days>0, '+7', '0'))\n",
    "turnout_change_from_prev_day_7_GEN.groupby('days_grouped_7').agg({'voted_abs': 'mean', 'n_total': 'sum', 'n_voters': 'sum', 'n_nonvoters': 'sum'}).round(2)"
   ]
  },
  {
   "cell_type": "markdown",
   "metadata": {},
   "source": [
    "### +/- 2 days change from previous day"
   ]
  },
  {
   "cell_type": "code",
   "execution_count": 78,
   "metadata": {},
   "outputs": [
    {
     "data": {
      "text/html": [
       "<div>\n",
       "<style scoped>\n",
       "    .dataframe tbody tr th:only-of-type {\n",
       "        vertical-align: middle;\n",
       "    }\n",
       "\n",
       "    .dataframe tbody tr th {\n",
       "        vertical-align: top;\n",
       "    }\n",
       "\n",
       "    .dataframe thead th {\n",
       "        text-align: right;\n",
       "    }\n",
       "</style>\n",
       "<table border=\"1\" class=\"dataframe\">\n",
       "  <thead>\n",
       "    <tr style=\"text-align: right;\">\n",
       "      <th></th>\n",
       "      <th>voted</th>\n",
       "      <th>n_total</th>\n",
       "      <th>n_voters</th>\n",
       "      <th>n_nonvoters</th>\n",
       "    </tr>\n",
       "    <tr>\n",
       "      <th>days</th>\n",
       "      <th></th>\n",
       "      <th></th>\n",
       "      <th></th>\n",
       "      <th></th>\n",
       "    </tr>\n",
       "  </thead>\n",
       "  <tbody>\n",
       "    <tr>\n",
       "      <th>-2.0</th>\n",
       "      <td>-0.08</td>\n",
       "      <td>170949</td>\n",
       "      <td>106975.0</td>\n",
       "      <td>63974.0</td>\n",
       "    </tr>\n",
       "    <tr>\n",
       "      <th>-1.0</th>\n",
       "      <td>-0.05</td>\n",
       "      <td>172025</td>\n",
       "      <td>107446.0</td>\n",
       "      <td>64579.0</td>\n",
       "    </tr>\n",
       "    <tr>\n",
       "      <th>0.0</th>\n",
       "      <td>0.77</td>\n",
       "      <td>171331</td>\n",
       "      <td>108220.0</td>\n",
       "      <td>63111.0</td>\n",
       "    </tr>\n",
       "    <tr>\n",
       "      <th>1.0</th>\n",
       "      <td>-0.48</td>\n",
       "      <td>170803</td>\n",
       "      <td>107201.0</td>\n",
       "      <td>63602.0</td>\n",
       "    </tr>\n",
       "    <tr>\n",
       "      <th>2.0</th>\n",
       "      <td>-0.04</td>\n",
       "      <td>170832</td>\n",
       "      <td>107083.0</td>\n",
       "      <td>63749.0</td>\n",
       "    </tr>\n",
       "  </tbody>\n",
       "</table>\n",
       "</div>"
      ],
      "text/plain": [
       "      voted  n_total  n_voters  n_nonvoters\n",
       "days                                       \n",
       "-2.0  -0.08   170949  106975.0      63974.0\n",
       "-1.0  -0.05   172025  107446.0      64579.0\n",
       " 0.0   0.77   171331  108220.0      63111.0\n",
       " 1.0  -0.48   170803  107201.0      63602.0\n",
       " 2.0  -0.04   170832  107083.0      63749.0"
      ]
     },
     "execution_count": 78,
     "metadata": {},
     "output_type": "execute_result"
    }
   ],
   "source": [
    "turnout_change_from_prev_day_GEN[turnout_change_from_prev_day_GEN.days.isin([-2,-1,0,1,2])].groupby('days').agg({'voted': 'mean', 'n_total': 'sum', 'n_voters': 'sum', 'n_nonvoters': 'sum'}).round(2)"
   ]
  },
  {
   "cell_type": "markdown",
   "metadata": {},
   "source": [
    "## 4.3 Change in voter turnout from Prev Day - PRI Only"
   ]
  },
  {
   "cell_type": "code",
   "execution_count": 79,
   "metadata": {},
   "outputs": [
    {
     "data": {
      "text/plain": [
       "Text(0.5, 0, 'Number of Days from Birthday')"
      ]
     },
     "execution_count": 79,
     "metadata": {},
     "output_type": "execute_result"
    },
    {
     "data": {
      "image/png": "[encoded data removed]",
      "text/plain": [
       "<Figure size 432x288 with 1 Axes>"
      ]
     },
     "metadata": {
      "needs_background": "light"
     },
     "output_type": "display_data"
    }
   ],
   "source": [
    "turnout_change_from_prev_day_PRI = turnout_change_from_prev_day[turnout_change_from_prev_day.election_type=='PRI']\n",
    "sns.lineplot(x='days', y='voted', hue='election_type',data=turnout_change_from_prev_day_PRI)\n",
    "plt.ylabel('% Change in Turnout from Prev Day', fontsize=12)\n",
    "plt.xlabel('Number of Days from Birthday', fontsize=12)"
   ]
  },
  {
   "cell_type": "code",
   "execution_count": 80,
   "metadata": {},
   "outputs": [
    {
     "data": {
      "text/plain": [
       "Text(0.5, 0, 'Number of Days from Birthday')"
      ]
     },
     "execution_count": 80,
     "metadata": {},
     "output_type": "execute_result"
    },
    {
     "data": {
      "image/png": "[encoded data removed]",
      "text/plain": [
       "<Figure size 432x288 with 1 Axes>"
      ]
     },
     "metadata": {
      "needs_background": "light"
     },
     "output_type": "display_data"
    }
   ],
   "source": [
    "avg_change_from_prev_day_PRI = pd.DataFrame(turnout_change_from_prev_day_PRI.groupby('days').voted.mean())\n",
    "sns.lineplot(x=avg_change_from_prev_day_PRI.index, y=avg_change_from_prev_day_PRI.voted)\n",
    "plt.ylabel('% Change in Turnout from Prev Day', fontsize=12)\n",
    "plt.xlabel('Number of Days from Birthday', fontsize=12)"
   ]
  },
  {
   "cell_type": "markdown",
   "metadata": {},
   "source": [
    "### +/- 50 days avg absolute change from previous day"
   ]
  },
  {
   "cell_type": "code",
   "execution_count": 81,
   "metadata": {},
   "outputs": [
    {
     "name": "stderr",
     "output_type": "stream",
     "text": [
      "/opt/anaconda3/lib/python3.7/site-packages/ipykernel_launcher.py:1: SettingWithCopyWarning: \n",
      "A value is trying to be set on a copy of a slice from a DataFrame.\n",
      "Try using .loc[row_indexer,col_indexer] = value instead\n",
      "\n",
      "See the caveats in the documentation: http://pandas.pydata.org/pandas-docs/stable/indexing.html#indexing-view-versus-copy\n",
      "  \"\"\"Entry point for launching an IPython kernel.\n",
      "/opt/anaconda3/lib/python3.7/site-packages/ipykernel_launcher.py:2: SettingWithCopyWarning: \n",
      "A value is trying to be set on a copy of a slice from a DataFrame.\n",
      "Try using .loc[row_indexer,col_indexer] = value instead\n",
      "\n",
      "See the caveats in the documentation: http://pandas.pydata.org/pandas-docs/stable/indexing.html#indexing-view-versus-copy\n",
      "  \n"
     ]
    },
    {
     "data": {
      "text/html": [
       "<div>\n",
       "<style scoped>\n",
       "    .dataframe tbody tr th:only-of-type {\n",
       "        vertical-align: middle;\n",
       "    }\n",
       "\n",
       "    .dataframe tbody tr th {\n",
       "        vertical-align: top;\n",
       "    }\n",
       "\n",
       "    .dataframe thead th {\n",
       "        text-align: right;\n",
       "    }\n",
       "</style>\n",
       "<table border=\"1\" class=\"dataframe\">\n",
       "  <thead>\n",
       "    <tr style=\"text-align: right;\">\n",
       "      <th></th>\n",
       "      <th>voted_abs</th>\n",
       "      <th>n_total</th>\n",
       "      <th>n_voters</th>\n",
       "      <th>n_nonvoters</th>\n",
       "    </tr>\n",
       "    <tr>\n",
       "      <th>days_grouped_50</th>\n",
       "      <th></th>\n",
       "      <th></th>\n",
       "      <th></th>\n",
       "      <th></th>\n",
       "    </tr>\n",
       "  </thead>\n",
       "  <tbody>\n",
       "    <tr>\n",
       "      <th>+50</th>\n",
       "      <td>0.28</td>\n",
       "      <td>8801491</td>\n",
       "      <td>1798030.0</td>\n",
       "      <td>7003461.0</td>\n",
       "    </tr>\n",
       "    <tr>\n",
       "      <th>-50</th>\n",
       "      <td>0.28</td>\n",
       "      <td>8517045</td>\n",
       "      <td>1733970.0</td>\n",
       "      <td>6783075.0</td>\n",
       "    </tr>\n",
       "    <tr>\n",
       "      <th>0</th>\n",
       "      <td>0.67</td>\n",
       "      <td>172498</td>\n",
       "      <td>35872.0</td>\n",
       "      <td>136626.0</td>\n",
       "    </tr>\n",
       "  </tbody>\n",
       "</table>\n",
       "</div>"
      ],
      "text/plain": [
       "                 voted_abs  n_total   n_voters  n_nonvoters\n",
       "days_grouped_50                                            \n",
       "+50                   0.28  8801491  1798030.0    7003461.0\n",
       "-50                   0.28  8517045  1733970.0    6783075.0\n",
       "0                     0.67   172498    35872.0     136626.0"
      ]
     },
     "execution_count": 81,
     "metadata": {},
     "output_type": "execute_result"
    }
   ],
   "source": [
    "turnout_change_from_prev_day_PRI['days_grouped_50'] = np.where(turnout_change_from_prev_day_PRI.days<0, '-50', np.where(turnout_change_from_prev_day_PRI.days>0, '+50', '0'))\n",
    "turnout_change_from_prev_day_PRI['voted_abs'] = turnout_change_from_prev_day_PRI.voted.abs()\n",
    "turnout_change_from_prev_day_PRI.groupby('days_grouped_50').agg({'voted_abs': 'mean', 'n_total': 'sum', 'n_voters': 'sum', 'n_nonvoters': 'sum'}).round(2)"
   ]
  },
  {
   "cell_type": "markdown",
   "metadata": {},
   "source": [
    "### +/- 30 days avg absolute change from previous day"
   ]
  },
  {
   "cell_type": "code",
   "execution_count": 82,
   "metadata": {},
   "outputs": [
    {
     "name": "stderr",
     "output_type": "stream",
     "text": [
      "/opt/anaconda3/lib/python3.7/site-packages/ipykernel_launcher.py:2: SettingWithCopyWarning: \n",
      "A value is trying to be set on a copy of a slice from a DataFrame.\n",
      "Try using .loc[row_indexer,col_indexer] = value instead\n",
      "\n",
      "See the caveats in the documentation: http://pandas.pydata.org/pandas-docs/stable/indexing.html#indexing-view-versus-copy\n",
      "  \n"
     ]
    },
    {
     "data": {
      "text/html": [
       "<div>\n",
       "<style scoped>\n",
       "    .dataframe tbody tr th:only-of-type {\n",
       "        vertical-align: middle;\n",
       "    }\n",
       "\n",
       "    .dataframe tbody tr th {\n",
       "        vertical-align: top;\n",
       "    }\n",
       "\n",
       "    .dataframe thead th {\n",
       "        text-align: right;\n",
       "    }\n",
       "</style>\n",
       "<table border=\"1\" class=\"dataframe\">\n",
       "  <thead>\n",
       "    <tr style=\"text-align: right;\">\n",
       "      <th></th>\n",
       "      <th>voted_abs</th>\n",
       "      <th>n_total</th>\n",
       "      <th>n_voters</th>\n",
       "      <th>n_nonvoters</th>\n",
       "    </tr>\n",
       "    <tr>\n",
       "      <th>days_grouped_30</th>\n",
       "      <th></th>\n",
       "      <th></th>\n",
       "      <th></th>\n",
       "      <th></th>\n",
       "    </tr>\n",
       "  </thead>\n",
       "  <tbody>\n",
       "    <tr>\n",
       "      <th>+30</th>\n",
       "      <td>0.30</td>\n",
       "      <td>5296981</td>\n",
       "      <td>1082431.0</td>\n",
       "      <td>4214550.0</td>\n",
       "    </tr>\n",
       "    <tr>\n",
       "      <th>-30</th>\n",
       "      <td>0.28</td>\n",
       "      <td>5171073</td>\n",
       "      <td>1054523.0</td>\n",
       "      <td>4116550.0</td>\n",
       "    </tr>\n",
       "    <tr>\n",
       "      <th>0</th>\n",
       "      <td>0.67</td>\n",
       "      <td>172498</td>\n",
       "      <td>35872.0</td>\n",
       "      <td>136626.0</td>\n",
       "    </tr>\n",
       "  </tbody>\n",
       "</table>\n",
       "</div>"
      ],
      "text/plain": [
       "                 voted_abs  n_total   n_voters  n_nonvoters\n",
       "days_grouped_30                                            \n",
       "+30                   0.30  5296981  1082431.0    4214550.0\n",
       "-30                   0.28  5171073  1054523.0    4116550.0\n",
       "0                     0.67   172498    35872.0     136626.0"
      ]
     },
     "execution_count": 82,
     "metadata": {},
     "output_type": "execute_result"
    }
   ],
   "source": [
    "turnout_change_from_prev_day_30_PRI = turnout_change_from_prev_day_PRI[turnout_change_from_prev_day_PRI.days.abs() < 31]\n",
    "turnout_change_from_prev_day_30_PRI['days_grouped_30'] = np.where(turnout_change_from_prev_day_30_PRI.days<0, '-30', np.where(turnout_change_from_prev_day_30_PRI.days>0, '+30', '0'))\n",
    "turnout_change_from_prev_day_30_PRI.groupby('days_grouped_30').agg({'voted_abs': 'mean', 'n_total': 'sum', 'n_voters': 'sum', 'n_nonvoters': 'sum'}).round(2)"
   ]
  },
  {
   "cell_type": "markdown",
   "metadata": {},
   "source": [
    "### +/- 7 days avg absolute change from previous day"
   ]
  },
  {
   "cell_type": "code",
   "execution_count": 83,
   "metadata": {},
   "outputs": [
    {
     "name": "stderr",
     "output_type": "stream",
     "text": [
      "/opt/anaconda3/lib/python3.7/site-packages/ipykernel_launcher.py:2: SettingWithCopyWarning: \n",
      "A value is trying to be set on a copy of a slice from a DataFrame.\n",
      "Try using .loc[row_indexer,col_indexer] = value instead\n",
      "\n",
      "See the caveats in the documentation: http://pandas.pydata.org/pandas-docs/stable/indexing.html#indexing-view-versus-copy\n",
      "  \n"
     ]
    },
    {
     "data": {
      "text/html": [
       "<div>\n",
       "<style scoped>\n",
       "    .dataframe tbody tr th:only-of-type {\n",
       "        vertical-align: middle;\n",
       "    }\n",
       "\n",
       "    .dataframe tbody tr th {\n",
       "        vertical-align: top;\n",
       "    }\n",
       "\n",
       "    .dataframe thead th {\n",
       "        text-align: right;\n",
       "    }\n",
       "</style>\n",
       "<table border=\"1\" class=\"dataframe\">\n",
       "  <thead>\n",
       "    <tr style=\"text-align: right;\">\n",
       "      <th></th>\n",
       "      <th>voted_abs</th>\n",
       "      <th>n_total</th>\n",
       "      <th>n_voters</th>\n",
       "      <th>n_nonvoters</th>\n",
       "    </tr>\n",
       "    <tr>\n",
       "      <th>days_grouped_7</th>\n",
       "      <th></th>\n",
       "      <th></th>\n",
       "      <th></th>\n",
       "      <th></th>\n",
       "    </tr>\n",
       "  </thead>\n",
       "  <tbody>\n",
       "    <tr>\n",
       "      <th>+7</th>\n",
       "      <td>0.32</td>\n",
       "      <td>1212800</td>\n",
       "      <td>248486.0</td>\n",
       "      <td>964314.0</td>\n",
       "    </tr>\n",
       "    <tr>\n",
       "      <th>-7</th>\n",
       "      <td>0.37</td>\n",
       "      <td>1210868</td>\n",
       "      <td>245567.0</td>\n",
       "      <td>965301.0</td>\n",
       "    </tr>\n",
       "    <tr>\n",
       "      <th>0</th>\n",
       "      <td>0.67</td>\n",
       "      <td>172498</td>\n",
       "      <td>35872.0</td>\n",
       "      <td>136626.0</td>\n",
       "    </tr>\n",
       "  </tbody>\n",
       "</table>\n",
       "</div>"
      ],
      "text/plain": [
       "                voted_abs  n_total  n_voters  n_nonvoters\n",
       "days_grouped_7                                           \n",
       "+7                   0.32  1212800  248486.0     964314.0\n",
       "-7                   0.37  1210868  245567.0     965301.0\n",
       "0                    0.67   172498   35872.0     136626.0"
      ]
     },
     "execution_count": 83,
     "metadata": {},
     "output_type": "execute_result"
    }
   ],
   "source": [
    "turnout_change_from_prev_day_7_PRI = turnout_change_from_prev_day_PRI[turnout_change_from_prev_day_PRI.days.abs() < 8]\n",
    "turnout_change_from_prev_day_7_PRI['days_grouped_7'] = np.where(turnout_change_from_prev_day_7_PRI.days<0, '-7', np.where(turnout_change_from_prev_day_7_PRI.days>0, '+7', '0'))\n",
    "turnout_change_from_prev_day_7_PRI.groupby('days_grouped_7').agg({'voted_abs': 'mean', 'n_total': 'sum', 'n_voters': 'sum', 'n_nonvoters': 'sum'}).round(2)"
   ]
  },
  {
   "cell_type": "markdown",
   "metadata": {},
   "source": [
    "### +/- 2 days change from previous day"
   ]
  },
  {
   "cell_type": "code",
   "execution_count": 84,
   "metadata": {},
   "outputs": [
    {
     "data": {
      "text/html": [
       "<div>\n",
       "<style scoped>\n",
       "    .dataframe tbody tr th:only-of-type {\n",
       "        vertical-align: middle;\n",
       "    }\n",
       "\n",
       "    .dataframe tbody tr th {\n",
       "        vertical-align: top;\n",
       "    }\n",
       "\n",
       "    .dataframe thead th {\n",
       "        text-align: right;\n",
       "    }\n",
       "</style>\n",
       "<table border=\"1\" class=\"dataframe\">\n",
       "  <thead>\n",
       "    <tr style=\"text-align: right;\">\n",
       "      <th></th>\n",
       "      <th>voted</th>\n",
       "      <th>n_total</th>\n",
       "      <th>n_voters</th>\n",
       "      <th>n_nonvoters</th>\n",
       "    </tr>\n",
       "    <tr>\n",
       "      <th>days</th>\n",
       "      <th></th>\n",
       "      <th></th>\n",
       "      <th></th>\n",
       "      <th></th>\n",
       "    </tr>\n",
       "  </thead>\n",
       "  <tbody>\n",
       "    <tr>\n",
       "      <th>-2.0</th>\n",
       "      <td>0.31</td>\n",
       "      <td>173453</td>\n",
       "      <td>35521.0</td>\n",
       "      <td>137932.0</td>\n",
       "    </tr>\n",
       "    <tr>\n",
       "      <th>-1.0</th>\n",
       "      <td>-0.31</td>\n",
       "      <td>172416</td>\n",
       "      <td>34780.0</td>\n",
       "      <td>137636.0</td>\n",
       "    </tr>\n",
       "    <tr>\n",
       "      <th>0.0</th>\n",
       "      <td>0.67</td>\n",
       "      <td>172498</td>\n",
       "      <td>35872.0</td>\n",
       "      <td>136626.0</td>\n",
       "    </tr>\n",
       "    <tr>\n",
       "      <th>1.0</th>\n",
       "      <td>-0.44</td>\n",
       "      <td>173205</td>\n",
       "      <td>35348.0</td>\n",
       "      <td>137857.0</td>\n",
       "    </tr>\n",
       "    <tr>\n",
       "      <th>2.0</th>\n",
       "      <td>0.12</td>\n",
       "      <td>174822</td>\n",
       "      <td>35793.0</td>\n",
       "      <td>139029.0</td>\n",
       "    </tr>\n",
       "  </tbody>\n",
       "</table>\n",
       "</div>"
      ],
      "text/plain": [
       "      voted  n_total  n_voters  n_nonvoters\n",
       "days                                       \n",
       "-2.0   0.31   173453   35521.0     137932.0\n",
       "-1.0  -0.31   172416   34780.0     137636.0\n",
       " 0.0   0.67   172498   35872.0     136626.0\n",
       " 1.0  -0.44   173205   35348.0     137857.0\n",
       " 2.0   0.12   174822   35793.0     139029.0"
      ]
     },
     "execution_count": 84,
     "metadata": {},
     "output_type": "execute_result"
    }
   ],
   "source": [
    "turnout_change_from_prev_day_PRI[turnout_change_from_prev_day_PRI.days.isin([-2,-1,0,1,2])].groupby('days').agg({'voted': 'mean', 'n_total': 'sum', 'n_voters': 'sum', 'n_nonvoters': 'sum'}).round(2)"
   ]
  },
  {
   "cell_type": "code",
   "execution_count": null,
   "metadata": {},
   "outputs": [],
   "source": []
  }
 ],
 "metadata": {
  "kernelspec": {
   "display_name": "Python 3",
   "language": "python",
   "name": "python3"
  },
  "language_info": {
   "codemirror_mode": {
    "name": "ipython",
    "version": 3
   },
   "file_extension": ".py",
   "mimetype": "text/x-python",
   "name": "python",
   "nbconvert_exporter": "python",
   "pygments_lexer": "ipython3",
   "version": "3.7.6"
  }
 },
 "nbformat": 4,
 "nbformat_minor": 4
}
