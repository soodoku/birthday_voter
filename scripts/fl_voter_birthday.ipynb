{
 "cells": [
  {
   "cell_type": "markdown",
   "metadata": {},
   "source": [
    "# 0.0 Imports"
   ]
  },
  {
   "cell_type": "code",
   "execution_count": 1,
   "metadata": {},
   "outputs": [],
   "source": [
    "import pandas as pd\n",
    "import numpy as np\n",
    "import seaborn as sns\n",
    "import glob\n",
    "import datetime as dt\n",
    "from matplotlib import pyplot as plt"
   ]
  },
  {
   "cell_type": "markdown",
   "metadata": {},
   "source": [
    "# 1.0 Load Data"
   ]
  },
  {
   "cell_type": "markdown",
   "metadata": {},
   "source": [
    "Datasets downloaded from https://dataverse.harvard.edu/dataset.xhtml?persistentId=doi:10.7910/DVN/UBIG3F"
   ]
  },
  {
   "cell_type": "markdown",
   "metadata": {},
   "source": [
    "## 1.1 voter detail"
   ]
  },
  {
   "cell_type": "code",
   "execution_count": 2,
   "metadata": {},
   "outputs": [
    {
     "name": "stderr",
     "output_type": "stream",
     "text": [
      "/opt/anaconda3/lib/python3.7/site-packages/IPython/core/interactiveshell.py:3051: DtypeWarning: Columns (27) have mixed types. Specify dtype option on import or set low_memory=False.\n",
      "  interactivity=interactivity, compiler=compiler, result=result)\n",
      "/opt/anaconda3/lib/python3.7/site-packages/IPython/core/interactiveshell.py:3051: DtypeWarning: Columns (26) have mixed types. Specify dtype option on import or set low_memory=False.\n",
      "  interactivity=interactivity, compiler=compiler, result=result)\n",
      "/opt/anaconda3/lib/python3.7/site-packages/IPython/core/interactiveshell.py:3051: DtypeWarning: Columns (11,14,17,18,27,34,35,36) have mixed types. Specify dtype option on import or set low_memory=False.\n",
      "  interactivity=interactivity, compiler=compiler, result=result)\n"
     ]
    }
   ],
   "source": [
    "# load each file and combine into a single dataframe\n",
    "path = r'path to 20170207_VoterDetail.7z'\n",
    "all_files = glob.glob(path + \"/*.txt\")\n",
    "\n",
    "li = []\n",
    "\n",
    "for filename in all_files:\n",
    "    df = pd.read_csv(filename, \n",
    "                     sep='\\t', \n",
    "                     header=None,\n",
    "                     names=['county_code', 'voter_id', 'name_last', 'name_suffix', \n",
    "                            'name_first', 'name_middle', 'requested_public_records_exemption',\n",
    "                           'residence_address_line_1', 'residence_address_line_2', 'residence_city',\n",
    "                           'residence_state', 'residence_zipcode', 'mailing_address_line_1,',\n",
    "                           'mailing_address_line_2', 'mailing_address_line_3', 'mailing_city',\n",
    "                           'mailing_state', 'mailing_zipcode', 'mailing_country', 'gender', 'race',\n",
    "                           'birth_date', 'registration_date', 'party_affiliation', 'precinct',\n",
    "                           'precinct_group', 'precinct_split', 'precinct_suffix', 'voter_status',\n",
    "                           'congressional_district', 'house_district', 'senate_district',\n",
    "                           'county_commission_district', 'school_board_district', 'daytime_area_code',\n",
    "                           'daytime_phone_number', 'daytime_phone_extension', 'email_address'])\n",
    "    li.append(df)\n",
    "\n",
    "detail = pd.concat(li, axis=0, ignore_index=True)"
   ]
  },
  {
   "cell_type": "code",
   "execution_count": 3,
   "metadata": {},
   "outputs": [
    {
     "name": "stdout",
     "output_type": "stream",
     "text": [
      "row count: 13710358\n",
      "row count after removing null birthdays: 13654118\n",
      "row count after removing null registration dates: 13654118\n"
     ]
    }
   ],
   "source": [
    "print('row count: ' + str(len(detail)))\n",
    "\n",
    "# drop null birthdays - these are voters who requested public records exemption\n",
    "detail.dropna(subset=['birth_date'], inplace=True)\n",
    "print('row count after removing null birthdays: ' + str(len(detail)))\n",
    "\n",
    "# drop null registration dates\n",
    "detail.dropna(subset=['registration_date'], inplace=True)\n",
    "print('row count after removing null registration dates: ' + str(len(detail)))"
   ]
  },
  {
   "cell_type": "code",
   "execution_count": 4,
   "metadata": {},
   "outputs": [],
   "source": [
    "# convert date fields from object dtype to datetime\n",
    "date_cache = {k: pd.to_datetime(k, errors='coerce') for k in detail['birth_date'].unique()}\n",
    "detail['birth_date'] = detail['birth_date'].map(date_cache)\n",
    "\n",
    "date_cache = {k: pd.to_datetime(k, errors='coerce') for k in detail['registration_date'].unique()}\n",
    "detail['registration_date'] = detail['registration_date'].map(date_cache)"
   ]
  },
  {
   "cell_type": "code",
   "execution_count": 5,
   "metadata": {},
   "outputs": [
    {
     "data": {
      "text/html": [
       "<div>\n",
       "<style scoped>\n",
       "    .dataframe tbody tr th:only-of-type {\n",
       "        vertical-align: middle;\n",
       "    }\n",
       "\n",
       "    .dataframe tbody tr th {\n",
       "        vertical-align: top;\n",
       "    }\n",
       "\n",
       "    .dataframe thead th {\n",
       "        text-align: right;\n",
       "    }\n",
       "</style>\n",
       "<table border=\"1\" class=\"dataframe\">\n",
       "  <thead>\n",
       "    <tr style=\"text-align: right;\">\n",
       "      <th></th>\n",
       "      <th>county_code</th>\n",
       "      <th>voter_id</th>\n",
       "      <th>name_last</th>\n",
       "      <th>name_suffix</th>\n",
       "      <th>name_first</th>\n",
       "      <th>name_middle</th>\n",
       "      <th>requested_public_records_exemption</th>\n",
       "      <th>residence_address_line_1</th>\n",
       "      <th>residence_address_line_2</th>\n",
       "      <th>residence_city</th>\n",
       "      <th>...</th>\n",
       "      <th>voter_status</th>\n",
       "      <th>congressional_district</th>\n",
       "      <th>house_district</th>\n",
       "      <th>senate_district</th>\n",
       "      <th>county_commission_district</th>\n",
       "      <th>school_board_district</th>\n",
       "      <th>daytime_area_code</th>\n",
       "      <th>daytime_phone_number</th>\n",
       "      <th>daytime_phone_extension</th>\n",
       "      <th>email_address</th>\n",
       "    </tr>\n",
       "  </thead>\n",
       "  <tbody>\n",
       "    <tr>\n",
       "      <th>0</th>\n",
       "      <td>CHA</td>\n",
       "      <td>102654245</td>\n",
       "      <td>Nodes</td>\n",
       "      <td>NaN</td>\n",
       "      <td>Melvin</td>\n",
       "      <td>R</td>\n",
       "      <td>N</td>\n",
       "      <td>8320   Riverside DR</td>\n",
       "      <td>UNIT 4179</td>\n",
       "      <td>Punta Gorda</td>\n",
       "      <td>...</td>\n",
       "      <td>ACT</td>\n",
       "      <td>17.0</td>\n",
       "      <td>75.0</td>\n",
       "      <td>26.0</td>\n",
       "      <td>1.0</td>\n",
       "      <td>1.0</td>\n",
       "      <td>941</td>\n",
       "      <td>5056229</td>\n",
       "      <td>NaN</td>\n",
       "      <td></td>\n",
       "    </tr>\n",
       "    <tr>\n",
       "      <th>1</th>\n",
       "      <td>CHA</td>\n",
       "      <td>116777380</td>\n",
       "      <td>Oldbear</td>\n",
       "      <td>NaN</td>\n",
       "      <td>Kaili</td>\n",
       "      <td>Nicole</td>\n",
       "      <td>N</td>\n",
       "      <td>5016   Palangos DR</td>\n",
       "      <td></td>\n",
       "      <td>Punta Gorda</td>\n",
       "      <td>...</td>\n",
       "      <td>ACT</td>\n",
       "      <td>17.0</td>\n",
       "      <td>75.0</td>\n",
       "      <td>26.0</td>\n",
       "      <td>1.0</td>\n",
       "      <td>1.0</td>\n",
       "      <td>NaN</td>\n",
       "      <td>NaN</td>\n",
       "      <td>NaN</td>\n",
       "      <td>KAILINICOLE@ROCKETMAIL.COM</td>\n",
       "    </tr>\n",
       "    <tr>\n",
       "      <th>2</th>\n",
       "      <td>CHA</td>\n",
       "      <td>111684516</td>\n",
       "      <td>Dunn</td>\n",
       "      <td>NaN</td>\n",
       "      <td>Cora</td>\n",
       "      <td>M</td>\n",
       "      <td>N</td>\n",
       "      <td>23053   Westchester BLVD</td>\n",
       "      <td>APT L501</td>\n",
       "      <td>Port Charlotte</td>\n",
       "      <td>...</td>\n",
       "      <td>ACT</td>\n",
       "      <td>17.0</td>\n",
       "      <td>75.0</td>\n",
       "      <td>26.0</td>\n",
       "      <td>1.0</td>\n",
       "      <td>1.0</td>\n",
       "      <td>NaN</td>\n",
       "      <td>NaN</td>\n",
       "      <td>NaN</td>\n",
       "      <td></td>\n",
       "    </tr>\n",
       "    <tr>\n",
       "      <th>3</th>\n",
       "      <td>CHA</td>\n",
       "      <td>121565689</td>\n",
       "      <td>Espino</td>\n",
       "      <td>NaN</td>\n",
       "      <td>Melissa</td>\n",
       "      <td>Faye</td>\n",
       "      <td>N</td>\n",
       "      <td>2511   Luther RD</td>\n",
       "      <td>APT 225</td>\n",
       "      <td>Punta Gorda</td>\n",
       "      <td>...</td>\n",
       "      <td>ACT</td>\n",
       "      <td>17.0</td>\n",
       "      <td>75.0</td>\n",
       "      <td>26.0</td>\n",
       "      <td>1.0</td>\n",
       "      <td>1.0</td>\n",
       "      <td>NaN</td>\n",
       "      <td>NaN</td>\n",
       "      <td>NaN</td>\n",
       "      <td></td>\n",
       "    </tr>\n",
       "    <tr>\n",
       "      <th>4</th>\n",
       "      <td>CHA</td>\n",
       "      <td>113812700</td>\n",
       "      <td>Eno</td>\n",
       "      <td>NaN</td>\n",
       "      <td>Camille</td>\n",
       "      <td>Marie</td>\n",
       "      <td>N</td>\n",
       "      <td>24437   Harborview RD</td>\n",
       "      <td>LOT 19</td>\n",
       "      <td>Port Charlotte</td>\n",
       "      <td>...</td>\n",
       "      <td>ACT</td>\n",
       "      <td>17.0</td>\n",
       "      <td>75.0</td>\n",
       "      <td>26.0</td>\n",
       "      <td>1.0</td>\n",
       "      <td>1.0</td>\n",
       "      <td>863</td>\n",
       "      <td>7098529</td>\n",
       "      <td>NaN</td>\n",
       "      <td></td>\n",
       "    </tr>\n",
       "  </tbody>\n",
       "</table>\n",
       "<p>5 rows × 38 columns</p>\n",
       "</div>"
      ],
      "text/plain": [
       "  county_code   voter_id name_last name_suffix name_first name_middle  \\\n",
       "0         CHA  102654245     Nodes         NaN     Melvin           R   \n",
       "1         CHA  116777380   Oldbear         NaN      Kaili      Nicole   \n",
       "2         CHA  111684516      Dunn         NaN       Cora           M   \n",
       "3         CHA  121565689    Espino         NaN    Melissa        Faye   \n",
       "4         CHA  113812700       Eno         NaN    Camille       Marie   \n",
       "\n",
       "  requested_public_records_exemption   residence_address_line_1  \\\n",
       "0                                  N       8320   Riverside DR    \n",
       "1                                  N        5016   Palangos DR    \n",
       "2                                  N  23053   Westchester BLVD    \n",
       "3                                  N          2511   Luther RD    \n",
       "4                                  N     24437   Harborview RD    \n",
       "\n",
       "  residence_address_line_2  residence_city             ...               \\\n",
       "0                UNIT 4179     Punta Gorda             ...                \n",
       "1                              Punta Gorda             ...                \n",
       "2                 APT L501  Port Charlotte             ...                \n",
       "3                  APT 225     Punta Gorda             ...                \n",
       "4                   LOT 19  Port Charlotte             ...                \n",
       "\n",
       "  voter_status congressional_district house_district senate_district  \\\n",
       "0          ACT                   17.0           75.0            26.0   \n",
       "1          ACT                   17.0           75.0            26.0   \n",
       "2          ACT                   17.0           75.0            26.0   \n",
       "3          ACT                   17.0           75.0            26.0   \n",
       "4          ACT                   17.0           75.0            26.0   \n",
       "\n",
       "  county_commission_district school_board_district daytime_area_code  \\\n",
       "0                        1.0                   1.0               941   \n",
       "1                        1.0                   1.0               NaN   \n",
       "2                        1.0                   1.0               NaN   \n",
       "3                        1.0                   1.0               NaN   \n",
       "4                        1.0                   1.0               863   \n",
       "\n",
       "  daytime_phone_number daytime_phone_extension                email_address  \n",
       "0              5056229                     NaN                               \n",
       "1                  NaN                     NaN  KAILINICOLE@ROCKETMAIL.COM   \n",
       "2                  NaN                     NaN                               \n",
       "3                  NaN                     NaN                               \n",
       "4              7098529                     NaN                               \n",
       "\n",
       "[5 rows x 38 columns]"
      ]
     },
     "execution_count": 5,
     "metadata": {},
     "output_type": "execute_result"
    }
   ],
   "source": [
    "detail.head()"
   ]
  },
  {
   "cell_type": "code",
   "execution_count": 6,
   "metadata": {},
   "outputs": [
    {
     "name": "stdout",
     "output_type": "stream",
     "text": [
      "<class 'pandas.core.frame.DataFrame'>\n",
      "Int64Index: 13654118 entries, 0 to 13710357\n",
      "Data columns (total 38 columns):\n",
      "county_code                           object\n",
      "voter_id                              int64\n",
      "name_last                             object\n",
      "name_suffix                           object\n",
      "name_first                            object\n",
      "name_middle                           object\n",
      "requested_public_records_exemption    object\n",
      "residence_address_line_1              object\n",
      "residence_address_line_2              object\n",
      "residence_city                        object\n",
      "residence_state                       object\n",
      "residence_zipcode                     object\n",
      "mailing_address_line_1,               object\n",
      "mailing_address_line_2                object\n",
      "mailing_address_line_3                object\n",
      "mailing_city                          object\n",
      "mailing_state                         object\n",
      "mailing_zipcode                       object\n",
      "mailing_country                       object\n",
      "gender                                object\n",
      "race                                  int64\n",
      "birth_date                            datetime64[ns]\n",
      "registration_date                     datetime64[ns]\n",
      "party_affiliation                     object\n",
      "precinct                              object\n",
      "precinct_group                        float64\n",
      "precinct_split                        object\n",
      "precinct_suffix                       object\n",
      "voter_status                          object\n",
      "congressional_district                float64\n",
      "house_district                        float64\n",
      "senate_district                       float64\n",
      "county_commission_district            float64\n",
      "school_board_district                 float64\n",
      "daytime_area_code                     object\n",
      "daytime_phone_number                  object\n",
      "daytime_phone_extension               object\n",
      "email_address                         object\n",
      "dtypes: datetime64[ns](2), float64(6), int64(2), object(28)\n",
      "memory usage: 4.0+ GB\n"
     ]
    }
   ],
   "source": [
    "detail.info()"
   ]
  },
  {
   "cell_type": "markdown",
   "metadata": {},
   "source": [
    "## 1.2 voter history"
   ]
  },
  {
   "cell_type": "code",
   "execution_count": 7,
   "metadata": {},
   "outputs": [],
   "source": [
    "# load files and combine into single dataframe\n",
    "path = r'path to 20170207_VoterHistory.7z'\n",
    "all_files = glob.glob(path + \"/*.txt\")\n",
    "\n",
    "li = []\n",
    "\n",
    "for filename in all_files:\n",
    "    df = pd.read_csv(filename, \n",
    "                     sep='\\t', \n",
    "                     header=None,\n",
    "                     names=['county_code', 'voter_id', 'election_date', 'election_type', 'history_code'])\n",
    "    li.append(df)\n",
    "\n",
    "hist = pd.concat(li, axis=0, ignore_index=True)"
   ]
  },
  {
   "cell_type": "code",
   "execution_count": 8,
   "metadata": {},
   "outputs": [],
   "source": [
    "# convert date field from object dtype to datetime\n",
    "date_cache = {k: pd.to_datetime(k) for k in hist['election_date'].unique()}\n",
    "hist['election_date'] = hist['election_date'].map(date_cache)"
   ]
  },
  {
   "cell_type": "code",
   "execution_count": 9,
   "metadata": {},
   "outputs": [
    {
     "data": {
      "text/html": [
       "<div>\n",
       "<style scoped>\n",
       "    .dataframe tbody tr th:only-of-type {\n",
       "        vertical-align: middle;\n",
       "    }\n",
       "\n",
       "    .dataframe tbody tr th {\n",
       "        vertical-align: top;\n",
       "    }\n",
       "\n",
       "    .dataframe thead th {\n",
       "        text-align: right;\n",
       "    }\n",
       "</style>\n",
       "<table border=\"1\" class=\"dataframe\">\n",
       "  <thead>\n",
       "    <tr style=\"text-align: right;\">\n",
       "      <th></th>\n",
       "      <th>county_code</th>\n",
       "      <th>voter_id</th>\n",
       "      <th>election_date</th>\n",
       "      <th>election_type</th>\n",
       "      <th>history_code</th>\n",
       "    </tr>\n",
       "  </thead>\n",
       "  <tbody>\n",
       "    <tr>\n",
       "      <th>0</th>\n",
       "      <td>PIN</td>\n",
       "      <td>100021934</td>\n",
       "      <td>2016-11-08</td>\n",
       "      <td>GEN</td>\n",
       "      <td>Y</td>\n",
       "    </tr>\n",
       "    <tr>\n",
       "      <th>1</th>\n",
       "      <td>PIN</td>\n",
       "      <td>100021442</td>\n",
       "      <td>2007-03-13</td>\n",
       "      <td>OTH</td>\n",
       "      <td>Y</td>\n",
       "    </tr>\n",
       "    <tr>\n",
       "      <th>2</th>\n",
       "      <td>PIN</td>\n",
       "      <td>100047465</td>\n",
       "      <td>2014-03-11</td>\n",
       "      <td>GEN</td>\n",
       "      <td>Y</td>\n",
       "    </tr>\n",
       "    <tr>\n",
       "      <th>3</th>\n",
       "      <td>PIN</td>\n",
       "      <td>100046570</td>\n",
       "      <td>2008-11-04</td>\n",
       "      <td>GEN</td>\n",
       "      <td>A</td>\n",
       "    </tr>\n",
       "    <tr>\n",
       "      <th>4</th>\n",
       "      <td>PIN</td>\n",
       "      <td>100052464</td>\n",
       "      <td>2014-11-04</td>\n",
       "      <td>GEN</td>\n",
       "      <td>Y</td>\n",
       "    </tr>\n",
       "  </tbody>\n",
       "</table>\n",
       "</div>"
      ],
      "text/plain": [
       "  county_code   voter_id election_date election_type history_code\n",
       "0         PIN  100021934    2016-11-08           GEN            Y\n",
       "1         PIN  100021442    2007-03-13           OTH            Y\n",
       "2         PIN  100047465    2014-03-11           GEN            Y\n",
       "3         PIN  100046570    2008-11-04           GEN            A\n",
       "4         PIN  100052464    2014-11-04           GEN            Y"
      ]
     },
     "execution_count": 9,
     "metadata": {},
     "output_type": "execute_result"
    }
   ],
   "source": [
    "hist.head()"
   ]
  },
  {
   "cell_type": "code",
   "execution_count": 10,
   "metadata": {},
   "outputs": [
    {
     "name": "stdout",
     "output_type": "stream",
     "text": [
      "<class 'pandas.core.frame.DataFrame'>\n",
      "RangeIndex: 72770189 entries, 0 to 72770188\n",
      "Data columns (total 5 columns):\n",
      "county_code      object\n",
      "voter_id         int64\n",
      "election_date    datetime64[ns]\n",
      "election_type    object\n",
      "history_code     object\n",
      "dtypes: datetime64[ns](1), int64(1), object(3)\n",
      "memory usage: 2.7+ GB\n"
     ]
    }
   ],
   "source": [
    "hist.info()"
   ]
  },
  {
   "cell_type": "code",
   "execution_count": 11,
   "metadata": {},
   "outputs": [
    {
     "data": {
      "text/plain": [
       "Timestamp('2006-01-10 00:00:00')"
      ]
     },
     "execution_count": 11,
     "metadata": {},
     "output_type": "execute_result"
    }
   ],
   "source": [
    "hist.election_date.min()"
   ]
  },
  {
   "cell_type": "code",
   "execution_count": 12,
   "metadata": {},
   "outputs": [
    {
     "data": {
      "text/plain": [
       "Timestamp('2017-01-31 00:00:00')"
      ]
     },
     "execution_count": 12,
     "metadata": {},
     "output_type": "execute_result"
    }
   ],
   "source": [
    "hist.election_date.max()"
   ]
  },
  {
   "cell_type": "markdown",
   "metadata": {},
   "source": [
    "# 2.0 Prepare Dataset for Analysis"
   ]
  },
  {
   "cell_type": "markdown",
   "metadata": {},
   "source": [
    "## 2.1 Limit voting history dataset to Primary and General Elections with 100k votes"
   ]
  },
  {
   "cell_type": "code",
   "execution_count": 13,
   "metadata": {},
   "outputs": [
    {
     "data": {
      "text/plain": [
       "array(['Y', 'A', 'E', 'P', 'N', 'B'], dtype=object)"
      ]
     },
     "execution_count": 13,
     "metadata": {},
     "output_type": "execute_result"
    }
   ],
   "source": [
    "hist.history_code.unique()"
   ]
  },
  {
   "cell_type": "code",
   "execution_count": 14,
   "metadata": {},
   "outputs": [
    {
     "name": "stdout",
     "output_type": "stream",
     "text": [
      "row count: 72770189\n",
      "after removing votes that didn't count: 66388968\n",
      "after limiting to pri & gen elections with >100k votes: 51080693\n",
      "after removing dupes: 51077533\n"
     ]
    }
   ],
   "source": [
    "print('row count: ' + str(len(hist)))\n",
    "# remove rows from voter history where history_code is N (did not vote), B (absentee ballot not counted), or P (provisional ballot not counted)\n",
    "hist = hist[hist.history_code.isin(['A','E','Y'])]\n",
    "print(\"\"\"after removing votes that didn't count: \"\"\" + str(len(hist)))\n",
    "\n",
    "# limit voter history dataset to Primary and General elections with at least 100k votes, so that after the cartesian join below the size of the dataframe is manageable\n",
    "elections = pd.DataFrame(hist.groupby(['election_date','election_type']).county_code.count()).reset_index()\n",
    "elections = elections[(elections.county_code > 1000000) & (elections.election_type.isin(['GEN','PRI']))][['election_date', 'election_type']]\n",
    "hist = hist.merge(elections, how='inner', left_on=['election_date','election_type'], right_on=['election_date','election_type'])\n",
    "print('after limiting to pri & gen elections with >100k votes: ' + str(len(hist)))\n",
    "\n",
    "# remove dupes from voter history\n",
    "hist.drop_duplicates(subset=['voter_id', 'election_date','election_type'], inplace=True)\n",
    "print('after removing dupes: ' + str(len(hist)))"
   ]
  },
  {
   "cell_type": "markdown",
   "metadata": {},
   "source": [
    "## 2.2 Cartesian product registration detail and election_date-election_type"
   ]
  },
  {
   "cell_type": "code",
   "execution_count": 15,
   "metadata": {},
   "outputs": [
    {
     "name": "stdout",
     "output_type": "stream",
     "text": [
      "row count after cartesian product: 163849416\n"
     ]
    }
   ],
   "source": [
    "# get cartesian product of elections with voter registration detail, so primary key = voter_id-election_date-election_type\n",
    "elections['key'] = 1\n",
    "detail['key'] = 1\n",
    "\n",
    "df = detail[['voter_id','birth_date','registration_date','race','gender','key']].merge(elections, left_on='key', right_on='key')\n",
    "df.drop('key', inplace=True, axis=1)\n",
    "print('row count after cartesian product: ' + str(len(df)))"
   ]
  },
  {
   "cell_type": "code",
   "execution_count": 16,
   "metadata": {},
   "outputs": [
    {
     "data": {
      "text/html": [
       "<div>\n",
       "<style scoped>\n",
       "    .dataframe tbody tr th:only-of-type {\n",
       "        vertical-align: middle;\n",
       "    }\n",
       "\n",
       "    .dataframe tbody tr th {\n",
       "        vertical-align: top;\n",
       "    }\n",
       "\n",
       "    .dataframe thead th {\n",
       "        text-align: right;\n",
       "    }\n",
       "</style>\n",
       "<table border=\"1\" class=\"dataframe\">\n",
       "  <thead>\n",
       "    <tr style=\"text-align: right;\">\n",
       "      <th></th>\n",
       "      <th>voter_id</th>\n",
       "      <th>birth_date</th>\n",
       "      <th>registration_date</th>\n",
       "      <th>race</th>\n",
       "      <th>gender</th>\n",
       "      <th>election_date</th>\n",
       "      <th>election_type</th>\n",
       "    </tr>\n",
       "  </thead>\n",
       "  <tbody>\n",
       "    <tr>\n",
       "      <th>0</th>\n",
       "      <td>102654245</td>\n",
       "      <td>1932-08-28</td>\n",
       "      <td>2003-10-21</td>\n",
       "      <td>5</td>\n",
       "      <td>M</td>\n",
       "      <td>2006-09-05</td>\n",
       "      <td>PRI</td>\n",
       "    </tr>\n",
       "    <tr>\n",
       "      <th>1</th>\n",
       "      <td>102654245</td>\n",
       "      <td>1932-08-28</td>\n",
       "      <td>2003-10-21</td>\n",
       "      <td>5</td>\n",
       "      <td>M</td>\n",
       "      <td>2006-11-07</td>\n",
       "      <td>GEN</td>\n",
       "    </tr>\n",
       "    <tr>\n",
       "      <th>2</th>\n",
       "      <td>102654245</td>\n",
       "      <td>1932-08-28</td>\n",
       "      <td>2003-10-21</td>\n",
       "      <td>5</td>\n",
       "      <td>M</td>\n",
       "      <td>2008-08-26</td>\n",
       "      <td>PRI</td>\n",
       "    </tr>\n",
       "    <tr>\n",
       "      <th>3</th>\n",
       "      <td>102654245</td>\n",
       "      <td>1932-08-28</td>\n",
       "      <td>2003-10-21</td>\n",
       "      <td>5</td>\n",
       "      <td>M</td>\n",
       "      <td>2008-11-04</td>\n",
       "      <td>GEN</td>\n",
       "    </tr>\n",
       "    <tr>\n",
       "      <th>4</th>\n",
       "      <td>102654245</td>\n",
       "      <td>1932-08-28</td>\n",
       "      <td>2003-10-21</td>\n",
       "      <td>5</td>\n",
       "      <td>M</td>\n",
       "      <td>2010-08-24</td>\n",
       "      <td>PRI</td>\n",
       "    </tr>\n",
       "  </tbody>\n",
       "</table>\n",
       "</div>"
      ],
      "text/plain": [
       "    voter_id birth_date registration_date  race gender election_date  \\\n",
       "0  102654245 1932-08-28        2003-10-21     5      M    2006-09-05   \n",
       "1  102654245 1932-08-28        2003-10-21     5      M    2006-11-07   \n",
       "2  102654245 1932-08-28        2003-10-21     5      M    2008-08-26   \n",
       "3  102654245 1932-08-28        2003-10-21     5      M    2008-11-04   \n",
       "4  102654245 1932-08-28        2003-10-21     5      M    2010-08-24   \n",
       "\n",
       "  election_type  \n",
       "0           PRI  \n",
       "1           GEN  \n",
       "2           PRI  \n",
       "3           GEN  \n",
       "4           PRI  "
      ]
     },
     "execution_count": 16,
     "metadata": {},
     "output_type": "execute_result"
    }
   ],
   "source": [
    "df.head()"
   ]
  },
  {
   "cell_type": "markdown",
   "metadata": {},
   "source": [
    "## 2.3 Left join on voter history"
   ]
  },
  {
   "cell_type": "code",
   "execution_count": 17,
   "metadata": {},
   "outputs": [],
   "source": [
    "# left join on hist to determine if the voter_id voted in that election_date-election_type\n",
    "hist['voted'] = 1\n",
    "df = df.merge(hist[['voter_id','election_date','election_type','history_code','voted']], how='left', left_on=['voter_id','election_date','election_type'], right_on=['voter_id','election_date','election_type'])"
   ]
  },
  {
   "cell_type": "code",
   "execution_count": 18,
   "metadata": {},
   "outputs": [
    {
     "data": {
      "text/plain": [
       "(163849416, 9)"
      ]
     },
     "execution_count": 18,
     "metadata": {},
     "output_type": "execute_result"
    }
   ],
   "source": [
    "# make sure same row count as above\n",
    "df.shape"
   ]
  },
  {
   "cell_type": "code",
   "execution_count": 19,
   "metadata": {},
   "outputs": [],
   "source": [
    "# create column for voted 0 = no\n",
    "df['voted'] = df.voted.fillna(value=0)\n",
    "\n",
    "# set voted dtype to bool\n",
    "df['voted'] = df.voted.astype(bool)"
   ]
  },
  {
   "cell_type": "code",
   "execution_count": 20,
   "metadata": {},
   "outputs": [
    {
     "data": {
      "text/plain": [
       "0"
      ]
     },
     "execution_count": 20,
     "metadata": {},
     "output_type": "execute_result"
    }
   ],
   "source": [
    "# make sure there are no null election dates\n",
    "len(df[df.election_date.isnull()])"
   ]
  },
  {
   "cell_type": "code",
   "execution_count": 21,
   "metadata": {},
   "outputs": [
    {
     "name": "stdout",
     "output_type": "stream",
     "text": [
      "row count after removing persons that did not meet registration deadline: 121468138\n"
     ]
    }
   ],
   "source": [
    "# remove rows where registration date does not meet the deadline for voting\n",
    "# the deadline to register to vote for an upcoming election is 29 days before the election (https://dos.myflorida.com/elections/for-voters/voter-registration/register-to-vote-or-update-your-information/)\n",
    "df['registration_deadline'] = df['election_date'] -  pd.to_timedelta(29, unit='d')\n",
    "df = df[df.registration_date <= df.registration_deadline]\n",
    "print('row count after removing persons that did not meet registration deadline: ' + str(len(df)))"
   ]
  },
  {
   "cell_type": "code",
   "execution_count": 22,
   "metadata": {},
   "outputs": [
    {
     "name": "stdout",
     "output_type": "stream",
     "text": [
      "after removing votes that were not in person: 95182423\n"
     ]
    }
   ],
   "source": [
    "# only include in-person votes at the polls\n",
    "df = df[~df.history_code.isin(['E','A'])]\n",
    "print('after removing votes that were not in person: ' + str(len(df)))"
   ]
  },
  {
   "cell_type": "code",
   "execution_count": 23,
   "metadata": {},
   "outputs": [],
   "source": [
    "# calculate voter age\n",
    "df['age'] = ((df['election_date'] - df['birth_date']).dt.days / 365).astype(int)"
   ]
  },
  {
   "cell_type": "code",
   "execution_count": 24,
   "metadata": {},
   "outputs": [
    {
     "name": "stdout",
     "output_type": "stream",
     "text": [
      "row count after removing persons < 18 years: 94512190\n"
     ]
    }
   ],
   "source": [
    "# limit data set to persons at least 18 years old on election day\n",
    "df = df[df.age>=18]\n",
    "print('row count after removing persons < 18 years: ' + str(len(df)))"
   ]
  },
  {
   "cell_type": "code",
   "execution_count": 25,
   "metadata": {},
   "outputs": [
    {
     "name": "stdout",
     "output_type": "stream",
     "text": [
      "row count after removing persons > 100 years: 94468159\n"
     ]
    }
   ],
   "source": [
    "# exclude persons over 110 (likely a data quality issue)\n",
    "df = df[df.age <100]\n",
    "print('row count after removing persons > 100 years: ' + str(len(df)))"
   ]
  },
  {
   "cell_type": "code",
   "execution_count": 26,
   "metadata": {},
   "outputs": [],
   "source": [
    "filters = pd.DataFrame([['Total_Voters', 163849416],\n",
    "                        ['After Removing Non-Registered Voters', 121468138],\n",
    "                        ['After Removing votes that were not in person', 95182423],\n",
    "                        ['After Removing Voters <18 years', 94512190], \n",
    "                        ['After Removing Voters >100 years', 94468159]]).rename(columns={0: 'Population', 1: 'n_voters'}).set_index('Population')"
   ]
  },
  {
   "cell_type": "code",
   "execution_count": 27,
   "metadata": {},
   "outputs": [],
   "source": [
    "filters['pct_change'] = (filters.pct_change()*100).round(2)"
   ]
  },
  {
   "cell_type": "code",
   "execution_count": 28,
   "metadata": {},
   "outputs": [],
   "source": [
    "filters.to_csv('tab1_FL_filters.csv')"
   ]
  },
  {
   "cell_type": "code",
   "execution_count": 29,
   "metadata": {},
   "outputs": [
    {
     "data": {
      "text/html": [
       "<div>\n",
       "<style scoped>\n",
       "    .dataframe tbody tr th:only-of-type {\n",
       "        vertical-align: middle;\n",
       "    }\n",
       "\n",
       "    .dataframe tbody tr th {\n",
       "        vertical-align: top;\n",
       "    }\n",
       "\n",
       "    .dataframe thead th {\n",
       "        text-align: right;\n",
       "    }\n",
       "</style>\n",
       "<table border=\"1\" class=\"dataframe\">\n",
       "  <thead>\n",
       "    <tr style=\"text-align: right;\">\n",
       "      <th></th>\n",
       "      <th>n_voters</th>\n",
       "      <th>pct_change</th>\n",
       "    </tr>\n",
       "    <tr>\n",
       "      <th>Population</th>\n",
       "      <th></th>\n",
       "      <th></th>\n",
       "    </tr>\n",
       "  </thead>\n",
       "  <tbody>\n",
       "    <tr>\n",
       "      <th>Total_Voters</th>\n",
       "      <td>163849416</td>\n",
       "      <td>NaN</td>\n",
       "    </tr>\n",
       "    <tr>\n",
       "      <th>After Removing Non-Registered Voters</th>\n",
       "      <td>121468138</td>\n",
       "      <td>-25.87</td>\n",
       "    </tr>\n",
       "    <tr>\n",
       "      <th>After Removing votes that were not in person</th>\n",
       "      <td>95182423</td>\n",
       "      <td>-21.64</td>\n",
       "    </tr>\n",
       "    <tr>\n",
       "      <th>After Removing Voters &lt;18 years</th>\n",
       "      <td>94512190</td>\n",
       "      <td>-0.70</td>\n",
       "    </tr>\n",
       "    <tr>\n",
       "      <th>After Removing Voters &gt;100 years</th>\n",
       "      <td>94468159</td>\n",
       "      <td>-0.05</td>\n",
       "    </tr>\n",
       "  </tbody>\n",
       "</table>\n",
       "</div>"
      ],
      "text/plain": [
       "                                               n_voters  pct_change\n",
       "Population                                                         \n",
       "Total_Voters                                  163849416         NaN\n",
       "After Removing Non-Registered Voters          121468138      -25.87\n",
       "After Removing votes that were not in person   95182423      -21.64\n",
       "After Removing Voters <18 years                94512190       -0.70\n",
       "After Removing Voters >100 years               94468159       -0.05"
      ]
     },
     "execution_count": 29,
     "metadata": {},
     "output_type": "execute_result"
    }
   ],
   "source": [
    "filters"
   ]
  },
  {
   "cell_type": "markdown",
   "metadata": {},
   "source": [
    "## 2.4 Calc days between birth_date and election_date"
   ]
  },
  {
   "cell_type": "code",
   "execution_count": 30,
   "metadata": {},
   "outputs": [],
   "source": [
    "# calculate the difference in number of days between birth_date and election_date\n",
    "df['bd_day_of_month'] = df.birth_date.dt.day.astype(str)\n",
    "df['bd_month_of_year'] = df.birth_date.dt.month.astype(str)\n",
    "df['election_year'] = df.election_date.dt.year.astype(str)\n",
    "df['birthday_election_year'] = pd.to_datetime(df['election_year'] + '-' + df['bd_month_of_year'] + '-' + df['bd_day_of_month'], errors='coerce')\n",
    "\n",
    "df['days'] = (df['birthday_election_year'] - df['election_date']).dt.days"
   ]
  },
  {
   "cell_type": "code",
   "execution_count": 31,
   "metadata": {},
   "outputs": [
    {
     "name": "stdout",
     "output_type": "stream",
     "text": [
      "check that where days==0, month/day of birth_date matches month/day of election_date\n"
     ]
    },
    {
     "data": {
      "text/html": [
       "<div>\n",
       "<style scoped>\n",
       "    .dataframe tbody tr th:only-of-type {\n",
       "        vertical-align: middle;\n",
       "    }\n",
       "\n",
       "    .dataframe tbody tr th {\n",
       "        vertical-align: top;\n",
       "    }\n",
       "\n",
       "    .dataframe thead th {\n",
       "        text-align: right;\n",
       "    }\n",
       "</style>\n",
       "<table border=\"1\" class=\"dataframe\">\n",
       "  <thead>\n",
       "    <tr style=\"text-align: right;\">\n",
       "      <th></th>\n",
       "      <th>voter_id</th>\n",
       "      <th>birth_date</th>\n",
       "      <th>registration_date</th>\n",
       "      <th>race</th>\n",
       "      <th>gender</th>\n",
       "      <th>election_date</th>\n",
       "      <th>election_type</th>\n",
       "      <th>history_code</th>\n",
       "      <th>voted</th>\n",
       "      <th>registration_deadline</th>\n",
       "      <th>age</th>\n",
       "      <th>bd_day_of_month</th>\n",
       "      <th>bd_month_of_year</th>\n",
       "      <th>election_year</th>\n",
       "      <th>birthday_election_year</th>\n",
       "      <th>days</th>\n",
       "    </tr>\n",
       "  </thead>\n",
       "  <tbody>\n",
       "    <tr>\n",
       "      <th>29825217</th>\n",
       "      <td>115123878</td>\n",
       "      <td>1952-11-04</td>\n",
       "      <td>2007-04-12</td>\n",
       "      <td>5</td>\n",
       "      <td>F</td>\n",
       "      <td>2014-11-04</td>\n",
       "      <td>GEN</td>\n",
       "      <td>Y</td>\n",
       "      <td>True</td>\n",
       "      <td>2014-10-06</td>\n",
       "      <td>62</td>\n",
       "      <td>4</td>\n",
       "      <td>11</td>\n",
       "      <td>2014</td>\n",
       "      <td>2014-11-04</td>\n",
       "      <td>0.0</td>\n",
       "    </tr>\n",
       "    <tr>\n",
       "      <th>29825767</th>\n",
       "      <td>115786098</td>\n",
       "      <td>1990-11-06</td>\n",
       "      <td>2008-01-18</td>\n",
       "      <td>5</td>\n",
       "      <td>F</td>\n",
       "      <td>2012-11-06</td>\n",
       "      <td>GEN</td>\n",
       "      <td>Y</td>\n",
       "      <td>True</td>\n",
       "      <td>2012-10-08</td>\n",
       "      <td>22</td>\n",
       "      <td>6</td>\n",
       "      <td>11</td>\n",
       "      <td>2012</td>\n",
       "      <td>2012-11-06</td>\n",
       "      <td>0.0</td>\n",
       "    </tr>\n",
       "    <tr>\n",
       "      <th>29826022</th>\n",
       "      <td>104785359</td>\n",
       "      <td>1922-08-30</td>\n",
       "      <td>2002-03-01</td>\n",
       "      <td>5</td>\n",
       "      <td>F</td>\n",
       "      <td>2016-08-30</td>\n",
       "      <td>PRI</td>\n",
       "      <td>NaN</td>\n",
       "      <td>False</td>\n",
       "      <td>2016-08-01</td>\n",
       "      <td>94</td>\n",
       "      <td>30</td>\n",
       "      <td>8</td>\n",
       "      <td>2016</td>\n",
       "      <td>2016-08-30</td>\n",
       "      <td>0.0</td>\n",
       "    </tr>\n",
       "    <tr>\n",
       "      <th>29826930</th>\n",
       "      <td>113985541</td>\n",
       "      <td>1961-08-14</td>\n",
       "      <td>2006-01-12</td>\n",
       "      <td>4</td>\n",
       "      <td>M</td>\n",
       "      <td>2012-08-14</td>\n",
       "      <td>PRI</td>\n",
       "      <td>NaN</td>\n",
       "      <td>False</td>\n",
       "      <td>2012-07-16</td>\n",
       "      <td>51</td>\n",
       "      <td>14</td>\n",
       "      <td>8</td>\n",
       "      <td>2012</td>\n",
       "      <td>2012-08-14</td>\n",
       "      <td>0.0</td>\n",
       "    </tr>\n",
       "    <tr>\n",
       "      <th>29828018</th>\n",
       "      <td>114245170</td>\n",
       "      <td>1943-08-26</td>\n",
       "      <td>2006-04-19</td>\n",
       "      <td>5</td>\n",
       "      <td>F</td>\n",
       "      <td>2008-08-26</td>\n",
       "      <td>PRI</td>\n",
       "      <td>NaN</td>\n",
       "      <td>False</td>\n",
       "      <td>2008-07-28</td>\n",
       "      <td>65</td>\n",
       "      <td>26</td>\n",
       "      <td>8</td>\n",
       "      <td>2008</td>\n",
       "      <td>2008-08-26</td>\n",
       "      <td>0.0</td>\n",
       "    </tr>\n",
       "    <tr>\n",
       "      <th>29828024</th>\n",
       "      <td>114245170</td>\n",
       "      <td>1943-08-26</td>\n",
       "      <td>2006-04-19</td>\n",
       "      <td>5</td>\n",
       "      <td>F</td>\n",
       "      <td>2014-08-26</td>\n",
       "      <td>PRI</td>\n",
       "      <td>NaN</td>\n",
       "      <td>False</td>\n",
       "      <td>2014-07-28</td>\n",
       "      <td>71</td>\n",
       "      <td>26</td>\n",
       "      <td>8</td>\n",
       "      <td>2014</td>\n",
       "      <td>2014-08-26</td>\n",
       "      <td>0.0</td>\n",
       "    </tr>\n",
       "    <tr>\n",
       "      <th>29828352</th>\n",
       "      <td>113450218</td>\n",
       "      <td>1936-09-05</td>\n",
       "      <td>1974-09-11</td>\n",
       "      <td>5</td>\n",
       "      <td>F</td>\n",
       "      <td>2006-09-05</td>\n",
       "      <td>PRI</td>\n",
       "      <td>NaN</td>\n",
       "      <td>False</td>\n",
       "      <td>2006-08-07</td>\n",
       "      <td>70</td>\n",
       "      <td>5</td>\n",
       "      <td>9</td>\n",
       "      <td>2006</td>\n",
       "      <td>2006-09-05</td>\n",
       "      <td>0.0</td>\n",
       "    </tr>\n",
       "    <tr>\n",
       "      <th>29828426</th>\n",
       "      <td>100446545</td>\n",
       "      <td>1973-08-26</td>\n",
       "      <td>2007-03-29</td>\n",
       "      <td>5</td>\n",
       "      <td>M</td>\n",
       "      <td>2008-08-26</td>\n",
       "      <td>PRI</td>\n",
       "      <td>NaN</td>\n",
       "      <td>False</td>\n",
       "      <td>2008-07-28</td>\n",
       "      <td>35</td>\n",
       "      <td>26</td>\n",
       "      <td>8</td>\n",
       "      <td>2008</td>\n",
       "      <td>2008-08-26</td>\n",
       "      <td>0.0</td>\n",
       "    </tr>\n",
       "    <tr>\n",
       "      <th>29828432</th>\n",
       "      <td>100446545</td>\n",
       "      <td>1973-08-26</td>\n",
       "      <td>2007-03-29</td>\n",
       "      <td>5</td>\n",
       "      <td>M</td>\n",
       "      <td>2014-08-26</td>\n",
       "      <td>PRI</td>\n",
       "      <td>NaN</td>\n",
       "      <td>False</td>\n",
       "      <td>2014-07-28</td>\n",
       "      <td>41</td>\n",
       "      <td>26</td>\n",
       "      <td>8</td>\n",
       "      <td>2014</td>\n",
       "      <td>2014-08-26</td>\n",
       "      <td>0.0</td>\n",
       "    </tr>\n",
       "    <tr>\n",
       "      <th>29830182</th>\n",
       "      <td>116541706</td>\n",
       "      <td>1971-08-14</td>\n",
       "      <td>2008-08-15</td>\n",
       "      <td>3</td>\n",
       "      <td>M</td>\n",
       "      <td>2012-08-14</td>\n",
       "      <td>PRI</td>\n",
       "      <td>NaN</td>\n",
       "      <td>False</td>\n",
       "      <td>2012-07-16</td>\n",
       "      <td>41</td>\n",
       "      <td>14</td>\n",
       "      <td>8</td>\n",
       "      <td>2012</td>\n",
       "      <td>2012-08-14</td>\n",
       "      <td>0.0</td>\n",
       "    </tr>\n",
       "  </tbody>\n",
       "</table>\n",
       "</div>"
      ],
      "text/plain": [
       "           voter_id birth_date registration_date  race gender election_date  \\\n",
       "29825217  115123878 1952-11-04        2007-04-12     5      F    2014-11-04   \n",
       "29825767  115786098 1990-11-06        2008-01-18     5      F    2012-11-06   \n",
       "29826022  104785359 1922-08-30        2002-03-01     5      F    2016-08-30   \n",
       "29826930  113985541 1961-08-14        2006-01-12     4      M    2012-08-14   \n",
       "29828018  114245170 1943-08-26        2006-04-19     5      F    2008-08-26   \n",
       "29828024  114245170 1943-08-26        2006-04-19     5      F    2014-08-26   \n",
       "29828352  113450218 1936-09-05        1974-09-11     5      F    2006-09-05   \n",
       "29828426  100446545 1973-08-26        2007-03-29     5      M    2008-08-26   \n",
       "29828432  100446545 1973-08-26        2007-03-29     5      M    2014-08-26   \n",
       "29830182  116541706 1971-08-14        2008-08-15     3      M    2012-08-14   \n",
       "\n",
       "         election_type history_code  voted registration_deadline  age  \\\n",
       "29825217           GEN            Y   True            2014-10-06   62   \n",
       "29825767           GEN            Y   True            2012-10-08   22   \n",
       "29826022           PRI          NaN  False            2016-08-01   94   \n",
       "29826930           PRI          NaN  False            2012-07-16   51   \n",
       "29828018           PRI          NaN  False            2008-07-28   65   \n",
       "29828024           PRI          NaN  False            2014-07-28   71   \n",
       "29828352           PRI          NaN  False            2006-08-07   70   \n",
       "29828426           PRI          NaN  False            2008-07-28   35   \n",
       "29828432           PRI          NaN  False            2014-07-28   41   \n",
       "29830182           PRI          NaN  False            2012-07-16   41   \n",
       "\n",
       "         bd_day_of_month bd_month_of_year election_year  \\\n",
       "29825217               4               11          2014   \n",
       "29825767               6               11          2012   \n",
       "29826022              30                8          2016   \n",
       "29826930              14                8          2012   \n",
       "29828018              26                8          2008   \n",
       "29828024              26                8          2014   \n",
       "29828352               5                9          2006   \n",
       "29828426              26                8          2008   \n",
       "29828432              26                8          2014   \n",
       "29830182              14                8          2012   \n",
       "\n",
       "         birthday_election_year  days  \n",
       "29825217             2014-11-04   0.0  \n",
       "29825767             2012-11-06   0.0  \n",
       "29826022             2016-08-30   0.0  \n",
       "29826930             2012-08-14   0.0  \n",
       "29828018             2008-08-26   0.0  \n",
       "29828024             2014-08-26   0.0  \n",
       "29828352             2006-09-05   0.0  \n",
       "29828426             2008-08-26   0.0  \n",
       "29828432             2014-08-26   0.0  \n",
       "29830182             2012-08-14   0.0  "
      ]
     },
     "execution_count": 31,
     "metadata": {},
     "output_type": "execute_result"
    }
   ],
   "source": [
    "# check that where days==0, month/day of birth_date matches month/day of election_date\n",
    "print('check that where days==0, month/day of birth_date matches month/day of election_date')\n",
    "df[df.days==0].iloc[50000:50010, :]"
   ]
  },
  {
   "cell_type": "markdown",
   "metadata": {},
   "source": [
    "# 3.0 Analysis"
   ]
  },
  {
   "cell_type": "code",
   "execution_count": 32,
   "metadata": {},
   "outputs": [],
   "source": [
    "df['year'] = df.election_date.dt.year"
   ]
  },
  {
   "cell_type": "code",
   "execution_count": 33,
   "metadata": {},
   "outputs": [],
   "source": [
    "summary_table = df.groupby(['year','election_type','election_date']).voted.agg(['count','mean']).rename(columns={'count': 'n_eligible_voters','mean': 'prop_voted'}).sort_values(by=['election_date'])"
   ]
  },
  {
   "cell_type": "code",
   "execution_count": 34,
   "metadata": {},
   "outputs": [],
   "source": [
    "summary_table['prop_voted'] = (summary_table.prop_voted*100).round(2)"
   ]
  },
  {
   "cell_type": "code",
   "execution_count": 35,
   "metadata": {},
   "outputs": [
    {
     "data": {
      "text/html": [
       "<div>\n",
       "<style scoped>\n",
       "    .dataframe tbody tr th:only-of-type {\n",
       "        vertical-align: middle;\n",
       "    }\n",
       "\n",
       "    .dataframe tbody tr th {\n",
       "        vertical-align: top;\n",
       "    }\n",
       "\n",
       "    .dataframe thead th {\n",
       "        text-align: right;\n",
       "    }\n",
       "</style>\n",
       "<table border=\"1\" class=\"dataframe\">\n",
       "  <thead>\n",
       "    <tr style=\"text-align: right;\">\n",
       "      <th></th>\n",
       "      <th></th>\n",
       "      <th></th>\n",
       "      <th>n_eligible_voters</th>\n",
       "      <th>prop_voted</th>\n",
       "    </tr>\n",
       "    <tr>\n",
       "      <th>year</th>\n",
       "      <th>election_type</th>\n",
       "      <th>election_date</th>\n",
       "      <th></th>\n",
       "      <th></th>\n",
       "    </tr>\n",
       "  </thead>\n",
       "  <tbody>\n",
       "    <tr>\n",
       "      <th rowspan=\"2\" valign=\"top\">2006</th>\n",
       "      <th>PRI</th>\n",
       "      <th>2006-09-05</th>\n",
       "      <td>6946517</td>\n",
       "      <td>16.73</td>\n",
       "    </tr>\n",
       "    <tr>\n",
       "      <th>GEN</th>\n",
       "      <th>2006-11-07</th>\n",
       "      <td>6310946</td>\n",
       "      <td>41.92</td>\n",
       "    </tr>\n",
       "    <tr>\n",
       "      <th rowspan=\"2\" valign=\"top\">2008</th>\n",
       "      <th>PRI</th>\n",
       "      <th>2008-08-26</th>\n",
       "      <td>7739767</td>\n",
       "      <td>12.41</td>\n",
       "    </tr>\n",
       "    <tr>\n",
       "      <th>GEN</th>\n",
       "      <th>2008-11-04</th>\n",
       "      <td>4996307</td>\n",
       "      <td>65.22</td>\n",
       "    </tr>\n",
       "    <tr>\n",
       "      <th rowspan=\"2\" valign=\"top\">2010</th>\n",
       "      <th>PRI</th>\n",
       "      <th>2010-08-24</th>\n",
       "      <td>8412636</td>\n",
       "      <td>14.73</td>\n",
       "    </tr>\n",
       "    <tr>\n",
       "      <th>GEN</th>\n",
       "      <th>2010-11-02</th>\n",
       "      <td>7398605</td>\n",
       "      <td>37.62</td>\n",
       "    </tr>\n",
       "    <tr>\n",
       "      <th rowspan=\"2\" valign=\"top\">2012</th>\n",
       "      <th>PRI</th>\n",
       "      <th>2012-08-14</th>\n",
       "      <td>9262955</td>\n",
       "      <td>12.14</td>\n",
       "    </tr>\n",
       "    <tr>\n",
       "      <th>GEN</th>\n",
       "      <th>2012-11-06</th>\n",
       "      <td>6307756</td>\n",
       "      <td>55.54</td>\n",
       "    </tr>\n",
       "    <tr>\n",
       "      <th rowspan=\"2\" valign=\"top\">2014</th>\n",
       "      <th>PRI</th>\n",
       "      <th>2014-08-26</th>\n",
       "      <td>10433056</td>\n",
       "      <td>7.93</td>\n",
       "    </tr>\n",
       "    <tr>\n",
       "      <th>GEN</th>\n",
       "      <th>2014-11-04</th>\n",
       "      <td>8681007</td>\n",
       "      <td>31.73</td>\n",
       "    </tr>\n",
       "    <tr>\n",
       "      <th rowspan=\"2\" valign=\"top\">2016</th>\n",
       "      <th>PRI</th>\n",
       "      <th>2016-08-30</th>\n",
       "      <td>11183556</td>\n",
       "      <td>10.01</td>\n",
       "    </tr>\n",
       "    <tr>\n",
       "      <th>GEN</th>\n",
       "      <th>2016-11-08</th>\n",
       "      <td>6795051</td>\n",
       "      <td>42.78</td>\n",
       "    </tr>\n",
       "  </tbody>\n",
       "</table>\n",
       "</div>"
      ],
      "text/plain": [
       "                                  n_eligible_voters  prop_voted\n",
       "year election_type election_date                               \n",
       "2006 PRI           2006-09-05               6946517       16.73\n",
       "     GEN           2006-11-07               6310946       41.92\n",
       "2008 PRI           2008-08-26               7739767       12.41\n",
       "     GEN           2008-11-04               4996307       65.22\n",
       "2010 PRI           2010-08-24               8412636       14.73\n",
       "     GEN           2010-11-02               7398605       37.62\n",
       "2012 PRI           2012-08-14               9262955       12.14\n",
       "     GEN           2012-11-06               6307756       55.54\n",
       "2014 PRI           2014-08-26              10433056        7.93\n",
       "     GEN           2014-11-04               8681007       31.73\n",
       "2016 PRI           2016-08-30              11183556       10.01\n",
       "     GEN           2016-11-08               6795051       42.78"
      ]
     },
     "execution_count": 35,
     "metadata": {},
     "output_type": "execute_result"
    }
   ],
   "source": [
    "summary_table"
   ]
  },
  {
   "cell_type": "code",
   "execution_count": 36,
   "metadata": {},
   "outputs": [],
   "source": [
    "summary_table.to_csv('tab2_FL_summary_table.csv')"
   ]
  },
  {
   "cell_type": "markdown",
   "metadata": {},
   "source": [
    "## 3.1 Check for fake birthdays"
   ]
  },
  {
   "cell_type": "markdown",
   "metadata": {},
   "source": [
    "Look for fake birthdays by identifying a month/day with a high # of occurrences compared to the previous day (e.g. many voters reported their birthday on 1/1)"
   ]
  },
  {
   "cell_type": "code",
   "execution_count": 37,
   "metadata": {},
   "outputs": [
    {
     "name": "stderr",
     "output_type": "stream",
     "text": [
      "/opt/anaconda3/lib/python3.7/site-packages/pandas/core/indexing.py:362: SettingWithCopyWarning: \n",
      "A value is trying to be set on a copy of a slice from a DataFrame.\n",
      "Try using .loc[row_indexer,col_indexer] = value instead\n",
      "\n",
      "See the caveats in the documentation: http://pandas.pydata.org/pandas-docs/stable/indexing.html#indexing-view-versus-copy\n",
      "  self.obj[key] = _infer_fill_value(value)\n",
      "/opt/anaconda3/lib/python3.7/site-packages/pandas/core/indexing.py:543: SettingWithCopyWarning: \n",
      "A value is trying to be set on a copy of a slice from a DataFrame.\n",
      "Try using .loc[row_indexer,col_indexer] = value instead\n",
      "\n",
      "See the caveats in the documentation: http://pandas.pydata.org/pandas-docs/stable/indexing.html#indexing-view-versus-copy\n",
      "  self.obj[item] = s\n"
     ]
    },
    {
     "data": {
      "text/html": [
       "<div>\n",
       "<style scoped>\n",
       "    .dataframe tbody tr th:only-of-type {\n",
       "        vertical-align: middle;\n",
       "    }\n",
       "\n",
       "    .dataframe tbody tr th {\n",
       "        vertical-align: top;\n",
       "    }\n",
       "\n",
       "    .dataframe thead th {\n",
       "        text-align: right;\n",
       "    }\n",
       "</style>\n",
       "<table border=\"1\" class=\"dataframe\">\n",
       "  <thead>\n",
       "    <tr style=\"text-align: right;\">\n",
       "      <th>day</th>\n",
       "      <th>1</th>\n",
       "      <th>2</th>\n",
       "      <th>3</th>\n",
       "      <th>4</th>\n",
       "      <th>5</th>\n",
       "      <th>6</th>\n",
       "      <th>7</th>\n",
       "      <th>8</th>\n",
       "      <th>9</th>\n",
       "      <th>10</th>\n",
       "      <th>...</th>\n",
       "      <th>22</th>\n",
       "      <th>23</th>\n",
       "      <th>24</th>\n",
       "      <th>25</th>\n",
       "      <th>26</th>\n",
       "      <th>27</th>\n",
       "      <th>28</th>\n",
       "      <th>29</th>\n",
       "      <th>30</th>\n",
       "      <th>31</th>\n",
       "    </tr>\n",
       "    <tr>\n",
       "      <th>month</th>\n",
       "      <th></th>\n",
       "      <th></th>\n",
       "      <th></th>\n",
       "      <th></th>\n",
       "      <th></th>\n",
       "      <th></th>\n",
       "      <th></th>\n",
       "      <th></th>\n",
       "      <th></th>\n",
       "      <th></th>\n",
       "      <th></th>\n",
       "      <th></th>\n",
       "      <th></th>\n",
       "      <th></th>\n",
       "      <th></th>\n",
       "      <th></th>\n",
       "      <th></th>\n",
       "      <th></th>\n",
       "      <th></th>\n",
       "      <th></th>\n",
       "      <th></th>\n",
       "    </tr>\n",
       "  </thead>\n",
       "  <tbody>\n",
       "    <tr>\n",
       "      <th>1</th>\n",
       "      <td>1109.0</td>\n",
       "      <td>-4188.0</td>\n",
       "      <td>1266.0</td>\n",
       "      <td>461.0</td>\n",
       "      <td>-58.0</td>\n",
       "      <td>423.0</td>\n",
       "      <td>-569.0</td>\n",
       "      <td>-323.0</td>\n",
       "      <td>-322.0</td>\n",
       "      <td>1384.0</td>\n",
       "      <td>...</td>\n",
       "      <td>-544.0</td>\n",
       "      <td>-130.0</td>\n",
       "      <td>105.0</td>\n",
       "      <td>316.0</td>\n",
       "      <td>-167.0</td>\n",
       "      <td>-324.0</td>\n",
       "      <td>451.0</td>\n",
       "      <td>-658.0</td>\n",
       "      <td>97.0</td>\n",
       "      <td>-599.0</td>\n",
       "    </tr>\n",
       "    <tr>\n",
       "      <th>2</th>\n",
       "      <td>1518.0</td>\n",
       "      <td>871.0</td>\n",
       "      <td>-1211.0</td>\n",
       "      <td>-321.0</td>\n",
       "      <td>453.0</td>\n",
       "      <td>-777.0</td>\n",
       "      <td>757.0</td>\n",
       "      <td>-164.0</td>\n",
       "      <td>-127.0</td>\n",
       "      <td>1172.0</td>\n",
       "      <td>...</td>\n",
       "      <td>1350.0</td>\n",
       "      <td>-1095.0</td>\n",
       "      <td>373.0</td>\n",
       "      <td>-301.0</td>\n",
       "      <td>-30.0</td>\n",
       "      <td>38.0</td>\n",
       "      <td>1040.0</td>\n",
       "      <td>-29014.0</td>\n",
       "      <td>NaN</td>\n",
       "      <td>NaN</td>\n",
       "    </tr>\n",
       "    <tr>\n",
       "      <th>3</th>\n",
       "      <td>28867.0</td>\n",
       "      <td>-249.0</td>\n",
       "      <td>847.0</td>\n",
       "      <td>-1092.0</td>\n",
       "      <td>197.0</td>\n",
       "      <td>-310.0</td>\n",
       "      <td>-180.0</td>\n",
       "      <td>288.0</td>\n",
       "      <td>-723.0</td>\n",
       "      <td>768.0</td>\n",
       "      <td>...</td>\n",
       "      <td>-94.0</td>\n",
       "      <td>61.0</td>\n",
       "      <td>157.0</td>\n",
       "      <td>392.0</td>\n",
       "      <td>-761.0</td>\n",
       "      <td>239.0</td>\n",
       "      <td>-118.0</td>\n",
       "      <td>-677.0</td>\n",
       "      <td>261.0</td>\n",
       "      <td>-301.0</td>\n",
       "    </tr>\n",
       "    <tr>\n",
       "      <th>4</th>\n",
       "      <td>952.0</td>\n",
       "      <td>-178.0</td>\n",
       "      <td>-518.0</td>\n",
       "      <td>1156.0</td>\n",
       "      <td>-805.0</td>\n",
       "      <td>-156.0</td>\n",
       "      <td>265.0</td>\n",
       "      <td>-302.0</td>\n",
       "      <td>-310.0</td>\n",
       "      <td>886.0</td>\n",
       "      <td>...</td>\n",
       "      <td>-37.0</td>\n",
       "      <td>-20.0</td>\n",
       "      <td>-199.0</td>\n",
       "      <td>557.0</td>\n",
       "      <td>-842.0</td>\n",
       "      <td>111.0</td>\n",
       "      <td>1041.0</td>\n",
       "      <td>-753.0</td>\n",
       "      <td>-309.0</td>\n",
       "      <td>NaN</td>\n",
       "    </tr>\n",
       "    <tr>\n",
       "      <th>5</th>\n",
       "      <td>1760.0</td>\n",
       "      <td>-1145.0</td>\n",
       "      <td>-304.0</td>\n",
       "      <td>-102.0</td>\n",
       "      <td>1889.0</td>\n",
       "      <td>-1471.0</td>\n",
       "      <td>40.0</td>\n",
       "      <td>74.0</td>\n",
       "      <td>-573.0</td>\n",
       "      <td>1230.0</td>\n",
       "      <td>...</td>\n",
       "      <td>509.0</td>\n",
       "      <td>-211.0</td>\n",
       "      <td>-188.0</td>\n",
       "      <td>706.0</td>\n",
       "      <td>-694.0</td>\n",
       "      <td>-1.0</td>\n",
       "      <td>385.0</td>\n",
       "      <td>-249.0</td>\n",
       "      <td>-1015.0</td>\n",
       "      <td>-184.0</td>\n",
       "    </tr>\n",
       "    <tr>\n",
       "      <th>6</th>\n",
       "      <td>2654.0</td>\n",
       "      <td>-744.0</td>\n",
       "      <td>-304.0</td>\n",
       "      <td>-87.0</td>\n",
       "      <td>436.0</td>\n",
       "      <td>273.0</td>\n",
       "      <td>-341.0</td>\n",
       "      <td>-105.0</td>\n",
       "      <td>168.0</td>\n",
       "      <td>655.0</td>\n",
       "      <td>...</td>\n",
       "      <td>481.0</td>\n",
       "      <td>182.0</td>\n",
       "      <td>-22.0</td>\n",
       "      <td>368.0</td>\n",
       "      <td>-285.0</td>\n",
       "      <td>204.0</td>\n",
       "      <td>-202.0</td>\n",
       "      <td>464.0</td>\n",
       "      <td>325.0</td>\n",
       "      <td>NaN</td>\n",
       "    </tr>\n",
       "    <tr>\n",
       "      <th>7</th>\n",
       "      <td>908.0</td>\n",
       "      <td>-823.0</td>\n",
       "      <td>-906.0</td>\n",
       "      <td>-1900.0</td>\n",
       "      <td>1214.0</td>\n",
       "      <td>1746.0</td>\n",
       "      <td>1043.0</td>\n",
       "      <td>-615.0</td>\n",
       "      <td>-513.0</td>\n",
       "      <td>691.0</td>\n",
       "      <td>...</td>\n",
       "      <td>361.0</td>\n",
       "      <td>-43.0</td>\n",
       "      <td>-316.0</td>\n",
       "      <td>258.0</td>\n",
       "      <td>-191.0</td>\n",
       "      <td>391.0</td>\n",
       "      <td>330.0</td>\n",
       "      <td>-96.0</td>\n",
       "      <td>-318.0</td>\n",
       "      <td>-435.0</td>\n",
       "    </tr>\n",
       "    <tr>\n",
       "      <th>8</th>\n",
       "      <td>1391.0</td>\n",
       "      <td>-849.0</td>\n",
       "      <td>0.0</td>\n",
       "      <td>6.0</td>\n",
       "      <td>476.0</td>\n",
       "      <td>-183.0</td>\n",
       "      <td>6.0</td>\n",
       "      <td>1051.0</td>\n",
       "      <td>-1390.0</td>\n",
       "      <td>1220.0</td>\n",
       "      <td>...</td>\n",
       "      <td>43.0</td>\n",
       "      <td>-295.0</td>\n",
       "      <td>253.0</td>\n",
       "      <td>494.0</td>\n",
       "      <td>-303.0</td>\n",
       "      <td>-15.0</td>\n",
       "      <td>751.0</td>\n",
       "      <td>-631.0</td>\n",
       "      <td>-237.0</td>\n",
       "      <td>-285.0</td>\n",
       "    </tr>\n",
       "    <tr>\n",
       "      <th>9</th>\n",
       "      <td>1158.0</td>\n",
       "      <td>-1216.0</td>\n",
       "      <td>62.0</td>\n",
       "      <td>-50.0</td>\n",
       "      <td>189.0</td>\n",
       "      <td>80.0</td>\n",
       "      <td>100.0</td>\n",
       "      <td>1377.0</td>\n",
       "      <td>342.0</td>\n",
       "      <td>5.0</td>\n",
       "      <td>...</td>\n",
       "      <td>396.0</td>\n",
       "      <td>-313.0</td>\n",
       "      <td>49.0</td>\n",
       "      <td>31.0</td>\n",
       "      <td>-219.0</td>\n",
       "      <td>-126.0</td>\n",
       "      <td>140.0</td>\n",
       "      <td>-336.0</td>\n",
       "      <td>-465.0</td>\n",
       "      <td>NaN</td>\n",
       "    </tr>\n",
       "    <tr>\n",
       "      <th>10</th>\n",
       "      <td>592.0</td>\n",
       "      <td>-657.0</td>\n",
       "      <td>-563.0</td>\n",
       "      <td>-265.0</td>\n",
       "      <td>426.0</td>\n",
       "      <td>-492.0</td>\n",
       "      <td>31.0</td>\n",
       "      <td>-279.0</td>\n",
       "      <td>-604.0</td>\n",
       "      <td>2277.0</td>\n",
       "      <td>...</td>\n",
       "      <td>469.0</td>\n",
       "      <td>-411.0</td>\n",
       "      <td>204.0</td>\n",
       "      <td>107.0</td>\n",
       "      <td>-269.0</td>\n",
       "      <td>232.0</td>\n",
       "      <td>357.0</td>\n",
       "      <td>-799.0</td>\n",
       "      <td>-38.0</td>\n",
       "      <td>-1242.0</td>\n",
       "    </tr>\n",
       "    <tr>\n",
       "      <th>11</th>\n",
       "      <td>2402.0</td>\n",
       "      <td>-811.0</td>\n",
       "      <td>90.0</td>\n",
       "      <td>262.0</td>\n",
       "      <td>-42.0</td>\n",
       "      <td>-427.0</td>\n",
       "      <td>289.0</td>\n",
       "      <td>-48.0</td>\n",
       "      <td>-314.0</td>\n",
       "      <td>562.0</td>\n",
       "      <td>...</td>\n",
       "      <td>-256.0</td>\n",
       "      <td>-865.0</td>\n",
       "      <td>-37.0</td>\n",
       "      <td>700.0</td>\n",
       "      <td>-847.0</td>\n",
       "      <td>434.0</td>\n",
       "      <td>-286.0</td>\n",
       "      <td>509.0</td>\n",
       "      <td>672.0</td>\n",
       "      <td>NaN</td>\n",
       "    </tr>\n",
       "    <tr>\n",
       "      <th>12</th>\n",
       "      <td>754.0</td>\n",
       "      <td>-1028.0</td>\n",
       "      <td>92.0</td>\n",
       "      <td>30.0</td>\n",
       "      <td>129.0</td>\n",
       "      <td>-519.0</td>\n",
       "      <td>429.0</td>\n",
       "      <td>515.0</td>\n",
       "      <td>-973.0</td>\n",
       "      <td>1372.0</td>\n",
       "      <td>...</td>\n",
       "      <td>-784.0</td>\n",
       "      <td>-703.0</td>\n",
       "      <td>-1059.0</td>\n",
       "      <td>-1302.0</td>\n",
       "      <td>1838.0</td>\n",
       "      <td>3315.0</td>\n",
       "      <td>906.0</td>\n",
       "      <td>-344.0</td>\n",
       "      <td>-200.0</td>\n",
       "      <td>-649.0</td>\n",
       "    </tr>\n",
       "  </tbody>\n",
       "</table>\n",
       "<p>12 rows × 31 columns</p>\n",
       "</div>"
      ],
      "text/plain": [
       "day         1       2       3       4       5       6       7       8   \\\n",
       "month                                                                    \n",
       "1       1109.0 -4188.0  1266.0   461.0   -58.0   423.0  -569.0  -323.0   \n",
       "2       1518.0   871.0 -1211.0  -321.0   453.0  -777.0   757.0  -164.0   \n",
       "3      28867.0  -249.0   847.0 -1092.0   197.0  -310.0  -180.0   288.0   \n",
       "4        952.0  -178.0  -518.0  1156.0  -805.0  -156.0   265.0  -302.0   \n",
       "5       1760.0 -1145.0  -304.0  -102.0  1889.0 -1471.0    40.0    74.0   \n",
       "6       2654.0  -744.0  -304.0   -87.0   436.0   273.0  -341.0  -105.0   \n",
       "7        908.0  -823.0  -906.0 -1900.0  1214.0  1746.0  1043.0  -615.0   \n",
       "8       1391.0  -849.0     0.0     6.0   476.0  -183.0     6.0  1051.0   \n",
       "9       1158.0 -1216.0    62.0   -50.0   189.0    80.0   100.0  1377.0   \n",
       "10       592.0  -657.0  -563.0  -265.0   426.0  -492.0    31.0  -279.0   \n",
       "11      2402.0  -811.0    90.0   262.0   -42.0  -427.0   289.0   -48.0   \n",
       "12       754.0 -1028.0    92.0    30.0   129.0  -519.0   429.0   515.0   \n",
       "\n",
       "day        9       10   ...        22      23      24      25      26      27  \\\n",
       "month                   ...                                                     \n",
       "1      -322.0  1384.0   ...    -544.0  -130.0   105.0   316.0  -167.0  -324.0   \n",
       "2      -127.0  1172.0   ...    1350.0 -1095.0   373.0  -301.0   -30.0    38.0   \n",
       "3      -723.0   768.0   ...     -94.0    61.0   157.0   392.0  -761.0   239.0   \n",
       "4      -310.0   886.0   ...     -37.0   -20.0  -199.0   557.0  -842.0   111.0   \n",
       "5      -573.0  1230.0   ...     509.0  -211.0  -188.0   706.0  -694.0    -1.0   \n",
       "6       168.0   655.0   ...     481.0   182.0   -22.0   368.0  -285.0   204.0   \n",
       "7      -513.0   691.0   ...     361.0   -43.0  -316.0   258.0  -191.0   391.0   \n",
       "8     -1390.0  1220.0   ...      43.0  -295.0   253.0   494.0  -303.0   -15.0   \n",
       "9       342.0     5.0   ...     396.0  -313.0    49.0    31.0  -219.0  -126.0   \n",
       "10     -604.0  2277.0   ...     469.0  -411.0   204.0   107.0  -269.0   232.0   \n",
       "11     -314.0   562.0   ...    -256.0  -865.0   -37.0   700.0  -847.0   434.0   \n",
       "12     -973.0  1372.0   ...    -784.0  -703.0 -1059.0 -1302.0  1838.0  3315.0   \n",
       "\n",
       "day        28       29      30      31  \n",
       "month                                   \n",
       "1       451.0   -658.0    97.0  -599.0  \n",
       "2      1040.0 -29014.0     NaN     NaN  \n",
       "3      -118.0   -677.0   261.0  -301.0  \n",
       "4      1041.0   -753.0  -309.0     NaN  \n",
       "5       385.0   -249.0 -1015.0  -184.0  \n",
       "6      -202.0    464.0   325.0     NaN  \n",
       "7       330.0    -96.0  -318.0  -435.0  \n",
       "8       751.0   -631.0  -237.0  -285.0  \n",
       "9       140.0   -336.0  -465.0     NaN  \n",
       "10      357.0   -799.0   -38.0 -1242.0  \n",
       "11     -286.0    509.0   672.0     NaN  \n",
       "12      906.0   -344.0  -200.0  -649.0  \n",
       "\n",
       "[12 rows x 31 columns]"
      ]
     },
     "execution_count": 37,
     "metadata": {},
     "output_type": "execute_result"
    }
   ],
   "source": [
    "# count the number of birthday occurences on each day of the year\n",
    "bd = detail[['voter_id','birth_date']]\n",
    "bd.loc[:,'day'] = detail.birth_date.dt.day\n",
    "bd.loc[:,'month'] = detail.birth_date.dt.month\n",
    "bd_count = pd.DataFrame(bd.groupby(['month','day']).voter_id.count().sort_values(ascending=False).rename('count')).reset_index()\n",
    "\n",
    "# sort by month and day\n",
    "bd_count.sort_values(by=['month','day'], inplace=True) \n",
    "\n",
    "# get diff from previous day\n",
    "bd_count['prev_day_count'] = bd_count['count'].diff() \n",
    "\n",
    "# calc diff from previous day on Jan 1\n",
    "bd_count.loc[(bd_count.month==1) & (bd_count.day==1), 'prev_day_count'] = bd_count.loc[(bd_count.month==1) & (bd_count.day==1), 'count'].item() - bd_count.loc[(bd_count.month==12) & (bd_count.day==31), 'count'].item()\n",
    "\n",
    "bd_pivot = pd.pivot_table(bd_count,'prev_day_count','month','day')\n",
    "bd_pivot"
   ]
  },
  {
   "cell_type": "code",
   "execution_count": 38,
   "metadata": {},
   "outputs": [
    {
     "data": {
      "image/png": "[encoded data removed]",
      "text/plain": [
       "<Figure size 1152x504 with 2 Axes>"
      ]
     },
     "metadata": {
      "needs_background": "light"
     },
     "output_type": "display_data"
    }
   ],
   "source": [
    "plt.figure(figsize=(16, 7))\n",
    "sns.heatmap(bd_pivot, cmap=\"RdBu_r\", center=bd_count['prev_day_count'].mean())\n",
    "plt.savefig('fig1_FL_bday_count.png')"
   ]
  },
  {
   "cell_type": "markdown",
   "metadata": {},
   "source": [
    "The only dates that stand out as an outlier are a large decrease in number of birthdays on February 29th vs. February 28th, and a large increase in number of birthdays on March 1st vs. February 29th. This is expected because February 29th only occurrs on a leap year."
   ]
  },
  {
   "cell_type": "code",
   "execution_count": 39,
   "metadata": {},
   "outputs": [
    {
     "data": {
      "image/png": "[encoded data removed]",
      "text/plain": [
       "<Figure size 432x288 with 1 Axes>"
      ]
     },
     "metadata": {
      "needs_background": "light"
     },
     "output_type": "display_data"
    }
   ],
   "source": [
    "# boxplot of diff from prev day\n",
    "sns.boxplot(bd_count.prev_day_count)\n",
    "plt.savefig('fig2_FL_bday_count_boxplot.png')"
   ]
  },
  {
   "cell_type": "markdown",
   "metadata": {},
   "source": [
    "## 3.2 Primary vs. General & Midterms vs. Presidential"
   ]
  },
  {
   "cell_type": "markdown",
   "metadata": {},
   "source": [
    "We expect to see higher turnout for general elections than primary elections.\n",
    "We expect to see higher turnout for presidential elections than midterms."
   ]
  },
  {
   "cell_type": "code",
   "execution_count": 40,
   "metadata": {},
   "outputs": [
    {
     "data": {
      "text/plain": [
       "array(['2006-09-05T00:00:00.000000000', '2012-08-14T00:00:00.000000000',\n",
       "       '2014-08-26T00:00:00.000000000', '2016-08-30T00:00:00.000000000',\n",
       "       '2010-08-24T00:00:00.000000000', '2010-11-02T00:00:00.000000000',\n",
       "       '2012-11-06T00:00:00.000000000', '2014-11-04T00:00:00.000000000',\n",
       "       '2016-11-08T00:00:00.000000000', '2006-11-07T00:00:00.000000000',\n",
       "       '2008-08-26T00:00:00.000000000', '2008-11-04T00:00:00.000000000'],\n",
       "      dtype='datetime64[ns]')"
      ]
     },
     "execution_count": 40,
     "metadata": {},
     "output_type": "execute_result"
    }
   ],
   "source": [
    "df.election_date.unique()"
   ]
  },
  {
   "cell_type": "code",
   "execution_count": 41,
   "metadata": {},
   "outputs": [],
   "source": [
    "election_type_summary = pd.DataFrame(df.groupby('election_type').voted.mean()).rename(columns={'voted': 'prop_voted'})\n",
    "election_type_summary['prop_voted'] = (election_type_summary.prop_voted*100).round(2)"
   ]
  },
  {
   "cell_type": "code",
   "execution_count": 42,
   "metadata": {},
   "outputs": [
    {
     "data": {
      "text/html": [
       "<div>\n",
       "<style scoped>\n",
       "    .dataframe tbody tr th:only-of-type {\n",
       "        vertical-align: middle;\n",
       "    }\n",
       "\n",
       "    .dataframe tbody tr th {\n",
       "        vertical-align: top;\n",
       "    }\n",
       "\n",
       "    .dataframe thead th {\n",
       "        text-align: right;\n",
       "    }\n",
       "</style>\n",
       "<table border=\"1\" class=\"dataframe\">\n",
       "  <thead>\n",
       "    <tr style=\"text-align: right;\">\n",
       "      <th></th>\n",
       "      <th>prop_voted</th>\n",
       "    </tr>\n",
       "    <tr>\n",
       "      <th>election_type</th>\n",
       "      <th></th>\n",
       "    </tr>\n",
       "  </thead>\n",
       "  <tbody>\n",
       "    <tr>\n",
       "      <th>GEN</th>\n",
       "      <td>44.09</td>\n",
       "    </tr>\n",
       "    <tr>\n",
       "      <th>PRI</th>\n",
       "      <td>11.92</td>\n",
       "    </tr>\n",
       "  </tbody>\n",
       "</table>\n",
       "</div>"
      ],
      "text/plain": [
       "               prop_voted\n",
       "election_type            \n",
       "GEN                 44.09\n",
       "PRI                 11.92"
      ]
     },
     "execution_count": 42,
     "metadata": {},
     "output_type": "execute_result"
    }
   ],
   "source": [
    "election_type_summary"
   ]
  },
  {
   "cell_type": "code",
   "execution_count": 43,
   "metadata": {},
   "outputs": [],
   "source": [
    "df['election_type2'] = np.where(df.year.isin([2006,2010,2014]), 'Midterms', 'Presidential')"
   ]
  },
  {
   "cell_type": "code",
   "execution_count": 44,
   "metadata": {},
   "outputs": [],
   "source": [
    "election_type_summary2 = pd.DataFrame(df.groupby('election_type2').voted.mean()).rename(columns={'voted': 'prop_voted'})\n",
    "election_type_summary2['prop_voted'] = (election_type_summary2.prop_voted*100).round(2)"
   ]
  },
  {
   "cell_type": "code",
   "execution_count": 45,
   "metadata": {},
   "outputs": [],
   "source": [
    "election_type_summary2 = election_type_summary2.reset_index().rename(columns={'election_type2': 'election_type'}).set_index('election_type')"
   ]
  },
  {
   "cell_type": "code",
   "execution_count": 46,
   "metadata": {},
   "outputs": [
    {
     "data": {
      "text/html": [
       "<div>\n",
       "<style scoped>\n",
       "    .dataframe tbody tr th:only-of-type {\n",
       "        vertical-align: middle;\n",
       "    }\n",
       "\n",
       "    .dataframe tbody tr th {\n",
       "        vertical-align: top;\n",
       "    }\n",
       "\n",
       "    .dataframe thead th {\n",
       "        text-align: right;\n",
       "    }\n",
       "</style>\n",
       "<table border=\"1\" class=\"dataframe\">\n",
       "  <thead>\n",
       "    <tr style=\"text-align: right;\">\n",
       "      <th></th>\n",
       "      <th>prop_voted</th>\n",
       "    </tr>\n",
       "    <tr>\n",
       "      <th>election_type</th>\n",
       "      <th></th>\n",
       "    </tr>\n",
       "  </thead>\n",
       "  <tbody>\n",
       "    <tr>\n",
       "      <th>Midterms</th>\n",
       "      <td>23.68</td>\n",
       "    </tr>\n",
       "    <tr>\n",
       "      <th>Presidential</th>\n",
       "      <td>27.81</td>\n",
       "    </tr>\n",
       "  </tbody>\n",
       "</table>\n",
       "</div>"
      ],
      "text/plain": [
       "               prop_voted\n",
       "election_type            \n",
       "Midterms            23.68\n",
       "Presidential        27.81"
      ]
     },
     "execution_count": 46,
     "metadata": {},
     "output_type": "execute_result"
    }
   ],
   "source": [
    "election_type_summary2"
   ]
  },
  {
   "cell_type": "code",
   "execution_count": 47,
   "metadata": {},
   "outputs": [],
   "source": [
    "election_type_summary.to_csv('tab3_FL_election_type.csv')\n",
    "election_type_summary2.to_csv('tab4_FL_election_year.csv')"
   ]
  },
  {
   "cell_type": "markdown",
   "metadata": {},
   "source": [
    "## 3.3 Turnout groupby age"
   ]
  },
  {
   "cell_type": "code",
   "execution_count": 48,
   "metadata": {},
   "outputs": [],
   "source": [
    "# groupby age - all elections\n",
    "turnout_groupby_age = df.groupby(['age']).voted.agg(['mean','count','sum']).reset_index().rename(columns={'mean': 'voted', 'count': 'n_total', 'sum': 'n_voters'})\n",
    "turnout_groupby_age['n_nonvoters'] = turnout_groupby_age.n_total - turnout_groupby_age.n_voters\n",
    "turnout_groupby_age['voted'] = turnout_groupby_age['voted']*100"
   ]
  },
  {
   "cell_type": "code",
   "execution_count": 49,
   "metadata": {},
   "outputs": [
    {
     "data": {
      "image/png": "[encoded data removed]",
      "text/plain": [
       "<Figure size 432x288 with 1 Axes>"
      ]
     },
     "metadata": {
      "needs_background": "light"
     },
     "output_type": "display_data"
    }
   ],
   "source": [
    "sns.lineplot(x='age', y='voted', data=turnout_groupby_age)\n",
    "plt.ylabel('prop_voted')\n",
    "plt.savefig('fig3_FL_age.png')"
   ]
  },
  {
   "cell_type": "code",
   "execution_count": 50,
   "metadata": {},
   "outputs": [],
   "source": [
    "# groupby age-election_type\n",
    "turnout_groupby_age_election_type = df.groupby(['age','election_type']).voted.agg(['mean','count','sum']).reset_index().rename(columns={'mean': 'voted', 'count': 'n_total', 'sum': 'n_voters'})\n",
    "turnout_groupby_age_election_type['n_nonvoters'] = turnout_groupby_age_election_type.n_total - turnout_groupby_age_election_type.n_voters\n",
    "turnout_groupby_age_election_type['voted'] = turnout_groupby_age_election_type['voted']*100"
   ]
  },
  {
   "cell_type": "code",
   "execution_count": 51,
   "metadata": {},
   "outputs": [
    {
     "data": {
      "image/png": "[encoded data removed]",
      "text/plain": [
       "<Figure size 432x288 with 1 Axes>"
      ]
     },
     "metadata": {
      "needs_background": "light"
     },
     "output_type": "display_data"
    }
   ],
   "source": [
    "sns.lineplot(x='age', y='voted', hue='election_type', data=turnout_groupby_age_election_type)\n",
    "plt.ylabel('prop_voted')\n",
    "plt.savefig('fig4_FL_age_election_type.png')"
   ]
  },
  {
   "cell_type": "code",
   "execution_count": 52,
   "metadata": {},
   "outputs": [],
   "source": [
    "# gropuby age-electionyear\n",
    "turnout_groupby_age_election_type2 = df.groupby(['age','election_type2']).voted.agg(['mean','count','sum']).reset_index().rename(columns={'mean': 'voted', 'count': 'n_total', 'sum': 'n_voters'})\n",
    "turnout_groupby_age_election_type2['n_nonvoters'] = turnout_groupby_age_election_type2.n_total - turnout_groupby_age_election_type2.n_voters\n",
    "turnout_groupby_age_election_type2['voted'] = turnout_groupby_age_election_type2['voted']*100"
   ]
  },
  {
   "cell_type": "code",
   "execution_count": 53,
   "metadata": {},
   "outputs": [
    {
     "data": {
      "image/png": "[encoded data removed]",
      "text/plain": [
       "<Figure size 432x288 with 1 Axes>"
      ]
     },
     "metadata": {
      "needs_background": "light"
     },
     "output_type": "display_data"
    }
   ],
   "source": [
    "sns.lineplot(x='age', y='voted', hue='election_type2', data=turnout_groupby_age_election_type2)\n",
    "plt.ylabel('prop_voted')\n",
    "plt.savefig('fig5_FL_age_election_year.png')"
   ]
  },
  {
   "cell_type": "markdown",
   "metadata": {},
   "source": [
    "## 3.4 Turnout groupby race"
   ]
  },
  {
   "cell_type": "code",
   "execution_count": 54,
   "metadata": {},
   "outputs": [],
   "source": [
    "turnout_groupby_race = df.groupby(['race']).voted.agg(['mean','count','sum']).reset_index().rename(columns={'mean': 'voted', 'count': 'n_total', 'sum': 'n_voters'})\n",
    "turnout_groupby_race['n_nonvoters'] = turnout_groupby_race.n_total - turnout_groupby_race.n_voters\n",
    "turnout_groupby_race['voted'] = turnout_groupby_race['voted']*100"
   ]
  },
  {
   "cell_type": "code",
   "execution_count": 55,
   "metadata": {},
   "outputs": [],
   "source": [
    "turnout_groupby_race.race.replace({1: 'American Indian or Alaska Native',\n",
    "                                   2: 'Asian or Pacific Islander',\n",
    "                                   3: 'Black, Not Hispanic',\n",
    "                                   4: 'Hispanic',\n",
    "                                   5: 'White, Not Hispanic',\n",
    "                                   6: 'Other',\n",
    "                                   7: 'Multi-racial',\n",
    "                                   9: 'Unknown'}, inplace=True)"
   ]
  },
  {
   "cell_type": "code",
   "execution_count": 56,
   "metadata": {},
   "outputs": [],
   "source": [
    "turnout_groupby_race.voted = turnout_groupby_race.voted.round(2)\n",
    "turnout_groupby_race.n_voters = turnout_groupby_race.n_voters.astype(int)\n",
    "turnout_groupby_race.n_nonvoters = turnout_groupby_race.n_nonvoters.astype(int)"
   ]
  },
  {
   "cell_type": "code",
   "execution_count": 57,
   "metadata": {},
   "outputs": [
    {
     "data": {
      "text/html": [
       "<div>\n",
       "<style scoped>\n",
       "    .dataframe tbody tr th:only-of-type {\n",
       "        vertical-align: middle;\n",
       "    }\n",
       "\n",
       "    .dataframe tbody tr th {\n",
       "        vertical-align: top;\n",
       "    }\n",
       "\n",
       "    .dataframe thead th {\n",
       "        text-align: right;\n",
       "    }\n",
       "</style>\n",
       "<table border=\"1\" class=\"dataframe\">\n",
       "  <thead>\n",
       "    <tr style=\"text-align: right;\">\n",
       "      <th></th>\n",
       "      <th>race</th>\n",
       "      <th>voted</th>\n",
       "      <th>n_total</th>\n",
       "      <th>n_voters</th>\n",
       "      <th>n_nonvoters</th>\n",
       "    </tr>\n",
       "  </thead>\n",
       "  <tbody>\n",
       "    <tr>\n",
       "      <th>0</th>\n",
       "      <td>American Indian or Alaska Native</td>\n",
       "      <td>23.47</td>\n",
       "      <td>316579</td>\n",
       "      <td>74312</td>\n",
       "      <td>242267</td>\n",
       "    </tr>\n",
       "    <tr>\n",
       "      <th>1</th>\n",
       "      <td>Asian or Pacific Islander</td>\n",
       "      <td>16.78</td>\n",
       "      <td>1610740</td>\n",
       "      <td>270359</td>\n",
       "      <td>1340381</td>\n",
       "    </tr>\n",
       "    <tr>\n",
       "      <th>2</th>\n",
       "      <td>Black, Not Hispanic</td>\n",
       "      <td>22.71</td>\n",
       "      <td>12979219</td>\n",
       "      <td>2947888</td>\n",
       "      <td>10031331</td>\n",
       "    </tr>\n",
       "    <tr>\n",
       "      <th>3</th>\n",
       "      <td>Hispanic</td>\n",
       "      <td>17.79</td>\n",
       "      <td>14266859</td>\n",
       "      <td>2538550</td>\n",
       "      <td>11728309</td>\n",
       "    </tr>\n",
       "    <tr>\n",
       "      <th>4</th>\n",
       "      <td>White, Not Hispanic</td>\n",
       "      <td>28.84</td>\n",
       "      <td>61697363</td>\n",
       "      <td>17794928</td>\n",
       "      <td>43902435</td>\n",
       "    </tr>\n",
       "    <tr>\n",
       "      <th>5</th>\n",
       "      <td>Other</td>\n",
       "      <td>19.87</td>\n",
       "      <td>1500689</td>\n",
       "      <td>298215</td>\n",
       "      <td>1202474</td>\n",
       "    </tr>\n",
       "    <tr>\n",
       "      <th>6</th>\n",
       "      <td>Multi-racial</td>\n",
       "      <td>16.61</td>\n",
       "      <td>422260</td>\n",
       "      <td>70135</td>\n",
       "      <td>352125</td>\n",
       "    </tr>\n",
       "    <tr>\n",
       "      <th>7</th>\n",
       "      <td>Unknown</td>\n",
       "      <td>17.38</td>\n",
       "      <td>1674450</td>\n",
       "      <td>291066</td>\n",
       "      <td>1383384</td>\n",
       "    </tr>\n",
       "  </tbody>\n",
       "</table>\n",
       "</div>"
      ],
      "text/plain": [
       "                               race  voted   n_total  n_voters  n_nonvoters\n",
       "0  American Indian or Alaska Native  23.47    316579     74312       242267\n",
       "1         Asian or Pacific Islander  16.78   1610740    270359      1340381\n",
       "2               Black, Not Hispanic  22.71  12979219   2947888     10031331\n",
       "3                          Hispanic  17.79  14266859   2538550     11728309\n",
       "4               White, Not Hispanic  28.84  61697363  17794928     43902435\n",
       "5                             Other  19.87   1500689    298215      1202474\n",
       "6                      Multi-racial  16.61    422260     70135       352125\n",
       "7                           Unknown  17.38   1674450    291066      1383384"
      ]
     },
     "execution_count": 57,
     "metadata": {},
     "output_type": "execute_result"
    }
   ],
   "source": [
    "turnout_groupby_race"
   ]
  },
  {
   "cell_type": "code",
   "execution_count": 58,
   "metadata": {},
   "outputs": [],
   "source": [
    "turnout_groupby_race.to_csv('tab5_FL_race.csv')"
   ]
  },
  {
   "cell_type": "code",
   "execution_count": 59,
   "metadata": {},
   "outputs": [
    {
     "data": {
      "text/plain": [
       "[Text(0, 0, 'American Indian or Alaska Native'),\n",
       " Text(0, 0, 'Asian or Pacific Islander'),\n",
       " Text(0, 0, 'Black, Not Hispanic'),\n",
       " Text(0, 0, 'Hispanic'),\n",
       " Text(0, 0, 'White, Not Hispanic'),\n",
       " Text(0, 0, 'Other'),\n",
       " Text(0, 0, 'Multi-racial'),\n",
       " Text(0, 0, 'Unknown')]"
      ]
     },
     "execution_count": 59,
     "metadata": {},
     "output_type": "execute_result"
    },
    {
     "data": {
      "image/png": "[encoded data removed]",
      "text/plain": [
       "<Figure size 432x288 with 1 Axes>"
      ]
     },
     "metadata": {
      "needs_background": "light"
     },
     "output_type": "display_data"
    }
   ],
   "source": [
    "plt = sns.barplot(x='race', y='voted', data=turnout_groupby_race)\n",
    "plt.set_xticklabels(plt.get_xticklabels(), rotation=45, horizontalalignment='right')"
   ]
  },
  {
   "cell_type": "markdown",
   "metadata": {},
   "source": [
    "# 4.0 Voter Turnout On Birthday - All Voters"
   ]
  },
  {
   "cell_type": "markdown",
   "metadata": {},
   "source": [
    "## All Elections"
   ]
  },
  {
   "cell_type": "code",
   "execution_count": 60,
   "metadata": {},
   "outputs": [],
   "source": [
    "prop_voted = df[df.days.between(-150, 50)]"
   ]
  },
  {
   "cell_type": "code",
   "execution_count": 61,
   "metadata": {},
   "outputs": [
    {
     "data": {
      "image/png": "[encoded data removed]",
      "text/plain": [
       "<Figure size 432x288 with 1 Axes>"
      ]
     },
     "metadata": {
      "needs_background": "light"
     },
     "output_type": "display_data"
    }
   ],
   "source": [
    "fig_df = prop_voted.groupby('days').voted.mean().reset_index()\n",
    "fig_df.voted = (fig_df.voted*100).round(2)\n",
    "fig_df.rename(columns={'days': 'days_from_birthday', 'voted': 'prop_voted'}, inplace=True)\n",
    "plot = sns.lineplot(x='days_from_birthday', y='prop_voted',data=fig_df)\n",
    "fig = plot.get_figure()\n",
    "fig.savefig(\"fig6_FL_all_elections_all_voters.png\")"
   ]
  },
  {
   "cell_type": "markdown",
   "metadata": {},
   "source": [
    "### +/- 30 days"
   ]
  },
  {
   "cell_type": "code",
   "execution_count": 62,
   "metadata": {},
   "outputs": [],
   "source": [
    "prop_voted_30d = prop_voted[prop_voted.days.between(-30, 30)]"
   ]
  },
  {
   "cell_type": "code",
   "execution_count": 63,
   "metadata": {},
   "outputs": [
    {
     "name": "stderr",
     "output_type": "stream",
     "text": [
      "/opt/anaconda3/lib/python3.7/site-packages/ipykernel_launcher.py:1: SettingWithCopyWarning: \n",
      "A value is trying to be set on a copy of a slice from a DataFrame.\n",
      "Try using .loc[row_indexer,col_indexer] = value instead\n",
      "\n",
      "See the caveats in the documentation: http://pandas.pydata.org/pandas-docs/stable/indexing.html#indexing-view-versus-copy\n",
      "  \"\"\"Entry point for launching an IPython kernel.\n"
     ]
    }
   ],
   "source": [
    "prop_voted_30d['days_from_birthday'] = np.where(prop_voted_30d.days!=0, '+/- 30', '0')\n",
    "prop_voted_30d_grouped = prop_voted_30d.groupby('days_from_birthday').voted.agg(['mean','count','sum']).reset_index().rename(columns={'mean': 'prop_voted', 'count': 'n_total', 'sum': 'n_voters'})\n",
    "prop_voted_30d_grouped['n_nonvoters'] = prop_voted_30d_grouped.n_total - prop_voted_30d_grouped.n_voters\n",
    "prop_voted_30d_grouped.prop_voted = (prop_voted_30d_grouped.prop_voted*100).round(2)"
   ]
  },
  {
   "cell_type": "code",
   "execution_count": 64,
   "metadata": {},
   "outputs": [],
   "source": [
    "prop_voted_30d_grouped.n_voters = prop_voted_30d_grouped.n_voters.astype(int)\n",
    "prop_voted_30d_grouped.n_nonvoters = prop_voted_30d_grouped.n_nonvoters.astype(int)"
   ]
  },
  {
   "cell_type": "code",
   "execution_count": 65,
   "metadata": {},
   "outputs": [
    {
     "data": {
      "text/html": [
       "<div>\n",
       "<style scoped>\n",
       "    .dataframe tbody tr th:only-of-type {\n",
       "        vertical-align: middle;\n",
       "    }\n",
       "\n",
       "    .dataframe tbody tr th {\n",
       "        vertical-align: top;\n",
       "    }\n",
       "\n",
       "    .dataframe thead th {\n",
       "        text-align: right;\n",
       "    }\n",
       "</style>\n",
       "<table border=\"1\" class=\"dataframe\">\n",
       "  <thead>\n",
       "    <tr style=\"text-align: right;\">\n",
       "      <th></th>\n",
       "      <th>days_from_birthday</th>\n",
       "      <th>prop_voted</th>\n",
       "      <th>n_total</th>\n",
       "      <th>n_voters</th>\n",
       "      <th>n_nonvoters</th>\n",
       "    </tr>\n",
       "  </thead>\n",
       "  <tbody>\n",
       "    <tr>\n",
       "      <th>0</th>\n",
       "      <td>+/- 30</td>\n",
       "      <td>25.42</td>\n",
       "      <td>16152564</td>\n",
       "      <td>4105922</td>\n",
       "      <td>12046642</td>\n",
       "    </tr>\n",
       "    <tr>\n",
       "      <th>1</th>\n",
       "      <td>0</td>\n",
       "      <td>25.40</td>\n",
       "      <td>265507</td>\n",
       "      <td>67432</td>\n",
       "      <td>198075</td>\n",
       "    </tr>\n",
       "  </tbody>\n",
       "</table>\n",
       "</div>"
      ],
      "text/plain": [
       "  days_from_birthday  prop_voted   n_total  n_voters  n_nonvoters\n",
       "0             +/- 30       25.42  16152564   4105922     12046642\n",
       "1                  0       25.40    265507     67432       198075"
      ]
     },
     "execution_count": 65,
     "metadata": {},
     "output_type": "execute_result"
    }
   ],
   "source": [
    "prop_voted_30d_grouped"
   ]
  },
  {
   "cell_type": "code",
   "execution_count": 66,
   "metadata": {},
   "outputs": [],
   "source": [
    "prop_voted_30d_grouped.to_csv('tab6_FL_30d_all_elections_all_voters.csv')"
   ]
  },
  {
   "cell_type": "markdown",
   "metadata": {},
   "source": [
    "### +/- 7 days"
   ]
  },
  {
   "cell_type": "code",
   "execution_count": 67,
   "metadata": {},
   "outputs": [],
   "source": [
    "prop_voted_7d = prop_voted[prop_voted.days.between(-7, 7)]"
   ]
  },
  {
   "cell_type": "code",
   "execution_count": 68,
   "metadata": {},
   "outputs": [
    {
     "name": "stderr",
     "output_type": "stream",
     "text": [
      "/opt/anaconda3/lib/python3.7/site-packages/ipykernel_launcher.py:1: SettingWithCopyWarning: \n",
      "A value is trying to be set on a copy of a slice from a DataFrame.\n",
      "Try using .loc[row_indexer,col_indexer] = value instead\n",
      "\n",
      "See the caveats in the documentation: http://pandas.pydata.org/pandas-docs/stable/indexing.html#indexing-view-versus-copy\n",
      "  \"\"\"Entry point for launching an IPython kernel.\n"
     ]
    }
   ],
   "source": [
    "prop_voted_7d['days_from_birthday'] = np.where(prop_voted_7d.days!=0, '+/- 7', '0')\n",
    "prop_voted_7d_grouped = prop_voted_7d.groupby('days_from_birthday').voted.agg(['mean','count','sum']).reset_index().rename(columns={'mean': 'prop_voted', 'count': 'n_total', 'sum': 'n_voters'})\n",
    "prop_voted_7d_grouped['n_nonvoters'] = prop_voted_7d_grouped.n_total - prop_voted_7d_grouped.n_voters\n",
    "prop_voted_7d_grouped.prop_voted = (prop_voted_7d_grouped.prop_voted*100).round(2)"
   ]
  },
  {
   "cell_type": "code",
   "execution_count": 69,
   "metadata": {},
   "outputs": [],
   "source": [
    "prop_voted_30d_grouped.n_voters = prop_voted_7d_grouped.n_voters.astype(int)\n",
    "prop_voted_30d_grouped.n_nonvoters = prop_voted_7d_grouped.n_nonvoters.astype(int)"
   ]
  },
  {
   "cell_type": "code",
   "execution_count": 70,
   "metadata": {},
   "outputs": [
    {
     "data": {
      "text/html": [
       "<div>\n",
       "<style scoped>\n",
       "    .dataframe tbody tr th:only-of-type {\n",
       "        vertical-align: middle;\n",
       "    }\n",
       "\n",
       "    .dataframe tbody tr th {\n",
       "        vertical-align: top;\n",
       "    }\n",
       "\n",
       "    .dataframe thead th {\n",
       "        text-align: right;\n",
       "    }\n",
       "</style>\n",
       "<table border=\"1\" class=\"dataframe\">\n",
       "  <thead>\n",
       "    <tr style=\"text-align: right;\">\n",
       "      <th></th>\n",
       "      <th>days_from_birthday</th>\n",
       "      <th>prop_voted</th>\n",
       "      <th>n_total</th>\n",
       "      <th>n_voters</th>\n",
       "      <th>n_nonvoters</th>\n",
       "    </tr>\n",
       "  </thead>\n",
       "  <tbody>\n",
       "    <tr>\n",
       "      <th>0</th>\n",
       "      <td>+/- 7</td>\n",
       "      <td>25.3</td>\n",
       "      <td>3748330</td>\n",
       "      <td>948180.0</td>\n",
       "      <td>2800150.0</td>\n",
       "    </tr>\n",
       "    <tr>\n",
       "      <th>1</th>\n",
       "      <td>0</td>\n",
       "      <td>25.4</td>\n",
       "      <td>265507</td>\n",
       "      <td>67432.0</td>\n",
       "      <td>198075.0</td>\n",
       "    </tr>\n",
       "  </tbody>\n",
       "</table>\n",
       "</div>"
      ],
      "text/plain": [
       "  days_from_birthday  prop_voted  n_total  n_voters  n_nonvoters\n",
       "0              +/- 7        25.3  3748330  948180.0    2800150.0\n",
       "1                  0        25.4   265507   67432.0     198075.0"
      ]
     },
     "execution_count": 70,
     "metadata": {},
     "output_type": "execute_result"
    }
   ],
   "source": [
    "prop_voted_7d_grouped"
   ]
  },
  {
   "cell_type": "code",
   "execution_count": 71,
   "metadata": {},
   "outputs": [],
   "source": [
    "prop_voted_7d_grouped.to_csv('tab7_FL_7d_all_elections_all_voters.csv')"
   ]
  },
  {
   "cell_type": "markdown",
   "metadata": {},
   "source": [
    "## Group by Election Type"
   ]
  },
  {
   "cell_type": "markdown",
   "metadata": {},
   "source": [
    "### General"
   ]
  },
  {
   "cell_type": "code",
   "execution_count": 72,
   "metadata": {},
   "outputs": [
    {
     "data": {
      "image/png": "[encoded data removed]",
      "text/plain": [
       "<Figure size 432x288 with 1 Axes>"
      ]
     },
     "metadata": {
      "needs_background": "light"
     },
     "output_type": "display_data"
    }
   ],
   "source": [
    "fig_df = prop_voted[prop_voted.election_type=='GEN'].groupby('days').voted.mean().reset_index()\n",
    "fig_df.voted = (fig_df.voted*100).round(2)\n",
    "fig_df.rename(columns={'days': 'days_from_birthday', 'voted': 'prop_voted'}, inplace=True)\n",
    "plot = sns.lineplot(x='days_from_birthday', y='prop_voted',data=fig_df)\n",
    "fig = plot.get_figure()\n",
    "fig.savefig(\"fig7_FL_gen_elections_all_voters.png\")"
   ]
  },
  {
   "cell_type": "markdown",
   "metadata": {},
   "source": [
    "### Primary"
   ]
  },
  {
   "cell_type": "code",
   "execution_count": 73,
   "metadata": {},
   "outputs": [
    {
     "data": {
      "image/png": "[encoded data removed]",
      "text/plain": [
       "<Figure size 432x288 with 1 Axes>"
      ]
     },
     "metadata": {
      "needs_background": "light"
     },
     "output_type": "display_data"
    }
   ],
   "source": [
    "fig_df = prop_voted[prop_voted.election_type=='PRI'].groupby('days').voted.mean().reset_index()\n",
    "fig_df.voted = (fig_df.voted*100).round(2)\n",
    "fig_df.rename(columns={'days': 'days_from_birthday', 'voted': 'prop_voted'}, inplace=True)\n",
    "plot = sns.lineplot(x='days_from_birthday', y='prop_voted',data=fig_df)\n",
    "fig = plot.get_figure()\n",
    "fig.savefig(\"fig8_FL_pri_elections_all_voters.png\")"
   ]
  },
  {
   "cell_type": "markdown",
   "metadata": {},
   "source": [
    "### +/- 30 days"
   ]
  },
  {
   "cell_type": "code",
   "execution_count": 74,
   "metadata": {},
   "outputs": [],
   "source": [
    "prop_voted_30d_grouped_type = prop_voted_30d.groupby(['election_type','days_from_birthday']).voted.agg(['mean','count','sum']).reset_index().rename(columns={'mean': 'prop_voted', 'count': 'n_total', 'sum': 'n_voters'})\n",
    "prop_voted_30d_grouped_type['n_nonvoters'] = prop_voted_30d_grouped_type.n_total - prop_voted_30d_grouped_type.n_voters\n",
    "prop_voted_30d_grouped_type.prop_voted = (prop_voted_30d_grouped_type.prop_voted*100).round(2)"
   ]
  },
  {
   "cell_type": "code",
   "execution_count": 75,
   "metadata": {},
   "outputs": [],
   "source": [
    "prop_voted_30d_grouped_type.n_voters = prop_voted_30d_grouped_type.n_voters.astype(int)\n",
    "prop_voted_30d_grouped_type.n_nonvoters = prop_voted_30d_grouped_type.n_nonvoters.astype(int)"
   ]
  },
  {
   "cell_type": "code",
   "execution_count": 76,
   "metadata": {},
   "outputs": [
    {
     "data": {
      "text/html": [
       "<div>\n",
       "<style scoped>\n",
       "    .dataframe tbody tr th:only-of-type {\n",
       "        vertical-align: middle;\n",
       "    }\n",
       "\n",
       "    .dataframe tbody tr th {\n",
       "        vertical-align: top;\n",
       "    }\n",
       "\n",
       "    .dataframe thead th {\n",
       "        text-align: right;\n",
       "    }\n",
       "</style>\n",
       "<table border=\"1\" class=\"dataframe\">\n",
       "  <thead>\n",
       "    <tr style=\"text-align: right;\">\n",
       "      <th></th>\n",
       "      <th>election_type</th>\n",
       "      <th>days_from_birthday</th>\n",
       "      <th>prop_voted</th>\n",
       "      <th>n_total</th>\n",
       "      <th>n_voters</th>\n",
       "      <th>n_nonvoters</th>\n",
       "    </tr>\n",
       "  </thead>\n",
       "  <tbody>\n",
       "    <tr>\n",
       "      <th>0</th>\n",
       "      <td>GEN</td>\n",
       "      <td>+/- 30</td>\n",
       "      <td>44.09</td>\n",
       "      <td>6751330</td>\n",
       "      <td>2976794</td>\n",
       "      <td>3774536</td>\n",
       "    </tr>\n",
       "    <tr>\n",
       "      <th>1</th>\n",
       "      <td>GEN</td>\n",
       "      <td>0</td>\n",
       "      <td>43.93</td>\n",
       "      <td>111495</td>\n",
       "      <td>48975</td>\n",
       "      <td>62520</td>\n",
       "    </tr>\n",
       "    <tr>\n",
       "      <th>2</th>\n",
       "      <td>PRI</td>\n",
       "      <td>+/- 30</td>\n",
       "      <td>12.01</td>\n",
       "      <td>9401234</td>\n",
       "      <td>1129128</td>\n",
       "      <td>8272106</td>\n",
       "    </tr>\n",
       "    <tr>\n",
       "      <th>3</th>\n",
       "      <td>PRI</td>\n",
       "      <td>0</td>\n",
       "      <td>11.98</td>\n",
       "      <td>154012</td>\n",
       "      <td>18457</td>\n",
       "      <td>135555</td>\n",
       "    </tr>\n",
       "  </tbody>\n",
       "</table>\n",
       "</div>"
      ],
      "text/plain": [
       "  election_type days_from_birthday  prop_voted  n_total  n_voters  n_nonvoters\n",
       "0           GEN             +/- 30       44.09  6751330   2976794      3774536\n",
       "1           GEN                  0       43.93   111495     48975        62520\n",
       "2           PRI             +/- 30       12.01  9401234   1129128      8272106\n",
       "3           PRI                  0       11.98   154012     18457       135555"
      ]
     },
     "execution_count": 76,
     "metadata": {},
     "output_type": "execute_result"
    }
   ],
   "source": [
    "prop_voted_30d_grouped_type"
   ]
  },
  {
   "cell_type": "code",
   "execution_count": 77,
   "metadata": {},
   "outputs": [],
   "source": [
    "prop_voted_30d_grouped_type.to_csv('tab8_FL_30d_election_type_all_voters.csv')"
   ]
  },
  {
   "cell_type": "markdown",
   "metadata": {},
   "source": [
    "### +/- 7 days"
   ]
  },
  {
   "cell_type": "code",
   "execution_count": 78,
   "metadata": {},
   "outputs": [],
   "source": [
    "prop_voted_7d_grouped_type = prop_voted_7d.groupby(['election_type','days_from_birthday']).voted.agg(['mean','count','sum']).reset_index().rename(columns={'mean': 'prop_voted', 'count': 'n_total', 'sum': 'n_voters'})\n",
    "prop_voted_7d_grouped_type['n_nonvoters'] = prop_voted_7d_grouped_type.n_total - prop_voted_7d_grouped_type.n_voters\n",
    "prop_voted_7d_grouped_type.prop_voted = (prop_voted_7d_grouped_type.prop_voted*100).round(2)"
   ]
  },
  {
   "cell_type": "code",
   "execution_count": 79,
   "metadata": {},
   "outputs": [],
   "source": [
    "prop_voted_7d_grouped_type.n_voters = prop_voted_7d_grouped_type.n_voters.astype(int)\n",
    "prop_voted_7d_grouped_type.n_nonvoters = prop_voted_7d_grouped_type.n_nonvoters.astype(int)"
   ]
  },
  {
   "cell_type": "code",
   "execution_count": 80,
   "metadata": {},
   "outputs": [
    {
     "data": {
      "text/html": [
       "<div>\n",
       "<style scoped>\n",
       "    .dataframe tbody tr th:only-of-type {\n",
       "        vertical-align: middle;\n",
       "    }\n",
       "\n",
       "    .dataframe tbody tr th {\n",
       "        vertical-align: top;\n",
       "    }\n",
       "\n",
       "    .dataframe thead th {\n",
       "        text-align: right;\n",
       "    }\n",
       "</style>\n",
       "<table border=\"1\" class=\"dataframe\">\n",
       "  <thead>\n",
       "    <tr style=\"text-align: right;\">\n",
       "      <th></th>\n",
       "      <th>election_type</th>\n",
       "      <th>days_from_birthday</th>\n",
       "      <th>prop_voted</th>\n",
       "      <th>n_total</th>\n",
       "      <th>n_voters</th>\n",
       "      <th>n_nonvoters</th>\n",
       "    </tr>\n",
       "  </thead>\n",
       "  <tbody>\n",
       "    <tr>\n",
       "      <th>0</th>\n",
       "      <td>GEN</td>\n",
       "      <td>+/- 7</td>\n",
       "      <td>43.79</td>\n",
       "      <td>1574642</td>\n",
       "      <td>689535</td>\n",
       "      <td>885107</td>\n",
       "    </tr>\n",
       "    <tr>\n",
       "      <th>1</th>\n",
       "      <td>GEN</td>\n",
       "      <td>0</td>\n",
       "      <td>43.93</td>\n",
       "      <td>111495</td>\n",
       "      <td>48975</td>\n",
       "      <td>62520</td>\n",
       "    </tr>\n",
       "    <tr>\n",
       "      <th>2</th>\n",
       "      <td>PRI</td>\n",
       "      <td>+/- 7</td>\n",
       "      <td>11.90</td>\n",
       "      <td>2173688</td>\n",
       "      <td>258645</td>\n",
       "      <td>1915043</td>\n",
       "    </tr>\n",
       "    <tr>\n",
       "      <th>3</th>\n",
       "      <td>PRI</td>\n",
       "      <td>0</td>\n",
       "      <td>11.98</td>\n",
       "      <td>154012</td>\n",
       "      <td>18457</td>\n",
       "      <td>135555</td>\n",
       "    </tr>\n",
       "  </tbody>\n",
       "</table>\n",
       "</div>"
      ],
      "text/plain": [
       "  election_type days_from_birthday  prop_voted  n_total  n_voters  n_nonvoters\n",
       "0           GEN              +/- 7       43.79  1574642    689535       885107\n",
       "1           GEN                  0       43.93   111495     48975        62520\n",
       "2           PRI              +/- 7       11.90  2173688    258645      1915043\n",
       "3           PRI                  0       11.98   154012     18457       135555"
      ]
     },
     "execution_count": 80,
     "metadata": {},
     "output_type": "execute_result"
    }
   ],
   "source": [
    "prop_voted_7d_grouped_type"
   ]
  },
  {
   "cell_type": "code",
   "execution_count": 81,
   "metadata": {},
   "outputs": [],
   "source": [
    "prop_voted_30d_grouped_type.to_csv('tab9_FL_7d_election_type_all_voters.csv')"
   ]
  },
  {
   "cell_type": "markdown",
   "metadata": {},
   "source": [
    "## Group by Election Year"
   ]
  },
  {
   "cell_type": "markdown",
   "metadata": {},
   "source": [
    "### Presidential"
   ]
  },
  {
   "cell_type": "code",
   "execution_count": 82,
   "metadata": {},
   "outputs": [
    {
     "data": {
      "image/png": "[encoded data removed]",
      "text/plain": [
       "<Figure size 432x288 with 1 Axes>"
      ]
     },
     "metadata": {
      "needs_background": "light"
     },
     "output_type": "display_data"
    }
   ],
   "source": [
    "fig_df = prop_voted[prop_voted.election_type2=='Presidential'].groupby('days').voted.mean().reset_index()\n",
    "fig_df.voted = (fig_df.voted*100).round(2)\n",
    "fig_df.rename(columns={'days': 'days_from_birthday', 'voted': 'prop_voted'}, inplace=True)\n",
    "plot = sns.lineplot(x='days_from_birthday', y='prop_voted',data=fig_df)\n",
    "fig = plot.get_figure()\n",
    "fig.savefig(\"fig9_FL_pres_elections_all_voters.png\")"
   ]
  },
  {
   "cell_type": "markdown",
   "metadata": {},
   "source": [
    "### Midterms"
   ]
  },
  {
   "cell_type": "code",
   "execution_count": 83,
   "metadata": {},
   "outputs": [
    {
     "data": {
      "image/png": "[encoded data removed]",
      "text/plain": [
       "<Figure size 432x288 with 1 Axes>"
      ]
     },
     "metadata": {
      "needs_background": "light"
     },
     "output_type": "display_data"
    }
   ],
   "source": [
    "fig_df = prop_voted[prop_voted.election_type2=='Midterms'].groupby('days').voted.mean().reset_index()\n",
    "fig_df.voted = (fig_df.voted*100).round(2)\n",
    "fig_df.rename(columns={'days': 'days_from_birthday', 'voted': 'prop_voted'}, inplace=True)\n",
    "plot = sns.lineplot(x='days_from_birthday', y='prop_voted',data=fig_df)\n",
    "fig = plot.get_figure()\n",
    "fig.savefig(\"fig10_FL_mid_elections_all_voters.png\")"
   ]
  },
  {
   "cell_type": "markdown",
   "metadata": {},
   "source": [
    "### +/- 30 days"
   ]
  },
  {
   "cell_type": "code",
   "execution_count": 84,
   "metadata": {},
   "outputs": [],
   "source": [
    "prop_voted_30d_grouped_type = prop_voted_30d.groupby(['election_type2','days_from_birthday']).voted.agg(['mean','count','sum']).reset_index().rename(columns={'mean': 'prop_voted', 'count': 'n_total', 'sum': 'n_voters'})\n",
    "prop_voted_30d_grouped_type['n_nonvoters'] = prop_voted_30d_grouped_type.n_total - prop_voted_30d_grouped_type.n_voters\n",
    "prop_voted_30d_grouped_type.prop_voted = (prop_voted_30d_grouped_type.prop_voted*100).round(2)"
   ]
  },
  {
   "cell_type": "code",
   "execution_count": 85,
   "metadata": {},
   "outputs": [],
   "source": [
    "prop_voted_30d_grouped_type.n_voters = prop_voted_30d_grouped_type.n_voters.astype(int)\n",
    "prop_voted_30d_grouped_type.n_nonvoters = prop_voted_30d_grouped_type.n_nonvoters.astype(int)"
   ]
  },
  {
   "cell_type": "code",
   "execution_count": 86,
   "metadata": {},
   "outputs": [
    {
     "data": {
      "text/html": [
       "<div>\n",
       "<style scoped>\n",
       "    .dataframe tbody tr th:only-of-type {\n",
       "        vertical-align: middle;\n",
       "    }\n",
       "\n",
       "    .dataframe tbody tr th {\n",
       "        vertical-align: top;\n",
       "    }\n",
       "\n",
       "    .dataframe thead th {\n",
       "        text-align: right;\n",
       "    }\n",
       "</style>\n",
       "<table border=\"1\" class=\"dataframe\">\n",
       "  <thead>\n",
       "    <tr style=\"text-align: right;\">\n",
       "      <th></th>\n",
       "      <th>election_type2</th>\n",
       "      <th>days_from_birthday</th>\n",
       "      <th>prop_voted</th>\n",
       "      <th>n_total</th>\n",
       "      <th>n_voters</th>\n",
       "      <th>n_nonvoters</th>\n",
       "    </tr>\n",
       "  </thead>\n",
       "  <tbody>\n",
       "    <tr>\n",
       "      <th>0</th>\n",
       "      <td>Midterms</td>\n",
       "      <td>+/- 30</td>\n",
       "      <td>23.43</td>\n",
       "      <td>8246287</td>\n",
       "      <td>1931770</td>\n",
       "      <td>6314517</td>\n",
       "    </tr>\n",
       "    <tr>\n",
       "      <th>1</th>\n",
       "      <td>Midterms</td>\n",
       "      <td>0</td>\n",
       "      <td>23.39</td>\n",
       "      <td>135298</td>\n",
       "      <td>31645</td>\n",
       "      <td>103653</td>\n",
       "    </tr>\n",
       "    <tr>\n",
       "      <th>2</th>\n",
       "      <td>Presidential</td>\n",
       "      <td>+/- 30</td>\n",
       "      <td>27.50</td>\n",
       "      <td>7906277</td>\n",
       "      <td>2174152</td>\n",
       "      <td>5732125</td>\n",
       "    </tr>\n",
       "    <tr>\n",
       "      <th>3</th>\n",
       "      <td>Presidential</td>\n",
       "      <td>0</td>\n",
       "      <td>27.48</td>\n",
       "      <td>130209</td>\n",
       "      <td>35787</td>\n",
       "      <td>94422</td>\n",
       "    </tr>\n",
       "  </tbody>\n",
       "</table>\n",
       "</div>"
      ],
      "text/plain": [
       "  election_type2 days_from_birthday  prop_voted  n_total  n_voters  \\\n",
       "0       Midterms             +/- 30       23.43  8246287   1931770   \n",
       "1       Midterms                  0       23.39   135298     31645   \n",
       "2   Presidential             +/- 30       27.50  7906277   2174152   \n",
       "3   Presidential                  0       27.48   130209     35787   \n",
       "\n",
       "   n_nonvoters  \n",
       "0      6314517  \n",
       "1       103653  \n",
       "2      5732125  \n",
       "3        94422  "
      ]
     },
     "execution_count": 86,
     "metadata": {},
     "output_type": "execute_result"
    }
   ],
   "source": [
    "prop_voted_30d_grouped_type"
   ]
  },
  {
   "cell_type": "code",
   "execution_count": 87,
   "metadata": {},
   "outputs": [],
   "source": [
    "prop_voted_30d_grouped_type.to_csv('tab10_FL_30d_election_year_all_voters.csv')"
   ]
  },
  {
   "cell_type": "markdown",
   "metadata": {},
   "source": [
    "### +/- 7 days"
   ]
  },
  {
   "cell_type": "code",
   "execution_count": 88,
   "metadata": {},
   "outputs": [],
   "source": [
    "prop_voted_7d_grouped_type = prop_voted_7d.groupby(['election_type2','days_from_birthday']).voted.agg(['mean','count','sum']).reset_index().rename(columns={'mean': 'prop_voted', 'count': 'n_total', 'sum': 'n_voters'})\n",
    "prop_voted_7d_grouped_type['n_nonvoters'] = prop_voted_7d_grouped_type.n_total - prop_voted_7d_grouped_type.n_voters\n",
    "prop_voted_7d_grouped_type.prop_voted = (prop_voted_7d_grouped_type.prop_voted*100).round(2)"
   ]
  },
  {
   "cell_type": "code",
   "execution_count": 89,
   "metadata": {},
   "outputs": [],
   "source": [
    "prop_voted_7d_grouped_type.n_voters = prop_voted_7d_grouped_type.n_voters.astype(int)\n",
    "prop_voted_7d_grouped_type.n_nonvoters = prop_voted_7d_grouped_type.n_nonvoters.astype(int)"
   ]
  },
  {
   "cell_type": "code",
   "execution_count": 90,
   "metadata": {},
   "outputs": [
    {
     "data": {
      "text/html": [
       "<div>\n",
       "<style scoped>\n",
       "    .dataframe tbody tr th:only-of-type {\n",
       "        vertical-align: middle;\n",
       "    }\n",
       "\n",
       "    .dataframe tbody tr th {\n",
       "        vertical-align: top;\n",
       "    }\n",
       "\n",
       "    .dataframe thead th {\n",
       "        text-align: right;\n",
       "    }\n",
       "</style>\n",
       "<table border=\"1\" class=\"dataframe\">\n",
       "  <thead>\n",
       "    <tr style=\"text-align: right;\">\n",
       "      <th></th>\n",
       "      <th>election_type2</th>\n",
       "      <th>days_from_birthday</th>\n",
       "      <th>prop_voted</th>\n",
       "      <th>n_total</th>\n",
       "      <th>n_voters</th>\n",
       "      <th>n_nonvoters</th>\n",
       "    </tr>\n",
       "  </thead>\n",
       "  <tbody>\n",
       "    <tr>\n",
       "      <th>0</th>\n",
       "      <td>Midterms</td>\n",
       "      <td>+/- 7</td>\n",
       "      <td>23.23</td>\n",
       "      <td>1910052</td>\n",
       "      <td>443781</td>\n",
       "      <td>1466271</td>\n",
       "    </tr>\n",
       "    <tr>\n",
       "      <th>1</th>\n",
       "      <td>Midterms</td>\n",
       "      <td>0</td>\n",
       "      <td>23.39</td>\n",
       "      <td>135298</td>\n",
       "      <td>31645</td>\n",
       "      <td>103653</td>\n",
       "    </tr>\n",
       "    <tr>\n",
       "      <th>2</th>\n",
       "      <td>Presidential</td>\n",
       "      <td>+/- 7</td>\n",
       "      <td>27.44</td>\n",
       "      <td>1838278</td>\n",
       "      <td>504399</td>\n",
       "      <td>1333879</td>\n",
       "    </tr>\n",
       "    <tr>\n",
       "      <th>3</th>\n",
       "      <td>Presidential</td>\n",
       "      <td>0</td>\n",
       "      <td>27.48</td>\n",
       "      <td>130209</td>\n",
       "      <td>35787</td>\n",
       "      <td>94422</td>\n",
       "    </tr>\n",
       "  </tbody>\n",
       "</table>\n",
       "</div>"
      ],
      "text/plain": [
       "  election_type2 days_from_birthday  prop_voted  n_total  n_voters  \\\n",
       "0       Midterms              +/- 7       23.23  1910052    443781   \n",
       "1       Midterms                  0       23.39   135298     31645   \n",
       "2   Presidential              +/- 7       27.44  1838278    504399   \n",
       "3   Presidential                  0       27.48   130209     35787   \n",
       "\n",
       "   n_nonvoters  \n",
       "0      1466271  \n",
       "1       103653  \n",
       "2      1333879  \n",
       "3        94422  "
      ]
     },
     "execution_count": 90,
     "metadata": {},
     "output_type": "execute_result"
    }
   ],
   "source": [
    "prop_voted_7d_grouped_type"
   ]
  },
  {
   "cell_type": "code",
   "execution_count": 91,
   "metadata": {},
   "outputs": [],
   "source": [
    "prop_voted_30d_grouped_type.to_csv('tab11_FL_7d_election_year_all_voters.csv')"
   ]
  },
  {
   "cell_type": "markdown",
   "metadata": {},
   "source": [
    "# 5.0 Voter Turnout On Birthday - Young Voters (18 - 25)"
   ]
  },
  {
   "cell_type": "markdown",
   "metadata": {},
   "source": [
    "## All Elections"
   ]
  },
  {
   "cell_type": "code",
   "execution_count": 92,
   "metadata": {},
   "outputs": [],
   "source": [
    "prop_voted = df[(df.age.between(18, 25)) & (df.days.between(-150, 50))]"
   ]
  },
  {
   "cell_type": "code",
   "execution_count": 93,
   "metadata": {},
   "outputs": [
    {
     "data": {
      "image/png": "[encoded data removed]",
      "text/plain": [
       "<Figure size 432x288 with 1 Axes>"
      ]
     },
     "metadata": {
      "needs_background": "light"
     },
     "output_type": "display_data"
    }
   ],
   "source": [
    "fig_df = prop_voted.groupby('days').voted.mean().reset_index()\n",
    "fig_df.voted = (fig_df.voted*100).round(2)\n",
    "fig_df.rename(columns={'days': 'days_from_birthday', 'voted': 'prop_voted'}, inplace=True)\n",
    "plot = sns.lineplot(x='days_from_birthday', y='prop_voted',data=fig_df)\n",
    "fig = plot.get_figure()\n",
    "fig.savefig(\"fig11_FL_all_elections_young_voters.png\")"
   ]
  },
  {
   "cell_type": "markdown",
   "metadata": {},
   "source": [
    "### +/- 30 days"
   ]
  },
  {
   "cell_type": "code",
   "execution_count": 94,
   "metadata": {},
   "outputs": [],
   "source": [
    "prop_voted_30d = prop_voted[prop_voted.days.between(-30, 30)]"
   ]
  },
  {
   "cell_type": "code",
   "execution_count": 95,
   "metadata": {},
   "outputs": [
    {
     "name": "stderr",
     "output_type": "stream",
     "text": [
      "/opt/anaconda3/lib/python3.7/site-packages/ipykernel_launcher.py:1: SettingWithCopyWarning: \n",
      "A value is trying to be set on a copy of a slice from a DataFrame.\n",
      "Try using .loc[row_indexer,col_indexer] = value instead\n",
      "\n",
      "See the caveats in the documentation: http://pandas.pydata.org/pandas-docs/stable/indexing.html#indexing-view-versus-copy\n",
      "  \"\"\"Entry point for launching an IPython kernel.\n"
     ]
    }
   ],
   "source": [
    "prop_voted_30d['days_from_birthday'] = np.where(prop_voted_30d.days!=0, '+/- 30', '0')\n",
    "prop_voted_30d_grouped = prop_voted_30d.groupby('days_from_birthday').voted.agg(['mean','count','sum']).reset_index().rename(columns={'mean': 'prop_voted', 'count': 'n_total', 'sum': 'n_voters'})\n",
    "prop_voted_30d_grouped['n_nonvoters'] = prop_voted_30d_grouped.n_total - prop_voted_30d_grouped.n_voters\n",
    "prop_voted_30d_grouped.prop_voted = (prop_voted_30d_grouped.prop_voted*100).round(2)"
   ]
  },
  {
   "cell_type": "code",
   "execution_count": 96,
   "metadata": {},
   "outputs": [],
   "source": [
    "prop_voted_30d_grouped.n_voters = prop_voted_30d_grouped.n_voters.astype(int)\n",
    "prop_voted_30d_grouped.n_nonvoters = prop_voted_30d_grouped.n_nonvoters.astype(int)"
   ]
  },
  {
   "cell_type": "code",
   "execution_count": 97,
   "metadata": {},
   "outputs": [
    {
     "data": {
      "text/html": [
       "<div>\n",
       "<style scoped>\n",
       "    .dataframe tbody tr th:only-of-type {\n",
       "        vertical-align: middle;\n",
       "    }\n",
       "\n",
       "    .dataframe tbody tr th {\n",
       "        vertical-align: top;\n",
       "    }\n",
       "\n",
       "    .dataframe thead th {\n",
       "        text-align: right;\n",
       "    }\n",
       "</style>\n",
       "<table border=\"1\" class=\"dataframe\">\n",
       "  <thead>\n",
       "    <tr style=\"text-align: right;\">\n",
       "      <th></th>\n",
       "      <th>days_from_birthday</th>\n",
       "      <th>prop_voted</th>\n",
       "      <th>n_total</th>\n",
       "      <th>n_voters</th>\n",
       "      <th>n_nonvoters</th>\n",
       "    </tr>\n",
       "  </thead>\n",
       "  <tbody>\n",
       "    <tr>\n",
       "      <th>0</th>\n",
       "      <td>+/- 30</td>\n",
       "      <td>13.89</td>\n",
       "      <td>2044306</td>\n",
       "      <td>284012</td>\n",
       "      <td>1760294</td>\n",
       "    </tr>\n",
       "    <tr>\n",
       "      <th>1</th>\n",
       "      <td>0</td>\n",
       "      <td>14.75</td>\n",
       "      <td>32213</td>\n",
       "      <td>4753</td>\n",
       "      <td>27460</td>\n",
       "    </tr>\n",
       "  </tbody>\n",
       "</table>\n",
       "</div>"
      ],
      "text/plain": [
       "  days_from_birthday  prop_voted  n_total  n_voters  n_nonvoters\n",
       "0             +/- 30       13.89  2044306    284012      1760294\n",
       "1                  0       14.75    32213      4753        27460"
      ]
     },
     "execution_count": 97,
     "metadata": {},
     "output_type": "execute_result"
    }
   ],
   "source": [
    "prop_voted_30d_grouped"
   ]
  },
  {
   "cell_type": "code",
   "execution_count": 98,
   "metadata": {},
   "outputs": [],
   "source": [
    "prop_voted_30d_grouped.to_csv('tab12_FL_30d_all_elections_young_voters.csv')"
   ]
  },
  {
   "cell_type": "markdown",
   "metadata": {},
   "source": [
    "### +/- 7 days"
   ]
  },
  {
   "cell_type": "code",
   "execution_count": 99,
   "metadata": {},
   "outputs": [],
   "source": [
    "prop_voted_7d = prop_voted[prop_voted.days.between(-7, 7)]"
   ]
  },
  {
   "cell_type": "code",
   "execution_count": 100,
   "metadata": {},
   "outputs": [
    {
     "name": "stderr",
     "output_type": "stream",
     "text": [
      "/opt/anaconda3/lib/python3.7/site-packages/ipykernel_launcher.py:1: SettingWithCopyWarning: \n",
      "A value is trying to be set on a copy of a slice from a DataFrame.\n",
      "Try using .loc[row_indexer,col_indexer] = value instead\n",
      "\n",
      "See the caveats in the documentation: http://pandas.pydata.org/pandas-docs/stable/indexing.html#indexing-view-versus-copy\n",
      "  \"\"\"Entry point for launching an IPython kernel.\n"
     ]
    }
   ],
   "source": [
    "prop_voted_7d['days_from_birthday'] = np.where(prop_voted_7d.days!=0, '+/- 7', '0')\n",
    "prop_voted_7d_grouped = prop_voted_7d.groupby('days_from_birthday').voted.agg(['mean','count','sum']).reset_index().rename(columns={'mean': 'prop_voted', 'count': 'n_total', 'sum': 'n_voters'})\n",
    "prop_voted_7d_grouped['n_nonvoters'] = prop_voted_7d_grouped.n_total - prop_voted_7d_grouped.n_voters\n",
    "prop_voted_7d_grouped.prop_voted = (prop_voted_7d_grouped.prop_voted*100).round(2)"
   ]
  },
  {
   "cell_type": "code",
   "execution_count": 101,
   "metadata": {},
   "outputs": [],
   "source": [
    "prop_voted_30d_grouped.n_voters = prop_voted_7d_grouped.n_voters.astype(int)\n",
    "prop_voted_30d_grouped.n_nonvoters = prop_voted_7d_grouped.n_nonvoters.astype(int)"
   ]
  },
  {
   "cell_type": "code",
   "execution_count": 102,
   "metadata": {},
   "outputs": [
    {
     "data": {
      "text/html": [
       "<div>\n",
       "<style scoped>\n",
       "    .dataframe tbody tr th:only-of-type {\n",
       "        vertical-align: middle;\n",
       "    }\n",
       "\n",
       "    .dataframe tbody tr th {\n",
       "        vertical-align: top;\n",
       "    }\n",
       "\n",
       "    .dataframe thead th {\n",
       "        text-align: right;\n",
       "    }\n",
       "</style>\n",
       "<table border=\"1\" class=\"dataframe\">\n",
       "  <thead>\n",
       "    <tr style=\"text-align: right;\">\n",
       "      <th></th>\n",
       "      <th>days_from_birthday</th>\n",
       "      <th>prop_voted</th>\n",
       "      <th>n_total</th>\n",
       "      <th>n_voters</th>\n",
       "      <th>n_nonvoters</th>\n",
       "    </tr>\n",
       "  </thead>\n",
       "  <tbody>\n",
       "    <tr>\n",
       "      <th>0</th>\n",
       "      <td>+/- 7</td>\n",
       "      <td>13.74</td>\n",
       "      <td>458301</td>\n",
       "      <td>62965.0</td>\n",
       "      <td>395336.0</td>\n",
       "    </tr>\n",
       "    <tr>\n",
       "      <th>1</th>\n",
       "      <td>0</td>\n",
       "      <td>14.75</td>\n",
       "      <td>32213</td>\n",
       "      <td>4753.0</td>\n",
       "      <td>27460.0</td>\n",
       "    </tr>\n",
       "  </tbody>\n",
       "</table>\n",
       "</div>"
      ],
      "text/plain": [
       "  days_from_birthday  prop_voted  n_total  n_voters  n_nonvoters\n",
       "0              +/- 7       13.74   458301   62965.0     395336.0\n",
       "1                  0       14.75    32213    4753.0      27460.0"
      ]
     },
     "execution_count": 102,
     "metadata": {},
     "output_type": "execute_result"
    }
   ],
   "source": [
    "prop_voted_7d_grouped"
   ]
  },
  {
   "cell_type": "code",
   "execution_count": 103,
   "metadata": {},
   "outputs": [],
   "source": [
    "prop_voted_7d_grouped.to_csv('tab13_FL_7d_all_elections_young_voters.csv')"
   ]
  },
  {
   "cell_type": "markdown",
   "metadata": {},
   "source": [
    "## Group by Election Type"
   ]
  },
  {
   "cell_type": "markdown",
   "metadata": {},
   "source": [
    "### General"
   ]
  },
  {
   "cell_type": "code",
   "execution_count": 104,
   "metadata": {},
   "outputs": [
    {
     "data": {
      "image/png": "[encoded data removed]",
      "text/plain": [
       "<Figure size 432x288 with 1 Axes>"
      ]
     },
     "metadata": {
      "needs_background": "light"
     },
     "output_type": "display_data"
    }
   ],
   "source": [
    "fig_df = prop_voted[prop_voted.election_type=='GEN'].groupby('days').voted.mean().reset_index()\n",
    "fig_df.voted = (fig_df.voted*100).round(2)\n",
    "fig_df.rename(columns={'days': 'days_from_birthday', 'voted': 'prop_voted'}, inplace=True)\n",
    "plot = sns.lineplot(x='days_from_birthday', y='prop_voted',data=fig_df)\n",
    "fig = plot.get_figure()\n",
    "fig.savefig(\"fig12_FL_gen_elections_young_voters.png\")"
   ]
  },
  {
   "cell_type": "markdown",
   "metadata": {},
   "source": [
    "### Primary"
   ]
  },
  {
   "cell_type": "code",
   "execution_count": 105,
   "metadata": {},
   "outputs": [
    {
     "data": {
      "image/png": "[encoded data removed]",
      "text/plain": [
       "<Figure size 432x288 with 1 Axes>"
      ]
     },
     "metadata": {
      "needs_background": "light"
     },
     "output_type": "display_data"
    }
   ],
   "source": [
    "fig_df = prop_voted[prop_voted.election_type=='PRI'].groupby('days').voted.mean().reset_index()\n",
    "fig_df.voted = (fig_df.voted*100).round(2)\n",
    "fig_df.rename(columns={'days': 'days_from_birthday', 'voted': 'prop_voted'}, inplace=True)\n",
    "plot = sns.lineplot(x='days_from_birthday', y='prop_voted',data=fig_df)\n",
    "fig = plot.get_figure()\n",
    "fig.savefig(\"fig13_FL_pri_elections_young_voters.png\")"
   ]
  },
  {
   "cell_type": "markdown",
   "metadata": {},
   "source": [
    "### +/- 30 days"
   ]
  },
  {
   "cell_type": "code",
   "execution_count": 106,
   "metadata": {},
   "outputs": [],
   "source": [
    "prop_voted_30d_grouped_type = prop_voted_30d.groupby(['election_type','days_from_birthday']).voted.agg(['mean','count','sum']).reset_index().rename(columns={'mean': 'prop_voted', 'count': 'n_total', 'sum': 'n_voters'})\n",
    "prop_voted_30d_grouped_type['n_nonvoters'] = prop_voted_30d_grouped_type.n_total - prop_voted_30d_grouped_type.n_voters\n",
    "prop_voted_30d_grouped_type.prop_voted = (prop_voted_30d_grouped_type.prop_voted*100).round(2)"
   ]
  },
  {
   "cell_type": "code",
   "execution_count": 107,
   "metadata": {},
   "outputs": [],
   "source": [
    "prop_voted_30d_grouped_type.n_voters = prop_voted_30d_grouped_type.n_voters.astype(int)\n",
    "prop_voted_30d_grouped_type.n_nonvoters = prop_voted_30d_grouped_type.n_nonvoters.astype(int)"
   ]
  },
  {
   "cell_type": "code",
   "execution_count": 108,
   "metadata": {},
   "outputs": [
    {
     "data": {
      "text/html": [
       "<div>\n",
       "<style scoped>\n",
       "    .dataframe tbody tr th:only-of-type {\n",
       "        vertical-align: middle;\n",
       "    }\n",
       "\n",
       "    .dataframe tbody tr th {\n",
       "        vertical-align: top;\n",
       "    }\n",
       "\n",
       "    .dataframe thead th {\n",
       "        text-align: right;\n",
       "    }\n",
       "</style>\n",
       "<table border=\"1\" class=\"dataframe\">\n",
       "  <thead>\n",
       "    <tr style=\"text-align: right;\">\n",
       "      <th></th>\n",
       "      <th>election_type</th>\n",
       "      <th>days_from_birthday</th>\n",
       "      <th>prop_voted</th>\n",
       "      <th>n_total</th>\n",
       "      <th>n_voters</th>\n",
       "      <th>n_nonvoters</th>\n",
       "    </tr>\n",
       "  </thead>\n",
       "  <tbody>\n",
       "    <tr>\n",
       "      <th>0</th>\n",
       "      <td>GEN</td>\n",
       "      <td>+/- 30</td>\n",
       "      <td>26.93</td>\n",
       "      <td>927285</td>\n",
       "      <td>249722</td>\n",
       "      <td>677563</td>\n",
       "    </tr>\n",
       "    <tr>\n",
       "      <th>1</th>\n",
       "      <td>GEN</td>\n",
       "      <td>0</td>\n",
       "      <td>27.88</td>\n",
       "      <td>14916</td>\n",
       "      <td>4158</td>\n",
       "      <td>10758</td>\n",
       "    </tr>\n",
       "    <tr>\n",
       "      <th>2</th>\n",
       "      <td>PRI</td>\n",
       "      <td>+/- 30</td>\n",
       "      <td>3.07</td>\n",
       "      <td>1117021</td>\n",
       "      <td>34290</td>\n",
       "      <td>1082731</td>\n",
       "    </tr>\n",
       "    <tr>\n",
       "      <th>3</th>\n",
       "      <td>PRI</td>\n",
       "      <td>0</td>\n",
       "      <td>3.44</td>\n",
       "      <td>17297</td>\n",
       "      <td>595</td>\n",
       "      <td>16702</td>\n",
       "    </tr>\n",
       "  </tbody>\n",
       "</table>\n",
       "</div>"
      ],
      "text/plain": [
       "  election_type days_from_birthday  prop_voted  n_total  n_voters  n_nonvoters\n",
       "0           GEN             +/- 30       26.93   927285    249722       677563\n",
       "1           GEN                  0       27.88    14916      4158        10758\n",
       "2           PRI             +/- 30        3.07  1117021     34290      1082731\n",
       "3           PRI                  0        3.44    17297       595        16702"
      ]
     },
     "execution_count": 108,
     "metadata": {},
     "output_type": "execute_result"
    }
   ],
   "source": [
    "prop_voted_30d_grouped_type"
   ]
  },
  {
   "cell_type": "code",
   "execution_count": 109,
   "metadata": {},
   "outputs": [],
   "source": [
    "prop_voted_30d_grouped_type.to_csv('tab14_FL_30d_election_type_young_voters.csv')"
   ]
  },
  {
   "cell_type": "markdown",
   "metadata": {},
   "source": [
    "### +/- 7 days"
   ]
  },
  {
   "cell_type": "code",
   "execution_count": 110,
   "metadata": {},
   "outputs": [],
   "source": [
    "prop_voted_7d_grouped_type = prop_voted_7d.groupby(['election_type','days_from_birthday']).voted.agg(['mean','count','sum']).reset_index().rename(columns={'mean': 'prop_voted', 'count': 'n_total', 'sum': 'n_voters'})\n",
    "prop_voted_7d_grouped_type['n_nonvoters'] = prop_voted_7d_grouped_type.n_total - prop_voted_7d_grouped_type.n_voters\n",
    "prop_voted_7d_grouped_type.prop_voted = (prop_voted_7d_grouped_type.prop_voted*100).round(2)"
   ]
  },
  {
   "cell_type": "code",
   "execution_count": 111,
   "metadata": {},
   "outputs": [],
   "source": [
    "prop_voted_7d_grouped_type.n_voters = prop_voted_7d_grouped_type.n_voters.astype(int)\n",
    "prop_voted_7d_grouped_type.n_nonvoters = prop_voted_7d_grouped_type.n_nonvoters.astype(int)"
   ]
  },
  {
   "cell_type": "code",
   "execution_count": 112,
   "metadata": {},
   "outputs": [
    {
     "data": {
      "text/html": [
       "<div>\n",
       "<style scoped>\n",
       "    .dataframe tbody tr th:only-of-type {\n",
       "        vertical-align: middle;\n",
       "    }\n",
       "\n",
       "    .dataframe tbody tr th {\n",
       "        vertical-align: top;\n",
       "    }\n",
       "\n",
       "    .dataframe thead th {\n",
       "        text-align: right;\n",
       "    }\n",
       "</style>\n",
       "<table border=\"1\" class=\"dataframe\">\n",
       "  <thead>\n",
       "    <tr style=\"text-align: right;\">\n",
       "      <th></th>\n",
       "      <th>election_type</th>\n",
       "      <th>days_from_birthday</th>\n",
       "      <th>prop_voted</th>\n",
       "      <th>n_total</th>\n",
       "      <th>n_voters</th>\n",
       "      <th>n_nonvoters</th>\n",
       "    </tr>\n",
       "  </thead>\n",
       "  <tbody>\n",
       "    <tr>\n",
       "      <th>0</th>\n",
       "      <td>GEN</td>\n",
       "      <td>+/- 7</td>\n",
       "      <td>26.34</td>\n",
       "      <td>210573</td>\n",
       "      <td>55467</td>\n",
       "      <td>155106</td>\n",
       "    </tr>\n",
       "    <tr>\n",
       "      <th>1</th>\n",
       "      <td>GEN</td>\n",
       "      <td>0</td>\n",
       "      <td>27.88</td>\n",
       "      <td>14916</td>\n",
       "      <td>4158</td>\n",
       "      <td>10758</td>\n",
       "    </tr>\n",
       "    <tr>\n",
       "      <th>2</th>\n",
       "      <td>PRI</td>\n",
       "      <td>+/- 7</td>\n",
       "      <td>3.03</td>\n",
       "      <td>247728</td>\n",
       "      <td>7498</td>\n",
       "      <td>240230</td>\n",
       "    </tr>\n",
       "    <tr>\n",
       "      <th>3</th>\n",
       "      <td>PRI</td>\n",
       "      <td>0</td>\n",
       "      <td>3.44</td>\n",
       "      <td>17297</td>\n",
       "      <td>595</td>\n",
       "      <td>16702</td>\n",
       "    </tr>\n",
       "  </tbody>\n",
       "</table>\n",
       "</div>"
      ],
      "text/plain": [
       "  election_type days_from_birthday  prop_voted  n_total  n_voters  n_nonvoters\n",
       "0           GEN              +/- 7       26.34   210573     55467       155106\n",
       "1           GEN                  0       27.88    14916      4158        10758\n",
       "2           PRI              +/- 7        3.03   247728      7498       240230\n",
       "3           PRI                  0        3.44    17297       595        16702"
      ]
     },
     "execution_count": 112,
     "metadata": {},
     "output_type": "execute_result"
    }
   ],
   "source": [
    "prop_voted_7d_grouped_type"
   ]
  },
  {
   "cell_type": "code",
   "execution_count": 113,
   "metadata": {},
   "outputs": [],
   "source": [
    "prop_voted_30d_grouped_type.to_csv('tab15_FL_7d_election_type_young_voters.csv')"
   ]
  },
  {
   "cell_type": "markdown",
   "metadata": {},
   "source": [
    "## Group by Election Year"
   ]
  },
  {
   "cell_type": "markdown",
   "metadata": {},
   "source": [
    "### Presidential"
   ]
  },
  {
   "cell_type": "code",
   "execution_count": 114,
   "metadata": {},
   "outputs": [
    {
     "data": {
      "image/png": "[encoded data removed]",
      "text/plain": [
       "<Figure size 432x288 with 1 Axes>"
      ]
     },
     "metadata": {
      "needs_background": "light"
     },
     "output_type": "display_data"
    }
   ],
   "source": [
    "fig_df = prop_voted[prop_voted.election_type2=='Presidential'].groupby('days').voted.mean().reset_index()\n",
    "fig_df.voted = (fig_df.voted*100).round(2)\n",
    "fig_df.rename(columns={'days': 'days_from_birthday', 'voted': 'prop_voted'}, inplace=True)\n",
    "plot = sns.lineplot(x='days_from_birthday', y='prop_voted',data=fig_df)\n",
    "fig = plot.get_figure()\n",
    "fig.savefig(\"fig14_FL_pres_elections_young_voters.png\")"
   ]
  },
  {
   "cell_type": "markdown",
   "metadata": {},
   "source": [
    "### Midterms"
   ]
  },
  {
   "cell_type": "code",
   "execution_count": 115,
   "metadata": {},
   "outputs": [
    {
     "data": {
      "image/png": "[encoded data removed]",
      "text/plain": [
       "<Figure size 432x288 with 1 Axes>"
      ]
     },
     "metadata": {
      "needs_background": "light"
     },
     "output_type": "display_data"
    }
   ],
   "source": [
    "fig_df = prop_voted[prop_voted.election_type2=='Midterms'].groupby('days').voted.mean().reset_index()\n",
    "fig_df.voted = (fig_df.voted*100).round(2)\n",
    "fig_df.rename(columns={'days': 'days_from_birthday', 'voted': 'prop_voted'}, inplace=True)\n",
    "plot = sns.lineplot(x='days_from_birthday', y='prop_voted',data=fig_df)\n",
    "fig = plot.get_figure()\n",
    "fig.savefig(\"fig15_FL_mid_elections_young_voters.png\")"
   ]
  },
  {
   "cell_type": "markdown",
   "metadata": {},
   "source": [
    "### +/- 30 days"
   ]
  },
  {
   "cell_type": "code",
   "execution_count": 116,
   "metadata": {},
   "outputs": [],
   "source": [
    "prop_voted_30d_grouped_type = prop_voted_30d.groupby(['election_type2','days_from_birthday']).voted.agg(['mean','count','sum']).reset_index().rename(columns={'mean': 'prop_voted', 'count': 'n_total', 'sum': 'n_voters'})\n",
    "prop_voted_30d_grouped_type['n_nonvoters'] = prop_voted_30d_grouped_type.n_total - prop_voted_30d_grouped_type.n_voters\n",
    "prop_voted_30d_grouped_type.prop_voted = (prop_voted_30d_grouped_type.prop_voted*100).round(2)"
   ]
  },
  {
   "cell_type": "code",
   "execution_count": 117,
   "metadata": {},
   "outputs": [],
   "source": [
    "prop_voted_30d_grouped_type.n_voters = prop_voted_30d_grouped_type.n_voters.astype(int)\n",
    "prop_voted_30d_grouped_type.n_nonvoters = prop_voted_30d_grouped_type.n_nonvoters.astype(int)"
   ]
  },
  {
   "cell_type": "code",
   "execution_count": 118,
   "metadata": {},
   "outputs": [
    {
     "data": {
      "text/html": [
       "<div>\n",
       "<style scoped>\n",
       "    .dataframe tbody tr th:only-of-type {\n",
       "        vertical-align: middle;\n",
       "    }\n",
       "\n",
       "    .dataframe tbody tr th {\n",
       "        vertical-align: top;\n",
       "    }\n",
       "\n",
       "    .dataframe thead th {\n",
       "        text-align: right;\n",
       "    }\n",
       "</style>\n",
       "<table border=\"1\" class=\"dataframe\">\n",
       "  <thead>\n",
       "    <tr style=\"text-align: right;\">\n",
       "      <th></th>\n",
       "      <th>election_type2</th>\n",
       "      <th>days_from_birthday</th>\n",
       "      <th>prop_voted</th>\n",
       "      <th>n_total</th>\n",
       "      <th>n_voters</th>\n",
       "      <th>n_nonvoters</th>\n",
       "    </tr>\n",
       "  </thead>\n",
       "  <tbody>\n",
       "    <tr>\n",
       "      <th>0</th>\n",
       "      <td>Midterms</td>\n",
       "      <td>+/- 30</td>\n",
       "      <td>8.69</td>\n",
       "      <td>1024684</td>\n",
       "      <td>89062</td>\n",
       "      <td>935622</td>\n",
       "    </tr>\n",
       "    <tr>\n",
       "      <th>1</th>\n",
       "      <td>Midterms</td>\n",
       "      <td>0</td>\n",
       "      <td>9.44</td>\n",
       "      <td>16031</td>\n",
       "      <td>1513</td>\n",
       "      <td>14518</td>\n",
       "    </tr>\n",
       "    <tr>\n",
       "      <th>2</th>\n",
       "      <td>Presidential</td>\n",
       "      <td>+/- 30</td>\n",
       "      <td>19.12</td>\n",
       "      <td>1019622</td>\n",
       "      <td>194950</td>\n",
       "      <td>824672</td>\n",
       "    </tr>\n",
       "    <tr>\n",
       "      <th>3</th>\n",
       "      <td>Presidential</td>\n",
       "      <td>0</td>\n",
       "      <td>20.02</td>\n",
       "      <td>16182</td>\n",
       "      <td>3240</td>\n",
       "      <td>12942</td>\n",
       "    </tr>\n",
       "  </tbody>\n",
       "</table>\n",
       "</div>"
      ],
      "text/plain": [
       "  election_type2 days_from_birthday  prop_voted  n_total  n_voters  \\\n",
       "0       Midterms             +/- 30        8.69  1024684     89062   \n",
       "1       Midterms                  0        9.44    16031      1513   \n",
       "2   Presidential             +/- 30       19.12  1019622    194950   \n",
       "3   Presidential                  0       20.02    16182      3240   \n",
       "\n",
       "   n_nonvoters  \n",
       "0       935622  \n",
       "1        14518  \n",
       "2       824672  \n",
       "3        12942  "
      ]
     },
     "execution_count": 118,
     "metadata": {},
     "output_type": "execute_result"
    }
   ],
   "source": [
    "prop_voted_30d_grouped_type"
   ]
  },
  {
   "cell_type": "code",
   "execution_count": 119,
   "metadata": {},
   "outputs": [],
   "source": [
    "prop_voted_30d_grouped_type.to_csv('tab16_FL_30d_election_year_young_voters.csv')"
   ]
  },
  {
   "cell_type": "markdown",
   "metadata": {},
   "source": [
    "### +/- 7 days"
   ]
  },
  {
   "cell_type": "code",
   "execution_count": 120,
   "metadata": {},
   "outputs": [],
   "source": [
    "prop_voted_7d_grouped_type = prop_voted_7d.groupby(['election_type2','days_from_birthday']).voted.agg(['mean','count','sum']).reset_index().rename(columns={'mean': 'prop_voted', 'count': 'n_total', 'sum': 'n_voters'})\n",
    "prop_voted_7d_grouped_type['n_nonvoters'] = prop_voted_7d_grouped_type.n_total - prop_voted_7d_grouped_type.n_voters\n",
    "prop_voted_7d_grouped_type.prop_voted = (prop_voted_7d_grouped_type.prop_voted*100).round(2)"
   ]
  },
  {
   "cell_type": "code",
   "execution_count": 121,
   "metadata": {},
   "outputs": [],
   "source": [
    "prop_voted_7d_grouped_type.n_voters = prop_voted_7d_grouped_type.n_voters.astype(int)\n",
    "prop_voted_7d_grouped_type.n_nonvoters = prop_voted_7d_grouped_type.n_nonvoters.astype(int)"
   ]
  },
  {
   "cell_type": "code",
   "execution_count": 122,
   "metadata": {},
   "outputs": [
    {
     "data": {
      "text/html": [
       "<div>\n",
       "<style scoped>\n",
       "    .dataframe tbody tr th:only-of-type {\n",
       "        vertical-align: middle;\n",
       "    }\n",
       "\n",
       "    .dataframe tbody tr th {\n",
       "        vertical-align: top;\n",
       "    }\n",
       "\n",
       "    .dataframe thead th {\n",
       "        text-align: right;\n",
       "    }\n",
       "</style>\n",
       "<table border=\"1\" class=\"dataframe\">\n",
       "  <thead>\n",
       "    <tr style=\"text-align: right;\">\n",
       "      <th></th>\n",
       "      <th>election_type2</th>\n",
       "      <th>days_from_birthday</th>\n",
       "      <th>prop_voted</th>\n",
       "      <th>n_total</th>\n",
       "      <th>n_voters</th>\n",
       "      <th>n_nonvoters</th>\n",
       "    </tr>\n",
       "  </thead>\n",
       "  <tbody>\n",
       "    <tr>\n",
       "      <th>0</th>\n",
       "      <td>Midterms</td>\n",
       "      <td>+/- 7</td>\n",
       "      <td>8.49</td>\n",
       "      <td>229589</td>\n",
       "      <td>19491</td>\n",
       "      <td>210098</td>\n",
       "    </tr>\n",
       "    <tr>\n",
       "      <th>1</th>\n",
       "      <td>Midterms</td>\n",
       "      <td>0</td>\n",
       "      <td>9.44</td>\n",
       "      <td>16031</td>\n",
       "      <td>1513</td>\n",
       "      <td>14518</td>\n",
       "    </tr>\n",
       "    <tr>\n",
       "      <th>2</th>\n",
       "      <td>Presidential</td>\n",
       "      <td>+/- 7</td>\n",
       "      <td>19.01</td>\n",
       "      <td>228712</td>\n",
       "      <td>43474</td>\n",
       "      <td>185238</td>\n",
       "    </tr>\n",
       "    <tr>\n",
       "      <th>3</th>\n",
       "      <td>Presidential</td>\n",
       "      <td>0</td>\n",
       "      <td>20.02</td>\n",
       "      <td>16182</td>\n",
       "      <td>3240</td>\n",
       "      <td>12942</td>\n",
       "    </tr>\n",
       "  </tbody>\n",
       "</table>\n",
       "</div>"
      ],
      "text/plain": [
       "  election_type2 days_from_birthday  prop_voted  n_total  n_voters  \\\n",
       "0       Midterms              +/- 7        8.49   229589     19491   \n",
       "1       Midterms                  0        9.44    16031      1513   \n",
       "2   Presidential              +/- 7       19.01   228712     43474   \n",
       "3   Presidential                  0       20.02    16182      3240   \n",
       "\n",
       "   n_nonvoters  \n",
       "0       210098  \n",
       "1        14518  \n",
       "2       185238  \n",
       "3        12942  "
      ]
     },
     "execution_count": 122,
     "metadata": {},
     "output_type": "execute_result"
    }
   ],
   "source": [
    "prop_voted_7d_grouped_type"
   ]
  },
  {
   "cell_type": "code",
   "execution_count": 123,
   "metadata": {},
   "outputs": [],
   "source": [
    "prop_voted_30d_grouped_type.to_csv('tab17_FL_7d_election_year_young_voters.csv')"
   ]
  }
 ],
 "metadata": {
  "kernelspec": {
   "display_name": "Python 3",
   "language": "python",
   "name": "python3"
  },
  "language_info": {
   "codemirror_mode": {
    "name": "ipython",
    "version": 3
   },
   "file_extension": ".py",
   "mimetype": "text/x-python",
   "name": "python",
   "nbconvert_exporter": "python",
   "pygments_lexer": "ipython3",
   "version": "3.7.6"
  }
 },
 "nbformat": 4,
 "nbformat_minor": 4
}
